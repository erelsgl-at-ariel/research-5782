{
 "cells": [
  {
   "cell_type": "code",
   "execution_count": 43,
   "metadata": {},
   "outputs": [],
   "source": [
    "import sqlite3\n",
    "# Connect to database\n",
    "db = sqlite3.connect('my_database.db')"
   ]
  },
  {
   "cell_type": "markdown",
   "metadata": {},
   "source": [
    "## CREATE"
   ]
  },
  {
   "cell_type": "code",
   "execution_count": 44,
   "metadata": {},
   "outputs": [
    {
     "data": {
      "text/plain": [
       "<sqlite3.Cursor at 0x249dadc7ec0>"
      ]
     },
     "execution_count": 44,
     "metadata": {},
     "output_type": "execute_result"
    }
   ],
   "source": [
    "# Get a cursor:\n",
    "cursor = db.cursor()\n",
    "# Execute a \"create table\" command:\n",
    "cursor.execute('''\n",
    "    CREATE TABLE user(\n",
    "        id     INTEGER   PRIMARY KEY, \n",
    "        name   TEXT,\n",
    "        phone  TEXT, \n",
    "        email  TEXT      UNIQUE, \n",
    "        password TEXT)\n",
    "''')"
   ]
  },
  {
   "cell_type": "markdown",
   "metadata": {},
   "source": [
    "## INSERT"
   ]
  },
  {
   "cell_type": "code",
   "execution_count": 45,
   "metadata": {},
   "outputs": [],
   "source": [
    "name1 = 'Tom Pythonovitz'\n",
    "phone1 = '3366858'\n",
    "email1 = 'Tom.Pythonovitz@example.com'\n",
    "# A very secure password\n",
    "password1 = '12345'\n",
    " \n",
    "name2 = 'Tammi Pythonovitz'\n",
    "phone2 = '5557241'\n",
    "email2 = 'Tammi@example.com'\n",
    "password2 = 'Javansky'\n",
    "\n",
    "name3 = 'George Rustinovsky'\n",
    "phone3 = '33333'\n",
    "email3 = 'GRust@example.com'\n",
    "password3 = 'Rust for ever'"
   ]
  },
  {
   "cell_type": "code",
   "execution_count": 46,
   "metadata": {},
   "outputs": [
    {
     "name": "stdout",
     "output_type": "stream",
     "text": [
      "First user inserted\n",
      "Second user inserted\n"
     ]
    }
   ],
   "source": [
    "# Insert user 1 (why question marks? see https://xkcd.com/327/ )\n",
    "cursor.execute('''\n",
    "    INSERT INTO user(name, phone, email, password)\n",
    "    VALUES(?,?,?,?)''', (name1, phone1, email1, password1))\n",
    "print('First user inserted')\n",
    "# NOTE: The id is set automatically (incrementally)\n",
    "\n",
    "# Insert user 2\n",
    "cursor.execute('''\n",
    "    INSERT INTO user(name, phone, email, password)\n",
    "    VALUES(?,?,?,?)''', (name2,phone2, email2, password2))\n",
    "print('Second user inserted')\n",
    "db.commit()"
   ]
  },
  {
   "cell_type": "code",
   "execution_count": 47,
   "metadata": {},
   "outputs": [
    {
     "name": "stdout",
     "output_type": "stream",
     "text": [
      "Third user inserted\n"
     ]
    }
   ],
   "source": [
    "# Insert user 3\n",
    "cursor.execute('''\n",
    "    INSERT INTO user(name, phone, email, password)\n",
    "    VALUES(:name, :phone, :email, :password)''',\n",
    "    {'name':name3, 'phone':phone3, 'email':email3, 'password':password3})\n",
    "print('Third user inserted')\n",
    "db.commit()"
   ]
  },
  {
   "cell_type": "code",
   "execution_count": 48,
   "metadata": {},
   "outputs": [
    {
     "name": "stdout",
     "output_type": "stream",
     "text": [
      "Many users inserted\n"
     ]
    }
   ],
   "source": [
    "users = [('Joee Javany', '2222','joo@example.mail','password'),\n",
    "        ('Shirel Cplustik', '3333','cpp@example.mail','cppass'),\n",
    "        ('Adam Kotlinberg', '4444','Adam_Kotlin@example.mail','JustPassword')\n",
    "        ]\n",
    "# Insert many\n",
    "cursor.executemany('''\n",
    "    INSERT INTO user(name, phone, email, password)\n",
    "    VALUES(?,?,?,?)\n",
    "''', users)\n",
    "print('Many users inserted')\n",
    "db.commit()"
   ]
  },
  {
   "cell_type": "markdown",
   "metadata": {},
   "source": [
    "## SELECT"
   ]
  },
  {
   "cell_type": "code",
   "execution_count": 49,
   "metadata": {},
   "outputs": [
    {
     "name": "stdout",
     "output_type": "stream",
     "text": [
      "(1, 'Tom Pythonovitz', '3366858', 'Tom.Pythonovitz@example.com', '12345')\n",
      "(2, 'Tammi Pythonovitz', '5557241', 'Tammi@example.com', 'Javansky')\n",
      "(3, 'George Rustinovsky', '33333', 'GRust@example.com', 'Rust for ever')\n",
      "(4, 'Joee Javany', '2222', 'joo@example.mail', 'password')\n",
      "(5, 'Shirel Cplustik', '3333', 'cpp@example.mail', 'cppass')\n",
      "(6, 'Adam Kotlinberg', '4444', 'Adam_Kotlin@example.mail', 'JustPassword')\n"
     ]
    }
   ],
   "source": [
    "# Selecting all columns (*)\n",
    "cursor.execute('''\n",
    "    SELECT * FROM user\n",
    "''')\n",
    "for row in cursor:\n",
    "    print(row)"
   ]
  },
  {
   "cell_type": "code",
   "execution_count": 50,
   "metadata": {},
   "outputs": [
    {
     "name": "stdout",
     "output_type": "stream",
     "text": [
      "Tom Pythonovitz : 12345\n",
      "Tammi Pythonovitz : Javansky\n",
      "George Rustinovsky : Rust for ever\n",
      "Joee Javany : password\n",
      "Shirel Cplustik : cppass\n",
      "Adam Kotlinberg : JustPassword\n"
     ]
    }
   ],
   "source": [
    "# Selecting some columns:\n",
    "cursor.execute('''\n",
    "    SELECT name, password \n",
    "    FROM user\n",
    "''')\n",
    "for row in cursor:\n",
    "    print(f'{row[0]} : {row[1]}')"
   ]
  },
  {
   "cell_type": "code",
   "execution_count": 51,
   "metadata": {},
   "outputs": [
    {
     "name": "stdout",
     "output_type": "stream",
     "text": [
      "[('Tom Pythonovitz', 'Tom.Pythonovitz@example.com', '3366858')]\n"
     ]
    }
   ],
   "source": [
    "# Query with parameters:\n",
    "cursor.execute('''\n",
    "    SELECT name, email, phone \n",
    "    FROM user \n",
    "    WHERE name=?\n",
    "''',(name1,) )\n",
    "print(cursor.fetchall())"
   ]
  },
  {
   "cell_type": "markdown",
   "metadata": {},
   "source": [
    "## UPDATE, DELETE"
   ]
  },
  {
   "cell_type": "code",
   "execution_count": 52,
   "metadata": {},
   "outputs": [],
   "source": [
    "# Update the phone of user with id 1:\n",
    "userid = 1\n",
    "newphone = '4477969'\n",
    "cursor.execute('''\n",
    "    UPDATE user \n",
    "    SET phone = ? \n",
    "    WHERE id = ?\n",
    "''', (newphone, userid))\n",
    "\n",
    "# Delete user with id 3:\n",
    "delete_userid = 3\n",
    "cursor.execute('''\n",
    "    DELETE FROM user \n",
    "    WHERE id = ?\n",
    "''', (delete_userid,))\n",
    "\n",
    "db.commit()"
   ]
  },
  {
   "cell_type": "code",
   "execution_count": 53,
   "metadata": {},
   "outputs": [
    {
     "name": "stdout",
     "output_type": "stream",
     "text": [
      "1 ) Tom Pythonovitz : 4477969\n",
      "2 ) Tammi Pythonovitz : 5557241\n",
      "4 ) Joee Javany : 2222\n",
      "5 ) Shirel Cplustik : 3333\n",
      "6 ) Adam Kotlinberg : 4444\n"
     ]
    }
   ],
   "source": [
    "cursor.execute('''\n",
    "    SELECT id, name,phone  FROM user\n",
    "''')\n",
    "for row in cursor:\n",
    "    print(f'{row[0]} ) {row[1]} : {row[2]}')"
   ]
  },
  {
   "cell_type": "markdown",
   "metadata": {},
   "source": [
    "## ROLLBACK"
   ]
  },
  {
   "cell_type": "code",
   "execution_count": 54,
   "metadata": {},
   "outputs": [
    {
     "name": "stdout",
     "output_type": "stream",
     "text": [
      "1 ) Tom Pythonovitz : 4477969\n",
      "2 ) Tammi Pythonovitz : 5557241\n",
      "4 ) Joee Javany : 2222\n",
      "5 ) Shirel Cplustik : 3333\n",
      "6 ) Adam Kotlinberg : 4444\n"
     ]
    }
   ],
   "source": [
    "cursor.execute('''\n",
    "    UPDATE user \n",
    "    SET phone = ? \n",
    "    WHERE id = ? \n",
    "''', (\"121212\", userid))\n",
    "\n",
    "# The user's phone is not updated\n",
    "db.rollback()\n",
    "\n",
    "cursor.execute('''SELECT id, name,phone  FROM user''')\n",
    "for row in cursor:\n",
    "    print(f'{row[0]} ) {row[1]} : {row[2]}')"
   ]
  },
  {
   "cell_type": "markdown",
   "metadata": {},
   "source": [
    "## JOIN"
   ]
  },
  {
   "cell_type": "code",
   "execution_count": 55,
   "metadata": {},
   "outputs": [
    {
     "name": "stdout",
     "output_type": "stream",
     "text": [
      "(1, 2)\n",
      "(5, 6)\n"
     ]
    }
   ],
   "source": [
    "cursor.execute('''\n",
    "    DROP TABLE IF EXISTS user_pairs\n",
    "''')\n",
    "cursor.execute('''\n",
    "    CREATE  TABLE user_pairs(\n",
    "        id1    INTEGER,\n",
    "        id2    INTEGER\n",
    "    )\n",
    "''')\n",
    "\n",
    "cursor.executemany('''\n",
    "    INSERT INTO user_pairs(id1, id2)\n",
    "    VALUES(?,?)\n",
    "''', [(1,2), (5,6)])\n",
    "\n",
    "cursor.execute('''SELECT * FROM user_pairs''')\n",
    "for row in cursor: print(row)"
   ]
  },
  {
   "cell_type": "code",
   "execution_count": 56,
   "metadata": {},
   "outputs": [
    {
     "name": "stdout",
     "output_type": "stream",
     "text": [
      "('Tom Pythonovitz', 1, 2)\n",
      "('Shirel Cplustik', 5, 6)\n"
     ]
    }
   ],
   "source": [
    "\n",
    "cursor.execute('''\n",
    "    SELECT user.name, user_pairs.id1, user_pairs.id2\n",
    "    FROM user JOIN user_pairs ON(user.id==user_pairs.id1)\n",
    "''')\n",
    "for row in cursor: print(row)"
   ]
  },
  {
   "cell_type": "code",
   "execution_count": 57,
   "metadata": {},
   "outputs": [
    {
     "name": "stdout",
     "output_type": "stream",
     "text": [
      "('Tom Pythonovitz', 1, 'Tammi Pythonovitz', 2)\n",
      "('Shirel Cplustik', 5, 'Adam Kotlinberg', 6)\n"
     ]
    }
   ],
   "source": [
    "\n",
    "cursor.execute('''\n",
    "    SELECT user1.name, user_pairs.id1, user2.name, user_pairs.id2\n",
    "    FROM user AS user1\n",
    "    JOIN user_pairs    ON(user1.id==user_pairs.id1)\n",
    "    JOIN user AS user2 ON(user2.id==user_pairs.id2)\n",
    "''')\n",
    "for row in cursor: print(row)"
   ]
  },
  {
   "cell_type": "markdown",
   "metadata": {},
   "source": [
    "## close"
   ]
  },
  {
   "cell_type": "code",
   "execution_count": 58,
   "metadata": {},
   "outputs": [],
   "source": [
    "db.close()"
   ]
  },
  {
   "cell_type": "markdown",
   "metadata": {},
   "source": [
    "## Converting Python types to SQL types:\n",
    "\n",
    "•\tNone type is converted to NULL<br>\n",
    "•\tint type is converted to INTEGER<br>\n",
    "•\tfloat type is converted to REAL<br>\n",
    "•\tstr type is converted to TEXT<br>\n",
    "•\tbytes type is converted to BLOB\n"
   ]
  },
  {
   "cell_type": "markdown",
   "metadata": {},
   "source": []
  }
 ],
 "metadata": {
  "kernelspec": {
   "display_name": "Python 3",
   "language": "python",
   "name": "python3"
  },
  "language_info": {
   "codemirror_mode": {
    "name": "ipython",
    "version": 3
   },
   "file_extension": ".py",
   "mimetype": "text/x-python",
   "name": "python",
   "nbconvert_exporter": "python",
   "pygments_lexer": "ipython3",
   "version": "3.10.2"
  },
  "orig_nbformat": 2
 },
 "nbformat": 4,
 "nbformat_minor": 2
}
