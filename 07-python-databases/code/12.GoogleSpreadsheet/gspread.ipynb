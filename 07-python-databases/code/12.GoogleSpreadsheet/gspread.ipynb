{
 "cells": [
  {
   "cell_type": "markdown",
   "metadata": {},
   "source": [
    "# Google Spreadsheet"
   ]
  },
  {
   "cell_type": "markdown",
   "metadata": {},
   "source": [
    "Based on [this video](https://www.youtube.com/watch?v=bu5wXjz2KvU) by Anthony Herbert (\"Pretty Printed\")."
   ]
  },
  {
   "cell_type": "markdown",
   "metadata": {},
   "source": [
    "## Preparation\n",
    "\n",
    "1. Go into [Google Cloud Console](https://console.cloud.google.com).\n",
    "2. Left pane -> \"IAM & Admin\" -> \"Create a project\".\n",
    "3. \"Select project\".\n",
    "4. Search -> \"Google Drive API\" -> \"Enable\".\n",
    "5. Search -> \"Google Sheets API\" -> \"Enable\".\n",
    "6. Go to API overview -> Credentials -> Manage service accounts -> Create service account -> Done -> Done -> Done\n",
    "7. Copy the generated email. \n",
    "8. Share the [spreadsheet](https://docs.google.com/spreadsheets/d/1Rik0RUNYrAzCLsMhxw2ikxlYLjNFP4R8QkgsfmQphbY/edit#gid=0) with this email.\n",
    "9. Find row with new email -> Three dots on right -> Manage keys -> Add key -> JSON -> Save as \"credentials.json\".\n",
    "10. `pip install gspread`"
   ]
  },
  {
   "cell_type": "markdown",
   "metadata": {},
   "source": [
    "## Connecting"
   ]
  },
  {
   "cell_type": "code",
   "execution_count": 6,
   "metadata": {},
   "outputs": [],
   "source": [
    "import gspread\n",
    "account = gspread.service_account(\"credentials.json\")"
   ]
  },
  {
   "cell_type": "code",
   "execution_count": 8,
   "metadata": {},
   "outputs": [],
   "source": [
    "# Open spreadsheet by name:\n",
    "spreadsheet = account.open(\"TestSpreadsheet\")\n",
    "\n",
    "# Open spreadsheet by key:\n",
    "spreadsheet = account.open_by_key(\"1Rik0RUNYrAzCLsMhxw2ikxlYLjNFP4R8QkgsfmQphbY\") # same as above, but safer (unique)"
   ]
  },
  {
   "cell_type": "code",
   "execution_count": 9,
   "metadata": {},
   "outputs": [],
   "source": [
    "# Open sheet by name:\n",
    "sheet1 = spreadsheet.worksheet(\"Sheet1\")\n",
    "\n",
    "# Open sheet by index:\n",
    "sheet1 = spreadsheet.get_worksheet(0)  # Same as above"
   ]
  },
  {
   "cell_type": "markdown",
   "metadata": {},
   "source": [
    "## Reading"
   ]
  },
  {
   "cell_type": "code",
   "execution_count": 10,
   "metadata": {},
   "outputs": [
    {
     "name": "stdout",
     "output_type": "stream",
     "text": [
      "Rows:  99 Cols:  20\n"
     ]
    }
   ],
   "source": [
    "print(\"Rows: \", sheet1.row_count, \"Cols: \", sheet1.col_count)"
   ]
  },
  {
   "cell_type": "code",
   "execution_count": 14,
   "metadata": {},
   "outputs": [
    {
     "name": "stdout",
     "output_type": "stream",
     "text": [
      "Access cells by name:\n",
      "A2 Player 1\n",
      "B2 23\n",
      "G2 130\n"
     ]
    }
   ],
   "source": [
    "print(\"Access cells by name:\")\n",
    "print(\"A2\",sheet1.acell(\"A2\").value)\n",
    "print(\"B2\",sheet1.acell(\"B2\").value)\n",
    "print(\"G2\",sheet1.acell(\"G2\").value)"
   ]
  },
  {
   "cell_type": "code",
   "execution_count": 15,
   "metadata": {},
   "outputs": [
    {
     "name": "stdout",
     "output_type": "stream",
     "text": [
      "Access cells by coordinates (row, col):\n",
      "A2 Player 1\n",
      "B2 23\n",
      "G2 130\n"
     ]
    }
   ],
   "source": [
    "print(\"Access cells by coordinates (row, col):\")\n",
    "print(\"A2\",sheet1.cell(2, 1).value)\n",
    "print(\"B2\",sheet1.cell(2, 2).value)\n",
    "print(\"G2\",sheet1.cell(2, 7).value)"
   ]
  },
  {
   "cell_type": "code",
   "execution_count": 17,
   "metadata": {},
   "outputs": [
    {
     "name": "stdout",
     "output_type": "stream",
     "text": [
      "Read an entire range:\n",
      "[['Name', 'Item 1', 'Item 2', 'Item 3', 'Item 4', 'Item 5', 'Sum'], ['Player 1', '23', '15', '46', '34', '12', '130'], ['Player 2', '31', '7', '65', '5', '44', '152'], ['Player 3', '45', '43', '86', '23', '10', '207']]\n"
     ]
    }
   ],
   "source": [
    "print(\"Read an entire range:\")\n",
    "print(sheet1.get('A1:G4'))"
   ]
  },
  {
   "cell_type": "code",
   "execution_count": 19,
   "metadata": {},
   "outputs": [
    {
     "name": "stdout",
     "output_type": "stream",
     "text": [
      "Read all values:\n",
      "[['Name', 'Item 1', 'Item 2', 'Item 3', 'Item 4', 'Item 5', 'Sum'], ['Player 1', '23', '15', '46', '34', '12', '130'], ['Player 2', '31', '7', '65', '5', '44', '152'], ['Player 3', '45', '43', '86', '23', '10', '207']]\n"
     ]
    }
   ],
   "source": [
    "# Most efficient way to read all values:\n",
    "print(\"Read all values:\")\n",
    "print(sheet1.get_all_values())"
   ]
  },
  {
   "cell_type": "code",
   "execution_count": 18,
   "metadata": {},
   "outputs": [
    {
     "name": "stdout",
     "output_type": "stream",
     "text": [
      "Read all records:\n",
      "[{'Name': 'Player 1', 'Item 1': 23, 'Item 2': 15, 'Item 3': 46, 'Item 4': 34, 'Item 5': 12, 'Sum': 130}, {'Name': 'Player 2', 'Item 1': 31, 'Item 2': 7, 'Item 3': 65, 'Item 4': 5, 'Item 5': 44, 'Sum': 152}, {'Name': 'Player 3', 'Item 1': 45, 'Item 2': 43, 'Item 3': 86, 'Item 4': 23, 'Item 5': 10, 'Sum': 207}]\n"
     ]
    }
   ],
   "source": [
    "# Most efficient way to read all data:\n",
    "print(\"Read all records:\")\n",
    "print(sheet1.get_all_records())"
   ]
  },
  {
   "cell_type": "markdown",
   "metadata": {},
   "source": [
    "## Updating"
   ]
  },
  {
   "cell_type": "code",
   "execution_count": 20,
   "metadata": {},
   "outputs": [
    {
     "name": "stdout",
     "output_type": "stream",
     "text": [
      "Insert a value:\n"
     ]
    },
    {
     "data": {
      "text/plain": [
       "{'spreadsheetId': '1Rik0RUNYrAzCLsMhxw2ikxlYLjNFP4R8QkgsfmQphbY',\n",
       " 'updatedRange': 'Sheet1!A4',\n",
       " 'updatedRows': 1,\n",
       " 'updatedColumns': 1,\n",
       " 'updatedCells': 1}"
      ]
     },
     "execution_count": 20,
     "metadata": {},
     "output_type": "execute_result"
    }
   ],
   "source": [
    "print(\"Insert a value:\")\n",
    "sheet1.update(\"A4\", \"Player X\")"
   ]
  },
  {
   "cell_type": "code",
   "execution_count": 21,
   "metadata": {},
   "outputs": [
    {
     "name": "stdout",
     "output_type": "stream",
     "text": [
      "Insert a range of values:\n"
     ]
    },
    {
     "data": {
      "text/plain": [
       "{'spreadsheetId': '1Rik0RUNYrAzCLsMhxw2ikxlYLjNFP4R8QkgsfmQphbY',\n",
       " 'updatedRange': 'Sheet1!B5:C6',\n",
       " 'updatedRows': 2,\n",
       " 'updatedColumns': 2,\n",
       " 'updatedCells': 4}"
      ]
     },
     "execution_count": 21,
     "metadata": {},
     "output_type": "execute_result"
    }
   ],
   "source": [
    "print(\"Insert a range of values:\")\n",
    "sheet1.update(\"B5:C6\",  [[111,222],[333,444]])"
   ]
  },
  {
   "cell_type": "code",
   "execution_count": 22,
   "metadata": {},
   "outputs": [
    {
     "name": "stdout",
     "output_type": "stream",
     "text": [
      "Insert a formula:\n"
     ]
    },
    {
     "data": {
      "text/plain": [
       "{'spreadsheetId': '1Rik0RUNYrAzCLsMhxw2ikxlYLjNFP4R8QkgsfmQphbY',\n",
       " 'updatedRange': 'Sheet1!A5',\n",
       " 'updatedRows': 1,\n",
       " 'updatedColumns': 1,\n",
       " 'updatedCells': 1}"
      ]
     },
     "execution_count": 22,
     "metadata": {},
     "output_type": "execute_result"
    }
   ],
   "source": [
    "print(\"Insert a formula:\")\n",
    "sheet1.update(\"A5\",  \"=UPPER(A4)\", raw=False)"
   ]
  },
  {
   "cell_type": "code",
   "execution_count": 23,
   "metadata": {},
   "outputs": [
    {
     "name": "stdout",
     "output_type": "stream",
     "text": [
      "Delete row\n"
     ]
    },
    {
     "name": "stderr",
     "output_type": "stream",
     "text": [
      "C:\\Users\\user\\AppData\\Local\\Temp\\ipykernel_28696\\428029284.py:2: DeprecationWarning: Worksheet.delete_row() is deprecated, Please use `Worksheet.delete_rows()` instead.\n",
      "  sheet1.delete_row(5)\n"
     ]
    },
    {
     "data": {
      "text/plain": [
       "{'spreadsheetId': '1Rik0RUNYrAzCLsMhxw2ikxlYLjNFP4R8QkgsfmQphbY',\n",
       " 'replies': [{}]}"
      ]
     },
     "execution_count": 23,
     "metadata": {},
     "output_type": "execute_result"
    }
   ],
   "source": [
    "print(\"Delete row\")\n",
    "sheet1.delete_row(5)"
   ]
  }
 ],
 "metadata": {
  "interpreter": {
   "hash": "5d240ba0dc525c389faa33f5dcce5b4f32b6d6aa6d70d6d2dd929bd2b09ab69f"
  },
  "kernelspec": {
   "display_name": "Python 3.10.2 64-bit",
   "language": "python",
   "name": "python3"
  },
  "language_info": {
   "codemirror_mode": {
    "name": "ipython",
    "version": 3
   },
   "file_extension": ".py",
   "mimetype": "text/x-python",
   "name": "python",
   "nbconvert_exporter": "python",
   "pygments_lexer": "ipython3",
   "version": "3.10.2"
  },
  "orig_nbformat": 4
 },
 "nbformat": 4,
 "nbformat_minor": 2
}
