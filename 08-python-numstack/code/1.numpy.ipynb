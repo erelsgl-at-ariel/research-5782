{
 "cells": [
  {
   "cell_type": "code",
   "execution_count": 2,
   "metadata": {},
   "outputs": [],
   "source": [
    "import numpy as np"
   ]
  },
  {
   "cell_type": "code",
   "execution_count": 3,
   "metadata": {},
   "outputs": [
    {
     "data": {
      "text/plain": [
       "array(['1', '2', '3', 'a'], dtype='<U11')"
      ]
     },
     "execution_count": 3,
     "metadata": {},
     "output_type": "execute_result"
    }
   ],
   "source": [
    "arr = np.array((1,2,3,'a'))\n",
    "arr"
   ]
  },
  {
   "cell_type": "code",
   "execution_count": 4,
   "metadata": {},
   "outputs": [
    {
     "name": "stdout",
     "output_type": "stream",
     "text": [
      "list+list: [1, 2, 3, 4, 5, 6]\n",
      "arr + list: [5 7 9]\n",
      "type(arr + list) = <class 'numpy.ndarray'>\n"
     ]
    }
   ],
   "source": [
    "lis = [1,2,3]\n",
    "print(f\"list+list: {lis+[4,5,6]}\")\n",
    "\n",
    "arr = np.array((1,2,3))\n",
    "lst_arr = arr + [4,5,6]\n",
    "print(f\"arr + list: {lst_arr}\")\n",
    "print(f\"type(arr + list) = {type(lst_arr)}\")"
   ]
  },
  {
   "cell_type": "code",
   "execution_count": 5,
   "metadata": {},
   "outputs": [
    {
     "name": "stdout",
     "output_type": "stream",
     "text": [
      "[0.5 1.  1.5]\n",
      "[1 4 9]\n",
      "[ 5 10 15]\n",
      "[6 7 8]\n",
      "operands could not be broadcast together with shapes (3,) (2,) \n"
     ]
    }
   ],
   "source": [
    "print(arr/2)\n",
    "print(arr**2)\n",
    "print(arr*5)\n",
    "print(arr + [5])\n",
    "try:\n",
    "    arr + [1,2] #=> ValueError\n",
    "except ValueError as e:\n",
    "    print(e)"
   ]
  },
  {
   "cell_type": "code",
   "execution_count": 32,
   "metadata": {},
   "outputs": [
    {
     "name": "stdout",
     "output_type": "stream",
     "text": [
      "[0.76159416 0.96402758 0.99505475]\n",
      "[ 0.54030231 -0.41614684 -0.9899925 ]\n",
      "[0.84147098 0.90929743 0.14112001]\n",
      "[ 2.71828183  7.3890561  20.08553692]\n",
      "[1.         1.41421356 1.73205081]\n",
      "[0.         0.69314718 1.09861229]\n"
     ]
    }
   ],
   "source": [
    "print(np.tanh(arr))\n",
    "print(np.cos(arr))\n",
    "print(np.sin(arr))\n",
    "print(np.exp(arr))\n",
    "print(np.sqrt(arr))\n",
    "print(np.log(arr))"
   ]
  },
  {
   "cell_type": "code",
   "execution_count": 6,
   "metadata": {},
   "outputs": [
    {
     "name": "stdout",
     "output_type": "stream",
     "text": [
      "32\n",
      "32\n",
      "32\n"
     ]
    }
   ],
   "source": [
    "arr2 = np.array([4,5,6])\n",
    "print(np.sum(arr2*arr))\n",
    "print(arr2.dot(arr))\n",
    "print(arr2 @ arr)"
   ]
  },
  {
   "cell_type": "code",
   "execution_count": 7,
   "metadata": {},
   "outputs": [
    {
     "name": "stdout",
     "output_type": "stream",
     "text": [
      "The angle between [1 2 3] and [4 5 6] is 12.933154491899135°\n"
     ]
    }
   ],
   "source": [
    "a,b = arr,arr2\n",
    "cosangle = a@b/(np.linalg.norm(a)*np.linalg.norm(b))\n",
    "angle_degree= np.rad2deg(np.arccos(cosangle))\n",
    "degree_sign= u'\\N{DEGREE SIGN}'\n",
    "print(f\"The angle between {a} and {b} is {angle_degree}{degree_sign}\")"
   ]
  },
  {
   "cell_type": "code",
   "execution_count": 9,
   "metadata": {},
   "outputs": [
    {
     "name": "stdout",
     "output_type": "stream",
     "text": [
      "[[1 2]\n",
      " [3 4]]\n"
     ]
    }
   ],
   "source": [
    "arr = np.array([[1,2],[3,4]])\n",
    "print(arr)"
   ]
  },
  {
   "cell_type": "code",
   "execution_count": 11,
   "metadata": {},
   "outputs": [
    {
     "name": "stdout",
     "output_type": "stream",
     "text": [
      "1\n",
      "1\n"
     ]
    }
   ],
   "source": [
    "print(arr[0][0])   # Java style\n",
    "print(arr[0,0])    # C# style"
   ]
  },
  {
   "cell_type": "code",
   "execution_count": 12,
   "metadata": {},
   "outputs": [
    {
     "name": "stdout",
     "output_type": "stream",
     "text": [
      "First column:  [1 3]\n",
      "Second column:  [2 4]\n",
      "First row:  [1 2]\n",
      "Second row:  [3 4]\n"
     ]
    }
   ],
   "source": [
    "print(\"First column: \", arr[:,0])\n",
    "print(\"Second column: \", arr[:,1])\n",
    "print(\"First row: \", arr[0,:])\n",
    "print(\"Second row: \", arr[1,:])"
   ]
  },
  {
   "cell_type": "code",
   "execution_count": 14,
   "metadata": {},
   "outputs": [
    {
     "name": "stdout",
     "output_type": "stream",
     "text": [
      "arr Transpose:\n",
      "[[1 3]\n",
      " [2 4]]\n",
      "trace of a:\n",
      "5\n",
      "determinant of arr:\n",
      "-2.0000000000000004\n",
      "inverse of arr: \n",
      "[[-2.   1. ]\n",
      " [ 1.5 -0.5]]\n"
     ]
    }
   ],
   "source": [
    "print(\"arr Transpose:\")\n",
    "print(arr.T)\n",
    "print(\"trace of a:\")\n",
    "print(np.trace(arr))\n",
    "print(\"determinant of arr:\")\n",
    "print(np.linalg.det(arr))\n",
    "print(f\"inverse of arr: \")\n",
    "print(np.linalg.inv(arr))"
   ]
  },
  {
   "cell_type": "code",
   "execution_count": 15,
   "metadata": {},
   "outputs": [
    {
     "name": "stdout",
     "output_type": "stream",
     "text": [
      "[[ 9 12 15]\n",
      " [19 26 33]]\n",
      "[[ 9 12 15]\n",
      " [19 26 33]]\n"
     ]
    }
   ],
   "source": [
    "arr2 = np.array([[1,2,3],[4,5,6]])\n",
    "print(arr.dot(arr2))\n",
    "print(arr @ arr2) # equivalent"
   ]
  },
  {
   "cell_type": "code",
   "execution_count": 16,
   "metadata": {},
   "outputs": [
    {
     "data": {
      "text/plain": [
       "array([[False,  True],\n",
       "       [False,  True]])"
      ]
     },
     "execution_count": 16,
     "metadata": {},
     "output_type": "execute_result"
    }
   ],
   "source": [
    "# a^(-1)*a == I ?\n",
    "np.linalg.inv(arr).dot(arr) == np.array([[1,0],[0,1]])"
   ]
  },
  {
   "cell_type": "code",
   "execution_count": 17,
   "metadata": {},
   "outputs": [
    {
     "data": {
      "text/plain": [
       "True"
      ]
     },
     "execution_count": 17,
     "metadata": {},
     "output_type": "execute_result"
    }
   ],
   "source": [
    "np.allclose(np.linalg.inv(arr).dot(arr), np.array([[1,0],[0,1]]))"
   ]
  },
  {
   "cell_type": "markdown",
   "metadata": {},
   "source": [
    "### Solving linear equations"
   ]
  },
  {
   "cell_type": "code",
   "execution_count": 19,
   "metadata": {
    "scrolled": true
   },
   "outputs": [
    {
     "name": "stdout",
     "output_type": "stream",
     "text": [
      "children = 1500.0, adults = 700.0\n"
     ]
    }
   ],
   "source": [
    "# A child buys ticket for 1.5 shekels. \n",
    "# An adult buys ticket for 4 shekels. \n",
    "# The total amount collected is 5050.\n",
    "# The total number of people is 2200.\n",
    "# How many children and adults entered the park?\n",
    "left_hand_side = np.array([\n",
    "    [1,1],\n",
    "    [1.5,4]]\n",
    ")\n",
    "right_hand_side = np.array(\n",
    "    [2200,         #  1*children + 1*adults = 2200\n",
    "    5050]          #  1.5*children + 4*adults = 5050\n",
    ")\n",
    "solution = np.linalg.solve(left_hand_side,right_hand_side)\n",
    "print(f'children = {solution[0]}, adults = {solution[1]}')"
   ]
  },
  {
   "cell_type": "markdown",
   "metadata": {},
   "source": [
    "### Special matrices"
   ]
  },
  {
   "cell_type": "code",
   "execution_count": 21,
   "metadata": {},
   "outputs": [
    {
     "name": "stdout",
     "output_type": "stream",
     "text": [
      "~~~ 3X4 matrix of zeros ~~~\n",
      "[[0. 0. 0. 0.]\n",
      " [0. 0. 0. 0.]\n",
      " [0. 0. 0. 0.]]\n",
      "~~~ 3X4 matrix of ones ~~~\n",
      "[[1. 1. 1. 1.]\n",
      " [1. 1. 1. 1.]\n",
      " [1. 1. 1. 1.]]\n",
      "~~~ 3X4 matrix of tens ~~~\n",
      "[[10. 10. 10. 10.]\n",
      " [10. 10. 10. 10.]\n",
      " [10. 10. 10. 10.]]\n",
      "~~~ 3X3 Identity matrix (I) ~~~\n",
      "[[1. 0. 0.]\n",
      " [0. 1. 0.]\n",
      " [0. 0. 1.]]\n"
     ]
    }
   ],
   "source": [
    "print('~~~ 3X4 matrix of zeros ~~~')\n",
    "arr_zeros = np.zeros((3,4))\n",
    "print(arr_zeros)\n",
    "print('~~~ 3X4 matrix of ones ~~~')\n",
    "arr_ones = np.ones((3,4))\n",
    "print(arr_ones)\n",
    "print('~~~ 3X4 matrix of tens ~~~')\n",
    "arr_tens = arr_ones * 10\n",
    "print(arr_tens)\n",
    "print('~~~ 3X3 Identity matrix (I) ~~~')\n",
    "arr_identity = np.eye(3)\n",
    "print(arr_identity)"
   ]
  },
  {
   "cell_type": "code",
   "execution_count": 22,
   "metadata": {},
   "outputs": [
    {
     "name": "stdout",
     "output_type": "stream",
     "text": [
      "~~~ random: 0.6597822927135752 ~~~\n",
      "~~~ randint(1,100): 85 ~~~\n",
      "~~~ randint(1,100 size=(3,3)): ~~~ \n",
      "[[[ 2 76 64]\n",
      "  [33 76 44]\n",
      "  [51 69 75]]\n",
      "\n",
      " [[40 98 81]\n",
      "  [59  3 42]\n",
      "  [21 98 25]]\n",
      "\n",
      " [[34 18 88]\n",
      "  [60 38 41]\n",
      "  [19 35 83]]]\n",
      "~~~ choice = [2,3,5,7,11,13],size=(3,3) ~~~\n",
      "[[ 3  5 13]\n",
      " [11  2 11]\n",
      " [11  5  3]]\n"
     ]
    }
   ],
   "source": [
    "\n",
    "print(f'~~~ random: {np.random.random()} ~~~')\n",
    "print(f'~~~ randint(1,100): {np.random.randint(1,100)} ~~~')\n",
    "print(f'~~~ randint(1,100 size=(3,3)): ~~~ \\n{np.random.randint(1,100, size=(3,3,3))}')\n",
    "print(f'~~~ choice = [2,3,5,7,11,13],size=(3,3) ~~~\\n{np.random.choice([2,3,5,7,11,13], size=(3,3))}')"
   ]
  },
  {
   "cell_type": "code",
   "execution_count": 23,
   "metadata": {},
   "outputs": [
    {
     "name": "stdout",
     "output_type": "stream",
     "text": [
      "~~~ normal distribution: ~~~\n",
      "[[ 2.08196859  0.34340503 -0.08690251]\n",
      " [-0.92217282  0.72787392 -0.57018168]\n",
      " [ 0.78393856 -1.19412512  0.9783413 ]]\n",
      "loc=0.5, scale=2, size=(3, 3):\n",
      "[[ 0.68656986  1.03067228  1.47711426]\n",
      " [ 0.12257099  1.02966615  2.31685891]\n",
      " [ 4.16871517 -0.01443844 -0.22648197]]\n"
     ]
    }
   ],
   "source": [
    "# Normal Distribution:\n",
    "'''The Normal Distribution is one of the most important distributions.\n",
    "\n",
    "It is also called the Gaussian Distribution after the German mathematician Carl Friedrich Gauss.\n",
    "\n",
    "It fits the probability distribution of many events, eg. IQ Scores, Heartbeat etc.\n",
    "\n",
    "loc - (Mean) where the peak of the bell exists.\n",
    "\n",
    "scale - (Standard Deviation) how flat the graph distribution should be.\n",
    "\n",
    "size - The shape of the returned array: '''\n",
    "\n",
    "normal_dis = np.random.normal(size=(3, 3))\n",
    "print('~~~ normal distribution: ~~~')\n",
    "print(normal_dis)\n",
    "print(\"loc=0.5, scale=2, size=(3, 3):\")\n",
    "normal_dis = np.random.normal(loc=0.5, scale=2, size=(3, 3))\n",
    "print(normal_dis)"
   ]
  },
  {
   "cell_type": "code",
   "execution_count": 24,
   "metadata": {},
   "outputs": [
    {
     "name": "stdout",
     "output_type": "stream",
     "text": [
      "~~~ binomial distribution: ~~~\n",
      "n=10, p=0.5, size=(3,3):\n",
      "[[5 2 8]\n",
      " [4 4 8]\n",
      " [7 5 2]]\n"
     ]
    }
   ],
   "source": [
    "\n",
    "# Binomial Distribution\n",
    "'''\n",
    "Binomial Distribution is a Discrete Distribution.\n",
    "\n",
    "It describes the outcome of binary scenarios, e.g. toss of a coin, it will either be head or tails.\n",
    "\n",
    "It has three parameters:\n",
    "\n",
    "n - number of trials.\n",
    "\n",
    "p - probability of occurence of each trial (e.g. for toss of a coin 0.5 each).\n",
    "\n",
    "size - The shape of the returned array.\n",
    "'''\n",
    "binomial_dis = np.random.binomial(n=10, p=0.5, size=(3,3))\n",
    "print('~~~ binomial distribution: ~~~')\n",
    "print(\"n=10, p=0.5, size=(3,3):\")\n",
    "print(binomial_dis)"
   ]
  },
  {
   "cell_type": "code",
   "execution_count": 25,
   "metadata": {},
   "outputs": [
    {
     "name": "stdout",
     "output_type": "stream",
     "text": [
      "~~~ poisson distribution: ~~~\n",
      "lam=2, size=(3,3):\n",
      "[[2 2 0]\n",
      " [0 1 2]\n",
      " [3 2 3]]\n"
     ]
    }
   ],
   "source": [
    "# Poisson Distribution\n",
    "'''\n",
    "Poisson Distribution is a Discrete Distribution.\n",
    "\n",
    "It estimates how many times an event can happen in a specified time.\n",
    "e.g. If someone eats twice a day what is probability he will eat thrice?\n",
    "\n",
    "It has two parameters:\n",
    "\n",
    "lam - rate or known number of occurences e.g. 2 for above problem.\n",
    "\n",
    "size - The shape of the returned array.\n",
    "\n",
    "'''\n",
    "poisson_dis = np.random.poisson(lam=2, size=(3,3))\n",
    "print('~~~ poisson distribution: ~~~')\n",
    "print(\"lam=2, size=(3,3):\")\n",
    "print(poisson_dis)"
   ]
  },
  {
   "cell_type": "code",
   "execution_count": 26,
   "metadata": {},
   "outputs": [
    {
     "name": "stdout",
     "output_type": "stream",
     "text": [
      "~~~ uniform distribution: ~~~\n",
      "size=(3,3):\n",
      "[[0.45887338 0.99730941 0.88456816]\n",
      " [0.719459   0.82616016 0.91117141]\n",
      " [0.184633   0.01771894 0.82059126]]\n"
     ]
    }
   ],
   "source": [
    "\n",
    "# Uniform Distribution\n",
    "''' \n",
    "Used to describe probability where every event has equal chances of occuring.\n",
    "\n",
    "E.g. Generation of random numbers.\n",
    "\n",
    "It has three parameters:\n",
    "\n",
    "a - lower bound - default 0 .0.\n",
    "\n",
    "b - upper bound - default 1.0.\n",
    "\n",
    "size - The shape of the returned array.\n",
    "'''\n",
    "\n",
    "uniform_dis = np.random.uniform(size=(3, 3))\n",
    "print('~~~ uniform distribution: ~~~')\n",
    "print(\"size=(3,3):\")\n",
    "print(uniform_dis)\n"
   ]
  },
  {
   "cell_type": "markdown",
   "metadata": {},
   "source": [
    "### Performance test - which array multiplication method is faster?"
   ]
  },
  {
   "cell_type": "code",
   "execution_count": 27,
   "metadata": {},
   "outputs": [],
   "source": [
    "def my_timer(orig_func):\n",
    "    import time\n",
    "    def wrapper(*args, **kwargs):\n",
    "        t1 = time.time()\n",
    "        result = orig_func(*args, **kwargs)\n",
    "        t2 = time.time() - t1\n",
    "        print(f'{ orig_func.__name__} ran in: {t2} sec')\n",
    "        return result\n",
    "    return wrapper\n"
   ]
  },
  {
   "cell_type": "code",
   "execution_count": 28,
   "metadata": {},
   "outputs": [],
   "source": [
    "@my_timer\n",
    "def list_mult(mat_a,mat_b):\n",
    "    mat_c = []\n",
    "    for i in range(len(mat_a)):\n",
    "        mat_c.append([])\n",
    "        for j in range(len(mat_b[0])):\n",
    "            sum_val = 0\n",
    "            for k in range(len(mat_b)):\n",
    "                sum_val+= mat_a[i][k]*mat_b[k][j]\n",
    "            mat_c[i].append(sum_val)\n",
    "    return mat_c\n",
    "\n",
    "\n",
    "@my_timer           \n",
    "def array_mult(mat_a,mat_b):\n",
    "    return mat_a @ mat_b"
   ]
  },
  {
   "cell_type": "code",
   "execution_count": 29,
   "metadata": {},
   "outputs": [
    {
     "name": "stdout",
     "output_type": "stream",
     "text": [
      "list_mult ran in: 0.0 sec\n",
      "[[1875, 2746, 2296], [-182, -3944, 2024], [-1628, -2594, -5987]]\n",
      "array_mult ran in: 0.0 sec\n",
      "[[ 1875  2746  2296]\n",
      " [ -182 -3944  2024]\n",
      " [-1628 -2594 -5987]]\n"
     ]
    }
   ],
   "source": [
    "mat_a = np.random.randint(-100,100,size=(3,3))\n",
    "mat_b = np.random.randint(-100,100,size=(3,3))\n",
    "\n",
    "lst_a = list(mat_a)\n",
    "lst_b = list(mat_b)\n",
    "\n",
    "print(list_mult(lst_a,lst_b))\n",
    "print(array_mult(mat_a,mat_b))"
   ]
  },
  {
   "cell_type": "code",
   "execution_count": 33,
   "metadata": {},
   "outputs": [
    {
     "name": "stdout",
     "output_type": "stream",
     "text": [
      "list_mult ran in: 8.037827730178833 sec\n",
      "array_mult ran in: 0.03708362579345703 sec\n",
      "So what is faster?\n"
     ]
    }
   ],
   "source": [
    "mat_a = np.random.randint(-100,100,size=(200,200))\n",
    "mat_b = np.random.randint(-100,100,size=(200,200))\n",
    "\n",
    "lst_a = list(mat_a)\n",
    "lst_b = list(mat_b)\n",
    "list_mult(lst_a,lst_b)\n",
    "array_mult(mat_a,mat_b)\n",
    "print(\"So what is faster?\")"
   ]
  },
  {
   "cell_type": "code",
   "execution_count": null,
   "metadata": {},
   "outputs": [],
   "source": []
  }
 ],
 "metadata": {
  "kernelspec": {
   "display_name": "Python 3",
   "language": "python",
   "name": "python3"
  },
  "language_info": {
   "codemirror_mode": {
    "name": "ipython",
    "version": 3
   },
   "file_extension": ".py",
   "mimetype": "text/x-python",
   "name": "python",
   "nbconvert_exporter": "python",
   "pygments_lexer": "ipython3",
   "version": "3.10.2"
  }
 },
 "nbformat": 4,
 "nbformat_minor": 4
}
