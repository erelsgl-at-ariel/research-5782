{
 "cells": [
  {
   "cell_type": "code",
   "execution_count": 123,
   "metadata": {},
   "outputs": [
    {
     "data": {
      "text/plain": [
       "Engine(sqlite:///my_database1.db)"
      ]
     },
     "execution_count": 123,
     "metadata": {},
     "output_type": "execute_result"
    }
   ],
   "source": [
    "import sqlalchemy\n",
    "engine = sqlalchemy.create_engine(\"sqlite:///my_database1.db\", echo=True)   # Note: sqlite and not sqlite3. Echo = log the SQL commands.\n",
    "engine"
   ]
  },
  {
   "cell_type": "code",
   "execution_count": 124,
   "metadata": {},
   "outputs": [
    {
     "name": "stdout",
     "output_type": "stream",
     "text": [
      "2022-02-03 14:38:04,885 INFO sqlalchemy.engine.Engine BEGIN (implicit)\n",
      "2022-02-03 14:38:04,887 INFO sqlalchemy.engine.Engine PRAGMA main.table_info(\"user\")\n",
      "2022-02-03 14:38:04,887 INFO sqlalchemy.engine.Engine [raw sql] ()\n",
      "2022-02-03 14:38:04,889 INFO sqlalchemy.engine.Engine PRAGMA temp.table_info(\"user\")\n",
      "2022-02-03 14:38:04,890 INFO sqlalchemy.engine.Engine [raw sql] ()\n",
      "2022-02-03 14:38:04,891 INFO sqlalchemy.engine.Engine \n",
      "CREATE TABLE user (\n",
      "\tid INTEGER NOT NULL, \n",
      "\tname VARCHAR(20) NOT NULL, \n",
      "\tphone INTEGER, \n",
      "\temail VARCHAR(20) NOT NULL, \n",
      "\tpassword VARCHAR(20) NOT NULL, \n",
      "\tPRIMARY KEY (id), \n",
      "\tUNIQUE (name), \n",
      "\tUNIQUE (phone), \n",
      "\tUNIQUE (email)\n",
      ")\n",
      "\n",
      "\n",
      "2022-02-03 14:38:04,892 INFO sqlalchemy.engine.Engine [no key 0.00080s] ()\n",
      "2022-02-03 14:38:04,897 INFO sqlalchemy.engine.Engine COMMIT\n"
     ]
    }
   ],
   "source": [
    "# Instead of CREATE TABLE, we create a class that represents the table:\n",
    "\n",
    "from sqlalchemy.orm import declarative_base\n",
    "Base = declarative_base()\n",
    "\n",
    "# Define the \"user\" table:\n",
    "class User(Base):\n",
    "    __tablename__ = 'user'    \n",
    "    # Define the columns in the user table:\n",
    "    id = sqlalchemy.Column(sqlalchemy.Integer , primary_key= True)\n",
    "    name = sqlalchemy.Column(sqlalchemy.String(20) , unique=True, nullable = False , default='Anonymous')\n",
    "    phone = sqlalchemy.Column(sqlalchemy.Integer , unique = True)\n",
    "    email = sqlalchemy.Column(sqlalchemy.String(20) , unique=True, nullable = False)\n",
    "    password = sqlalchemy.Column(sqlalchemy.String(20), nullable= False)\n",
    "\n",
    "    def __repr__(self):\n",
    "        return f'User({self.id!r}, {self.name!r}, {self.phone!r}, {self.email!r})'\n",
    "\n",
    "Base.metadata.create_all(engine)  # Create the database and all tables."
   ]
  },
  {
   "cell_type": "code",
   "execution_count": 125,
   "metadata": {},
   "outputs": [],
   "source": [
    "# Same data as before\n",
    "\n",
    "name1 = 'Tom Pythonovitz'\n",
    "phone1 = '3366858'\n",
    "email1 = 'Tom.Pythonovitz@example.com'\n",
    "# A very secure password\n",
    "password1 = '12345'\n",
    " \n",
    "name2 = 'Tammi Pythonovitz'\n",
    "phone2 = '5557241'\n",
    "email2 = 'Tammi@example.com'\n",
    "password2 = 'TammiLoveTom'\n",
    "\n",
    "name3 = 'George Rustniovsky'\n",
    "phone3 = '33333'\n",
    "email3 = 'GRust@example.com'\n",
    "password3 = 'Rust for ever'"
   ]
  },
  {
   "cell_type": "code",
   "execution_count": 126,
   "metadata": {},
   "outputs": [],
   "source": [
    "\n",
    "DBSession = sqlalchemy.orm.sessionmaker(bind=engine)\n",
    "session = DBSession()\n"
   ]
  },
  {
   "cell_type": "code",
   "execution_count": 127,
   "metadata": {},
   "outputs": [
    {
     "name": "stdout",
     "output_type": "stream",
     "text": [
      "First user inserted\n",
      "Second user inserted\n",
      "2022-02-03 14:38:05,532 INFO sqlalchemy.engine.Engine BEGIN (implicit)\n",
      "2022-02-03 14:38:05,533 INFO sqlalchemy.engine.Engine INSERT INTO user (name, phone, email, password) VALUES (?, ?, ?, ?)\n",
      "2022-02-03 14:38:05,534 INFO sqlalchemy.engine.Engine [generated in 0.00074s] ('Tom Pythonovitz', '3366858', 'Tom.Pythonovitz@example.com', '12345')\n",
      "2022-02-03 14:38:05,537 INFO sqlalchemy.engine.Engine INSERT INTO user (name, phone, email, password) VALUES (?, ?, ?, ?)\n",
      "2022-02-03 14:38:05,538 INFO sqlalchemy.engine.Engine [cached since 0.004481s ago] ('Tammi Pythonovitz', '5557241', 'Tammi@example.com', 'TammiLoveTom')\n",
      "2022-02-03 14:38:05,539 INFO sqlalchemy.engine.Engine COMMIT\n"
     ]
    }
   ],
   "source": [
    "# Instead of INSERT INTO table, we create new objects:\n",
    "\n",
    "user1 = User(name=name1, phone=phone1,  email=email1, password=password1)\n",
    "session.add(user1)\n",
    "print('First user inserted')\n",
    " \n",
    "session.add(User(name=name2, phone=phone2,  email=email2, password=password2))\n",
    "print('Second user inserted')\n",
    "\n",
    "session.commit()"
   ]
  },
  {
   "cell_type": "code",
   "execution_count": 128,
   "metadata": {},
   "outputs": [
    {
     "name": "stdout",
     "output_type": "stream",
     "text": [
      "Third user inserted\n",
      "2022-02-03 14:38:05,688 INFO sqlalchemy.engine.Engine BEGIN (implicit)\n",
      "2022-02-03 14:38:05,689 INFO sqlalchemy.engine.Engine INSERT INTO user (name, phone, email, password) VALUES (?, ?, ?, ?)\n",
      "2022-02-03 14:38:05,690 INFO sqlalchemy.engine.Engine [cached since 0.1576s ago] ('George Rustniovsky', '33333', 'GRust@example.com', 'Rust for ever')\n",
      "2022-02-03 14:38:05,693 INFO sqlalchemy.engine.Engine COMMIT\n"
     ]
    }
   ],
   "source": [
    "session.add(User(name=name3, phone=phone3,  email=email3, password=password3))\n",
    "print('Third user inserted')\n",
    "session.commit()"
   ]
  },
  {
   "cell_type": "code",
   "execution_count": 129,
   "metadata": {},
   "outputs": [
    {
     "name": "stdout",
     "output_type": "stream",
     "text": [
      "2022-02-03 14:38:05,849 INFO sqlalchemy.engine.Engine BEGIN (implicit)\n",
      "2022-02-03 14:38:05,850 INFO sqlalchemy.engine.Engine INSERT INTO user (name, phone, email, password) VALUES (?, ?, ?, ?)\n",
      "2022-02-03 14:38:05,851 INFO sqlalchemy.engine.Engine [generated in 0.00117s] (('Joee Javany', '2222', 'joo@example.mail', 'password'), ('Shirel Cplustik', '3333', 'cpp@example.mail', 'cppass'), ('Adam Kotlinberg', '4444', 'Adam_Kotlin@example.mail', 'JustPassword'))\n",
      "Many users inserted\n",
      "2022-02-03 14:38:05,854 INFO sqlalchemy.engine.Engine COMMIT\n"
     ]
    }
   ],
   "source": [
    "users = [User(name='Joee Javany', phone='2222', email='joo@example.mail', password='password'),\n",
    "        User(name='Shirel Cplustik', phone='3333', email='cpp@example.mail', password='cppass'),\n",
    "        User(name='Adam Kotlinberg', phone='4444', email='Adam_Kotlin@example.mail', password='JustPassword'),\n",
    "        ]\n",
    "# Insert many\n",
    "session.bulk_save_objects(users)\n",
    "print('Many users inserted')\n",
    "session.commit()"
   ]
  },
  {
   "cell_type": "code",
   "execution_count": 130,
   "metadata": {},
   "outputs": [
    {
     "name": "stdout",
     "output_type": "stream",
     "text": [
      "2022-02-03 14:38:06,024 INFO sqlalchemy.engine.Engine BEGIN (implicit)\n",
      "2022-02-03 14:38:06,025 INFO sqlalchemy.engine.Engine SELECT user.id AS user_id, user.name AS user_name, user.phone AS user_phone, user.email AS user_email, user.password AS user_password \n",
      "FROM user\n",
      "2022-02-03 14:38:06,026 INFO sqlalchemy.engine.Engine [generated in 0.00051s] ()\n"
     ]
    },
    {
     "data": {
      "text/plain": [
       "[User(1, 'Tom Pythonovitz', 3366858, 'Tom.Pythonovitz@example.com'),\n",
       " User(2, 'Tammi Pythonovitz', 5557241, 'Tammi@example.com'),\n",
       " User(3, 'George Rustniovsky', 33333, 'GRust@example.com'),\n",
       " User(4, 'Joee Javany', 2222, 'joo@example.mail'),\n",
       " User(5, 'Shirel Cplustik', 3333, 'cpp@example.mail'),\n",
       " User(6, 'Adam Kotlinberg', 4444, 'Adam_Kotlin@example.mail')]"
      ]
     },
     "execution_count": 130,
     "metadata": {},
     "output_type": "execute_result"
    }
   ],
   "source": [
    "session.query(User).all()"
   ]
  },
  {
   "cell_type": "code",
   "execution_count": 131,
   "metadata": {},
   "outputs": [
    {
     "name": "stdout",
     "output_type": "stream",
     "text": [
      "2022-02-03 14:38:06,120 INFO sqlalchemy.engine.Engine SELECT user.id AS user_id, user.name AS user_name, user.phone AS user_phone, user.email AS user_email, user.password AS user_password \n",
      "FROM user \n",
      "WHERE user.name = ?\n",
      "2022-02-03 14:38:06,121 INFO sqlalchemy.engine.Engine [generated in 0.00088s] ('Tom Pythonovitz',)\n"
     ]
    },
    {
     "data": {
      "text/plain": [
       "[User(1, 'Tom Pythonovitz', 3366858, 'Tom.Pythonovitz@example.com')]"
      ]
     },
     "execution_count": 131,
     "metadata": {},
     "output_type": "execute_result"
    }
   ],
   "source": [
    "session.query(User).filter(User.name==\"Tom Pythonovitz\").all()"
   ]
  },
  {
   "cell_type": "code",
   "execution_count": 132,
   "metadata": {},
   "outputs": [
    {
     "name": "stdout",
     "output_type": "stream",
     "text": [
      "2022-02-03 14:38:06,448 INFO sqlalchemy.engine.Engine SELECT user.id AS user_id, user.name AS user_name, user.phone AS user_phone, user.email AS user_email, user.password AS user_password \n",
      "FROM user \n",
      "WHERE user.name = ?\n",
      " LIMIT ? OFFSET ?\n",
      "2022-02-03 14:38:06,449 INFO sqlalchemy.engine.Engine [generated in 0.00107s] ('Tom Pythonovitz', 1, 0)\n"
     ]
    },
    {
     "data": {
      "text/plain": [
       "User(1, 'Tom Pythonovitz', 3366858, 'Tom.Pythonovitz@example.com')"
      ]
     },
     "execution_count": 132,
     "metadata": {},
     "output_type": "execute_result"
    }
   ],
   "source": [
    "tom = session.query(User).filter(User.name==\"Tom Pythonovitz\").first()\n",
    "tom"
   ]
  },
  {
   "cell_type": "code",
   "execution_count": 133,
   "metadata": {},
   "outputs": [
    {
     "data": {
      "text/plain": [
       "3366858"
      ]
     },
     "execution_count": 133,
     "metadata": {},
     "output_type": "execute_result"
    }
   ],
   "source": [
    "tom.phone"
   ]
  },
  {
   "cell_type": "code",
   "execution_count": 134,
   "metadata": {},
   "outputs": [
    {
     "name": "stdout",
     "output_type": "stream",
     "text": [
      "2022-02-03 14:38:07,298 INFO sqlalchemy.engine.Engine BEGIN (implicit)\n",
      "2022-02-03 14:38:07,300 INFO sqlalchemy.engine.Engine PRAGMA main.table_info(\"user\")\n",
      "2022-02-03 14:38:07,302 INFO sqlalchemy.engine.Engine [raw sql] ()\n",
      "2022-02-03 14:38:07,304 INFO sqlalchemy.engine.Engine \n",
      "DROP TABLE user\n",
      "2022-02-03 14:38:07,305 INFO sqlalchemy.engine.Engine [no key 0.00073s] ()\n",
      "2022-02-03 14:38:07,309 INFO sqlalchemy.engine.Engine COMMIT\n"
     ]
    }
   ],
   "source": [
    "# To drop all tables:\n",
    "Base.metadata.drop_all(engine) "
   ]
  },
  {
   "cell_type": "code",
   "execution_count": 135,
   "metadata": {},
   "outputs": [
    {
     "name": "stdout",
     "output_type": "stream",
     "text": [
      "2022-02-03 14:38:07,973 INFO sqlalchemy.engine.Engine ROLLBACK\n"
     ]
    }
   ],
   "source": [
    "session.close()"
   ]
  },
  {
   "cell_type": "code",
   "execution_count": null,
   "metadata": {},
   "outputs": [],
   "source": []
  }
 ],
 "metadata": {
  "kernelspec": {
   "display_name": "Python 3",
   "language": "python",
   "name": "python3"
  },
  "language_info": {
   "codemirror_mode": {
    "name": "ipython",
    "version": 3
   },
   "file_extension": ".py",
   "mimetype": "text/x-python",
   "name": "python",
   "nbconvert_exporter": "python",
   "pygments_lexer": "ipython3",
   "version": "3.10.2"
  },
  "orig_nbformat": 2
 },
 "nbformat": 4,
 "nbformat_minor": 2
}
