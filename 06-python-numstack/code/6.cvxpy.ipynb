{
 "cells": [
  {
   "cell_type": "code",
   "execution_count": 3,
   "metadata": {},
   "outputs": [],
   "source": [
    "import numpy as np\n",
    "import matplotlib.pyplot as plt"
   ]
  },
  {
   "cell_type": "code",
   "execution_count": 4,
   "metadata": {},
   "outputs": [],
   "source": [
    "import cvxpy \n",
    "from cvxpy import log\n",
    "\n",
    "# A scalar variable.\n",
    "a = cvxpy.Variable()\n",
    "\n",
    "# Vector variable with shape (5,).\n",
    "x = cvxpy.Variable(5)\n",
    "\n",
    "# Matrix variable with shape (5, 1).\n",
    "x = cvxpy.Variable((5, 1))\n",
    "\n",
    "# Matrix variable with shape (4, 7).\n",
    "A = cvxpy.Variable((4, 7))"
   ]
  },
  {
   "cell_type": "code",
   "execution_count": 5,
   "metadata": {},
   "outputs": [
    {
     "name": "stdout",
     "output_type": "stream",
     "text": [
      "status: optimal\n",
      "optimal value 1.0\n",
      "optimal var precise : x = 1.0 , y = 1.570086213240983e-22 \n",
      "optimal var: x = 1.0 , y = 0.0 \n"
     ]
    }
   ],
   "source": [
    "# Create two scalar optimization variables.\n",
    "x = cvxpy.Variable()\n",
    "y = cvxpy.Variable()\n",
    "\n",
    "# Create two constraints.\n",
    "constraints = [x + y == 1,\n",
    "               x - y >= 1] \n",
    "# Note: constraints can only use ==, >=, <=.  The other operators are not allowed.\n",
    "\n",
    "# Form objective.\n",
    "obj = cvxpy.Minimize((x - y)**2)\n",
    "\n",
    "# Form and solve problem.\n",
    "prob = cvxpy.Problem(obj, constraints)\n",
    "prob.solve()  # Returns the optimal value.\n",
    "print(\"status:\", prob.status)\n",
    "print(\"optimal value\", prob.value)\n",
    "print(f\"optimal var precise : x = {x.value} , y = {y.value} \")\n",
    "optimal_x = round(float(x.value),5)\n",
    "optimal_y = round(float(y.value),5)\n",
    "print(f\"optimal var: x = {optimal_x} , y = {optimal_y} \")"
   ]
  },
  {
   "cell_type": "code",
   "execution_count": 16,
   "metadata": {},
   "outputs": [
    {
     "name": "stdout",
     "output_type": "stream",
     "text": [
      "\n",
      "PROBLEM: \n",
      "Three cakes have to be divided among 2 people with values:\n",
      "2 3 4\n",
      "8 7 6\n",
      "\n",
      "Maximize the sum of logs:\n",
      "status: optimal\n",
      "optimal value 4.150102496256571\n",
      "optimal product 63.440502378907006\n",
      "optimal x 0.0\n",
      "optimal y 0.40468\n",
      "optimal z 1.0\n"
     ]
    }
   ],
   "source": [
    "import math \n",
    "\n",
    "print(\"\\nPROBLEM: \")\n",
    "print(\"Three cakes have to be divided among 2 people with values:\")\n",
    "print(\"2 3 4\")\n",
    "print(\"8 7 6\")\n",
    "\n",
    "# Define x,y,z = the fraction of each region given to player 1.\n",
    "x = cvxpy.Variable()\n",
    "y = cvxpy.Variable()\n",
    "z = cvxpy.Variable()\n",
    "\n",
    "print(\"\\nMaximize the sum of logs:\")\n",
    "prob = cvxpy.Problem(\n",
    "    objective   =  cvxpy.Maximize(log(2*x + 3*y + 4*z) + log(8*(1-x)+7*(1-y)+6*(1-z))),\n",
    "    constraints = [0 <= x, x <= 1, 0<= y , y <= 1, 0 <= z, z <= 1])\n",
    "prob.solve()\n",
    "print(\"status:\", prob.status)\n",
    "print(\"optimal value\", prob.value)\n",
    "print(\"optimal product\", math.exp(prob.value))\n",
    "print(\"optimal x\", round(float(x.value),5))\n",
    "print(\"optimal y\", round(float(y.value),5))\n",
    "print(\"optimal z\", round(float(z.value),5))"
   ]
  },
  {
   "cell_type": "code",
   "execution_count": 24,
   "metadata": {},
   "outputs": [
    {
     "name": "stdout",
     "output_type": "stream",
     "text": [
      "status: infeasible\n",
      "optimal value inf\n",
      "status: unbounded\n",
      "optimal value -inf\n"
     ]
    }
   ],
   "source": [
    "x = cvxpy.Variable()\n",
    "\n",
    "# An infeasible problem.\n",
    "prob = cvxpy.Problem(cvxpy.Minimize(x), [x >= 1, x <= 0])\n",
    "prob.solve()\n",
    "print(\"status:\", prob.status)\n",
    "print(\"optimal value\", prob.value)\n",
    "\n",
    "# An unbounded problem.\n",
    "prob = cvxpy.Problem(cvxpy.Minimize(x), [x <= 1])\n",
    "prob.solve()\n",
    "print(\"status:\", prob.status)\n",
    "print(\"optimal value\", prob.value)"
   ]
  }
 ],
 "metadata": {
  "kernelspec": {
   "display_name": "Python 3",
   "language": "python",
   "name": "python3"
  },
  "language_info": {
   "codemirror_mode": {
    "name": "ipython",
    "version": 3
   },
   "file_extension": ".py",
   "mimetype": "text/x-python",
   "name": "python",
   "nbconvert_exporter": "python",
   "pygments_lexer": "ipython3",
   "version": "3.10.2"
  }
 },
 "nbformat": 4,
 "nbformat_minor": 4
}
