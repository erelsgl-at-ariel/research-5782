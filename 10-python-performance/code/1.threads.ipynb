{
 "cells": [
  {
   "cell_type": "markdown",
   "metadata": {},
   "source": [
    "## Without threads"
   ]
  },
  {
   "cell_type": "code",
   "execution_count": 9,
   "metadata": {},
   "outputs": [
    {
     "name": "stdout",
     "output_type": "stream",
     "text": [
      "Sleeping 1.5 sec...\n",
      "Done sleeping\n",
      "Sleeping 1.5 sec...\n",
      "Done sleeping\n",
      "Finished in 3.0 second(s)\n"
     ]
    }
   ],
   "source": [
    "import time \n",
    "start = time.perf_counter()\n",
    "def do_something(time_to_run = 1):\n",
    "    print(f'Sleeping {time_to_run} sec...')\n",
    "    time.sleep(time_to_run)\n",
    "    print('Done sleeping')\n",
    "\n",
    "do_something(1.5)\n",
    "do_something(1.5)\n",
    "finish = time.perf_counter()\n",
    "print(f'Finished in {round(finish-start,2)} second(s)')"
   ]
  },
  {
   "cell_type": "markdown",
   "metadata": {},
   "source": [
    "## With threads"
   ]
  },
  {
   "cell_type": "code",
   "execution_count": 10,
   "metadata": {},
   "outputs": [
    {
     "name": "stdout",
     "output_type": "stream",
     "text": [
      "Sleeping 1.5 sec...\n",
      "Sleeping 1.5 sec...\n",
      "Finished in 0.02 second(s)\n",
      "Done sleeping\n",
      "Done sleeping\n"
     ]
    }
   ],
   "source": [
    "import threading \n",
    "\n",
    "start = time.perf_counter()\n",
    "t1 = threading.Thread(target = do_something, args = [1.5])\n",
    "t2 = threading.Thread(target = do_something, args = [1.5])\n",
    "t1.start()\n",
    "t2.start()\n",
    "\n",
    "finish = time.perf_counter()\n",
    "print(f'Finished in {round(finish-start,2)} second(s)')"
   ]
  },
  {
   "cell_type": "markdown",
   "metadata": {},
   "source": [
    "## Waiting for threads to join"
   ]
  },
  {
   "cell_type": "code",
   "execution_count": 11,
   "metadata": {},
   "outputs": [
    {
     "name": "stdout",
     "output_type": "stream",
     "text": [
      "Sleeping 1.5 sec...\n",
      "Sleeping 1.5 sec...\n",
      "Done sleepingDone sleeping\n",
      "\n",
      "Finished in 1.52 second(s)\n"
     ]
    }
   ],
   "source": [
    "start = time.perf_counter()\n",
    "t1 = threading.Thread(target = do_something ,args = [1.5] )\n",
    "t2 = threading.Thread(target = do_something ,args = [1.5] )\n",
    "t1.start()\n",
    "t2.start()\n",
    "t1.join()\n",
    "t2.join()\n",
    "finish = time.perf_counter()\n",
    "print(f'Finished in {round(finish-start,2)} second(s)')"
   ]
  },
  {
   "cell_type": "code",
   "execution_count": 12,
   "metadata": {},
   "outputs": [
    {
     "name": "stdout",
     "output_type": "stream",
     "text": [
      "Sleeping 1 sec...\n",
      "Sleeping 1 sec...\n",
      "Sleeping 1 sec...\n",
      "Sleeping 1 sec...\n",
      "Sleeping 1 sec...\n",
      "Sleeping 1 sec...\n",
      "Sleeping 1 sec...\n",
      "Sleeping 1 sec...\n",
      "Sleeping 1 sec...\n",
      "Sleeping 1 sec...\n",
      "Done sleeping\n",
      "Done sleeping\n",
      "Done sleeping\n",
      "Done sleeping\n",
      "Done sleeping\n",
      "Done sleeping\n",
      "Done sleeping\n",
      "Done sleeping\n",
      "Done sleeping\n",
      "Done sleeping\n",
      "Finished in 1.03 second(s)\n"
     ]
    }
   ],
   "source": [
    "start = time.perf_counter()\n",
    "threads = []\n",
    "for _ in range(10):\n",
    "    t = threading.Thread(target = do_something ,args = [1])\n",
    "    t.start()\n",
    "    threads.append(t)\n",
    "for thread in threads:\n",
    "    thread.join()\n",
    "finish = time.perf_counter()\n",
    "print(f'Finished in {round(finish-start,2)} second(s)')"
   ]
  },
  {
   "cell_type": "markdown",
   "metadata": {},
   "source": [
    "## Concurrent futures"
   ]
  },
  {
   "cell_type": "code",
   "execution_count": 16,
   "metadata": {},
   "outputs": [
    {
     "name": "stdout",
     "output_type": "stream",
     "text": [
      "Sleeping 1 sec...\n",
      "Sleeping 1 sec...\n",
      "Sleeping 1 sec...\n",
      "Sleeping 1 sec...\n",
      "Sleeping 1 sec...\n",
      "Sleeping 1 sec...\n",
      "Sleeping 1 sec...\n",
      "Sleeping 1 sec...\n",
      "Done sleeping\n",
      "Sleeping 1 sec...\n",
      "Done sleeping\n",
      "Sleeping 1 sec...\n",
      "Done sleeping\n",
      "Done sleeping\n",
      "Done sleeping\n",
      "Done sleeping\n",
      "Done sleeping\n",
      "Done sleeping\n",
      "Done sleeping\n",
      "Done sleeping\n",
      "Finished in 2.01 second(s)\n"
     ]
    }
   ],
   "source": [
    "import concurrent.futures\n",
    "start = time.perf_counter()\n",
    "\n",
    "with concurrent.futures.ThreadPoolExecutor(max_workers=8) as executor:\n",
    "    for _ in range(10):\n",
    "        executor.submit(do_something, 1)\n",
    "# At the end of the 'with', we wait until all submitted processes complete.\n",
    "\n",
    "finish = time.perf_counter()\n",
    "print(f'Finished in {round(finish-start,2)} second(s)')"
   ]
  },
  {
   "cell_type": "code",
   "execution_count": 22,
   "metadata": {},
   "outputs": [
    {
     "name": "stdout",
     "output_type": "stream",
     "text": [
      "Partial sum:  89999900000\n",
      "Partial sum:  29999900000\n",
      "Partial sum:  9999900000\n",
      "Partial sum:  109999900000\n",
      "Partial sum:  129999900000\n",
      "Partial sum:  69999900000\n",
      "Partial sum:  49999900000\n",
      "Partial sum:  169999900000\n",
      "Partial sum:  149999900000\n",
      "Partial sum:  189999900000\n",
      "Big sum:  999999000000\n",
      "Finished in 0.12 second(s)\n"
     ]
    }
   ],
   "source": [
    "def sum_list(l:list):\n",
    "    # time.sleep(1)\n",
    "    return sum([2*x for x in l])\n",
    "\n",
    "start = time.perf_counter()\n",
    "\n",
    "big_list = list(range(1000000))\n",
    "with concurrent.futures.ThreadPoolExecutor(10) as executor:\n",
    "    futures = [executor.submit(sum_list, big_list[i*100000:(i+1)*100000]) for i in range(10)]   # submit return a \"future result\".\n",
    "    big_sum = 0\n",
    "    for res in concurrent.futures.as_completed(futures):   # return each result as soon as it is completed:\n",
    "        r = res.result()\n",
    "        print(\"Partial sum: \", r)\n",
    "        big_sum += r\n",
    "\n",
    "print(\"Big sum: \", big_sum)\n",
    "finish = time.perf_counter()\n",
    "print(f'Finished in {round(finish-start,2)} second(s)')"
   ]
  },
  {
   "cell_type": "markdown",
   "metadata": {},
   "source": [
    "## Race condition"
   ]
  },
  {
   "cell_type": "code",
   "execution_count": 23,
   "metadata": {},
   "outputs": [
    {
     "name": "stderr",
     "output_type": "stream",
     "text": [
      "11:17:48: Testing update. Starting value is 0.\n",
      "11:17:48: Thread 0: starting update\n",
      "11:17:48: Thread 1: starting update\n",
      "11:17:49: Thread 0: finishing update\n",
      "11:17:49: Thread 1: finishing update\n",
      "11:17:49: Testing update. Ending value is 1.\n"
     ]
    },
    {
     "name": "stdout",
     "output_type": "stream",
     "text": [
      "Finished in 1.04 second(s)\n"
     ]
    }
   ],
   "source": [
    "import logging\n",
    "import threading\n",
    "import time\n",
    "import concurrent.futures\n",
    "\n",
    "format = \"%(asctime)s: %(message)s\"\n",
    "logging.basicConfig(format=format, level=logging.INFO, datefmt=\"%H:%M:%S\")\n",
    "\n",
    "class FakeDatabase:\n",
    "    def __init__(self):\n",
    "        self.value = 0\n",
    "\n",
    "    def update(self, name):\n",
    "        logging.info(\"Thread %s: starting update\", name)\n",
    "        local_copy = self.value\n",
    "        local_copy += 1\n",
    "        time.sleep(1)   # simulates a delay during the computation\n",
    "        self.value = local_copy\n",
    "        logging.info(\"Thread %s: finishing update\", name)\n",
    "\n",
    "start = time.perf_counter()\n",
    "\n",
    "database = FakeDatabase()\n",
    "logging.info(\"Testing update. Starting value is %d.\", database.value)\n",
    "with concurrent.futures.ThreadPoolExecutor(max_workers=2) as executor:\n",
    "    for index in range(2):\n",
    "        executor.submit(database.update, index)\n",
    "logging.info(\"Testing update. Ending value is %d.\", database.value)\n",
    "\n",
    "finish = time.perf_counter()\n",
    "print(f'Finished in {round(finish-start,2)} second(s)')"
   ]
  },
  {
   "cell_type": "markdown",
   "metadata": {},
   "source": [
    "## Locks"
   ]
  },
  {
   "cell_type": "code",
   "execution_count": 24,
   "metadata": {},
   "outputs": [
    {
     "name": "stderr",
     "output_type": "stream",
     "text": [
      "11:20:33: Testing update. Starting value is 0.\n",
      "11:20:33: Thread 0: starting update\n",
      "11:20:33: Thread 0 about to lock\n",
      "11:20:33: Thread 0 has lock\n",
      "11:20:33: Thread 1: starting update\n",
      "11:20:33: Thread 1 about to lock\n",
      "11:20:34: Thread 0 about to release lock\n",
      "11:20:34: Thread 0 after release\n",
      "11:20:34: Thread 1 has lock\n",
      "11:20:34: Thread 0: finishing update\n",
      "11:20:35: Thread 1 about to release lock\n",
      "11:20:35: Thread 1 after release\n",
      "11:20:35: Thread 1: finishing update\n",
      "11:20:35: Testing update. Ending value is 2.\n"
     ]
    },
    {
     "name": "stdout",
     "output_type": "stream",
     "text": [
      "Finished in 2.04 second(s)\n"
     ]
    }
   ],
   "source": [
    "class FakeDatabase:\n",
    "    def __init__(self):\n",
    "        self.value = 0\n",
    "        self._lock = threading.Lock()\n",
    "\n",
    "    def update(self, name):\n",
    "        logging.info(\"Thread %s: starting update\", name)\n",
    "        local_copy = self.value\n",
    "        local_copy += 1\n",
    "        time.sleep(1)\n",
    "        self.value = local_copy\n",
    "        logging.info(\"Thread %s: finishing update\", name)\n",
    "\n",
    "    def locked_update(self, name):\n",
    "        logging.info(\"Thread %s: starting update\", name)\n",
    "        logging.debug(\"Thread %s about to lock\", name)\n",
    "        with self._lock:\n",
    "            logging.debug(\"Thread %s has lock\", name)\n",
    "            local_copy = self.value\n",
    "            local_copy += 1\n",
    "            time.sleep(1)\n",
    "            self.value = local_copy\n",
    "            logging.debug(\"Thread %s about to release lock\", name)\n",
    "        logging.debug(\"Thread %s after release\", name)\n",
    "        logging.info(\"Thread %s: finishing update\", name)\n",
    "\n",
    "\n",
    "logging.getLogger().setLevel(logging.DEBUG)\n",
    "start = time.perf_counter()\n",
    "\n",
    "database = FakeDatabase()\n",
    "logging.info(\"Testing update. Starting value is %d.\", database.value)\n",
    "with concurrent.futures.ThreadPoolExecutor(max_workers=2) as executor:\n",
    "    for index in range(2):\n",
    "        executor.submit(database.locked_update, index)\n",
    "logging.info(\"Testing update. Ending value is %d.\", database.value)\n",
    "\n",
    "finish = time.perf_counter()\n",
    "print(f'Finished in {round(finish-start,2)} second(s)')\n"
   ]
  },
  {
   "cell_type": "code",
   "execution_count": null,
   "metadata": {},
   "outputs": [],
   "source": []
  }
 ],
 "metadata": {
  "interpreter": {
   "hash": "5c96f01ceb864e4f314488f796d7ad3ed3c5d7e2e6828b71e2c816343e6bed5e"
  },
  "kernelspec": {
   "display_name": "Python 3.10.4 64-bit",
   "language": "python",
   "name": "python3"
  },
  "language_info": {
   "codemirror_mode": {
    "name": "ipython",
    "version": 3
   },
   "file_extension": ".py",
   "mimetype": "text/x-python",
   "name": "python",
   "nbconvert_exporter": "python",
   "pygments_lexer": "ipython3",
   "version": "3.10.4"
  },
  "orig_nbformat": 2
 },
 "nbformat": 4,
 "nbformat_minor": 2
}
