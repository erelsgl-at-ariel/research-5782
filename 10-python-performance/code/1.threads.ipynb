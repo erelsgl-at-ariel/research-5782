{
 "cells": [
  {
   "cell_type": "markdown",
   "metadata": {},
   "source": [
    "## Without threads"
   ]
  },
  {
   "cell_type": "code",
   "execution_count": 5,
   "metadata": {},
   "outputs": [
    {
     "name": "stdout",
     "output_type": "stream",
     "text": [
      "Sleeping 1.5 sec...\n",
      "Done sleeping\n",
      "Sleeping 1.5 sec...\n",
      "Done sleeping\n",
      "Finished in 3.01 second(s)\n"
     ]
    }
   ],
   "source": [
    "import time \n",
    "start = time.perf_counter()\n",
    "def do_something(time_to_run = 1):\n",
    "    print(f'Sleeping {time_to_run} sec...')\n",
    "    time.sleep(time_to_run)\n",
    "    print('Done sleeping')\n",
    "\n",
    "do_something(1.5)\n",
    "do_something(1.5)\n",
    "finish = time.perf_counter()\n",
    "print(f'Finished in {round(finish-start,2)} second(s)')"
   ]
  },
  {
   "cell_type": "markdown",
   "metadata": {},
   "source": [
    "## With threads"
   ]
  },
  {
   "cell_type": "code",
   "execution_count": 2,
   "metadata": {},
   "outputs": [
    {
     "name": "stdout",
     "output_type": "stream",
     "text": [
      "Sleeping 1.5 sec...\n",
      "Sleeping 1.5 sec...\n",
      "Finished in 0.0 second(s)\n",
      "Done sleepingDone sleeping\n",
      "\n"
     ]
    }
   ],
   "source": [
    "import threading \n",
    "\n",
    "start = time.perf_counter()\n",
    "t1 = threading.Thread(target = do_something, args = [1.5])\n",
    "t2 = threading.Thread(target = do_something, args = [1.5])\n",
    "t1.start()\n",
    "t2.start()\n",
    "\n",
    "finish = time.perf_counter()\n",
    "print(f'Finished in {round(finish-start,2)} second(s)')"
   ]
  },
  {
   "cell_type": "markdown",
   "metadata": {},
   "source": [
    "## Waiting for threads to join"
   ]
  },
  {
   "cell_type": "code",
   "execution_count": 4,
   "metadata": {},
   "outputs": [
    {
     "name": "stdout",
     "output_type": "stream",
     "text": [
      "Sleeping 1.5 sec...\n",
      "Sleeping 1.5 sec...\n",
      "Done sleeping\n",
      "Done sleeping\n",
      "Finished in 1.52 second(s)\n"
     ]
    }
   ],
   "source": [
    "start = time.perf_counter()\n",
    "t1 = threading.Thread(target = do_something ,args = [1.5] )\n",
    "t2 = threading.Thread(target = do_something ,args = [1.5] )\n",
    "t1.start()\n",
    "t2.start()\n",
    "t1.join()\n",
    "t2.join()\n",
    "finish = time.perf_counter()\n",
    "print(f'Finished in {round(finish-start,2)} second(s)')"
   ]
  },
  {
   "cell_type": "code",
   "execution_count": 6,
   "metadata": {},
   "outputs": [
    {
     "name": "stdout",
     "output_type": "stream",
     "text": [
      "Sleeping 1 sec...\n",
      "Sleeping 1 sec...\n",
      "Sleeping 1 sec...\n",
      "Sleeping 1 sec...\n",
      "Sleeping 1 sec...\n",
      "Sleeping 1 sec...\n",
      "Sleeping 1 sec...\n",
      "Sleeping 1 sec...\n",
      "Sleeping 1 sec...\n",
      "Sleeping 1 sec...\n",
      "Done sleeping\n",
      "Done sleepingDone sleepingDone sleeping\n",
      "Done sleeping\n",
      "Done sleeping\n",
      "\n",
      "Done sleeping\n",
      "\n",
      "Done sleeping\n",
      "Done sleeping\n",
      "Done sleeping\n",
      "Finished in 1.04 second(s)\n"
     ]
    }
   ],
   "source": [
    "start = time.perf_counter()\n",
    "threads = []\n",
    "for _ in range(10):\n",
    "    t = threading.Thread(target = do_something ,args = [1])\n",
    "    t.start()\n",
    "    threads.append(t)\n",
    "for thread in threads:\n",
    "    thread.join()\n",
    "finish = time.perf_counter()\n",
    "print(f'Finished in {round(finish-start,2)} second(s)')"
   ]
  },
  {
   "cell_type": "markdown",
   "metadata": {},
   "source": [
    "## Concurrent futures"
   ]
  },
  {
   "cell_type": "code",
   "execution_count": 7,
   "metadata": {},
   "outputs": [
    {
     "name": "stdout",
     "output_type": "stream",
     "text": [
      "Sleeping 1 sec...\n",
      "Sleeping 1 sec...\n",
      "Sleeping 1 sec...\n",
      "Sleeping 1 sec...\n",
      "Sleeping 1 sec...\n",
      "Sleeping 1 sec...\n",
      "Sleeping 1 sec...\n",
      "Sleeping 1 sec...\n",
      "Sleeping 1 sec...\n",
      "Sleeping 1 sec...\n",
      "Done sleeping\n",
      "Done sleepingDone sleeping\n",
      "Done sleeping\n",
      "\n",
      "Done sleeping\n",
      "Done sleepingDone sleepingDone sleeping\n",
      "\n",
      "\n",
      "Done sleepingDone sleeping\n",
      "\n",
      "Finished in 1.03 second(s)\n"
     ]
    }
   ],
   "source": [
    "import concurrent.futures\n",
    "start = time.perf_counter()\n",
    "\n",
    "with concurrent.futures.ThreadPoolExecutor() as executor:\n",
    "    for _ in range(10):\n",
    "        executor.submit(do_something, 1)\n",
    "# At the end of the 'with', we wait until all submitted processes complete.\n",
    "\n",
    "finish = time.perf_counter()\n",
    "print(f'Finished in {round(finish-start,2)} second(s)')"
   ]
  },
  {
   "cell_type": "code",
   "execution_count": 8,
   "metadata": {},
   "outputs": [
    {
     "name": "stdout",
     "output_type": "stream",
     "text": [
      "Sleeping 1 sec...\n",
      "Sleeping 2 sec...\n",
      "Sleeping 3 sec...\n",
      "Sleeping 4 sec...\n",
      "Sleeping 5 sec...\n",
      "Done sleeping for 1\n",
      "Done sleeping for 2\n",
      "Done sleeping for 3\n",
      "Done sleeping for 4\n",
      "Done sleeping for 5\n",
      "Finished in 5.03 second(s)\n"
     ]
    }
   ],
   "source": [
    "def new_do_something(time_to_run):\n",
    "    print(f'Sleeping {time_to_run} sec...')\n",
    "    time.sleep(time_to_run)\n",
    "    return f'Done sleeping for {time_to_run}'\n",
    "\n",
    "start = time.perf_counter()\n",
    "\n",
    "with concurrent.futures.ThreadPoolExecutor() as executor:\n",
    "    seconds = [1,2,3,4,5]\n",
    "    futures = [executor.submit(new_do_something , i) for i in seconds]   # submit return a \"future result\".\n",
    "    for res in concurrent.futures.as_completed(futures):   # return each result as soon as it is completed:\n",
    "        print(res.result())\n",
    "\n",
    "finish = time.perf_counter()\n",
    "print(f'Finished in {round(finish-start,2)} second(s)')"
   ]
  },
  {
   "cell_type": "markdown",
   "metadata": {},
   "source": [
    "## Race condition"
   ]
  },
  {
   "cell_type": "code",
   "execution_count": 19,
   "metadata": {},
   "outputs": [
    {
     "name": "stderr",
     "output_type": "stream",
     "text": [
      "14:29:04: Testing update. Starting value is 0.\n",
      "14:29:04: Thread 0: starting update\n",
      "14:29:04: Thread 1: starting update\n",
      "14:29:05: Thread 0: finishing update\n",
      "14:29:05: Thread 1: finishing update\n",
      "14:29:05: Testing update. Ending value is 1.\n"
     ]
    },
    {
     "name": "stdout",
     "output_type": "stream",
     "text": [
      "Finished in 1.02 second(s)\n"
     ]
    }
   ],
   "source": [
    "import logging\n",
    "import threading\n",
    "import time\n",
    "import concurrent.futures\n",
    "\n",
    "format = \"%(asctime)s: %(message)s\"\n",
    "logging.basicConfig(format=format, level=logging.INFO, datefmt=\"%H:%M:%S\")\n",
    "\n",
    "class FakeDatabase:\n",
    "    def __init__(self):\n",
    "        self.value = 0\n",
    "\n",
    "    def update(self, name):\n",
    "        logging.info(\"Thread %s: starting update\", name)\n",
    "        local_copy = self.value\n",
    "        local_copy += 1\n",
    "        time.sleep(1)   # simulates a delay during the computation\n",
    "        self.value = local_copy\n",
    "        logging.info(\"Thread %s: finishing update\", name)\n",
    "\n",
    "start = time.perf_counter()\n",
    "\n",
    "database = FakeDatabase()\n",
    "logging.info(\"Testing update. Starting value is %d.\", database.value)\n",
    "with concurrent.futures.ThreadPoolExecutor(max_workers=2) as executor:\n",
    "    for index in range(2):\n",
    "        executor.submit(database.update, index)\n",
    "logging.info(\"Testing update. Ending value is %d.\", database.value)\n",
    "\n",
    "finish = time.perf_counter()\n",
    "print(f'Finished in {round(finish-start,2)} second(s)')"
   ]
  },
  {
   "cell_type": "markdown",
   "metadata": {},
   "source": [
    "## Locks"
   ]
  },
  {
   "cell_type": "code",
   "execution_count": 18,
   "metadata": {},
   "outputs": [
    {
     "name": "stderr",
     "output_type": "stream",
     "text": [
      "14:28:56: Testing update. Starting value is 0.\n",
      "14:28:56: Thread 0: starting update\n",
      "14:28:56: Thread 1: starting update\n",
      "14:28:56: Thread 0 about to lock\n",
      "14:28:56: Thread 1 about to lock\n",
      "14:28:56: Thread 0 has lock\n",
      "14:28:57: Thread 0 about to release lock\n",
      "14:28:57: Thread 0 after release\n",
      "14:28:57: Thread 0: finishing update\n",
      "14:28:57: Thread 1 has lock\n",
      "14:28:58: Thread 1 about to release lock\n",
      "14:28:58: Thread 1 after release\n",
      "14:28:58: Thread 1: finishing update\n",
      "14:28:58: Testing update. Ending value is 2.\n"
     ]
    },
    {
     "name": "stdout",
     "output_type": "stream",
     "text": [
      "Finished in 2.03 second(s)\n"
     ]
    }
   ],
   "source": [
    "class FakeDatabase:\n",
    "    def __init__(self):\n",
    "        self.value = 0\n",
    "        self._lock = threading.Lock()\n",
    "\n",
    "    def update(self, name):\n",
    "        logging.info(\"Thread %s: starting update\", name)\n",
    "        local_copy = self.value\n",
    "        local_copy += 1\n",
    "        time.sleep(1)\n",
    "        self.value = local_copy\n",
    "        logging.info(\"Thread %s: finishing update\", name)\n",
    "\n",
    "    def locked_update(self, name):\n",
    "        logging.info(\"Thread %s: starting update\", name)\n",
    "        logging.debug(\"Thread %s about to lock\", name)\n",
    "        with self._lock:\n",
    "            logging.debug(\"Thread %s has lock\", name)\n",
    "            local_copy = self.value\n",
    "            local_copy += 1\n",
    "            time.sleep(1)\n",
    "            self.value = local_copy\n",
    "            logging.debug(\"Thread %s about to release lock\", name)\n",
    "        logging.debug(\"Thread %s after release\", name)\n",
    "        logging.info(\"Thread %s: finishing update\", name)\n",
    "\n",
    "\n",
    "logging.getLogger().setLevel(logging.DEBUG)\n",
    "start = time.perf_counter()\n",
    "\n",
    "database = FakeDatabase()\n",
    "logging.info(\"Testing update. Starting value is %d.\", database.value)\n",
    "with concurrent.futures.ThreadPoolExecutor(max_workers=2) as executor:\n",
    "    for index in range(2):\n",
    "        executor.submit(database.locked_update, index)\n",
    "logging.info(\"Testing update. Ending value is %d.\", database.value)\n",
    "\n",
    "finish = time.perf_counter()\n",
    "print(f'Finished in {round(finish-start,2)} second(s)')\n"
   ]
  }
 ],
 "metadata": {
  "interpreter": {
   "hash": "fb4569285eef3a3450cb62085a5b1e0da4bce0af555edc33dcf29baf3acc1368"
  },
  "kernelspec": {
   "display_name": "Python 3.10.2 64-bit",
   "language": "python",
   "name": "python3"
  },
  "language_info": {
   "codemirror_mode": {
    "name": "ipython",
    "version": 3
   },
   "file_extension": ".py",
   "mimetype": "text/x-python",
   "name": "python",
   "nbconvert_exporter": "python",
   "pygments_lexer": "ipython3",
   "version": "3.10.2"
  },
  "orig_nbformat": 2
 },
 "nbformat": 4,
 "nbformat_minor": 2
}
