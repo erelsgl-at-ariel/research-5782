{
 "cells": [
  {
   "cell_type": "code",
   "execution_count": 3,
   "metadata": {},
   "outputs": [],
   "source": [
    "import numpy as np"
   ]
  },
  {
   "cell_type": "code",
   "execution_count": 8,
   "metadata": {},
   "outputs": [
    {
     "data": {
      "text/plain": [
       "array(['1', '2', '3', 'a'], dtype='<U11')"
      ]
     },
     "execution_count": 8,
     "metadata": {},
     "output_type": "execute_result"
    }
   ],
   "source": [
    "arr = np.array((1,2,3,'a'))\n",
    "arr"
   ]
  },
  {
   "cell_type": "code",
   "execution_count": 18,
   "metadata": {},
   "outputs": [
    {
     "name": "stdout",
     "output_type": "stream",
     "text": [
      "list+list: [1, 2, 3, 4, 5, 6]\n",
      "arr + list: [5 7 9]\n",
      "type(list+array) = <class 'numpy.ndarray'>\n"
     ]
    }
   ],
   "source": [
    "lis = [1,2,3]\n",
    "print(f\"list+list: {lis+[4,5,6]}\")\n",
    "\n",
    "arr = np.array((1,2,3))\n",
    "lst_arr = arr + [4,5,6]\n",
    "print(f\"arr + list: {lst_arr}\")\n",
    "print(f\"type(list+array) = {type(lst_arr)}\")"
   ]
  },
  {
   "cell_type": "code",
   "execution_count": 22,
   "metadata": {},
   "outputs": [
    {
     "name": "stdout",
     "output_type": "stream",
     "text": [
      "[0.5 1.  1.5]\n",
      "[1 4 9]\n",
      "[ 5 10 15]\n",
      "[6 7 8]\n",
      "operands could not be broadcast together with shapes (3,) (2,) \n"
     ]
    }
   ],
   "source": [
    "print(arr/2)\n",
    "print(arr**2)\n",
    "print(arr*5)\n",
    "print(arr + [5])\n",
    "try:\n",
    "    arr + [1,2] #=> ValueError\n",
    "except ValueError as e:\n",
    "    print(e)"
   ]
  },
  {
   "cell_type": "code",
   "execution_count": 32,
   "metadata": {},
   "outputs": [
    {
     "name": "stdout",
     "output_type": "stream",
     "text": [
      "[0.76159416 0.96402758 0.99505475]\n",
      "[ 0.54030231 -0.41614684 -0.9899925 ]\n",
      "[0.84147098 0.90929743 0.14112001]\n",
      "[ 2.71828183  7.3890561  20.08553692]\n",
      "[1.         1.41421356 1.73205081]\n",
      "[0.         0.69314718 1.09861229]\n"
     ]
    }
   ],
   "source": [
    "print(np.tanh(arr))\n",
    "print(np.cos(arr))\n",
    "print(np.sin(arr))\n",
    "print(np.exp(arr))\n",
    "print(np.sqrt(arr))\n",
    "print(np.log(arr))\n"
   ]
  },
  {
   "cell_type": "code",
   "execution_count": 38,
   "metadata": {},
   "outputs": [
    {
     "name": "stdout",
     "output_type": "stream",
     "text": [
      "32\n",
      "32\n",
      "32\n"
     ]
    }
   ],
   "source": [
    "arr2 = np.array([4,5,6])\n",
    "print(np.sum(arr2*arr))\n",
    "print(arr2.dot(arr))\n",
    "print(arr2 @ arr)"
   ]
  },
  {
   "cell_type": "code",
   "execution_count": 40,
   "metadata": {},
   "outputs": [
    {
     "name": "stdout",
     "output_type": "stream",
     "text": [
      "12.933154491899135°\n"
     ]
    }
   ],
   "source": [
    "a,b = arr,arr2\n",
    "cosangle = a@b/(np.linalg.norm(a)*np.linalg.norm(b))\n",
    "angle_degree= np.rad2deg(np.arccos(cosangle))\n",
    "degree_sign= u'\\N{DEGREE SIGN}'\n",
    "print(f\"{angle_degree}{degree_sign}\")"
   ]
  },
  {
   "cell_type": "code",
   "execution_count": 45,
   "metadata": {},
   "outputs": [
    {
     "name": "stdout",
     "output_type": "stream",
     "text": [
      "[[1 2]\n",
      " [3 4]]\n"
     ]
    }
   ],
   "source": [
    "arr = np.array([[1,2],[3,4]])\n",
    "print(arr)"
   ]
  },
  {
   "cell_type": "code",
   "execution_count": 49,
   "metadata": {},
   "outputs": [
    {
     "name": "stdout",
     "output_type": "stream",
     "text": [
      "1\n",
      "1\n"
     ]
    }
   ],
   "source": [
    "print(arr[0][0])\n",
    "print(arr[0,0])\n"
   ]
  },
  {
   "cell_type": "code",
   "execution_count": 51,
   "metadata": {},
   "outputs": [
    {
     "data": {
      "text/plain": [
       "array([1, 3])"
      ]
     },
     "execution_count": 51,
     "metadata": {},
     "output_type": "execute_result"
    }
   ],
   "source": [
    "arr[:,0]"
   ]
  },
  {
   "cell_type": "code",
   "execution_count": 58,
   "metadata": {},
   "outputs": [
    {
     "name": "stdout",
     "output_type": "stream",
     "text": [
      "inverse of arr: \n",
      "[[-2.   1. ]\n",
      " [ 1.5 -0.5]]\n",
      "determinant of arr:\n",
      "-2.0000000000000004\n",
      "arr Transpose:\n",
      "[[1 3]\n",
      " [2 4]]\n",
      "trace of a:\n",
      "5\n"
     ]
    }
   ],
   "source": [
    "print(f\"inverse of arr: \")\n",
    "print(np.linalg.inv(arr))\n",
    "print(\"determinant of arr:\")\n",
    "print(np.linalg.det(arr))\n",
    "print(\"arr Transpose:\")\n",
    "print(arr.T)\n",
    "print(\"trace of a:\")\n",
    "print(np.trace(arr))\n"
   ]
  },
  {
   "cell_type": "code",
   "execution_count": 61,
   "metadata": {},
   "outputs": [
    {
     "data": {
      "text/plain": [
       "array([[ 9, 12, 15],\n",
       "       [19, 26, 33]])"
      ]
     },
     "execution_count": 61,
     "metadata": {},
     "output_type": "execute_result"
    }
   ],
   "source": [
    "arr2 = np.array([[1,2,3],[4,5,6]])\n",
    "arr.dot(arr2)\n"
   ]
  },
  {
   "cell_type": "code",
   "execution_count": 63,
   "metadata": {},
   "outputs": [
    {
     "data": {
      "text/plain": [
       "array([[False,  True],\n",
       "       [False,  True]])"
      ]
     },
     "execution_count": 63,
     "metadata": {},
     "output_type": "execute_result"
    }
   ],
   "source": [
    "# a^(-1)*a == I ?\n",
    "np.linalg.inv(arr).dot(arr) == np.array([[1,0],[0,1]])"
   ]
  },
  {
   "cell_type": "code",
   "execution_count": 64,
   "metadata": {},
   "outputs": [
    {
     "data": {
      "text/plain": [
       "True"
      ]
     },
     "execution_count": 64,
     "metadata": {},
     "output_type": "execute_result"
    }
   ],
   "source": [
    "np.allclose(np.linalg.inv(arr).dot(arr) , np.array([[1,0],[0,1]]))"
   ]
  },
  {
   "cell_type": "code",
   "execution_count": 5,
   "metadata": {
    "scrolled": true
   },
   "outputs": [
    {
     "name": "stdout",
     "output_type": "stream",
     "text": [
      "x1 = 1500.0, x2 = 700.0\n"
     ]
    }
   ],
   "source": [
    "equations = np.array([[1,1],[1.5,4]])\n",
    "solutions = np.array([2200,5050])\n",
    "x_value = np.linalg.solve(equations,solutions)\n",
    "print(f'x1 = {x_value[0]}, x2 = {x_value[1]}')"
   ]
  },
  {
   "cell_type": "code",
   "execution_count": 4,
   "metadata": {},
   "outputs": [
    {
     "name": "stdout",
     "output_type": "stream",
     "text": [
      "~~~ 3X4 matrix of zeros ~~~\n",
      "[[0. 0. 0. 0.]\n",
      " [0. 0. 0. 0.]\n",
      " [0. 0. 0. 0.]]\n",
      "~~~ 3X4 matrix of ones ~~~\n",
      "[[1. 1. 1. 1.]\n",
      " [1. 1. 1. 1.]\n",
      " [1. 1. 1. 1.]]\n",
      "~~~ 3X4 matrix of tens ~~~\n",
      "[[10. 10. 10. 10.]\n",
      " [10. 10. 10. 10.]\n",
      " [10. 10. 10. 10.]]\n",
      "~~~ 3X3 Identity matrix ~~~\n",
      "[[1. 0. 0.]\n",
      " [0. 1. 0.]\n",
      " [0. 0. 1.]]\n"
     ]
    }
   ],
   "source": [
    "arr_zeros = np.zeros((3,4))\n",
    "arr_ones = np.ones((3,4))\n",
    "arr_tens = arr_ones * 10\n",
    "arr_identity = np.eye(3)\n",
    "print('~~~ 3X4 matrix of zeros ~~~')\n",
    "print(arr_zeros)\n",
    "print('~~~ 3X4 matrix of ones ~~~')\n",
    "print(arr_ones)\n",
    "print('~~~ 3X4 matrix of tens ~~~')\n",
    "print(arr_tens)\n",
    "print('~~~ 3X3 Identity matrix ~~~')\n",
    "print(arr_identity)\n"
   ]
  },
  {
   "cell_type": "code",
   "execution_count": 16,
   "metadata": {},
   "outputs": [
    {
     "name": "stdout",
     "output_type": "stream",
     "text": [
      "~~~ random: 0.0908651100249237 ~~~\n",
      "~~~ randint(1,100): 35 ~~~\n",
      "~~~ randint(1,100 size=(3,3)): ~~~ \n",
      "[[76 57 17]\n",
      " [99 48 20]\n",
      " [10 58 89]]\n",
      "~~~ choice = [2,3,5,7,11,13],size=(3,3) ~~~\n",
      "[[ 3 11 13]\n",
      " [ 7 13  3]\n",
      " [ 5 13  2]]\n"
     ]
    }
   ],
   "source": [
    "\n",
    "print(f'~~~ random: {np.random.random()} ~~~')\n",
    "print(f'~~~ randint(1,100): {np.random.randint(1,100)} ~~~')\n",
    "print(f'~~~ randint(1,100 size=(3,3)): ~~~ \\n{np.random.randint(1,100, size=(3,3))}')\n",
    "print(f'~~~ choice = [2,3,5,7,11,13],size=(3,3) ~~~\\n{np.random.choice([2,3,5,7,11,13], size=(3,3))}')"
   ]
  },
  {
   "cell_type": "code",
   "execution_count": 8,
   "metadata": {},
   "outputs": [
    {
     "name": "stdout",
     "output_type": "stream",
     "text": [
      "~~~ normal distribution: ~~~\n",
      "[[ 0.47696639 -1.23156084 -1.26405106]\n",
      " [-1.4285541  -0.41995324  0.17663182]\n",
      " [ 0.77133265 -0.89298416  1.33024965]]\n",
      "loc=0.5, scale=2, size=(3, 3):\n",
      "[[ 3.12470323  2.09586883 -3.00645513]\n",
      " [-0.48714311 -3.07864598  2.02905453]\n",
      " [ 3.11557001  2.39858333 -0.53279862]]\n"
     ]
    }
   ],
   "source": [
    "# Normal Distribution:\n",
    "'''The Normal Distribution is one of the most important distributions.\n",
    "\n",
    "It is also called the Gaussian Distribution after the German mathematician Carl Friedrich Gauss.\n",
    "\n",
    "It fits the probability distribution of many events, eg. IQ Scores, Heartbeat etc.\n",
    "\n",
    "loc - (Mean) where the peak of the bell exists.\n",
    "\n",
    "scale - (Standard Deviation) how flat the graph distribution should be.\n",
    "\n",
    "size - The shape of the returned array: '''\n",
    "\n",
    "normal_dis = np.random.normal(size=(3, 3))\n",
    "print('~~~ normal distribution: ~~~')\n",
    "print(normal_dis)\n",
    "print(\"loc=0.5, scale=2, size=(3, 3):\")\n",
    "normal_dis = np.random.normal(loc=0.5, scale=2, size=(3, 3))\n",
    "print(normal_dis)\n"
   ]
  },
  {
   "cell_type": "code",
   "execution_count": 5,
   "metadata": {},
   "outputs": [
    {
     "name": "stdout",
     "output_type": "stream",
     "text": [
      "~~~ binomial distribution: ~~~\n",
      "n=10, p=0.5, size=(3,3):\n",
      "[[7 5 3]\n",
      " [4 4 6]\n",
      " [5 5 6]]\n"
     ]
    }
   ],
   "source": [
    "\n",
    "# Binomial Distribution\n",
    "'''\n",
    "Binomial Distribution is a Discrete Distribution.\n",
    "\n",
    "It describes the outcome of binary scenarios, e.g. toss of a coin, it will either be head or tails.\n",
    "\n",
    "It has three parameters:\n",
    "\n",
    "n - number of trials.\n",
    "\n",
    "p - probability of occurence of each trial (e.g. for toss of a coin 0.5 each).\n",
    "\n",
    "size - The shape of the returned array.\n",
    "'''\n",
    "binomial_dis = np.random.binomial(n=10, p=0.5, size=(3,3))\n",
    "print('~~~ binomial distribution: ~~~')\n",
    "print(\"n=10, p=0.5, size=(3,3):\")\n",
    "print(binomial_dis)"
   ]
  },
  {
   "cell_type": "code",
   "execution_count": 6,
   "metadata": {},
   "outputs": [
    {
     "name": "stdout",
     "output_type": "stream",
     "text": [
      "~~~ poisson distribution: ~~~\n",
      "lam=2, size=(3,3):\n",
      "[[2 2 3]\n",
      " [1 9 3]\n",
      " [2 3 1]]\n"
     ]
    }
   ],
   "source": [
    "# Poisson Distribution\n",
    "'''\n",
    "Poisson Distribution is a Discrete Distribution.\n",
    "\n",
    "It estimates how many times an event can happen in a specified time.\n",
    "e.g. If someone eats twice a day what is probability he will eat thrice?\n",
    "\n",
    "It has two parameters:\n",
    "\n",
    "lam - rate or known number of occurences e.g. 2 for above problem.\n",
    "\n",
    "size - The shape of the returned array.\n",
    "\n",
    "'''\n",
    "poisson_dis = np.random.poisson(lam=2, size=(3,3))\n",
    "print('~~~ poisson distribution: ~~~')\n",
    "print(\"lam=2, size=(3,3):\")\n",
    "print(poisson_dis)"
   ]
  },
  {
   "cell_type": "code",
   "execution_count": 7,
   "metadata": {},
   "outputs": [
    {
     "name": "stdout",
     "output_type": "stream",
     "text": [
      "~~~ uniform distribution: ~~~\n",
      "size=(3,3):\n",
      "[[0.83884483 0.75664461 0.40702989]\n",
      " [0.97541392 0.56412935 0.84010256]\n",
      " [0.05350044 0.42409649 0.51254916]]\n"
     ]
    }
   ],
   "source": [
    "\n",
    "# Uniform Distribution\n",
    "''' \n",
    "Used to describe probability where every event has equal chances of occuring.\n",
    "\n",
    "E.g. Generation of random numbers.\n",
    "\n",
    "It has three parameters:\n",
    "\n",
    "a - lower bound - default 0 .0.\n",
    "\n",
    "b - upper bound - default 1.0.\n",
    "\n",
    "size - The shape of the returned array.\n",
    "'''\n",
    "\n",
    "uniform_dis = np.random.uniform(size=(3, 3))\n",
    "print('~~~ uniform distribution: ~~~')\n",
    "print(\"size=(3,3):\")\n",
    "print(uniform_dis)\n"
   ]
  },
  {
   "cell_type": "code",
   "execution_count": 95,
   "metadata": {},
   "outputs": [],
   "source": [
    "def my_timer(orig_func):\n",
    "    import time\n",
    "    def wrapper(*args, **kwargs):\n",
    "        t1 = time.time()\n",
    "        result = orig_func(*args, **kwargs)\n",
    "        t2 = time.time() - t1\n",
    "        print(f'{ orig_func.__name__} ran in: {t2} sec')\n",
    "        return result\n",
    "    return wrapper\n"
   ]
  },
  {
   "cell_type": "code",
   "execution_count": 103,
   "metadata": {},
   "outputs": [],
   "source": [
    "@my_timer\n",
    "def list_mult(mat_a,mat_b):\n",
    "    mat_c = []\n",
    "    for i in range(len(mat_a)):\n",
    "        mat_c.append([])\n",
    "        for j in range(len(mat_b[0])):\n",
    "            sum_val = 0\n",
    "            for k in range(len(mat_b)):\n",
    "                sum_val+= mat_a[i][k]*mat_b[k][j]\n",
    "            mat_c[i].append(sum_val)\n",
    "    return mat_c\n",
    "\n",
    "\n",
    "@my_timer           \n",
    "def array_mult(mat_a,mat_b):\n",
    "    return mat_a @ mat_b\n",
    "    \n"
   ]
  },
  {
   "cell_type": "code",
   "execution_count": 108,
   "metadata": {},
   "outputs": [
    {
     "name": "stdout",
     "output_type": "stream",
     "text": [
      "list_mult ran in: 0.0 sec\n",
      "[[-2378, 2542, -4336], [-513, -3004, 512], [-9547, -5279, 8996]]\n",
      "array_mult ran in: 0.0 sec\n",
      "[[-2378  2542 -4336]\n",
      " [ -513 -3004   512]\n",
      " [-9547 -5279  8996]]\n"
     ]
    }
   ],
   "source": [
    "mat_a = np.random.randint(-100,100,size=(3,3))\n",
    "mat_b = np.random.randint(-100,100,size=(3,3))\n",
    "\n",
    "lst_a = list(mat_a)\n",
    "lst_b = list(mat_b)\n",
    "\n",
    "print(list_mult(lst_a,lst_b))\n",
    "print(array_mult(mat_a,mat_b))"
   ]
  },
  {
   "cell_type": "code",
   "execution_count": 113,
   "metadata": {},
   "outputs": [
    {
     "name": "stdout",
     "output_type": "stream",
     "text": [
      "list_mult ran in: 0.5760326385498047 sec\n",
      "array_mult ran in: 0.002000093460083008 sec\n",
      "So who is faster?\n"
     ]
    }
   ],
   "source": [
    "mat_a = np.random.randint(-100,100,size=(100,100))\n",
    "mat_b = np.random.randint(-100,100,size=(100,100))\n",
    "\n",
    "lst_a = list(mat_a)\n",
    "lst_b = list(mat_b)\n",
    "list_mult(lst_a,lst_b)\n",
    "array_mult(mat_a,mat_b)\n",
    "print(\"So what is faster?\")"
   ]
  }
 ],
 "metadata": {
  "kernelspec": {
   "display_name": "Python 3",
   "language": "python",
   "name": "python3"
  },
  "language_info": {
   "codemirror_mode": {
    "name": "ipython",
    "version": 3
   },
   "file_extension": ".py",
   "mimetype": "text/x-python",
   "name": "python",
   "nbconvert_exporter": "python",
   "pygments_lexer": "ipython3",
   "version": "3.8.5"
  }
 },
 "nbformat": 4,
 "nbformat_minor": 4
}
