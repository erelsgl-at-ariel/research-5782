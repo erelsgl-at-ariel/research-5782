{
 "cells": [
  {
   "cell_type": "code",
   "execution_count": 2,
   "metadata": {},
   "outputs": [],
   "source": [
    "import cppyy"
   ]
  },
  {
   "cell_type": "code",
   "execution_count": 3,
   "metadata": {},
   "outputs": [
    {
     "data": {
      "text/plain": [
       "True"
      ]
     },
     "execution_count": 3,
     "metadata": {},
     "output_type": "execute_result"
    }
   ],
   "source": [
    "cppyy.cppdef(\"\"\"\n",
    "class Integer1 {\n",
    "public:\n",
    "    Integer1(int i) : m_data(i) {}\n",
    "    int m_data;\n",
    "};\"\"\")"
   ]
  },
  {
   "cell_type": "code",
   "execution_count": 4,
   "metadata": {},
   "outputs": [
    {
     "name": "stdout",
     "output_type": "stream",
     "text": [
      "<class cppyy.gbl.Integer1 at 0x000000000C5A05A0>\n"
     ]
    }
   ],
   "source": [
    "print(cppyy.gbl.Integer1)"
   ]
  },
  {
   "cell_type": "code",
   "execution_count": 5,
   "metadata": {},
   "outputs": [
    {
     "name": "stdout",
     "output_type": "stream",
     "text": [
      "Variable has an 'm_data' data member? Yes!\n",
      "Variable is an instance of int? No!\n",
      "Variable is an instance of Integer1? Yes!\n"
     ]
    }
   ],
   "source": [
    "# for convenience, bring Integer1 into __main__\n",
    "from cppyy.gbl import Integer1\n",
    "\n",
    "# create a C++ Integer1 object\n",
    "cpp_int = Integer1(42)\n",
    "\n",
    "# use Python inspection\n",
    "print(\"Variable has an 'm_data' data member?\", hasattr(cpp_int, 'm_data') and 'Yes!' or 'No!')\n",
    "print(\"Variable is an instance of int?\", isinstance(cpp_int, int) and 'Yes!' or 'No!')\n",
    "print(\"Variable is an instance of Integer1?\", isinstance(cpp_int, Integer1) and 'Yes!' or 'No!')"
   ]
  },
  {
   "cell_type": "code",
   "execution_count": 6,
   "metadata": {},
   "outputs": [
    {
     "data": {
      "text/plain": [
       "<class cppyy.gbl.Integer1 at 0x000000000C5A05A0>"
      ]
     },
     "execution_count": 6,
     "metadata": {},
     "output_type": "execute_result"
    }
   ],
   "source": [
    "type(cpp_int)"
   ]
  },
  {
   "cell_type": "code",
   "execution_count": 7,
   "metadata": {},
   "outputs": [
    {
     "name": "stdout",
     "output_type": "stream",
     "text": [
      "<cppyy.gbl.std.vector<Integer1> object at 0x000000000C6F19F0>\n",
      "0 1 2 3 4 5 6 7 8 9 "
     ]
    }
   ],
   "source": [
    "# pull in the STL vector class\n",
    "from cppyy.gbl.std import vector\n",
    "\n",
    "# create a vector of Integer1 objects; note how [] instantiates the template and () instantiates the class\n",
    "v = vector[Integer1]()\n",
    "\n",
    "# populate it\n",
    "v += [Integer1(j) for j in range(10)]\n",
    "\n",
    "# display our vector\n",
    "print(v)\n",
    "\n",
    "# display elements\n",
    "for v_i in v:\n",
    "    print(v_i.m_data ,end = ' ')"
   ]
  },
  {
   "cell_type": "code",
   "execution_count": 1,
   "metadata": {},
   "outputs": [
    {
     "name": "stdout",
     "output_type": "stream",
     "text": [
      "Hello Python!\n",
      "Hello C++!\n"
     ]
    }
   ],
   "source": [
    "import cppyy\n",
    "\n",
    "cppyy.cppdef(\"\"\"\n",
    "using namespace std;\n",
    "string say_hello() {\n",
    "     return \"Hello Python!\";\n",
    "}\n",
    "\"\"\")\n",
    "\n",
    "print(cppyy.gbl.say_hello())\n",
    "\n",
    "print(\"Hello C++!\")"
   ]
  },
  {
   "cell_type": "code",
   "execution_count": null,
   "metadata": {},
   "outputs": [],
   "source": []
  },
  {
   "cell_type": "code",
   "execution_count": null,
   "metadata": {},
   "outputs": [],
   "source": []
  }
 ],
 "metadata": {
  "kernelspec": {
   "display_name": "Python 3",
   "language": "python",
   "name": "python3"
  },
  "language_info": {
   "codemirror_mode": {
    "name": "ipython",
    "version": 3
   },
   "file_extension": ".py",
   "mimetype": "text/x-python",
   "name": "python",
   "nbconvert_exporter": "python",
   "pygments_lexer": "ipython3",
   "version": "3.8.5"
  }
 },
 "nbformat": 4,
 "nbformat_minor": 4
}
