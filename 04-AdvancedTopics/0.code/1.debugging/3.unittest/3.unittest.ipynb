{
 "cells": [
  {
   "cell_type": "code",
   "execution_count": 1,
   "metadata": {},
   "outputs": [],
   "source": [
    "#!/usr/bin/env python\n",
    "# -*- coding: utf-8 -*\n",
    "class Gymatria:\n",
    "\n",
    "    _aleph_beth = None\n",
    "    \n",
    "    def __init__(self,expression:str) -> None:\n",
    "        self._expr = expression\n",
    "        self._expr_value = Gymatria.get_value(expression)\n",
    "    \n",
    "   \n",
    "    @property\n",
    "    def expr_value(self)->int:\n",
    "        return self._expr_value\n",
    "   \n",
    "    @property\n",
    "    def expr(self) -> str:\n",
    "        return self._expr\n",
    "   \n",
    "    @property \n",
    "    def aleph_beth(self):\n",
    "        return Gymatria.get_aleph_beth()\n",
    "    \n",
    "    def __add__(self , other) -> int:\n",
    "        if type(other)== int or type(other)== float:\n",
    "            return self.expr_value + int(other)\n",
    "        return self.expr_value + other.expr_value\n",
    "\n",
    "    def __sub__(self , other) -> int:\n",
    "        if type(other)== int or type(other)== float:\n",
    "            return abs(self.expr_value - int(other))\n",
    "        return abs(self.expr_value - other.expr_value)\n",
    "    \n",
    "    def __mul__(self , other) -> int:\n",
    "        if type(other)== int or type(other)== float:\n",
    "            return abs(self.expr_value * int(other))\n",
    "        return self.expr_value * other.expr_value\n",
    "    \n",
    "    def __str__(self) -> str:\n",
    "        return f\"{self.expr} בגימטריה זה: {self.expr_value}\"\n",
    "    \n",
    "    def __repr__(self) -> str:\n",
    "        return f\"Gymatria({self.expr!r})\"\n",
    "    \n",
    "    def __int__(self) -> int: \n",
    "        return self.expr_value\n",
    "    \n",
    "    def __float__(self) ->float:\n",
    "        return float(self.expr_value)\n",
    "\n",
    "    \n",
    "    \n",
    "    @classmethod\n",
    "    def get_aleph_beth(cls):\n",
    "        if cls._aleph_beth == None:\n",
    "            cls._set_aleph_beth()\n",
    "        return cls.aleph_beth\n",
    "\n",
    "    @classmethod\n",
    "    def get_value(cls,expression:str =None) -> int:\n",
    "        if expression == None:\n",
    "            raise ValueError('invalid type')\n",
    "        aleph_beth = cls.get_aleph_beth()\n",
    "        expr_value = 0\n",
    "        for ot in expression:\n",
    "            if ord('א') <= ord(ot) <= ord('ת'):\n",
    "                expr_value += aleph_beth[ot]\n",
    "        return expr_value\n",
    "        \n",
    "    @classmethod\n",
    "    def ot_sofit(cls, ot: str)-> bool:\n",
    "        cls.otiot_sofiot = ['ץ','ך','ף','ן','ם']\n",
    "        if ot in cls.otiot_sofiot:\n",
    "            return True\n",
    "        return False\n",
    "    \n",
    "    \n",
    "    @classmethod\n",
    "    def _set_aleph_beth(cls) -> None:\n",
    "        ot_num = ord('א')\n",
    "        cls.aleph_beth={}\n",
    "        val = 1\n",
    "        for i in range(27):\n",
    "            cls.aleph_beth[chr(ot_num+i)] = val\n",
    "            if not cls.ot_sofit(chr(ot_num+i)):\n",
    "                if 90 >= val >= 10:\n",
    "                    val+=10\n",
    "                elif val >= 100:\n",
    "                    val+= 100 \n",
    "                else: val+=1"
   ]
  },
  {
   "cell_type": "code",
   "execution_count": 2,
   "metadata": {},
   "outputs": [
    {
     "name": "stdout",
     "output_type": "stream",
     "text": [
      "אבא בגימטריה זה: 4\n",
      "אמא בגימטריה זה: 42\n",
      "אבא+אמא בגימטריה = 46\n",
      "אבא-אמא בגימטריה = 38\n",
      "אבא*אמא בגימטריה = 168\n",
      "7\n",
      "11\n"
     ]
    }
   ],
   "source": [
    "aba = Gymatria('אבא')\n",
    "aima = Gymatria('אמא')\n",
    "print(aba)\n",
    "print(aima)\n",
    "print(f'אבא+אמא בגימטריה = {aima+aba}')\n",
    "print(f'אבא-אמא בגימטריה = {aba-aima}')\n",
    "print(f'אבא*אמא בגימטריה = {aima*aba}')\n",
    "print(aba + 3) \n",
    "print(aba + 7.5) "
   ]
  },
  {
   "cell_type": "code",
   "execution_count": 4,
   "metadata": {},
   "outputs": [],
   "source": [
    "import unittest\n",
    "class TestGymayris(unittest.TestCase):\n",
    "    def test_add(self):\n",
    "        self.assertEqual(Gymatria('אבא')+Gymatria('אמא') , 46)\n",
    "        self.assertEqual(Gymatria('אבא')+Gymatria('fi') , 4)\n",
    "        self.assertEqual(Gymatria('אבא')+Gymatria('אבא') , 8)\n",
    "        self.assertEqual(Gymatria('אבא')+ Gymatria('') , 4)\n",
    "        self.assertEqual( Gymatria('') + Gymatria('') , 0)\n",
    "\n"
   ]
  },
  {
   "cell_type": "markdown",
   "metadata": {},
   "source": [
    "if __name__ == '__main__':\n",
    "    unittest.main()\n",
    "\n",
    "python test_gymatria.py\n"
   ]
  },
  {
   "cell_type": "markdown",
   "metadata": {},
   "source": [
    "python –m unittest test_gymatria.py"
   ]
  },
  {
   "cell_type": "markdown",
   "metadata": {},
   "source": [
    ".\n",
    "<br>\n",
    "\\----------------------------------------------------------------------\n",
    "\n",
    "Ran 1 test in 0.001s\n",
    "\n",
    "OK\n"
   ]
  },
  {
   "cell_type": "code",
   "execution_count": 6,
   "metadata": {},
   "outputs": [],
   "source": [
    "def test_add(self):\n",
    "        self.assertEqual(Gymatria('אבא')+Gymatria('אמא') , 46)\n",
    "        self.assertEqual(Gymatria('אבא')+Gymatria('') , 5) # --> FAIL 4!=5\n",
    "        self.assertEqual(Gymatria('אבא')+Gymatria('אבא') , 8)"
   ]
  },
  {
   "cell_type": "markdown",
   "metadata": {},
   "source": [
    "...g\\3.unittest\\test_gymatria.py\", line 9, in test_add\n",
    "    self.assertEqual(Gymatria('אבא')+ Gymatria('') , 5)\n",
    "AssertionError: 4 != 5\n",
    "\n",
    "\\----------------------------------------------------------------------\n",
    "\n",
    "Ran 1 test in 0.001s\n",
    "\n",
    "FAILED (failures=1)\n"
   ]
  },
  {
   "cell_type": "code",
   "execution_count": 5,
   "metadata": {},
   "outputs": [],
   "source": [
    "class TestGymayris(unittest.TestCase):\n",
    "    def test_add(self):\n",
    "        self.assertEqual(Gymatria('אבא')+Gymatria('אמא') , 46)\n",
    "        self.assertEqual(Gymatria('אבא')+Gymatria('fi') , 4)\n",
    "        self.assertEqual(Gymatria('אבא')+Gymatria('אבא') , 8)\n",
    "        self.assertEqual(Gymatria('אבא')+ Gymatria('') , 4)\n",
    "        self.assertEqual( Gymatria('') + Gymatria('') , 0)\n",
    "\n",
    "    def test_raise(self):\n",
    "        # first way: \n",
    "        self.assertRaises(ValueError , Gymatria.get_value , None)\n",
    "        # second way:\n",
    "        with self.assertRaises(ValueError):\n",
    "            Gymatria.get_value()"
   ]
  },
  {
   "cell_type": "code",
   "execution_count": null,
   "metadata": {},
   "outputs": [],
   "source": [
    "class TestGymayris(unittest.TestCase):\n",
    "    \n",
    "    def setUp(self):\n",
    "        self.aba = Gymatria('אבא')\n",
    "        self.ab = Gymatria('אב')\n",
    "        self.efes = Gymatria('')\n",
    "        self.aima = Gymatria('אמא')\n",
    "        self.df_alef = Gymatria('dfא')\n",
    "    \n",
    "    def tearDown(self):\n",
    "        pass\n",
    "    \n",
    "    \n",
    "    def test_add(self):\n",
    "        self.assertEqual(self.aba + self.aima , 46)\n",
    "        self.assertEqual(self.aba + Gymatria('fi') , 4)\n",
    "        self.assertEqual(self.aba + self.aba , 8)\n",
    "        self.assertEqual(self.aba + self.efes , 4)\n",
    "        self.assertEqual( self.efes + self.efes , 0)\n",
    "        self.assertEqual( self.efes + 10 , 10)\n",
    "    \n",
    "    def test_mul(self):\n",
    "        self.assertEqual(self.aba * self.aima , 42*4)\n",
    "        self.assertEqual(self.aba * Gymatria('fi') , 0)\n",
    "        self.assertEqual(self.aba * self.aba , 16)\n",
    "        self.assertEqual(self.aba * self.efes , 0)\n",
    "        self.assertEqual( self.efes * self.efes , 0)"
   ]
  }
 ],
 "metadata": {
  "kernelspec": {
   "display_name": "Python 3",
   "language": "python",
   "name": "python3"
  },
  "language_info": {
   "codemirror_mode": {
    "name": "ipython",
    "version": 3
   },
   "file_extension": ".py",
   "mimetype": "text/x-python",
   "name": "python",
   "nbconvert_exporter": "python",
   "pygments_lexer": "ipython3",
   "version": "3.8.5"
  }
 },
 "nbformat": 4,
 "nbformat_minor": 2
}
