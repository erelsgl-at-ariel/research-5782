{
 "cells": [
  {
   "cell_type": "code",
   "execution_count": 6,
   "metadata": {},
   "outputs": [],
   "source": [
    "from gymatria import Gymatria"
   ]
  },
  {
   "cell_type": "code",
   "execution_count": 7,
   "metadata": {},
   "outputs": [
    {
     "name": "stdout",
     "output_type": "stream",
     "text": [
      "אבא בגימטריה זה: 4\n",
      "אמא בגימטריה זה: 42\n",
      "אבא+אמא בגימטריה = 46\n",
      "אבא-אמא בגימטריה = 38\n",
      "אבא*אמא בגימטריה = 168\n",
      "7\n",
      "11\n"
     ]
    }
   ],
   "source": [
    "aba = Gymatria('אבא')\n",
    "aima = Gymatria('אמא')\n",
    "print(aba)\n",
    "print(aima)\n",
    "print(f'אבא+אמא בגימטריה = {aima+aba}')\n",
    "print(f'אבא-אמא בגימטריה = {aba-aima}')\n",
    "print(f'אבא*אמא בגימטריה = {aima*aba}')\n",
    "print(aba + 3) \n",
    "print(aba + 7.5) "
   ]
  },
  {
   "cell_type": "code",
   "execution_count": 4,
   "metadata": {},
   "outputs": [],
   "source": [
    "import unittest\n",
    "class TestGymayris(unittest.TestCase):\n",
    "    def test_add(self):\n",
    "        self.assertEqual(Gymatria('אבא')+Gymatria('אמא') , 46)\n",
    "        self.assertEqual(Gymatria('אבא')+Gymatria('fi') , 4)\n",
    "        self.assertEqual(Gymatria('אבא')+Gymatria('אבא') , 8)\n",
    "        self.assertEqual(Gymatria('אבא')+ Gymatria('') , 4)\n",
    "        self.assertEqual( Gymatria('') + Gymatria('') , 0)\n",
    "\n"
   ]
  },
  {
   "cell_type": "markdown",
   "metadata": {},
   "source": [
    "if __name__ == '__main__':\n",
    "    unittest.main()\n",
    "\n",
    "python test_gymatria.py\n"
   ]
  },
  {
   "cell_type": "markdown",
   "metadata": {},
   "source": [
    "python –m unittest test_gymatria.py"
   ]
  },
  {
   "cell_type": "markdown",
   "metadata": {},
   "source": [
    ".\n",
    "<br>\n",
    "\\----------------------------------------------------------------------\n",
    "\n",
    "Ran 1 test in 0.001s\n",
    "\n",
    "OK\n"
   ]
  },
  {
   "cell_type": "code",
   "execution_count": 6,
   "metadata": {},
   "outputs": [],
   "source": [
    "def test_add(self):\n",
    "        self.assertEqual(Gymatria('אבא')+Gymatria('אמא') , 46)\n",
    "        self.assertEqual(Gymatria('אבא')+Gymatria('') , 5) # --> FAIL 4!=5\n",
    "        self.assertEqual(Gymatria('אבא')+Gymatria('אבא') , 8)"
   ]
  },
  {
   "cell_type": "markdown",
   "metadata": {},
   "source": [
    "...g\\3.unittest\\test_gymatria.py\", line 9, in test_add\n",
    "    self.assertEqual(Gymatria('אבא')+ Gymatria('') , 5)\n",
    "AssertionError: 4 != 5\n",
    "\n",
    "\\----------------------------------------------------------------------\n",
    "\n",
    "Ran 1 test in 0.001s\n",
    "\n",
    "FAILED (failures=1)\n"
   ]
  },
  {
   "cell_type": "code",
   "execution_count": 5,
   "metadata": {},
   "outputs": [],
   "source": [
    "class TestGymayris(unittest.TestCase):\n",
    "    def test_add(self):\n",
    "        self.assertEqual(Gymatria('אבא')+Gymatria('אמא') , 46)\n",
    "        self.assertEqual(Gymatria('אבא')+Gymatria('fi') , 4)\n",
    "        self.assertEqual(Gymatria('אבא')+Gymatria('אבא') , 8)\n",
    "        self.assertEqual(Gymatria('אבא')+ Gymatria('') , 4)\n",
    "        self.assertEqual( Gymatria('') + Gymatria('') , 0)\n",
    "\n",
    "    def test_raise(self):\n",
    "        # first way: \n",
    "        self.assertRaises(ValueError , Gymatria.get_value , None)\n",
    "        # second way:\n",
    "        with self.assertRaises(ValueError):\n",
    "            Gymatria.get_value()"
   ]
  },
  {
   "cell_type": "code",
   "execution_count": null,
   "metadata": {},
   "outputs": [],
   "source": [
    "class TestGymayris(unittest.TestCase):\n",
    "    \n",
    "    def setUp(self):\n",
    "        self.aba = Gymatria('אבא')\n",
    "        self.ab = Gymatria('אב')\n",
    "        self.efes = Gymatria('')\n",
    "        self.aima = Gymatria('אמא')\n",
    "        self.df_alef = Gymatria('dfא')\n",
    "    \n",
    "    def tearDown(self):\n",
    "        pass\n",
    "    \n",
    "    \n",
    "    def test_add(self):\n",
    "        self.assertEqual(self.aba + self.aima , 46)\n",
    "        self.assertEqual(self.aba + Gymatria('fi') , 4)\n",
    "        self.assertEqual(self.aba + self.aba , 8)\n",
    "        self.assertEqual(self.aba + self.efes , 4)\n",
    "        self.assertEqual( self.efes + self.efes , 0)\n",
    "        self.assertEqual( self.efes + 10 , 10)\n",
    "    \n",
    "    def test_mul(self):\n",
    "        self.assertEqual(self.aba * self.aima , 42*4)\n",
    "        self.assertEqual(self.aba * Gymatria('fi') , 0)\n",
    "        self.assertEqual(self.aba * self.aba , 16)\n",
    "        self.assertEqual(self.aba * self.efes , 0)\n",
    "        self.assertEqual( self.efes * self.efes , 0)"
   ]
  }
 ],
 "metadata": {
  "kernelspec": {
   "display_name": "Python 3",
   "language": "python",
   "name": "python3"
  },
  "language_info": {
   "codemirror_mode": {
    "name": "ipython",
    "version": 3
   },
   "file_extension": ".py",
   "mimetype": "text/x-python",
   "name": "python",
   "nbconvert_exporter": "python",
   "pygments_lexer": "ipython3",
   "version": "3.10.2"
  }
 },
 "nbformat": 4,
 "nbformat_minor": 2
}
