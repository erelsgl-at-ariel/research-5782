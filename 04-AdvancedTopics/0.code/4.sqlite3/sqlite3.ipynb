{
 "cells": [
  {
   "cell_type": "code",
   "execution_count": 14,
   "metadata": {},
   "outputs": [],
   "source": [
    "import sqlite3\n",
    "# Connect to database\n",
    "db = sqlite3.connect('my_database.db')"
   ]
  },
  {
   "cell_type": "code",
   "execution_count": 15,
   "metadata": {},
   "outputs": [],
   "source": [
    "# Get a cursor:\n",
    "cursor = db.cursor()\n",
    "# Execute a \"create table\" command:\n",
    "cursor.execute('''\n",
    "    CREATE TABLE user(\n",
    "        id INTEGER PRIMARY KEY, \n",
    "        name TEXT,\n",
    "        phone TEXT, \n",
    "        email TEXT unique, \n",
    "        password TEXT)\n",
    "''')\n",
    "db.commit()"
   ]
  },
  {
   "cell_type": "code",
   "execution_count": 16,
   "metadata": {},
   "outputs": [],
   "source": [
    "name1 = 'Tom Pythonovitz'\n",
    "phone1 = '3366858'\n",
    "email1 = 'Tom.Pythonovitz@example.com'\n",
    "# A very secure password\n",
    "password1 = '12345'\n",
    " \n",
    "name2 = 'Tammi Pythonovitz'\n",
    "phone2 = '5557241'\n",
    "email2 = 'Tammi@example.com'\n",
    "password2 = 'TammiLoveTom'\n",
    "\n",
    "name3 = 'George Rustniovsky'\n",
    "phone3 = '33333'\n",
    "email3 = 'GRust@example.com'\n",
    "password3 = 'Rust for ever'"
   ]
  },
  {
   "cell_type": "code",
   "execution_count": 17,
   "metadata": {},
   "outputs": [
    {
     "name": "stdout",
     "output_type": "stream",
     "text": [
      "First user inserted\n",
      "Second user inserted\n"
     ]
    }
   ],
   "source": [
    "# Insert user 1\n",
    "cursor.execute('''INSERT INTO user(name, phone, email, password)\n",
    "                  VALUES(?,?,?,?)''', (name1,phone1, email1, password1))\n",
    "print('First user inserted')\n",
    "# NOTE: The id is set automatically (incrementally)\n",
    " \n",
    "# Insert user 2\n",
    "cursor.execute('''INSERT INTO user(name, phone, email, password)\n",
    "                  VALUES(?,?,?,?)''', (name2,phone2, email2, password2))\n",
    "print('Second user inserted')\n",
    "db.commit()"
   ]
  },
  {
   "cell_type": "code",
   "execution_count": 18,
   "metadata": {},
   "outputs": [
    {
     "name": "stdout",
     "output_type": "stream",
     "text": [
      "Third user inserted\n"
     ]
    }
   ],
   "source": [
    "# Insert user 3\n",
    "cursor.execute('''INSERT INTO user(name, phone, email, password)\n",
    "                  VALUES(:name,:phone, :email, :password)''',\n",
    "                  {'name':name3, 'phone':phone3, 'email':email3, 'password':password3})\n",
    "print('Third user inserted')\n",
    "db.commit()"
   ]
  },
  {
   "cell_type": "code",
   "execution_count": 19,
   "metadata": {},
   "outputs": [
    {
     "name": "stdout",
     "output_type": "stream",
     "text": [
      "Many user inserted\n"
     ]
    }
   ],
   "source": [
    "user = [('Joee Javany', '2222','joo@example.mail','password'),\n",
    "        ('Shirel Cplustik', '3333','cpp@example.mail','cppass'),\n",
    "        ('Adam Kotlinberg', '4444','Adam_Kotlin@example.mail','JustPassword')\n",
    "        ]\n",
    "# Insert many\n",
    "cursor.executemany('''INSERT INTO user(name, phone, email, password)\n",
    "                  VALUES(?,?,?,?)''', user)\n",
    "print('Many user inserted')\n",
    "db.commit()"
   ]
  },
  {
   "cell_type": "code",
   "execution_count": 20,
   "metadata": {},
   "outputs": [
    {
     "name": "stdout",
     "output_type": "stream",
     "text": [
      "(1, 'Tom Pythonovitz', '3366858', 'Tom.Pythonovitz@example.com', '12345')\n",
      "(2, 'Tammi Pythonovitz', '5557241', 'Tammi@example.com', 'TammiLoveTom')\n",
      "(3, 'George Rustniovsky', '33333', 'GRust@example.com', 'Rust for ever')\n",
      "(4, 'Joee Javany', '2222', 'joo@example.mail', 'password')\n",
      "(5, 'Shirel Cplustik', '3333', 'cpp@example.mail', 'cppass')\n",
      "(6, 'Adam Kotlinberg', '4444', 'Adam_Kotlin@example.mail', 'JustPassword')\n"
     ]
    }
   ],
   "source": [
    "\n",
    "cursor.execute('''SELECT * FROM user''')\n",
    "all_rows = cursor.fetchall()\n",
    "for row in all_rows:\n",
    "    print(row)"
   ]
  },
  {
   "cell_type": "code",
   "execution_count": 21,
   "metadata": {},
   "outputs": [
    {
     "name": "stdout",
     "output_type": "stream",
     "text": [
      "Tom Pythonovitz : 12345\n",
      "Tammi Pythonovitz : TammiLoveTom\n",
      "George Rustniovsky : Rust for ever\n",
      "Joee Javany : password\n",
      "Shirel Cplustik : cppass\n",
      "Adam Kotlinberg : JustPassword\n"
     ]
    }
   ],
   "source": [
    "cursor.execute('''SELECT name, password FROM user''')\n",
    "for row in cursor:\n",
    "    print(f'{row[0]} : {row[1]}')"
   ]
  },
  {
   "cell_type": "code",
   "execution_count": 22,
   "metadata": {},
   "outputs": [
    {
     "name": "stdout",
     "output_type": "stream",
     "text": [
      "[('Tom Pythonovitz', 'Tom.Pythonovitz@example.com', '3366858')]\n"
     ]
    }
   ],
   "source": [
    "cursor.execute('''SELECT name, email, phone \n",
    "                FROM user WHERE name=?''',(name1,) )\n",
    "print(cursor.fetchall())"
   ]
  },
  {
   "cell_type": "code",
   "execution_count": 23,
   "metadata": {},
   "outputs": [],
   "source": [
    "# Update user with id 1\n",
    "newphone = '3113093164'\n",
    "userid = 1\n",
    "cursor.execute(\"UPDATE user SET phone = ? WHERE id = ?\", (newphone, userid))\n",
    "# Delete user with id 2\n",
    "delete_userid = 2\n",
    "cursor.execute('''DELETE FROM user WHERE id = ? ''', (delete_userid,))\n",
    "db.commit()"
   ]
  },
  {
   "cell_type": "code",
   "execution_count": 24,
   "metadata": {},
   "outputs": [
    {
     "name": "stdout",
     "output_type": "stream",
     "text": [
      "1 ) Tom Pythonovitz : 3113093164\n",
      "3 ) George Rustniovsky : 33333\n",
      "4 ) Joee Javany : 2222\n",
      "5 ) Shirel Cplustik : 3333\n",
      "6 ) Adam Kotlinberg : 4444\n"
     ]
    }
   ],
   "source": [
    "cursor.execute('''SELECT id, name,phone  FROM user''')\n",
    "for row in cursor:\n",
    "    print(f'{row[0]} ) {row[1]} : {row[2]}')"
   ]
  },
  {
   "cell_type": "code",
   "execution_count": 25,
   "metadata": {},
   "outputs": [
    {
     "name": "stdout",
     "output_type": "stream",
     "text": [
      "1 ) Tom Pythonovitz : 3113093164\n",
      "3 ) George Rustniovsky : 33333\n",
      "4 ) Joee Javany : 2222\n",
      "5 ) Shirel Cplustik : 3333\n",
      "6 ) Adam Kotlinberg : 4444\n"
     ]
    }
   ],
   "source": [
    "cursor.execute('''UPDATE user SET phone = ? WHERE id = ? ''',\n",
    "(\"121212\", userid))\n",
    "# The user's phone is not updated\n",
    "db.rollback()\n",
    "\n",
    "cursor.execute('''SELECT id, name,phone  FROM user''')\n",
    "for row in cursor:\n",
    "    print(f'{row[0]} ) {row[1]} : {row[2]}')"
   ]
  },
  {
   "cell_type": "code",
   "execution_count": 26,
   "metadata": {},
   "outputs": [],
   "source": [
    "# To drop the table:\n",
    "cursor.execute('''\n",
    "    DROP TABLE user\n",
    "''')\n",
    "db.commit()"
   ]
  },
  {
   "cell_type": "code",
   "execution_count": 27,
   "metadata": {},
   "outputs": [],
   "source": [
    "db.close()"
   ]
  },
  {
   "cell_type": "markdown",
   "metadata": {},
   "source": [
    "## Converting Python types to SQL types:\n",
    "\n",
    "•\tNone type is converted to NULL<br>\n",
    "•\tint type is converted to INTEGER<br>\n",
    "•\tfloat type is converted to REAL<br>\n",
    "•\tstr type is converted to TEXT<br>\n",
    "•\tbytes type is converted to BLOB\n"
   ]
  },
  {
   "cell_type": "markdown",
   "metadata": {},
   "source": []
  }
 ],
 "metadata": {
  "kernelspec": {
   "display_name": "Python 3",
   "language": "python",
   "name": "python3"
  },
  "language_info": {
   "codemirror_mode": {
    "name": "ipython",
    "version": 3
   },
   "file_extension": ".py",
   "mimetype": "text/x-python",
   "name": "python",
   "nbconvert_exporter": "python",
   "pygments_lexer": "ipython3",
   "version": "3.10.2"
  },
  "orig_nbformat": 2
 },
 "nbformat": 4,
 "nbformat_minor": 2
}
