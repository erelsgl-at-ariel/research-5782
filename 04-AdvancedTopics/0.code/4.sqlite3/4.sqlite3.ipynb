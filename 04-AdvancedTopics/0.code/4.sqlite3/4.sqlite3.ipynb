{
 "metadata": {
  "language_info": {
   "codemirror_mode": {
    "name": "ipython",
    "version": 3
   },
   "file_extension": ".py",
   "mimetype": "text/x-python",
   "name": "python",
   "nbconvert_exporter": "python",
   "pygments_lexer": "ipython3",
   "version": "3.6.6-final"
  },
  "orig_nbformat": 2,
  "kernelspec": {
   "name": "python3",
   "display_name": "Python 3",
   "language": "python"
  }
 },
 "nbformat": 4,
 "nbformat_minor": 2,
 "cells": [
  {
   "cell_type": "code",
   "execution_count": 1,
   "metadata": {},
   "outputs": [],
   "source": [
    "import sqlite3\n",
    "# Connect to database\n",
    "db = sqlite3.connect('my_database.db')"
   ]
  },
  {
   "cell_type": "code",
   "execution_count": 2,
   "metadata": {},
   "outputs": [],
   "source": [
    "# Get a cursor\n",
    "cursor = db.cursor()\n",
    "\n",
    "cursor.execute('''\n",
    "    CREATE TABLE users(\n",
    "        id INTEGER PRIMARY KEY, \n",
    "        name TEXT,\n",
    "        phone TEXT, \n",
    "        email TEXT unique, \n",
    "        password TEXT)\n",
    "''')\n",
    "db.commit()"
   ]
  },
  {
   "cell_type": "code",
   "execution_count": 3,
   "metadata": {},
   "outputs": [],
   "source": [
    "\n",
    "name1 = 'Tom Pythonovitz'\n",
    "phone1 = '3366858'\n",
    "email1 = 'Tom.Pythonovitz@example.com'\n",
    "# A very secure password\n",
    "password1 = '12345'\n",
    " \n",
    "name2 = 'Tammi Pythonovitz'\n",
    "phone2 = '5557241'\n",
    "email2 = 'Tammi@example.com'\n",
    "password2 = 'TammiLoveTom'\n",
    "\n",
    "name3 = 'George Rustniovsky'\n",
    "phone3 = '33333'\n",
    "email3 = 'GRust@example.com'\n",
    "password3 = 'Rust for ever'"
   ]
  },
  {
   "cell_type": "code",
   "execution_count": 4,
   "metadata": {},
   "outputs": [
    {
     "output_type": "stream",
     "name": "stdout",
     "text": [
      "First user inserted\nSecond user inserted\n"
     ]
    }
   ],
   "source": [
    "# Insert user 1\n",
    "cursor.execute('''INSERT INTO users(name, phone, email, password)\n",
    "                  VALUES(?,?,?,?)''', (name1,phone1, email1, password1))\n",
    "print('First user inserted')\n",
    " \n",
    "# Insert user 2\n",
    "cursor.execute('''INSERT INTO users(name, phone, email, password)\n",
    "                  VALUES(?,?,?,?)''', (name2,phone2, email2, password2))\n",
    "print('Second user inserted')\n",
    "db.commit()"
   ]
  },
  {
   "cell_type": "code",
   "execution_count": 5,
   "metadata": {},
   "outputs": [
    {
     "output_type": "stream",
     "name": "stdout",
     "text": [
      "Third user inserted\n"
     ]
    }
   ],
   "source": [
    "# Insert user 3\n",
    "cursor.execute('''INSERT INTO users(name, phone, email, password)\n",
    "                  VALUES(:name,:phone, :email, :password)''',\n",
    "                  {'name':name3, 'phone':phone3, 'email':email3, 'password':password3})\n",
    "print('Third user inserted')\n",
    "db.commit()"
   ]
  },
  {
   "cell_type": "code",
   "execution_count": 6,
   "metadata": {},
   "outputs": [
    {
     "output_type": "stream",
     "name": "stdout",
     "text": [
      "Many users inserted\n"
     ]
    }
   ],
   "source": [
    "users = [('Joee Javany', '2222','joo@example.mail','password'),\n",
    "        ('Shirel Cplustik', '3333','cpp@example.mail','cppass'),\n",
    "        ('Adam Kotlinernberg', '4444','Adam_Kotlin@example.mail','JustPassword')\n",
    "        ]\n",
    "# Insert many\n",
    "cursor.executemany('''INSERT INTO users(name, phone, email, password)\n",
    "                  VALUES(?,?,?,?)''', users)\n",
    "print('Many users inserted')\n",
    "db.commit()"
   ]
  },
  {
   "cell_type": "code",
   "execution_count": 8,
   "metadata": {},
   "outputs": [
    {
     "output_type": "stream",
     "name": "stdout",
     "text": [
      "Tom Pythonovitz : Tom.Pythonovitz@example.com, 3366858\nTammi Pythonovitz : Tammi@example.com, 5557241\nGeorge Rustniovsky : GRust@example.com, 33333\nJoee Javany : joo@example.mail, 2222\nShirel Cplustik : cpp@example.mail, 3333\nAdam Kotlinernberg : Adam_Kotlin@example.mail, 4444\n"
     ]
    }
   ],
   "source": [
    "\n",
    "cursor.execute('''SELECT name, email, phone FROM users''')\n",
    "all_rows = cursor.fetchall()\n",
    "\n",
    "for row in all_rows:\n",
    "    # row[0] returns the first column in the query (name), row[1] returns email column.\n",
    "    print('{0} : {1}, {2}'.format(row[0], row[1], row[2]))"
   ]
  },
  {
   "cell_type": "code",
   "execution_count": 9,
   "metadata": {},
   "outputs": [
    {
     "output_type": "stream",
     "name": "stdout",
     "text": [
      "Tom Pythonovitz : 12345\nTammi Pythonovitz : TammiLoveTom\nGeorge Rustniovsky : Rust for ever\nJoee Javany : password\nShirel Cplustik : cppass\nAdam Kotlinernberg : JustPassword\n"
     ]
    }
   ],
   "source": [
    "cursor.execute('''SELECT name, password FROM users''')\n",
    "for row in cursor:\n",
    "    print(f'{row[0]} : {row[1]}')"
   ]
  },
  {
   "cell_type": "code",
   "execution_count": 10,
   "metadata": {},
   "outputs": [
    {
     "output_type": "stream",
     "name": "stdout",
     "text": [
      "[('Tom Pythonovitz', 'Tom.Pythonovitz@example.com', '3366858')]\n"
     ]
    }
   ],
   "source": [
    "cursor.execute('''SELECT name, email, phone \n",
    "                FROM users WHERE name=?''',(name1,) )\n",
    "print(cursor.fetchall())"
   ]
  },
  {
   "cell_type": "code",
   "execution_count": 11,
   "metadata": {},
   "outputs": [],
   "source": [
    "# Update user with id 1\n",
    "newphone = '3113093164'\n",
    "userid = 1\n",
    "cursor.execute('''UPDATE users SET phone = ? WHERE id = ? ''',\n",
    " (newphone, userid))\n",
    "# Delete user with id 2\n",
    "delete_userid = 2\n",
    "cursor.execute('''DELETE FROM users WHERE id = ? ''', (delete_userid,))\n",
    "db.commit()"
   ]
  },
  {
   "cell_type": "code",
   "execution_count": 12,
   "metadata": {},
   "outputs": [
    {
     "output_type": "stream",
     "name": "stdout",
     "text": [
      "0 ) Tom Pythonovitz : 3113093164\n1 ) George Rustniovsky : 33333\n2 ) Joee Javany : 2222\n3 ) Shirel Cplustik : 3333\n4 ) Adam Kotlinernberg : 4444\n"
     ]
    }
   ],
   "source": [
    "cursor.execute('''SELECT name,phone  FROM users''')\n",
    "for index ,row in enumerate(cursor):\n",
    "    print(f'{index} ) {row[0]} : {row[1]}')"
   ]
  },
  {
   "cell_type": "code",
   "execution_count": 13,
   "metadata": {},
   "outputs": [],
   "source": [
    "cursor.execute('''UPDATE users SET phone = ? WHERE id = ? ''',\n",
    "(\"121212\", userid))\n",
    "# The user's phone is not updated\n",
    "db.rollback()"
   ]
  },
  {
   "cell_type": "code",
   "execution_count": 14,
   "metadata": {},
   "outputs": [],
   "source": [
    "# To drop the table:\n",
    "cursor.execute('''\n",
    "    DROP TABLE users\n",
    "''')\n",
    "db.commit()"
   ]
  },
  {
   "cell_type": "code",
   "execution_count": 15,
   "metadata": {},
   "outputs": [],
   "source": [
    "db.close()"
   ]
  },
  {
   "source": [
    "•\tNone type is converted to NULL<br>\n",
    "•\tint type is converted to INTEGER<br>\n",
    "•\tfloat type is converted to REAL<br>\n",
    "•\tstr type is converted to TEXT<br>\n",
    "•\tbytes type is converted to BLOB\n"
   ],
   "cell_type": "markdown",
   "metadata": {}
  }
 ]
}