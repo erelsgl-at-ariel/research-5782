{
 "metadata": {
  "language_info": {
   "codemirror_mode": {
    "name": "ipython",
    "version": 3
   },
   "file_extension": ".py",
   "mimetype": "text/x-python",
   "name": "python",
   "nbconvert_exporter": "python",
   "pygments_lexer": "ipython3",
   "version": "3.6.6-final"
  },
  "orig_nbformat": 2,
  "kernelspec": {
   "name": "python3",
   "display_name": "Python 3",
   "language": "python"
  }
 },
 "nbformat": 4,
 "nbformat_minor": 2,
 "cells": [
  {
   "cell_type": "code",
   "execution_count": 3,
   "metadata": {},
   "outputs": [
    {
     "output_type": "stream",
     "name": "stdout",
     "text": [
      "Sleeping 1 sec...\n",
      "Done sleeping\n",
      "Sleeping 1 sec...\n",
      "Done sleeping\n",
      "Finished in 2.0 second(s)\n"
     ]
    }
   ],
   "source": [
    "import time \n",
    "\n",
    "start = time.perf_counter()\n",
    "\n",
    "def do_something():\n",
    "    print('Sleeping 1 sec...')\n",
    "    time.sleep(1)\n",
    "    print('Done sleeping')\n",
    "\n",
    "do_something()\n",
    "do_something()\n",
    "finish = time.perf_counter()\n",
    "print(f'Finished in {round(finish-start,2)} second(s)')"
   ]
  },
  {
   "cell_type": "code",
   "execution_count": 2,
   "metadata": {},
   "outputs": [
    {
     "output_type": "stream",
     "name": "stdout",
     "text": [
      "Sleeping 1.5 sec...\n",
      "Sleeping 1.5 sec...Finished in 0.08 second(s)\n",
      "\n",
      "Done sleeping\n",
      "Done sleeping\n"
     ]
    }
   ],
   "source": [
    "import time\n",
    "import threading \n",
    "\n",
    "start = time.perf_counter()\n",
    "\n",
    "def do_something(time_to_run = 1):\n",
    "    print(f'Sleeping {time_to_run} sec...')\n",
    "    time.sleep(time_to_run)\n",
    "    print('Done sleeping')\n",
    "\n",
    "t1 = threading.Thread(target = do_something ,args = [1.5] )\n",
    "t2 = threading.Thread(target = do_something ,args = [1.5] )\n",
    "t1.start()\n",
    "t2.start()\n",
    "\n",
    "\n",
    "finish = time.perf_counter()\n",
    "print(f'Finished in {round(finish-start,2)} second(s)')"
   ]
  },
  {
   "cell_type": "code",
   "execution_count": 3,
   "metadata": {},
   "outputs": [
    {
     "output_type": "stream",
     "name": "stdout",
     "text": [
      "Sleeping 1.5 sec...Sleeping 1.5 sec...\n",
      "\n",
      "Done sleepingDone sleeping\n",
      "\n",
      "Finished in 1.54 second(s)\n"
     ]
    }
   ],
   "source": [
    "import time\n",
    "import threading \n",
    "\n",
    "start = time.perf_counter()\n",
    "\n",
    "def do_something(time_to_run = 1):\n",
    "    print(f'Sleeping {time_to_run} sec...')\n",
    "    time.sleep(time_to_run)\n",
    "    print('Done sleeping')\n",
    "\n",
    "t1 = threading.Thread(target = do_something ,args = [1.5] )\n",
    "t2 = threading.Thread(target = do_something ,args = [1.5] )\n",
    "t1.start()\n",
    "t2.start()\n",
    "\n",
    "t1.join()\n",
    "t2.join()\n",
    "\n",
    "finish = time.perf_counter()\n",
    "print(f'Finished in {round(finish-start,2)} second(s)')"
   ]
  },
  {
   "cell_type": "code",
   "execution_count": 27,
   "metadata": {},
   "outputs": [
    {
     "output_type": "stream",
     "name": "stdout",
     "text": [
      "Sleeping 1 sec...\n",
      "Sleeping 1 sec...Sleeping 1 sec...\n",
      "\n",
      "Sleeping 1 sec...\n",
      "Sleeping 1 sec...\n",
      "Sleeping 1 sec...Sleeping 1 sec...\n",
      "Sleeping 1 sec...\n",
      "Sleeping 1 sec...\n",
      "Sleeping 1 sec...\n",
      "\n",
      "Done sleeping\n",
      "Done sleepingDone sleeping\n",
      "\n",
      "Done sleeping\n",
      "Done sleeping\n",
      "Done sleepingDone sleeping\n",
      "\n",
      "Done sleeping\n",
      "Done sleeping\n",
      "Done sleeping\n",
      "Finished in 1.12 second(s)\n"
     ]
    }
   ],
   "source": [
    "start = time.perf_counter()\n",
    "threads = []\n",
    "for _ in range(10):\n",
    "    t = threading.Thread(target = do_something ,args = [1] )\n",
    "    t.start()\n",
    "    threads.append(t)\n",
    "for thread in threads:\n",
    "    thread.join()\n",
    "finish = time.perf_counter()\n",
    "print(f'Finished in {round(finish-start,2)} second(s)')"
   ]
  },
  {
   "cell_type": "code",
   "execution_count": 28,
   "metadata": {},
   "outputs": [],
   "source": [
    "def new_do_something(time_to_run):\n",
    "    print(f'Sleeping {time_to_run} sec...')\n",
    "    time.sleep(time_to_run)\n",
    "    return f'Done sleeping for {time_to_run}'"
   ]
  },
  {
   "cell_type": "code",
   "execution_count": 30,
   "metadata": {},
   "outputs": [
    {
     "output_type": "stream",
     "name": "stdout",
     "text": [
      "Sleeping 1 sec...\n",
      "Done sleeping for 1\n",
      "Finished in 1.03 second(s)\n"
     ]
    }
   ],
   "source": [
    "import concurrent.futures\n",
    "import time\n",
    "\n",
    "start = time.perf_counter()\n",
    "\n",
    "with concurrent.futures.ThreadPoolExecutor() as exect:\n",
    "    f1 = exect.submit(new_do_something , 1)\n",
    "    print(f1.result())\n",
    "\n",
    "finish = time.perf_counter()\n",
    "print(f'Finished in {round(finish-start,2)} second(s)')"
   ]
  },
  {
   "cell_type": "code",
   "execution_count": 31,
   "metadata": {},
   "outputs": [
    {
     "output_type": "stream",
     "name": "stdout",
     "text": [
      "Sleeping 1 sec...\n",
      "Sleeping 2 sec...\n",
      "Sleeping 3 sec...Sleeping 4 sec...\n",
      "\n",
      "Sleeping 5 sec...\n",
      "Done sleeping for 1\n",
      "Done sleeping for 2\n",
      "Done sleeping for 3\n",
      "Done sleeping for 4\n",
      "Done sleeping for 5\n",
      "Finished in 5.08 second(s)\n"
     ]
    }
   ],
   "source": [
    "start = time.perf_counter()\n",
    "\n",
    "with concurrent.futures.ThreadPoolExecutor() as exect:\n",
    "    secs = [1,2,3,4,5]\n",
    "    results = [exect.submit(new_do_something , i) for i in secs]\n",
    "    for res in concurrent.futures.as_completed(results):\n",
    "        print(res.result())\n",
    "\n",
    "finish = time.perf_counter()\n",
    "print(f'Finished in {round(finish-start,2)} second(s)')"
   ]
  },
  {
   "cell_type": "code",
   "execution_count": 46,
   "metadata": {},
   "outputs": [
    {
     "output_type": "stream",
     "name": "stderr",
     "text": [
      "17:31:11: Testing update. Starting value is 0.\n",
      "17:31:11: Thread 0: starting update\n",
      "17:31:11: Thread 1: starting update\n",
      "17:31:12: Thread 0: finishing update\n",
      "17:31:12: Thread 1: finishing update\n",
      "17:31:12: Testing update. Ending value is 1.\n"
     ]
    }
   ],
   "source": [
    "import logging\n",
    "import threading\n",
    "import time\n",
    "import concurrent.futures\n",
    "\n",
    "format = \"%(asctime)s: %(message)s\"\n",
    "logging.basicConfig(format=format, level=logging.INFO,datefmt=\"%H:%M:%S\")\n",
    "\n",
    "class FakeDatabase:\n",
    "    def __init__(self):\n",
    "        self.value = 0\n",
    "\n",
    "    def update(self, name):\n",
    "        logging.info(\"Thread %s: starting update\", name)\n",
    "        local_copy = self.value\n",
    "        local_copy += 1\n",
    "        time.sleep(1)\n",
    "        self.value = local_copy\n",
    "        logging.info(\"Thread %s: finishing update\", name)\n",
    "\n",
    "database = FakeDatabase()\n",
    "logging.info(\"Testing update. Starting value is %d.\", database.value)\n",
    "with concurrent.futures.ThreadPoolExecutor(max_workers=2) as executor:\n",
    "    for index in range(2):\n",
    "        executor.submit(database.update, index)\n",
    "logging.info(\"Testing update. Ending value is %d.\", database.value)"
   ]
  },
  {
   "cell_type": "code",
   "execution_count": 57,
   "metadata": {},
   "outputs": [],
   "source": [
    "class FakeDatabase:\n",
    "    def __init__(self):\n",
    "        self.value = 0\n",
    "        self._lock = threading.Lock()\n",
    "\n",
    "    def update(self, name):\n",
    "        logging.info(\"Thread %s: starting update\", name)\n",
    "        local_copy = self.value\n",
    "        local_copy += 1\n",
    "        time.sleep(1)\n",
    "        self.value = local_copy\n",
    "        logging.info(\"Thread %s: finishing update\", name)\n",
    "\n",
    "\n",
    "    def locked_update(self, name):\n",
    "        logging.info(\"Thread %s: starting update\", name)\n",
    "        logging.debug(\"Thread %s about to lock\", name)\n",
    "        with self._lock:\n",
    "            logging.debug(\"Thread %s has lock\", name)\n",
    "            local_copy = self.value\n",
    "            local_copy += 1\n",
    "            time.sleep(0.1)\n",
    "            self.value = local_copy\n",
    "            logging.debug(\"Thread %s about to release lock\", name)\n",
    "        logging.debug(\"Thread %s after release\", name)\n",
    "        logging.info(\"Thread %s: finishing update\", name)\n"
   ]
  },
  {
   "cell_type": "code",
   "execution_count": 58,
   "metadata": {},
   "outputs": [
    {
     "output_type": "stream",
     "name": "stderr",
     "text": [
      "17:36:32: Testing update. Starting value is 0.\n",
      "17:36:32: Thread 0: starting update\n",
      "17:36:32: Thread 1: starting update\n",
      "17:36:32: Thread 0: finishing update\n",
      "17:36:32: Thread 1: finishing update\n",
      "17:36:32: Testing update. Ending value is 2.\n"
     ]
    }
   ],
   "source": [
    "format = \"%(asctime)s: %(message)s\"\n",
    "logging.basicConfig(format=format, level=logging.INFO,datefmt=\"%H:%M:%S\")\n",
    "database = FakeDatabase()\n",
    "logging.info(\"Testing update. Starting value is %d.\", database.value)\n",
    "with concurrent.futures.ThreadPoolExecutor(max_workers=2) as executor:\n",
    "    for index in range(2):\n",
    "        executor.submit(database.locked_update, index)\n",
    "logging.info(\"Testing update. Ending value is %d.\", database.value)"
   ]
  },
  {
   "cell_type": "code",
   "execution_count": null,
   "metadata": {},
   "outputs": [],
   "source": []
  }
 ]
}