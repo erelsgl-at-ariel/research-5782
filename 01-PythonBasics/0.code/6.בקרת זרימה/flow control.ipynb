{
 "metadata": {
  "language_info": {
   "codemirror_mode": {
    "name": "ipython",
    "version": 3
   },
   "file_extension": ".py",
   "mimetype": "text/x-python",
   "name": "python",
   "nbconvert_exporter": "python",
   "pygments_lexer": "ipython3",
   "version": "3.6.6-final"
  },
  "orig_nbformat": 2,
  "kernelspec": {
   "name": "python3",
   "display_name": "Python 3.6.6 64-bit",
   "metadata": {
    "interpreter": {
     "hash": "2e5c6628eef985e7fd2fa2aad22c988c5b8aa1d2648cf9c51c543a2a2637c546"
    }
   }
  }
 },
 "nbformat": 4,
 "nbformat_minor": 2,
 "cells": [
  {
   "source": [
    "__________________________\n",
    "## conditions:\n",
    "\n",
    "conditions in java:\n",
    "<br>\n",
    "```java\n",
    " if (condition1){\n",
    "    Statement1;\n",
    "}\n",
    " else if(condition2){\n",
    "    statment2\n",
    "}\n",
    " else{\n",
    "    StatementDefault;\n",
    "}\n",
    "```\n",
    "\n",
    "conditions in python:\n"
   ],
   "cell_type": "markdown",
   "metadata": {}
  },
  {
   "cell_type": "code",
   "execution_count": 16,
   "metadata": {},
   "outputs": [
    {
     "output_type": "stream",
     "name": "stdout",
     "text": [
      "else:  a is python a is too long\n"
     ]
    }
   ],
   "source": [
    "a = input('What is a? ')\n",
    "# if\n",
    "if len(a) < 5:\n",
    "    print(f'if: a is {a}, and len(a) == {len(a)}')\n",
    "# else if\n",
    "elif len(a) == 5:\n",
    "    print(f'elif: a is {a}, and len(a) == 5')\n",
    "# else\n",
    "else:\n",
    "    print(f'else:  a is {a} a is too long')"
   ]
  },
  {
   "source": [
    "#### syntactic suger\n",
    "```java\n",
    "// bool   true  false\n",
    "condition? yes : no\n",
    "```\n",
    "python:"
   ],
   "cell_type": "markdown",
   "metadata": {}
  },
  {
   "cell_type": "code",
   "execution_count": 17,
   "metadata": {},
   "outputs": [
    {
     "output_type": "stream",
     "name": "stdout",
     "text": [
      "long\n"
     ]
    }
   ],
   "source": [
    "# True        bool           False\n",
    "#  yes        condition      no\n",
    "a = 'long' if len(a) >= 5 else '0'\n",
    "print(a)"
   ]
  },
  {
   "source": [
    "______________\n",
    "## Loops:\n",
    "\n",
    "### while loop:\n",
    "while loop in java:\n",
    "```java\n",
    "while(x>2)\n",
    "{\n",
    " x++;\n",
    "}\n",
    "\n",
    "```\n",
    "in python:"
   ],
   "cell_type": "markdown",
   "metadata": {}
  },
  {
   "cell_type": "code",
   "execution_count": 33,
   "metadata": {},
   "outputs": [
    {
     "output_type": "stream",
     "name": "stdout",
     "text": [
      "end of loop, x is 0\n"
     ]
    }
   ],
   "source": [
    "x = 0\n",
    "while x > 2:\n",
    "    x+=1\n",
    "print(f'end of loop, x is {x}')"
   ]
  },
  {
   "source": [
    "#### else statement: \n",
    "else statement occurs if the loop finish without any interruptions (like breaks)."
   ],
   "cell_type": "markdown",
   "metadata": {}
  },
  {
   "cell_type": "code",
   "execution_count": 34,
   "metadata": {},
   "outputs": [
    {
     "output_type": "stream",
     "name": "stdout",
     "text": [
      "3\n2\n1\nend of loop\nbreak\n"
     ]
    }
   ],
   "source": [
    "# while(true):\n",
    "lst = [1,2,3]\n",
    "while lst: \n",
    "    print(lst.pop(-1))\n",
    "# else statement occurs if the loop finish without interruptions (like breaks):\n",
    "else:\n",
    "    print('end of loop')\n",
    "\n",
    "# or like so: \n",
    "lst_2 = [3,2,1]\n",
    "while lst_2:\n",
    "    elem = lst_2.pop(-1)\n",
    "    if elem == 3:\n",
    "        print('break')\n",
    "        break\n",
    "else:\n",
    "    print('end of loop')"
   ]
  },
  {
   "source": [
    "### for loop:\n",
    "for loop in java: \n",
    "```java\n",
    "for(int i=0; i!=arr.length; ++i)\n",
    "{\n",
    "//code..\n",
    "}\n",
    "```\n",
    "for each in java:\n",
    "```java\n",
    "for(int elem in arr){\n",
    "    //code...\n",
    "}\n",
    "```\n",
    "in python every loop is for each: "
   ],
   "cell_type": "markdown",
   "metadata": {}
  },
  {
   "cell_type": "code",
   "execution_count": 38,
   "metadata": {},
   "outputs": [
    {
     "output_type": "stream",
     "name": "stdout",
     "text": [
      "1\n2\n3\n````````````````\n0\n1\n2\n"
     ]
    }
   ],
   "source": [
    "# for(int elem : arr)\n",
    "arr = [1,2,3]\n",
    "for elem in arr:\n",
    "    print(elem)\n",
    "\n",
    "print('````````````````')\n",
    "\n",
    "# for(int i = 0; i!=arr.length; ++i)\n",
    "for i in range(len(arr)):\n",
    "    print(i)"
   ]
  },
  {
   "cell_type": "code",
   "execution_count": 43,
   "metadata": {},
   "outputs": [
    {
     "output_type": "stream",
     "name": "stdout",
     "text": [
      "0 1 2 3 4 5 6 7 8 9 \n~~~~~~~~~~~\n2 3 4 5 6 7 8 \n~~~~~~~~~~~\n2 4 6 8 "
     ]
    }
   ],
   "source": [
    "for n in range(10): #n=0 -> n=9\n",
    "    print(n , end=' ' )\n",
    "print('\\n~~~~~~~~~~~')\n",
    "for n in range(2,9): #n=2 -> n=8\n",
    "    print(n, end = ' ')\n",
    "print('\\n~~~~~~~~~~~')\n",
    "for n in range(2,10,2): #n=2-> n=8 iff n%2==0\n",
    "    print(n, end = ' ')"
   ]
  },
  {
   "cell_type": "code",
   "execution_count": 56,
   "metadata": {},
   "outputs": [
    {
     "output_type": "stream",
     "name": "stdout",
     "text": [
      "rand =  0.861\n"
     ]
    }
   ],
   "source": [
    "from random import random\n",
    "for i in range(5):\n",
    "    # random() returns a random float number between 0 and 1\n",
    "    rand = random()\n",
    "    if rand > 0.7:\n",
    "        print(f'rand = {rand : .3f}')\n",
    "        break\n",
    "else:\n",
    "    print('end of loop')\n",
    "\n",
    "    "
   ]
  }
 ]
}