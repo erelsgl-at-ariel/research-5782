{
 "cells": [
  {
   "cell_type": "markdown",
   "metadata": {},
   "source": [
    "__________________________\n",
    "## conditions:\n",
    "\n",
    "conditions in java:\n",
    "<br>\n",
    "```java\n",
    " if (condition1){\n",
    "    Statement1;\n",
    "}\n",
    " else if(condition2){\n",
    "    statment2\n",
    "}\n",
    " else{\n",
    "    StatementDefault;\n",
    "}\n",
    "```\n",
    "\n",
    "conditions in python:\n"
   ]
  },
  {
   "cell_type": "code",
   "execution_count": 9,
   "metadata": {},
   "outputs": [
    {
     "name": "stdout",
     "output_type": "stream",
     "text": [
      "elif: a is bbbbb, and len(a) == 5\n"
     ]
    }
   ],
   "source": [
    "a = input('What is a? ')\n",
    "# if\n",
    "if len(a) < 5:\n",
    "    print(f'if: a is {a}, and len(a) == {len(a)}')\n",
    "# else if\n",
    "elif len(a) == 5:\n",
    "    print(f'elif: a is {a}, and len(a) == 5')\n",
    "# else\n",
    "else:\n",
    "    print(f'else:  a is {a} a is too long')"
   ]
  },
  {
   "cell_type": "markdown",
   "metadata": {},
   "source": [
    "#### syntactic sugar\n",
    "```java\n",
    "// bool   true  false\n",
    "condition? yes : no\n",
    "```\n",
    "python:"
   ]
  },
  {
   "cell_type": "code",
   "execution_count": 10,
   "metadata": {},
   "outputs": [
    {
     "name": "stdout",
     "output_type": "stream",
     "text": [
      "LONG\n"
     ]
    }
   ],
   "source": [
    "# True        bool           False\n",
    "#  yes        condition      no\n",
    "a = 'LONG' if len(a) >= 5 else '0'\n",
    "print(a)"
   ]
  },
  {
   "cell_type": "markdown",
   "metadata": {},
   "source": [
    "______________\n",
    "## Loops:\n",
    "\n",
    "### while loop:\n",
    "while loop in java:\n",
    "```java\n",
    "while(x>2)\n",
    "{\n",
    " x++;\n",
    "}\n",
    "\n",
    "```\n",
    "in python:"
   ]
  },
  {
   "cell_type": "code",
   "execution_count": 11,
   "metadata": {},
   "outputs": [
    {
     "name": "stdout",
     "output_type": "stream",
     "text": [
      "end of loop, x is 0\n"
     ]
    }
   ],
   "source": [
    "x = 0\n",
    "while x > 2:\n",
    "    x+=1\n",
    "print(f'end of loop, x is {x}')"
   ]
  },
  {
   "cell_type": "markdown",
   "metadata": {},
   "source": [
    "#### else statement: \n",
    "else statement occurs if the loop finish without any interruptions (like breaks)."
   ]
  },
  {
   "cell_type": "code",
   "execution_count": 12,
   "metadata": {},
   "outputs": [
    {
     "name": "stdout",
     "output_type": "stream",
     "text": [
      "3\n",
      "2\n",
      "1\n",
      "end of loop\n",
      "break\n"
     ]
    }
   ],
   "source": [
    "# while(true):\n",
    "lst = [1,2,3]\n",
    "while lst: \n",
    "    print(lst.pop(-1))\n",
    "# else statement occurs if the loop finish without interruptions (like breaks):\n",
    "else:\n",
    "    print('end of loop')\n",
    "\n",
    "# or like so: \n",
    "lst_2 = [3,2,1]\n",
    "while lst_2:\n",
    "    elem = lst_2.pop(-1)\n",
    "    if elem == 3:\n",
    "        print('break')\n",
    "        break\n",
    "else:\n",
    "    print('end of loop')"
   ]
  },
  {
   "cell_type": "markdown",
   "metadata": {},
   "source": [
    "### for loop:\n",
    "for loop in java: \n",
    "```java\n",
    "for(int i=0; i!=arr.length; ++i)\n",
    "{\n",
    "//code..\n",
    "}\n",
    "```\n",
    "for each in java:\n",
    "```java\n",
    "for(int elem in arr){\n",
    "    //code...\n",
    "}\n",
    "```\n",
    "in python every loop is for each: "
   ]
  },
  {
   "cell_type": "code",
   "execution_count": 5,
   "metadata": {},
   "outputs": [
    {
     "name": "stdout",
     "output_type": "stream",
     "text": [
      "aaa\n",
      "bbb\n",
      "ccc\n"
     ]
    }
   ],
   "source": [
    "# for(int elem : arr)\n",
    "arr = [\"aaa\",\"bbb\",\"ccc\"]\n",
    "for elem in arr:\n",
    "    print(elem)\n"
   ]
  },
  {
   "cell_type": "code",
   "execution_count": 7,
   "metadata": {},
   "outputs": [
    {
     "name": "stdout",
     "output_type": "stream",
     "text": [
      "0 aaa\n",
      "1 bbb\n",
      "2 ccc\n"
     ]
    }
   ],
   "source": [
    "# for(int i = 0; i!=arr.length; ++i)\n",
    "for i in range(len(arr)):\n",
    "    print(i, arr[i])"
   ]
  },
  {
   "cell_type": "code",
   "execution_count": 8,
   "metadata": {},
   "outputs": [
    {
     "name": "stdout",
     "output_type": "stream",
     "text": [
      "0 aaa\n",
      "1 bbb\n",
      "2 ccc\n"
     ]
    }
   ],
   "source": [
    "for i,elem in enumerate(arr):\n",
    "    print(i, arr[i])"
   ]
  },
  {
   "cell_type": "code",
   "execution_count": 13,
   "metadata": {},
   "outputs": [
    {
     "name": "stdout",
     "output_type": "stream",
     "text": [
      "0 1 2 3 4 5 6 7 8 9 \n",
      "~~~~~~~~~~~\n",
      "2 3 4 5 6 7 8 \n",
      "~~~~~~~~~~~\n",
      "2 4 6 8 "
     ]
    }
   ],
   "source": [
    "for n in range(10): #n=0 -> n=9\n",
    "    print(n , end=' ' )\n",
    "print('\\n~~~~~~~~~~~')\n",
    "for n in range(2,9): #n=2 -> n=8\n",
    "    print(n, end = ' ')\n",
    "print('\\n~~~~~~~~~~~')\n",
    "for n in range(2,10,2): #n=2-> n=8 iff n%2==0\n",
    "    print(n, end = ' ')"
   ]
  },
  {
   "cell_type": "code",
   "execution_count": 18,
   "metadata": {},
   "outputs": [
    {
     "name": "stdout",
     "output_type": "stream",
     "text": [
      "end of loop\n"
     ]
    }
   ],
   "source": [
    "from random import random\n",
    "for i in range(5):\n",
    "    # random() returns a random float number between 0 and 1\n",
    "    rand = random()\n",
    "    if rand > 0.7:\n",
    "        print(f'rand = {rand : .3f}')\n",
    "        break\n",
    "else:\n",
    "    print('end of loop')\n",
    "\n",
    "    "
   ]
  },
  {
   "cell_type": "code",
   "execution_count": null,
   "metadata": {},
   "outputs": [],
   "source": []
  }
 ],
 "metadata": {
  "kernelspec": {
   "display_name": "Python 3.6.6 64-bit",
   "metadata": {
    "interpreter": {
     "hash": "2e5c6628eef985e7fd2fa2aad22c988c5b8aa1d2648cf9c51c543a2a2637c546"
    }
   },
   "name": "python3"
  },
  "language_info": {
   "codemirror_mode": {
    "name": "ipython",
    "version": 3
   },
   "file_extension": ".py",
   "mimetype": "text/x-python",
   "name": "python",
   "nbconvert_exporter": "python",
   "pygments_lexer": "ipython3",
   "version": "3.10.2"
  },
  "orig_nbformat": 2
 },
 "nbformat": 4,
 "nbformat_minor": 2
}
