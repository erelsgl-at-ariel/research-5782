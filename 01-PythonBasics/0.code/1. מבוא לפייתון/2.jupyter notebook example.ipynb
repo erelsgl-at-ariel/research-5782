{
 "cells": [
  {
   "cell_type": "markdown",
   "metadata": {},
   "source": [
    "# Introduction\n",
    "\n",
    "To activate this page:\n",
    "\n",
    "1. Install Python;\n",
    "2. Inatall pip (if it is not already installed);\n",
    "3. Install jupyter:  `pip install notebook`\n",
    "4. You can then run:  `jupyter notebook`"
   ]
  },
  {
   "cell_type": "code",
   "execution_count": 1,
   "metadata": {},
   "outputs": [
    {
     "name": "stdout",
     "output_type": "stream",
     "text": [
      "welcome to jupyter notebook\n"
     ]
    }
   ],
   "source": [
    "print('welcome to jupyter notebook')"
   ]
  },
  {
   "cell_type": "markdown",
   "metadata": {},
   "source": [
    "# TITLE\n",
    "## TITLE\n",
    "### TITLE\n",
    "##### TITLE\n",
    "<i>text</i>\n",
    "<br>\n",
    "<b>text bold</b>\n",
    "<div dir = 'rtl'>\n",
    "<h2>\n",
    "כותרת מימין לשמאל\n",
    "</h2>\n",
    "</div>"
   ]
  },
  {
   "cell_type": "code",
   "execution_count": 3,
   "metadata": {},
   "outputs": [
    {
     "name": "stdout",
     "output_type": "stream",
     "text": [
      "1\n"
     ]
    }
   ],
   "source": [
    "test=1\n",
    "print(test)"
   ]
  }
 ],
 "metadata": {
  "kernelspec": {
   "display_name": "Python 3 (ipykernel)",
   "language": "python",
   "name": "python3"
  },
  "language_info": {
   "codemirror_mode": {
    "name": "ipython",
    "version": 3
   },
   "file_extension": ".py",
   "mimetype": "text/x-python",
   "name": "python",
   "nbconvert_exporter": "python",
   "pygments_lexer": "ipython3",
   "version": "3.10.2"
  }
 },
 "nbformat": 4,
 "nbformat_minor": 4
}
