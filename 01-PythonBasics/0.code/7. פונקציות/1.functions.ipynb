{
 "cells": [
  {
   "cell_type": "markdown",
   "metadata": {},
   "source": [
    "## FUNCTIONS:\n",
    "functions in java:\n",
    "<br><br>\n",
    "The function doesn't return value:\n",
    "```java\n",
    "public static void print_upper(String str) \n",
    "{\n",
    " System.out.print(str.toUpperCase());\n",
    "}\n",
    "```\n",
    "The function returns value:\n",
    "```java\n",
    "public static String return_upper(String str) \n",
    "{\n",
    " upper_str= str.toUpperCase();\n",
    "return upper_str;\n",
    "}\n",
    "```\n",
    "\n",
    "Any function in python retrns value:"
   ]
  },
  {
   "cell_type": "code",
   "execution_count": 1,
   "metadata": {},
   "outputs": [
    {
     "name": "stdout",
     "output_type": "stream",
     "text": [
      "WHAT THE FUNCTION RETURNS?\n",
      "WHAT THE FUNCTION RETURNS?\n",
      "None\n"
     ]
    }
   ],
   "source": [
    "# The function returns None\n",
    "def print_upper_str(string):\n",
    "    print(string.upper())\n",
    "\n",
    "# The function returns str\n",
    "def return_upper_str(string):\n",
    "    return string.upper()\n",
    "\n",
    "my_str = 'what the function returns?'\n",
    "\n",
    "print(return_upper_str(my_str))\n",
    "print(print_upper_str(my_str))"
   ]
  },
  {
   "cell_type": "markdown",
   "metadata": {},
   "source": [
    "### Arguments and Parameters:"
   ]
  },
  {
   "cell_type": "code",
   "execution_count": 1,
   "metadata": {},
   "outputs": [
    {
     "name": "stdout",
     "output_type": "stream",
     "text": [
      "A is 12, B is 13, C is 14\n",
      "A is 13, B is 3, C is 22\n"
     ]
    }
   ],
   "source": [
    "# A,B and C are parameters\n",
    "def func(A ,B, C):\n",
    "    print(f'A is {A}, B is {B}, C is {C}')\n",
    "# 12,13 and 14 are arguments\n",
    "func(12 , 13, 14)\n",
    "\n",
    "# default parameters:\n",
    "# 3 is default for B and 14 for C\n",
    "def func2(A ,B = 3, C = 14):\n",
    "    print(f'A is {A}, B is {B}, C is {C}')\n",
    "\n",
    "func2(13,C=22)"
   ]
  },
  {
   "cell_type": "markdown",
   "metadata": {},
   "source": [
    "#### mutable default parameters: \n",
    "The problem:"
   ]
  },
  {
   "cell_type": "code",
   "execution_count": 2,
   "metadata": {},
   "outputs": [
    {
     "name": "stdout",
     "output_type": "stream",
     "text": [
      "['###']\n",
      "['###', '###']\n",
      "['###', '###', '###']\n"
     ]
    }
   ],
   "source": [
    "def stam_list(my_list=[]):\n",
    "    my_list.append('###')\n",
    "    return my_list\n",
    "\n",
    "for i in range(3):\n",
    "    print(stam_list())"
   ]
  },
  {
   "cell_type": "markdown",
   "metadata": {},
   "source": [
    "fix 1:"
   ]
  },
  {
   "cell_type": "code",
   "execution_count": 3,
   "metadata": {},
   "outputs": [
    {
     "name": "stdout",
     "output_type": "stream",
     "text": [
      "['###']\n",
      "['###']\n",
      "['###']\n"
     ]
    }
   ],
   "source": [
    "def stam_list(my_list=None):\n",
    "    if my_list==None:\n",
    "        my_list=[]\n",
    "    my_list.append('###')\n",
    "    return my_list\n",
    "\n",
    "for i in range(3):\n",
    "    print(stam_list())"
   ]
  },
  {
   "cell_type": "markdown",
   "metadata": {},
   "source": [
    "fix 2:"
   ]
  },
  {
   "cell_type": "code",
   "execution_count": 3,
   "metadata": {},
   "outputs": [
    {
     "name": "stdout",
     "output_type": "stream",
     "text": [
      "['###']\n",
      "['###']\n",
      "['###']\n"
     ]
    }
   ],
   "source": [
    "def stam_list(my_list=[]):\n",
    "    my_list = list(my_list)\n",
    "    my_list.append('###')\n",
    "    return my_list\n",
    "\n",
    "for i in range(3):\n",
    "    print(stam_list())"
   ]
  },
  {
   "cell_type": "code",
   "execution_count": 77,
   "metadata": {},
   "outputs": [
    {
     "name": "stdout",
     "output_type": "stream",
     "text": [
      "x = 1\n",
      "y = 2\n",
      "z = 3\n"
     ]
    }
   ],
   "source": [
    "# you can return more than one value: \n",
    "def return_many_values():\n",
    "    return 1,'2',(3)\n",
    "# and you can unpack the return values with many variables:\n",
    "x,y,z = return_many_values()\n",
    "print(f'x = {x}')\n",
    "print(f'y = {y}')\n",
    "print(f'z = {z}')"
   ]
  },
  {
   "cell_type": "markdown",
   "metadata": {},
   "source": [
    "variables scope:"
   ]
  },
  {
   "cell_type": "code",
   "execution_count": 88,
   "metadata": {},
   "outputs": [
    {
     "name": "stdout",
     "output_type": "stream",
     "text": [
      " x is 11, and its id is 1785621856\n",
      " x is 12, and its id is 1785621888\n",
      " x is 10, and its id is 1785621824\n"
     ]
    }
   ],
   "source": [
    "# which x is the one in the function?\n",
    "\n",
    "# global variable x \n",
    "x = 10\n",
    "\n",
    "def f1(x):\n",
    "    # local x\n",
    "    x+=1\n",
    "    print(f\" x is {x}, and its id is {id(x)}\")\n",
    "\n",
    "def f2():\n",
    "    #local x\n",
    "    x = 10\n",
    "    x+=2\n",
    "    print(f\" x is {x}, and its id is {id(x)}\")\n",
    "\n",
    "def f3():\n",
    "    # global x\n",
    "    print(f\" x is {x}, and its id is {id(x)}\")\n",
    "\n",
    "f1(x)\n",
    "f2()\n",
    "f3()\n"
   ]
  },
  {
   "cell_type": "code",
   "execution_count": 4,
   "metadata": {},
   "outputs": [
    {
     "name": "stdout",
     "output_type": "stream",
     "text": [
      "[]\n",
      "[1]\n",
      "[0]\n"
     ]
    }
   ],
   "source": [
    "my_lst =[0]\n",
    "\n",
    "def null_lst(lst):\n",
    "    lst.clear()\n",
    "\n",
    "def add_one_to_lst(lst):\n",
    "    lst.append(1)\n",
    "\n",
    "def change_first_cell(lst, val):\n",
    "    lst[0]=val\n",
    "\n",
    "null_lst(my_lst)\n",
    "print(my_lst)\n",
    "add_one_to_lst(my_lst)\n",
    "print(my_lst)\n",
    "change_first_cell(my_lst,0)\n",
    "print(my_lst)\n"
   ]
  },
  {
   "cell_type": "code",
   "execution_count": 5,
   "metadata": {},
   "outputs": [
    {
     "name": "stdout",
     "output_type": "stream",
     "text": [
      " x is 13, and its id is 9789376\n"
     ]
    }
   ],
   "source": [
    "# using global variables:\n",
    "x = 10\n",
    "def f4():\n",
    "    global x\n",
    "    x += 3\n",
    "    print(f\" x is {x}, and its id is {id(x)}\")\n",
    "f4()"
   ]
  },
  {
   "cell_type": "markdown",
   "metadata": {},
   "source": [
    "### *args and **kwargs:"
   ]
  },
  {
   "cell_type": "code",
   "execution_count": 90,
   "metadata": {},
   "outputs": [
    {
     "name": "stdout",
     "output_type": "stream",
     "text": [
      "56.0\n"
     ]
    }
   ],
   "source": [
    "def avg_3(x,y,z):\n",
    "    return (x+y+z)/3\n",
    "print(avg_3(32,54,82))"
   ]
  },
  {
   "cell_type": "markdown",
   "metadata": {},
   "source": [
    "Q: How can we find an average of an unlimited number of variables? "
   ]
  },
  {
   "cell_type": "code",
   "execution_count": 6,
   "metadata": {},
   "outputs": [
    {
     "name": "stdout",
     "output_type": "stream",
     "text": [
      "55.0\n",
      "55.0\n",
      "55.0\n"
     ]
    }
   ],
   "source": [
    "# option 1: tuple or list: \n",
    "def avg_of_tup(my_tup):\n",
    "    return sum(my_tup)/len(my_tup)\n",
    "\n",
    "my_tup = (32,54,82,52)\n",
    "print(avg_of_tup(my_tup))\n",
    "\n",
    "# option 2 : *args\n",
    "def avg_unlimited(*args):\n",
    "    return sum(args)/len(args)\n",
    "\n",
    "print(avg_unlimited(32,54,82,52))\n",
    "\n",
    "# you can  use '*' to unpack tuple or list:\n",
    "print(avg_unlimited(*my_tup))"
   ]
  },
  {
   "cell_type": "code",
   "execution_count": 5,
   "metadata": {},
   "outputs": [
    {
     "name": "stdout",
     "output_type": "stream",
     "text": [
      "x_1 =  0.8173\n",
      "x_list = [0.9968453283283032, 0.7058641498863686]\n",
      "x_4 =  0.9719\n"
     ]
    }
   ],
   "source": [
    "from random import random\n",
    "\n",
    "# you can also unpack tuple or list to number of variables:\n",
    "list_of_num = [random() for _ in range(4)]\n",
    "x_1, *x_list ,x_4 = list_of_num\n",
    "print(f'x_1 = {x_1: .4f}')\n",
    "print(f'x_list = {x_list}')\n",
    "print(f'x_4 = {x_4 : .4f}') "
   ]
  },
  {
   "cell_type": "markdown",
   "metadata": {},
   "source": [
    "#### **kwargs:"
   ]
  },
  {
   "cell_type": "code",
   "execution_count": 102,
   "metadata": {},
   "outputs": [
    {
     "name": "stdout",
     "output_type": "stream",
     "text": [
      "{'e': 1, 'r': 2, 'j': 3}\n",
      "<class 'dict'>\n",
      "e -> 1\n",
      "r -> 2\n",
      "j -> 3\n"
     ]
    }
   ],
   "source": [
    "# **kwargs is like *args for dictionary\n",
    "def print_key_val(**kwargs):\n",
    "    print(kwargs)\n",
    "    print(type(kwargs))\n",
    "    for key, val in kwargs.items():\n",
    "        print(key, '->', val)\n",
    "\n",
    "print_key_val(e=1, r=2,j=3)"
   ]
  },
  {
   "cell_type": "code",
   "execution_count": 7,
   "metadata": {},
   "outputs": [
    {
     "name": "stdout",
     "output_type": "stream",
     "text": [
      "a = foo\n",
      "b = 25\n",
      "c = qux\n",
      "~~~~~~~~~~~~\n",
      "a = a\n",
      "b = b\n",
      "c = c\n"
     ]
    }
   ],
   "source": [
    "# you can also unpack dict with **kwargs\n",
    "def f(a, b, c):\n",
    "    print(F'a = {a}')\n",
    "    print(F'b = {b}')\n",
    "    print(F'c = {c}')\n",
    "\n",
    "d = {'a': 'foo', 'b': 25, 'c': 'qux'}\n",
    "# using the values\n",
    "f(**d)\n",
    "print('~~~~~~~~~~~~')\n",
    "# using the keys:\n",
    "f(*d)\n"
   ]
  },
  {
   "cell_type": "code",
   "execution_count": 8,
   "metadata": {},
   "outputs": [
    {
     "name": "stdout",
     "output_type": "stream",
     "text": [
      "{'A': 1, 'B': 2, 'C': 3, 'D': 4}\n"
     ]
    }
   ],
   "source": [
    "# unpack several dictionaries into one dictionary\n",
    "my_first_dict = {\"A\": 1, \"B\": 2}\n",
    "my_second_dict = {\"C\": 3, \"D\": 4}\n",
    "my_merged_dict = {**my_first_dict, **my_second_dict}\n",
    "print(my_merged_dict)\n"
   ]
  },
  {
   "cell_type": "code",
   "execution_count": 9,
   "metadata": {},
   "outputs": [
    {
     "name": "stdout",
     "output_type": "stream",
     "text": [
      "<class 'tuple'>, <class 'dict'>\n",
      "((1, 2, 3), {'a': 1, 'b': 2})\n",
      "{}\n",
      "~~~~~~~~~~~~~~~~~~\n",
      "<class 'tuple'>, <class 'dict'>\n",
      "(1, 2, 3, {'a': 1, 'b': 2})\n",
      "{}\n",
      "~~~~~~~~~~~~~~~~~~\n",
      "<class 'tuple'>, <class 'dict'>\n",
      "(1, 2, 3)\n",
      "{'a': 1, 'b': 2}\n",
      "~~~~~~~~~~~~~~~~~~\n",
      "<class 'tuple'>, <class 'dict'>\n",
      "(1, 2, 3, 'a', 'b')\n",
      "{}\n",
      "~~~~~~~~~~~~~~~~~~\n"
     ]
    }
   ],
   "source": [
    "def tup_dict(*tup,**dict):\n",
    "    print(f'{type(tup)}, {type(dict)}')\n",
    "    print(tup)\n",
    "    print(dict)\n",
    "    print('~~~~~~~~~~~~~~~~~~')\n",
    "\n",
    "\n",
    "tup = (1,2,3)\n",
    "dic = {'a':1,'b':2}\n",
    "\n",
    "tup_dict(tup , dic)\n",
    "tup_dict(*tup,dic)\n",
    "tup_dict(*tup,**dic)\n",
    "tup_dict(*tup,*dic)\n",
    "\n"
   ]
  }
 ],
 "metadata": {
  "interpreter": {
   "hash": "31f2aee4e71d21fbe5cf8b01ff0e069b9275f58929596ceb00d14d90e3e16cd6"
  },
  "kernelspec": {
   "display_name": "Python 3.8.10 64-bit",
   "name": "python3"
  },
  "language_info": {
   "codemirror_mode": {
    "name": "ipython",
    "version": 3
   },
   "file_extension": ".py",
   "mimetype": "text/x-python",
   "name": "python",
   "nbconvert_exporter": "python",
   "pygments_lexer": "ipython3",
   "version": "3.8.10"
  },
  "orig_nbformat": 2
 },
 "nbformat": 4,
 "nbformat_minor": 2
}
