{
 "cells": [
  {
   "cell_type": "markdown",
   "metadata": {},
   "source": [
    "## FUNCTIONS:\n",
    "functions in java:\n",
    "<br><br>\n",
    "The function doesn't return value:\n",
    "```java\n",
    "public static void print_upper(String str) \n",
    "{\n",
    " System.out.print(str.toUpperCase());\n",
    "}\n",
    "```\n",
    "The function returns value:\n",
    "```java\n",
    "public static String return_upper(String str) \n",
    "{\n",
    " upper_str= str.toUpperCase();\n",
    "return upper_str;\n",
    "}\n",
    "```\n",
    "\n",
    "Any function in python retrns value:"
   ]
  },
  {
   "cell_type": "code",
   "execution_count": null,
   "metadata": {},
   "outputs": [],
   "source": [
    "# The function returns None\n",
    "def print_upper_str(s):\n",
    "    print(s.upper())\n",
    "\n",
    "# The function returns str\n",
    "def return_upper_str(s):\n",
    "    return s.upper()\n",
    "\n",
    "my_str = 'what the function returns?'\n",
    "\n",
    "print(return_upper_str(my_str))\n",
    "print(print_upper_str(my_str))"
   ]
  },
  {
   "cell_type": "markdown",
   "metadata": {},
   "source": [
    "### Arguments and Parameters:"
   ]
  },
  {
   "cell_type": "code",
   "execution_count": null,
   "metadata": {},
   "outputs": [],
   "source": [
    "# A,B and C are parameters\n",
    "def func(A ,B, C):\n",
    "    print(f'A is {A}, B is {B}, C is {C}')\n",
    "# 12,13 and 14 are arguments\n",
    "func(12 , 13, 14)\n",
    "func(C=14, A=12, B=13) # Readability counts"
   ]
  },
  {
   "cell_type": "code",
   "execution_count": null,
   "metadata": {},
   "outputs": [],
   "source": [
    "# default parameters:\n",
    "# 3 is default for B and 14 for C\n",
    "def func2(A, B = 3, C = 14):\n",
    "    print(f'A is {A}, B is {B}, C is {C}')\n",
    "func2(13,C=22)"
   ]
  },
  {
   "cell_type": "markdown",
   "metadata": {},
   "source": [
    "#### mutable default parameters: \n",
    "The problem:"
   ]
  },
  {
   "cell_type": "code",
   "execution_count": null,
   "metadata": {},
   "outputs": [],
   "source": [
    "def stam_list(my_list=[]):\n",
    "    my_list.append('###')\n",
    "    return my_list\n",
    "\n",
    "for i in range(3):\n",
    "    print(stam_list())"
   ]
  },
  {
   "cell_type": "markdown",
   "metadata": {},
   "source": [
    "fix 1:"
   ]
  },
  {
   "cell_type": "code",
   "execution_count": null,
   "metadata": {},
   "outputs": [],
   "source": [
    "def stam_list(my_list=None):\n",
    "    if my_list==None:\n",
    "        my_list=[]\n",
    "    my_list.append('###')\n",
    "    return my_list\n",
    "\n",
    "for i in range(3):\n",
    "    print(stam_list())"
   ]
  },
  {
   "cell_type": "markdown",
   "metadata": {},
   "source": [
    "fix 2:"
   ]
  },
  {
   "cell_type": "code",
   "execution_count": null,
   "metadata": {},
   "outputs": [],
   "source": [
    "def stam_list(my_list=[]):\n",
    "    my_list = list(my_list)\n",
    "    my_list.append('###')\n",
    "    return my_list\n",
    "\n",
    "for i in range(3):\n",
    "    print(stam_list())"
   ]
  },
  {
   "cell_type": "code",
   "execution_count": null,
   "metadata": {},
   "outputs": [],
   "source": [
    "# you can return more than one value: \n",
    "def return_many_values():\n",
    "    return 1, '2', [3,4]\n",
    "\n",
    "# and you can unpack the return values with many variables:\n",
    "x, y, z = return_many_values()\n",
    "print(f'x = {x}')\n",
    "print(f'y = {y}')\n",
    "print(f'z = {z}')\n",
    "\n",
    "#x, y, z, w = return_many_values() # Error\n",
    "#x, y = return_many_values() # Error"
   ]
  },
  {
   "cell_type": "code",
   "execution_count": null,
   "metadata": {},
   "outputs": [],
   "source": [
    "def null_lst(lst):\n",
    "    lst.clear()\n",
    "\n",
    "def add_one_to_lst(lst):\n",
    "    lst.append(1)\n",
    "\n",
    "def change_first_cell(lst, val):\n",
    "    lst[0]=val\n",
    "\n",
    "my_lst =[1,2,3]\n",
    "print(my_lst)\n",
    "null_lst(my_lst)\n",
    "print(my_lst)\n",
    "add_one_to_lst(my_lst)\n",
    "print(my_lst)\n",
    "add_one_to_lst(my_lst)\n",
    "print(my_lst)\n",
    "change_first_cell(my_lst,0)\n",
    "print(my_lst)\n"
   ]
  },
  {
   "cell_type": "markdown",
   "metadata": {},
   "source": [
    "### *args and **kwargs:"
   ]
  },
  {
   "cell_type": "code",
   "execution_count": null,
   "metadata": {},
   "outputs": [],
   "source": [
    "def avg_3(x,y,z):\n",
    "    return (x+y+z)/3\n",
    "print(avg_3(32,54,82))"
   ]
  },
  {
   "cell_type": "markdown",
   "metadata": {},
   "source": [
    "Q: How can we find an average of an unlimited number of variables? "
   ]
  },
  {
   "cell_type": "code",
   "execution_count": null,
   "metadata": {},
   "outputs": [],
   "source": [
    "# option 1: tuple or list: \n",
    "def avg_of_tup(my_tup):\n",
    "    return sum(my_tup)/len(my_tup)\n",
    "\n",
    "my_tup = (32,54,82,52)\n",
    "print(avg_of_tup(my_tup))"
   ]
  },
  {
   "cell_type": "code",
   "execution_count": null,
   "metadata": {},
   "outputs": [],
   "source": [
    "\n",
    "# option 2 : *args\n",
    "def avg_unlimited(*args):\n",
    "    return sum(args)/len(args)\n",
    "\n",
    "print(avg_unlimited(32,54,82,52))\n",
    "\n",
    "# you can  use '*' to unpack tuple or list:\n",
    "my_tup = (32,54,82,52)\n",
    "print(avg_unlimited(*my_tup))"
   ]
  },
  {
   "cell_type": "markdown",
   "metadata": {},
   "source": [
    "#### **kwargs:"
   ]
  },
  {
   "cell_type": "code",
   "execution_count": null,
   "metadata": {},
   "outputs": [],
   "source": [
    "# **kwargs is like *args for dictionary\n",
    "def print_key_val(**kwargs):\n",
    "    print(kwargs)\n",
    "    print(type(kwargs))\n",
    "    for key, val in kwargs.items():\n",
    "        print(key, '->', val)\n",
    "\n",
    "print_key_val(e=1, r=2, j=3)"
   ]
  },
  {
   "cell_type": "code",
   "execution_count": null,
   "metadata": {},
   "outputs": [],
   "source": [
    "# you can also unpack dict with **kwargs\n",
    "def f(a, b, c):\n",
    "    print(f'a = {a}')\n",
    "    print(f'b = {b}')\n",
    "    print(f'c = {c}')\n",
    "\n",
    "d = {'a': 'foo', 'b': 25, 'c': 'qux'}\n",
    "# using the values\n",
    "f(**d)"
   ]
  },
  {
   "cell_type": "code",
   "execution_count": null,
   "metadata": {},
   "outputs": [],
   "source": [
    "# unpack several dictionaries into one dictionary\n",
    "my_first_dict = {\"A\": 1, \"B\": 2, \"C\":3}\n",
    "my_second_dict = {\"C\":4, \"D\": 5, \"E\":6}\n",
    "my_merged_dict = {**my_first_dict, **my_second_dict}\n",
    "print(my_merged_dict)\n"
   ]
  },
  {
   "cell_type": "code",
   "execution_count": null,
   "metadata": {},
   "outputs": [],
   "source": [
    "# def tup_dict(*tup,**dict):\n",
    "#     print(f'{type(tup)}, {type(dict)}')\n",
    "#     print(tup)\n",
    "#     print(dict)\n",
    "#     print('~~~~~~~~~~~~~~~~~~')\n",
    "\n",
    "\n",
    "# tup = (1,2,3)\n",
    "# dic = {'a':1,'b':2}\n",
    "\n",
    "# tup_dict(tup, dic)\n",
    "# tup_dict(*tup, dic)\n",
    "# tup_dict(*tup, **dic)\n",
    "# tup_dict(*tup, *dic)"
   ]
  }
 ],
 "metadata": {
  "interpreter": {
   "hash": "31f2aee4e71d21fbe5cf8b01ff0e069b9275f58929596ceb00d14d90e3e16cd6"
  },
  "kernelspec": {
   "display_name": "Python 3.8.10 64-bit",
   "name": "python3"
  },
  "language_info": {
   "codemirror_mode": {
    "name": "ipython",
    "version": 3
   },
   "file_extension": ".py",
   "mimetype": "text/x-python",
   "name": "python",
   "nbconvert_exporter": "python",
   "pygments_lexer": "ipython3",
   "version": "3.10.2"
  },
  "orig_nbformat": 2
 },
 "nbformat": 4,
 "nbformat_minor": 2
}
