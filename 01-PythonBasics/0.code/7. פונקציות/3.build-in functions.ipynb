{
 "metadata": {
  "language_info": {
   "codemirror_mode": {
    "name": "ipython",
    "version": 3
   },
   "file_extension": ".py",
   "mimetype": "text/x-python",
   "name": "python",
   "nbconvert_exporter": "python",
   "pygments_lexer": "ipython3",
   "version": "3.6.6-final"
  },
  "orig_nbformat": 2,
  "kernelspec": {
   "name": "python3",
   "display_name": "Python 3.6.6 64-bit",
   "metadata": {
    "interpreter": {
     "hash": "2e5c6628eef985e7fd2fa2aad22c988c5b8aa1d2648cf9c51c543a2a2637c546"
    }
   }
  }
 },
 "nbformat": 4,
 "nbformat_minor": 2,
 "cells": [
  {
   "source": [
    "## Build in functions:\n",
    "\n",
    "### input & output:"
   ],
   "cell_type": "markdown",
   "metadata": {}
  },
  {
   "cell_type": "code",
   "execution_count": 4,
   "metadata": {},
   "outputs": [
    {
     "output_type": "stream",
     "name": "stdout",
     "text": [
      "print(value, ..., sep=' ', end='\\n', file=sys.stdout, flush=False)\n\nPrints the values to a stream, or to sys.stdout by default.\nOptional keyword arguments:\nfile:  a file-like object (stream); defaults to the current sys.stdout.\nsep:   string inserted between values, default a space.\nend:   string appended after the last value, default a newline.\nflush: whether to forcibly flush the stream.\n"
     ]
    }
   ],
   "source": [
    "# print function:\n",
    "print(print.__doc__)"
   ]
  },
  {
   "cell_type": "code",
   "execution_count": 11,
   "metadata": {},
   "outputs": [
    {
     "output_type": "stream",
     "name": "stdout",
     "text": [
      "HELLO-WORLD\nHELLO_WORD\n"
     ]
    }
   ],
   "source": [
    "# end  param:\n",
    "hello_world = ['H','E','L','L','O','-','W','O','R','L','D']\n",
    "for char in hello_world:\n",
    "    print(char,end =\"\")\n",
    "else: \n",
    "    print('')\n",
    "# sep param: \n",
    "print('HELLO', 'WORD',sep='_')\n"
   ]
  },
  {
   "cell_type": "code",
   "execution_count": 14,
   "metadata": {},
   "outputs": [
    {
     "output_type": "stream",
     "name": "stdout",
     "text": [
      "Forward raw_input to frontends\n\n        Raises\n        ------\n        StdinNotImplentedError if active frontend doesn't support stdin.\n        \n"
     ]
    }
   ],
   "source": [
    "# input\n",
    "print(input.__doc__)"
   ]
  },
  {
   "cell_type": "code",
   "execution_count": 16,
   "metadata": {},
   "outputs": [
    {
     "output_type": "stream",
     "name": "stdout",
     "text": [
      "The value is:  Hello World\n"
     ]
    }
   ],
   "source": [
    "x= input(\"Enter your value: \")\n",
    "print('The value is: ',x)"
   ]
  },
  {
   "source": [
    "____________\n",
    "### Casting:"
   ],
   "cell_type": "markdown",
   "metadata": {}
  },
  {
   "cell_type": "code",
   "execution_count": 20,
   "metadata": {},
   "outputs": [
    {
     "output_type": "stream",
     "name": "stdout",
     "text": [
      "pi  3.1415926\nint_pi  3\nfloat_pi  3.1415926\ncomplex_pi  (3.1415926+0j)\nthis is str(pi): 3.1415926\n"
     ]
    }
   ],
   "source": [
    "# int:\n",
    "pi = 3.1415926\n",
    "int_pi = int(pi)\n",
    "float_pi = float(pi)\n",
    "complex_pi = complex(pi)\n",
    "str_pi = 'this is str(pi): ' + str(pi)\n",
    "print('pi ' , pi)\n",
    "print('int_pi ',int_pi)\n",
    "print('float_pi ',float_pi )\n",
    "print('complex_pi ', complex_pi)\n",
    "print(str_pi)"
   ]
  },
  {
   "cell_type": "code",
   "execution_count": 24,
   "metadata": {},
   "outputs": [
    {
     "output_type": "stream",
     "name": "stdout",
     "text": [
      "π² =  9.869208227676161\n"
     ]
    }
   ],
   "source": [
    "# string => number\n",
    "pi_str = '3.1415296'\n",
    "print('π² = ',float(pi_str)**2)"
   ]
  },
  {
   "cell_type": "code",
   "execution_count": 25,
   "metadata": {},
   "outputs": [
    {
     "output_type": "stream",
     "name": "stdout",
     "text": [
      "97\na\n"
     ]
    }
   ],
   "source": [
    "# ascii and unicode funcions:\n",
    "print(ord('a')) # numeric value of a in the ascii code table\n",
    "print(chr(97)) # the character number 97 in the ascii table"
   ]
  },
  {
   "cell_type": "code",
   "execution_count": 28,
   "metadata": {},
   "outputs": [
    {
     "output_type": "stream",
     "name": "stdout",
     "text": [
      "fishermen love fish ??\nfish love fishermen ??\n"
     ]
    }
   ],
   "source": [
    "# format function: \n",
    "print(\"{0} love {1} ??\".format(\"fishermen\" ,\"fish\"))\n",
    "print(\"{1} love {0} ??\".format(\"fishermen\" ,\"fish\"))"
   ]
  },
  {
   "cell_type": "code",
   "execution_count": 29,
   "metadata": {},
   "outputs": [
    {
     "output_type": "stream",
     "name": "stdout",
     "text": [
      "Where nothing goes right just go left\nWhere nothing goes left just go right\n"
     ]
    }
   ],
   "source": [
    "# string template: \n",
    "string = \"Where nothing goes {} just go {}\"\n",
    "print(string.format(\"right\",\"left\"))\n",
    "print(string.format(\"left\",\"right\"))\n",
    "\n"
   ]
  },
  {
   "cell_type": "code",
   "execution_count": 30,
   "metadata": {},
   "outputs": [
    {
     "output_type": "stream",
     "name": "stdout",
     "text": [
      "4,000,000\n100\n40.000000%\n4.000000e+00\n4.44\n"
     ]
    }
   ],
   "source": [
    "comma_format = format(4000000, ',')\n",
    "binary_format= format(4,'b')\n",
    "precentage_format = format(0.4,'%')\n",
    "scientific_format = format(4,'e')\n",
    "fix_point= format(4.44444,'.2f')\n",
    "\n",
    "print(comma_format)\n",
    "print(binary_format)\n",
    "print(precentage_format)\n",
    "print(scientific_format)\n",
    "print(fix_point)"
   ]
  },
  {
   "source": [
    "[more about format function](https://www.w3schools.com/python/ref_func_format.asp)"
   ],
   "cell_type": "markdown",
   "metadata": {}
  },
  {
   "source": [
    "_____________________\n",
    "### Math functions:"
   ],
   "cell_type": "markdown",
   "metadata": {}
  },
  {
   "cell_type": "code",
   "execution_count": 33,
   "metadata": {},
   "outputs": [
    {
     "output_type": "stream",
     "name": "stdout",
     "text": [
      "(0, 5)\n(2, 0)\n(1, 1)\n"
     ]
    }
   ],
   "source": [
    "#divmod returns the tuple (x//y, x%y).  Invariant: div*y + mod == x.\n",
    "print(divmod(5,6)) # => 5/6 → 0 + 5/6 = (0 , 5)\n",
    "print(divmod(4,2)) # => 4/2 → 2 + 0/2 = (2 , 0)\n",
    "print(divmod(10,9)) #=> 10/9 → 1 + 1/9= (1 , 1)"
   ]
  },
  {
   "cell_type": "code",
   "execution_count": 37,
   "metadata": {},
   "outputs": [
    {
     "output_type": "stream",
     "name": "stdout",
     "text": [
      "1\n"
     ]
    }
   ],
   "source": [
    "# pow() is equivalent to x**y (with two arguments) or x**y % z (with three arguments)\n",
    "\n",
    "print(pow(2,4,15)) #=> 2^4%15 = 16%15 → 16/15 = 1 + 1/16 → 1 "
   ]
  },
  {
   "cell_type": "code",
   "execution_count": 39,
   "metadata": {},
   "outputs": [
    {
     "output_type": "stream",
     "name": "stdout",
     "text": [
      "1\n"
     ]
    }
   ],
   "source": [
    "# abs returns the absolute value of the argument\n",
    "print(abs(-1))"
   ]
  },
  {
   "source": [
    "_____________________\n",
    "### Collections functions"
   ],
   "cell_type": "markdown",
   "metadata": {}
  },
  {
   "cell_type": "code",
   "execution_count": 46,
   "metadata": {},
   "outputs": [
    {
     "output_type": "stream",
     "name": "stdout",
     "text": [
      "range(0, 12)\n4 3 2 1 "
     ]
    }
   ],
   "source": [
    "# range returns an object that produces a sequence of integers from start (inclusive)\n",
    "# range(i, j) produces i, i+1, i+2, ..., j-1.\n",
    "# range(i) produces 0, 1, 2, ... ,i.\n",
    "\n",
    "print(range(12))\n",
    "for i in range(4,0,-1):\n",
    "    print(i , end=' ')"
   ]
  },
  {
   "cell_type": "code",
   "execution_count": 89,
   "metadata": {},
   "outputs": [
    {
     "output_type": "stream",
     "name": "stdout",
     "text": [
      "[0.622, 0.905, 0.559, 0.944, 0.889]\n0.944\n0.559\nTrue\nTrue\n"
     ]
    }
   ],
   "source": [
    "from random import random\n",
    "num_lst = [float(format(random(),'.3f')) for _ in range(5)]\n",
    "\n",
    "print(num_lst)\n",
    "\n",
    "# max() = the maximum value of the collection\n",
    "print(max(num_lst))\n",
    "\n",
    "# min() = the minimum value of the collection\n",
    "print(min(num_lst))\n",
    "\n",
    "# all() returns if all the values of the collection are True\n",
    "print(all(num_lst))\n",
    "\n",
    "# any() - returns if at least one of the elemnt is True\n",
    "print(any(num_lst))"
   ]
  },
  {
   "cell_type": "code",
   "execution_count": 61,
   "metadata": {},
   "outputs": [
    {
     "output_type": "stream",
     "name": "stdout",
     "text": [
      "Sory can not do\n"
     ]
    }
   ],
   "source": [
    "friends_cuple = { \"Chandler\", \"Monica\"}\n",
    "frozenset_friends_cuple = frozenset(friend_cuple)\n",
    "try: \n",
    "    frozenset_friends_cuple.add('Richard')\n",
    "except AttributeError:\n",
    "    print('Sory can not do')"
   ]
  },
  {
   "cell_type": "code",
   "execution_count": 62,
   "metadata": {},
   "outputs": [
    {
     "output_type": "stream",
     "name": "stdout",
     "text": [
      "(('Joey', 'Rachel'), ('Chandler', 'Monica'), (' Ross', 'Phoebe'))\n"
     ]
    }
   ],
   "source": [
    "# zip function:\n",
    "friends_boys = [\"Joey\", \"Chandler\", \" Ross\"]\n",
    "friends_girls = {\"Rachel\", \"Phoebe\", \"Monica\"}\n",
    "friends_zone = zip(friend_boys,friend_girls)\n",
    "print(tuple(friends_zone))"
   ]
  },
  {
   "cell_type": "code",
   "execution_count": 64,
   "metadata": {},
   "outputs": [
    {
     "output_type": "execute_result",
     "data": {
      "text/plain": [
       "['Rachel', 'Monica', 'Chandler']"
      ]
     },
     "metadata": {},
     "execution_count": 64
    }
   ],
   "source": [
    "# slice() creates a slice object.  This is used for extended slicing (e.g. a[0:10:2]).\n",
    "friends = [\"Rachel\", \"Phoebe\", \"Monica\",\"Joey\", \"Chandler\", \" Ross\"]\n",
    "every_even_elem = slice(0,len(friends),2)\n",
    "friends[every_second_elem]"
   ]
  },
  {
   "source": [
    "#### map() and filter(): "
   ],
   "cell_type": "markdown",
   "metadata": {}
  },
  {
   "cell_type": "code",
   "execution_count": 77,
   "metadata": {},
   "outputs": [
    {
     "output_type": "stream",
     "name": "stdout",
     "text": [
      "upper_fruits is <map object at 0x000000000860D588>\n['APPLE', 'BANANA', 'PEAR', 'APRICOT', 'ORANGE']\n498 577 392 722 604 "
     ]
    }
   ],
   "source": [
    "#map:\n",
    "# map(fanc , *collection)\n",
    "# The map function makes an iterator that computes the function using arguments from each of the iterables.  Stops when the shortest iterable is exhausted.\n",
    "fruits = [\"Apple\", \"Banana\", \"Pear\", \"Apricot\", \"Orange\"]\n",
    "# returns the upper str for each str in fruits:\n",
    "upper_fruits = map(str.upper,fruits)\n",
    "print(f'upper_fruits is {upper_fruits}')\n",
    "print(list(upper_fruits))\n",
    "\n",
    "\n",
    "def numerial_value(string:str) -> int:\n",
    "    ''' returns the sum of the ascii charcter numeric value\n",
    "    of a object'''\n",
    "    res = 0\n",
    "    for char in string:\n",
    "        res += ord(char)\n",
    "    return res\n",
    "# evaluate the numeric value of each fruit in fruits\n",
    "fruits_numerical_value = map(numerial_value, fruits)\n",
    "\n",
    "for num in fruits_numerical_value:\n",
    "    print(num,end = ' ')"
   ]
  },
  {
   "cell_type": "code",
   "execution_count": 81,
   "metadata": {},
   "outputs": [
    {
     "output_type": "stream",
     "name": "stdout",
     "text": [
      "a_fruits is: <filter object at 0x0000000008CDFB38>\nApple Apricot "
     ]
    }
   ],
   "source": [
    "# filter function:\n",
    "# Return an iterator yielding those items of iterable for which function(item) is true. \n",
    "# If function is None, return the items that are true.\n",
    "\n",
    "fruits = [\"Apple\", \"Banana\", \"Pear\", \"Apricot\", \"Orange\"]\n",
    "a_fruits = filter(lambda string: string[0].upper() == 'A' , fruits)\n",
    "print(f'a_fruits is: {a_fruits}')\n",
    "for fruit in a_fruits:\n",
    "    print(fruit , end= ' ')"
   ]
  },
  {
   "cell_type": "code",
   "execution_count": 95,
   "metadata": {},
   "outputs": [
    {
     "output_type": "stream",
     "name": "stdout",
     "text": [
      "fela"
     ]
    }
   ],
   "source": [
    "# reversed()\n",
    "# Return a reverse iterator\n",
    "alef = 'alef'\n",
    "fela = reversed(alef)\n",
    "for char in fela:\n",
    "    print(char, end = '')\n"
   ]
  },
  {
   "source": [
    "_____________________\n",
    "### Useful Functions:\n"
   ],
   "cell_type": "markdown",
   "metadata": {}
  },
  {
   "cell_type": "code",
   "execution_count": 97,
   "metadata": {},
   "outputs": [
    {
     "output_type": "stream",
     "name": "stdout",
     "text": [
      "I was evaluated!!\n"
     ]
    }
   ],
   "source": [
    "# eval()\n",
    "# Evaluate the given source in the context of globals and locals.\n",
    "# The source may be a string representing a Python expression\n",
    "string = 'print(\"I was evaluated!!\")'\n",
    "eval(string)"
   ]
  },
  {
   "cell_type": "code",
   "execution_count": 103,
   "metadata": {},
   "outputs": [
    {
     "output_type": "stream",
     "name": "stdout",
     "text": [
      "Tom Pythonovitz\n"
     ]
    }
   ],
   "source": [
    "# exec()\n",
    "# Execute the given source in the context of globals and locals.\n",
    "# The source may be a string representing one or more Python statements\n",
    "# or a code object as returned by compile()\n",
    "# Unlike eval() ,exec() can evaluate a block of code\n",
    "\n",
    "string = 'name = \"Tom\"\\nlast_name = \"Pythonovitz\"\\nprint(name+\" \"+last_name)\\n'\n",
    "exec(string)"
   ]
  },
  {
   "cell_type": "code",
   "execution_count": 134,
   "metadata": {},
   "outputs": [
    {
     "output_type": "stream",
     "name": "stdout",
     "text": [
      "{'not_an_attr': 'not an attribute', 'attr_1': 'This is attr_1', 'self': <__main__.Fake_Object object at 0x0000000008829F60>}\n~~~~~~\n{'attr_1': 'This is attr_1', 'attr_2': 'attr_2'}\nTrue\nThis is attr_1\n"
     ]
    }
   ],
   "source": [
    "# locals()\n",
    "# Return a dictionary containing the current scope's local variables.\n",
    "\n",
    "# vars()\n",
    "# Without arguments, equivalent to locals().\n",
    "# With an argument, equivalent to object.__dict__. \n",
    "\n",
    "\n",
    "# hasattr()\n",
    "# Return whether the object has an attribute with the given name.\n",
    "\n",
    "# getattr()\n",
    "# Get a named attribute from an object; getattr(x, 'y') is equivalent to x.y.\n",
    "# When a default argument is given, it is returned when the attribute doesn't exist; without it, an exception is raised in that case.\n",
    "\n",
    "\n",
    "class Fake_Object:\n",
    "    ''' This is an empty object '''\n",
    "    # Constructor\n",
    "    def __init__(self,attr_1 = None):\n",
    "        self.attr_1 = attr_1\n",
    "        self.attr_2 = 'attr_2'\n",
    "        not_an_attr = 'not an attribute'\n",
    "        # prints local attributes\n",
    "        print(locals())\n",
    "\n",
    "\n",
    "f_o = Fake_Object(attr_1='This is attr_1')\n",
    "print('~~~~~~')\n",
    "print(vars(f_o))\n",
    "print(hasattr(f_o,'attr_1'))\n",
    "print(getattr(f_o, 'attr_1'))"
   ]
  },
  {
   "source": [
    "### help() function:\n",
    "Calling help() at the Python prompt starts an interactive help session.\n",
    "\n",
    "Calling help(thing) prints help for the python object 'thing'."
   ],
   "cell_type": "markdown",
   "metadata": {}
  },
  {
   "cell_type": "code",
   "execution_count": 141,
   "metadata": {},
   "outputs": [
    {
     "output_type": "stream",
     "name": "stdout",
     "text": [
      "Help on built-in function print in module builtins:\n\nprint(...)\n    print(value, ..., sep=' ', end='\\n', file=sys.stdout, flush=False)\n    \n    Prints the values to a stream, or to sys.stdout by default.\n    Optional keyword arguments:\n    file:  a file-like object (stream); defaults to the current sys.stdout.\n    sep:   string inserted between values, default a space.\n    end:   string appended after the last value, default a newline.\n    flush: whether to forcibly flush the stream.\n\n"
     ]
    }
   ],
   "source": [
    "help(print)"
   ]
  },
  {
   "cell_type": "code",
   "execution_count": 142,
   "metadata": {},
   "outputs": [
    {
     "output_type": "stream",
     "name": "stdout",
     "text": [
      "Help on class object in module builtins:\n\nclass object\n |  The most base type\n\n"
     ]
    }
   ],
   "source": [
    "help(object)"
   ]
  },
  {
   "cell_type": "code",
   "execution_count": 143,
   "metadata": {},
   "outputs": [
    {
     "output_type": "stream",
     "name": "stdout",
     "text": [
      "Help on _Helper in module _sitebuiltins object:\n\nclass _Helper(builtins.object)\n |  Define the builtin 'help'.\n |  \n |  This is a wrapper around pydoc.help that provides a helpful message\n |  when 'help' is typed at the Python interactive prompt.\n |  \n |  Calling help() at the Python prompt starts an interactive help session.\n |  Calling help(thing) prints help for the python object 'thing'.\n |  \n |  Methods defined here:\n |  \n |  __call__(self, *args, **kwds)\n |      Call self as a function.\n |  \n |  __repr__(self)\n |      Return repr(self).\n |  \n |  ----------------------------------------------------------------------\n |  Data descriptors defined here:\n |  \n |  __dict__\n |      dictionary for instance variables (if defined)\n |  \n |  __weakref__\n |      list of weak references to the object (if defined)\n\n"
     ]
    }
   ],
   "source": [
    "help(help)"
   ]
  }
 ]
}