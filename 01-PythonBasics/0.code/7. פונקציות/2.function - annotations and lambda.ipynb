{
 "cells": [
  {
   "cell_type": "markdown",
   "metadata": {},
   "source": [
    "## FUNCTION part2:\n",
    "### annotations:"
   ]
  },
  {
   "cell_type": "code",
   "execution_count": 2,
   "metadata": {},
   "outputs": [],
   "source": [
    "# a little problem- how to know what type of variables to send as argument? \n",
    "def add_num(x , y):\n",
    "    return x + y\n",
    "\n",
    "# solution - annotations:\n",
    "def add_num_annot(x : float , y: float) -> float:\n",
    "    return x + y"
   ]
  },
  {
   "cell_type": "code",
   "execution_count": 3,
   "metadata": {},
   "outputs": [
    {
     "name": "stdout",
     "output_type": "stream",
     "text": [
      "{'x': <class 'float'>, 'y': <class 'float'>, 'return': <class 'float'>}\n"
     ]
    }
   ],
   "source": [
    "# checking the annotaions of function: \n",
    "print(add_num_annot.__annotations__)"
   ]
  },
  {
   "cell_type": "code",
   "execution_count": 4,
   "metadata": {},
   "outputs": [
    {
     "name": "stdout",
     "output_type": "stream",
     "text": [
      "<class 'float'>\n",
      "<class 'float'>\n",
      "<class 'float'>\n"
     ]
    }
   ],
   "source": [
    "# the annotations are dictionaries\n",
    "print(add_num_annot.__annotations__['x'])\n",
    "print(add_num_annot.__annotations__['y'])\n",
    "print(add_num_annot.__annotations__['return'])"
   ]
  },
  {
   "cell_type": "code",
   "execution_count": 5,
   "metadata": {},
   "outputs": [
    {
     "name": "stdout",
     "output_type": "stream",
     "text": [
      "19.63495375\n",
      "{'r': {'desc': 'radius of circle', 'type': <class 'float'>}, 'return': {'desc': 'area of circle', 'type': <class 'float'>}}\n",
      "radius of circle\n",
      "area of circle\n"
     ]
    }
   ],
   "source": [
    "# complex annotations: \n",
    "def area(\n",
    "    r: {\n",
    "            'desc': 'radius of circle',\n",
    "            'type': float\n",
    "        }) -> \\\n",
    "        {\n",
    "            'desc': 'area of circle',\n",
    "            'type': float\n",
    "        }:\n",
    "    return 3.1415926 * (r ** 2)\n",
    "\n",
    "print(area(r=2.5))\n",
    "print(area.__annotations__)\n",
    "print(area.__annotations__['r']['desc'])\n",
    "print(area.__annotations__['return']['desc'])"
   ]
  },
  {
   "cell_type": "code",
   "execution_count": 10,
   "metadata": {},
   "outputs": [
    {
     "name": "stdout",
     "output_type": "stream",
     "text": [
      "8\n",
      "{'x': <class 'float'>, 'y': <class 'float'>, 'return': <class 'float'>}\n"
     ]
    }
   ],
   "source": [
    "# annotation  with default value: \n",
    "def annot_pow(x: float = 2 , y: float = 3 ) ->float:\n",
    "    return x**y\n",
    "\n",
    "print(annot_pow())\n",
    "print(annot_pow.__annotations__)"
   ]
  },
  {
   "cell_type": "code",
   "execution_count": 6,
   "metadata": {},
   "outputs": [
    {
     "name": "stdout",
     "output_type": "stream",
     "text": [
      "{'names': typing.List[str], 'return': None}\n",
      "{'grades': typing.Dict[str, float], 'return': None}\n"
     ]
    }
   ],
   "source": [
    "# annotations with containers: \n",
    "from typing import List,Dict\n",
    "\n",
    "def print_names(names: List[str]) -> None:\n",
    "    for student in names:\n",
    "        print(student)\n",
    "\n",
    "def print_name_and_grade(grades: Dict[str, float]) -> None:\n",
    "    for student, grade in grades.items():\n",
    "        print(student, grade)\n",
    "\n",
    "print(print_names.__annotations__)\n",
    "print(print_name_and_grade.__annotations__)"
   ]
  },
  {
   "cell_type": "code",
   "execution_count": 7,
   "metadata": {},
   "outputs": [
    {
     "name": "stdout",
     "output_type": "stream",
     "text": [
      "{'points': typing.List[typing.Tuple[int, int]]}\n"
     ]
    }
   ],
   "source": [
    "# customized annotations:\n",
    "from typing import List, Tuple\n",
    "\n",
    "Point = Tuple[int, int]\n",
    "\n",
    "def print_points(points: List[Point]):\n",
    "    for point in points:\n",
    "        print(\"X:\", point[0], \"  Y:\", point[1])\n",
    "    \n",
    "\n",
    "print(print_points.__annotations__)\n"
   ]
  },
  {
   "cell_type": "code",
   "execution_count": 8,
   "metadata": {},
   "outputs": [
    {
     "name": "stdout",
     "output_type": "stream",
     "text": [
      "{'grade': typing.Union[int, str]}\n"
     ]
    }
   ],
   "source": [
    "# union - The parameters can come in several types\n",
    "from typing import Union\n",
    "\n",
    "def print_grade(grade: Union[int, str]):\n",
    "    if isinstance(grade, str):\n",
    "        print(grade + ' percent')\n",
    "    else:\n",
    "        print(str(grade) + '%')\n",
    "\n",
    "print(print_grade.__annotations__)"
   ]
  },
  {
   "cell_type": "code",
   "execution_count": 9,
   "metadata": {},
   "outputs": [
    {
     "name": "stdout",
     "output_type": "stream",
     "text": [
      "{'func': typing.Callable[[int], NoneType], 'return': typing.Callable[[NoneType], NoneType]}\n"
     ]
    }
   ],
   "source": [
    "# annotations of functions:\n",
    "\n",
    "from typing import Callable\n",
    "# Callable[[param types], return vale type]\n",
    "def decoration_function(func: Callable[[int],None])->Callable[[None],None]:\n",
    "    def wrapper()->None:\n",
    "        print(\"An example of a decoration function\")\n",
    "        func()\n",
    "    return wrapper\n",
    "\n",
    "print(decoration_function.__annotations__)"
   ]
  },
  {
   "cell_type": "code",
   "execution_count": 10,
   "metadata": {},
   "outputs": [
    {
     "name": "stdout",
     "output_type": "stream",
     "text": [
      "{'return': typing.Type[__main__.MyClass]}\n"
     ]
    }
   ],
   "source": [
    "# annotaions of classes\n",
    "from typing import Type\n",
    "class MyClass:\n",
    "    pass\n",
    "myClass=Type[MyClass]\n",
    "def my_class_function()-> myClass:\n",
    "    return MyClass()\n",
    "print(my_class_function.__annotations__)"
   ]
  },
  {
   "cell_type": "markdown",
   "metadata": {},
   "source": [
    "Q: Can we use the annotaions to force the use of of specific types?  "
   ]
  },
  {
   "cell_type": "code",
   "execution_count": 11,
   "metadata": {},
   "outputs": [
    {
     "name": "stdout",
     "output_type": "stream",
     "text": [
      "a -> arg is <class 'int'> , annotation is <class 'int'> / True\n",
      "b -> arg is <class 'str'> , annotation is <class 'str'> / True\n",
      "c -> arg is <class 'float'> , annotation is <class 'float'> / True\n",
      "~~~~~~~~~~~\n",
      "a -> arg is <class 'str'> , annotation is <class 'int'> / False\n",
      "b -> arg is <class 'float'> , annotation is <class 'str'> / False\n",
      "c -> arg is <class 'int'> , annotation is <class 'float'> / False\n",
      "~~~~~~~~~~~\n",
      "a -> arg is <class 'int'> , annotation is <class 'int'> / True\n",
      "b -> arg is <class 'str'> , annotation is <class 'str'> / True\n",
      "c -> arg is <class 'str'> , annotation is <class 'float'> / False\n",
      "~~~~~~~~~~~\n"
     ]
    }
   ],
   "source": [
    "# checks whether the parameters are the same as the annotaions:\n",
    " \n",
    "def f(a: int, b: str, c: float):\n",
    "    import inspect\n",
    "    args = inspect.getfullargspec(f).args\n",
    "    annotations = inspect.getfullargspec(f).annotations\n",
    "    for x in args:\n",
    "        print(x, '->',\n",
    "            'arg is', type(locals()[x]), ',',\n",
    "            'annotation is', annotations[x],\n",
    "             '/', (type(locals()[x])) is annotations[x])\n",
    "    print('~~~~~~~~~~~')\n",
    "\n",
    "f(1, 'foo', 3.3)\n",
    "f('foo', 4.3, 9)\n",
    "f(1, 'foo', 'bar')\n"
   ]
  },
  {
   "cell_type": "markdown",
   "metadata": {},
   "source": [
    "_________________\n",
    "### lambda functions:"
   ]
  },
  {
   "cell_type": "code",
   "execution_count": 13,
   "metadata": {},
   "outputs": [
    {
     "name": "stdout",
     "output_type": "stream",
     "text": [
      "20\n",
      "<class 'function'>\n"
     ]
    }
   ],
   "source": [
    "f_lmd = lambda a: a + 10\n",
    "print(f_lmd(10)) # => 20\n",
    "print(type(f_lmd))"
   ]
  },
  {
   "cell_type": "code",
   "execution_count": 15,
   "metadata": {},
   "outputs": [
    {
     "data": {
      "text/plain": [
       "12"
      ]
     },
     "execution_count": 15,
     "metadata": {},
     "output_type": "execute_result"
    }
   ],
   "source": [
    " # another way to execute lambda function:\n",
    " (lambda a : a + 10)(2)"
   ]
  },
  {
   "cell_type": "code",
   "execution_count": 18,
   "metadata": {},
   "outputs": [
    {
     "data": {
      "text/plain": [
       "9"
      ]
     },
     "execution_count": 18,
     "metadata": {},
     "output_type": "execute_result"
    }
   ],
   "source": [
    "# lambda function with default parameters:\n",
    "z = lambda a=1,b=2,c=3 : a + b + c\n",
    "z(2,4) #=> 2 + 4 + 3"
   ]
  },
  {
   "cell_type": "code",
   "execution_count": 21,
   "metadata": {},
   "outputs": [
    {
     "name": "stdout",
     "output_type": "stream",
     "text": [
      "2048\n"
     ]
    }
   ],
   "source": [
    "# lambda function as template for other functions: \n",
    "def n_base_pow(n):\n",
    "    return lambda a : n ** a\n",
    "\n",
    "two_base_pow = n_base_pow(2)\n",
    "print(two_base_pow(11)) #=> 2^11"
   ]
  },
  {
   "cell_type": "code",
   "execution_count": null,
   "metadata": {},
   "outputs": [],
   "source": []
  }
 ],
 "metadata": {
  "kernelspec": {
   "display_name": "Python 3.6.6 64-bit",
   "metadata": {
    "interpreter": {
     "hash": "2e5c6628eef985e7fd2fa2aad22c988c5b8aa1d2648cf9c51c543a2a2637c546"
    }
   },
   "name": "python3"
  },
  "language_info": {
   "codemirror_mode": {
    "name": "ipython",
    "version": 3
   },
   "file_extension": ".py",
   "mimetype": "text/x-python",
   "name": "python",
   "nbconvert_exporter": "python",
   "pygments_lexer": "ipython3",
   "version": "3.10.2"
  },
  "orig_nbformat": 2
 },
 "nbformat": 4,
 "nbformat_minor": 2
}
