{
 "metadata": {
  "language_info": {
   "codemirror_mode": {
    "name": "ipython",
    "version": 3
   },
   "file_extension": ".py",
   "mimetype": "text/x-python",
   "name": "python",
   "nbconvert_exporter": "python",
   "pygments_lexer": "ipython3",
   "version": "3.6.6-final"
  },
  "orig_nbformat": 2,
  "kernelspec": {
   "name": "python3",
   "display_name": "Python 3.6.6 64-bit",
   "metadata": {
    "interpreter": {
     "hash": "2e5c6628eef985e7fd2fa2aad22c988c5b8aa1d2648cf9c51c543a2a2637c546"
    }
   }
  }
 },
 "nbformat": 4,
 "nbformat_minor": 2,
 "cells": [
  {
   "source": [
    "<div dir='rtl'>\n",
    "כשמריצים מסמך שאין לו קובץ main\n",
    "אין סדר פעולות, והוא יפעיל ישר מה שצויין בלי רווח.\n",
    "למשל בסקריפט \n",
    "moo_without_main\n",
    "הפונקציה \n",
    "function()\n",
    "נקראת בשורה 9, ולכן כשנייבא את הסקריפט הוא יריץ ישר את הפונקציה.\n",
    "</div>"
   ],
   "cell_type": "markdown",
   "metadata": {}
  },
  {
   "cell_type": "code",
   "execution_count": 1,
   "metadata": {},
   "outputs": [
    {
     "output_type": "stream",
     "name": "stdout",
     "text": [
      "\n               \\|/          (__)    \n                    `\\------(oo)\n                      ||    (__)\n                      ||w--||     \\|/\n                                      \\|/\n                      moooooooooooooooooooo!\n"
     ]
    }
   ],
   "source": [
    "import moo_without_main"
   ]
  },
  {
   "source": [
    "<div dir = 'rtl'>\n",
    "לעומת זאת קובץ עם הגדרת main\n",
    "יריץ את פונקציית ה-main \n",
    "רק אם אנחנו מקמפלים את הקוד, אחרת צריך להגדיר לו איזו פונקציה להריץ\n",
    "</div>"
   ],
   "cell_type": "markdown",
   "metadata": {}
  },
  {
   "cell_type": "code",
   "execution_count": 2,
   "metadata": {},
   "outputs": [],
   "source": [
    "import moo_with_main"
   ]
  },
  {
   "cell_type": "code",
   "execution_count": 3,
   "metadata": {},
   "outputs": [
    {
     "output_type": "stream",
     "name": "stdout",
     "text": [
      "\n                                 ------------\n             \\|/          (__)   | I'm  a   |\n                  `\\------(oo)   | main cow | \n                    ||    (__) -------------- \n                    ||w--||     \\|/\n                                  \\|/\n                    moooooooooooooooooooo!\n"
     ]
    }
   ],
   "source": [
    "moo_with_main.main()"
   ]
  }
 ]
}