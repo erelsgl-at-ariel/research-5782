{
 "cells": [
  {
   "cell_type": "markdown",
   "metadata": {},
   "source": [
    "<div dir='rtl'>\n",
    "כשמריצים מסמך שאין לו קובץ main\n",
    "אין סדר פעולות, והוא יפעיל ישר מה שצויין בלי רווח.\n",
    "למשל בסקריפט \n",
    "moo_without_main\n",
    "הפונקציה \n",
    "function()\n",
    "נקראת בשורה 9, ולכן כשנייבא את הסקריפט הוא יריץ ישר את הפונקציה.\n",
    "</div>"
   ]
  },
  {
   "cell_type": "code",
   "execution_count": 2,
   "metadata": {},
   "outputs": [
    {
     "name": "stdout",
     "output_type": "stream",
     "text": [
      "\n",
      "               \\|/          (__)    \n",
      "                    `\\------(oo)\n",
      "                      ||    (__)\n",
      "                      ||w--||     \\|/\n",
      "                                      \\|/\n",
      "                      moooooooooooooooooooo!\n"
     ]
    }
   ],
   "source": [
    "import moo_without_main"
   ]
  },
  {
   "cell_type": "markdown",
   "metadata": {},
   "source": [
    "<div dir = 'rtl'>\n",
    "לעומת זאת קובץ עם הגדרת main\n",
    "יריץ את פונקציית ה-main \n",
    "רק אם אנחנו מקמפלים את הקוד, אחרת צריך להגדיר לו איזו פונקציה להריץ\n",
    "</div>"
   ]
  },
  {
   "cell_type": "code",
   "execution_count": 3,
   "metadata": {},
   "outputs": [
    {
     "name": "stdout",
     "output_type": "stream",
     "text": [
      "\n",
      "               \\|/          (__)    \n",
      "                    `\\------(oo)\n",
      "                      ||    (__)\n",
      "                      ||w--||     \\|/\n",
      "                                      \\|/\n",
      "                      moooooooooooooooooooo!\n"
     ]
    }
   ],
   "source": [
    "moo_without_main.function()"
   ]
  },
  {
   "cell_type": "code",
   "execution_count": 4,
   "metadata": {},
   "outputs": [],
   "source": [
    "import moo_with_main"
   ]
  },
  {
   "cell_type": "code",
   "execution_count": 5,
   "metadata": {},
   "outputs": [
    {
     "name": "stdout",
     "output_type": "stream",
     "text": [
      "\n",
      "                                 ------------\n",
      "             \\|/          (__)   | I'm  a   |\n",
      "                  `\\------(oo)   | main cow | \n",
      "                    ||    (__) -------------- \n",
      "                    ||w--||     \\|/\n",
      "                                  \\|/\n",
      "                    moooooooooooooooooooo!\n"
     ]
    }
   ],
   "source": [
    "moo_with_main.function()"
   ]
  },
  {
   "cell_type": "code",
   "execution_count": 13,
   "metadata": {},
   "outputs": [
    {
     "name": "stdout",
     "output_type": "stream",
     "text": [
      "['__builtins__', '__cached__', '__doc__', '__file__', '__loader__', '__name__', '__package__', '__spec__', 'function']\n"
     ]
    }
   ],
   "source": [
    "print(dir(moo_with_main))"
   ]
  },
  {
   "cell_type": "code",
   "execution_count": null,
   "metadata": {},
   "outputs": [],
   "source": []
  }
 ],
 "metadata": {
  "interpreter": {
   "hash": "31f2aee4e71d21fbe5cf8b01ff0e069b9275f58929596ceb00d14d90e3e16cd6"
  },
  "kernelspec": {
   "display_name": "Python 3.8.10 64-bit",
   "name": "python3"
  },
  "language_info": {
   "codemirror_mode": {
    "name": "ipython",
    "version": 3
   },
   "file_extension": ".py",
   "mimetype": "text/x-python",
   "name": "python",
   "nbconvert_exporter": "python",
   "pygments_lexer": "ipython3",
   "version": "3.10.2"
  },
  "orig_nbformat": 2
 },
 "nbformat": 4,
 "nbformat_minor": 2
}
