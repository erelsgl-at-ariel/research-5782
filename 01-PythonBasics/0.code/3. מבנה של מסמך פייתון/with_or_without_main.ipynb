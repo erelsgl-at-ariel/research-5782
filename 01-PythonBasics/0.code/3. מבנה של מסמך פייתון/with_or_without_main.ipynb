{
 "cells": [
  {
   "cell_type": "markdown",
   "metadata": {},
   "source": [
    "<div dir='rtl'>\n",
    "כשמריצים מסמך שאין לו קובץ main\n",
    "אין סדר פעולות, והוא יפעיל ישר מה שצויין בלי רווח.\n",
    "למשל בסקריפט \n",
    "moo_without_main\n",
    "הפונקציה \n",
    "function()\n",
    "נקראת בשורה 9, ולכן כשנייבא את הסקריפט הוא יריץ ישר את הפונקציה.\n",
    "</div>"
   ]
  },
  {
   "cell_type": "code",
   "execution_count": 1,
   "metadata": {},
   "outputs": [
    {
     "name": "stdout",
     "output_type": "stream",
     "text": [
      "\n",
      "               \\|/          (__)    \n",
      "                    `\\------(oo)\n",
      "                      ||    (__)\n",
      "                      ||w--||     \\|/\n",
      "                                      \\|/\n",
      "                      moooooooooooooooooooo!\n"
     ]
    }
   ],
   "source": [
    "import moo_without_main"
   ]
  },
  {
   "cell_type": "markdown",
   "metadata": {},
   "source": [
    "<div dir = 'rtl'>\n",
    "לעומת זאת קובץ עם הגדרת main\n",
    "יריץ את פונקציית ה-main \n",
    "רק אם אנחנו מקמפלים את הקוד, אחרת צריך להגדיר לו איזו פונקציה להריץ\n",
    "</div>"
   ]
  },
  {
   "cell_type": "code",
   "execution_count": 1,
   "metadata": {},
   "outputs": [],
   "source": [
    "import moo_with_main"
   ]
  },
  {
   "cell_type": "code",
   "execution_count": 3,
   "metadata": {},
   "outputs": [
    {
     "name": "stdout",
     "output_type": "stream",
     "text": [
      "\n",
      "                                 ------------\n",
      "             \\|/          (__)   | I'm  a   |\n",
      "                  `\\------(oo)   | main cow | \n",
      "                    ||    (__) -------------- \n",
      "                    ||w--||     \\|/\n",
      "                                  \\|/\n",
      "                    moooooooooooooooooooo!\n"
     ]
    }
   ],
   "source": [
    "moo_with_main.main()"
   ]
  }
 ],
 "metadata": {
  "kernelspec": {
   "display_name": "Python 3.6.6 64-bit",
   "metadata": {
    "interpreter": {
     "hash": "2e5c6628eef985e7fd2fa2aad22c988c5b8aa1d2648cf9c51c543a2a2637c546"
    }
   },
   "name": "python3"
  },
  "language_info": {
   "codemirror_mode": {
    "name": "ipython",
    "version": 3
   },
   "file_extension": ".py",
   "mimetype": "text/x-python",
   "name": "python",
   "nbconvert_exporter": "python",
   "pygments_lexer": "ipython3",
   "version": "3.10.2"
  },
  "orig_nbformat": 2
 },
 "nbformat": 4,
 "nbformat_minor": 2
}
