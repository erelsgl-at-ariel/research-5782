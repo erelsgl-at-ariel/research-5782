{
 "metadata": {
  "language_info": {
   "codemirror_mode": {
    "name": "ipython",
    "version": 3
   },
   "file_extension": ".py",
   "mimetype": "text/x-python",
   "name": "python",
   "nbconvert_exporter": "python",
   "pygments_lexer": "ipython3",
   "version": "3.6.6-final"
  },
  "orig_nbformat": 2,
  "kernelspec": {
   "name": "python3",
   "display_name": "Python 3.6.6 64-bit",
   "metadata": {
    "interpreter": {
     "hash": "2e5c6628eef985e7fd2fa2aad22c988c5b8aa1d2648cf9c51c543a2a2637c546"
    }
   }
  }
 },
 "nbformat": 4,
 "nbformat_minor": 2,
 "cells": [
  {
   "source": [
    "<div dir= 'rtl'>\n",
    "בפייתון סימון הערות הוא בצורה שונה, כשרוצים לעשות הערות של שורה אחת משתמשים בתו '#' . \n",
    "</div>"
   ],
   "cell_type": "markdown",
   "metadata": {}
  },
  {
   "cell_type": "code",
   "execution_count": 1,
   "metadata": {},
   "outputs": [
    {
     "output_type": "stream",
     "name": "stdout",
     "text": [
      "Hello, World!\n"
     ]
    }
   ],
   "source": [
    "#This is a comment\n",
    "#written in\n",
    "#more than just one line\n",
    "print(\"Hello, World!\")"
   ]
  },
  {
   "source": [
    "<div dir= 'rtl'>\n",
    "במדריך\n",
    "</div>\n",
    "\n",
    " [code python for guide style](https://www.python.org/dev/peps/pep-0008/#maximum-line-length).\n",
    " \n",
    " <div dir= 'rtl'>\n",
    " כתוב שגודל השורה המומלץ הוא כ 72 תווים.\n",
    "במידה ואנחנו חורגים מהגודל מומלץ לפצל את הערות לכמה שורות של הערות או לבלוק הערות , מה שמוביל אותנו לסוג\n",
    "השני של הערות של פייתון-הערות בלוק:\n",
    "בשביל הערות בלוק כותבים בהתחלה \" \" \" (שלושה מרכאות) \n",
    "או ' ' ' ,ומסיימים את בלוק גם בשלושה מרכאות: \n",
    "</div>"
   ],
   "cell_type": "markdown",
   "metadata": {}
  },
  {
   "cell_type": "code",
   "execution_count": 2,
   "metadata": {},
   "outputs": [
    {
     "output_type": "stream",
     "name": "stdout",
     "text": [
      "Hello, World!\n"
     ]
    }
   ],
   "source": [
    "\"\"\"\n",
    "This is a comment\n",
    "written in\n",
    "more than just one line\n",
    "\"\"\"\n",
    "print(\"Hello, World!\")\n"
   ]
  },
  {
   "source": [
    "<div dir= 'rtl'>\n",
    "טיפ: נהוג להתחיל קובץ פייתון בכמה שורות של הערות, שורות אלה מציינות מידע אודות הפרויקט, מטרת הקובץ, מי\n",
    "המתכנת ורישיון התוכנה.\n",
    "בדר\"כ הערות כאלה מסוגננות בצורה הבאה: \n",
    "\n",
    "</div>"
   ],
   "cell_type": "markdown",
   "metadata": {}
  },
  {
   "cell_type": "code",
   "execution_count": 4,
   "metadata": {},
   "outputs": [],
   "source": [
    "#-------------------------------------------------------------\n",
    "#demonstrates how to write ms excel files using python-openpyxl\n",
    "#\n",
    "#(C) 2015 Frank Hofmann, Berlin, Germany\n",
    "#Released under GNU Public License (GPL)\n",
    "#email email@email.com\n",
    "#--------------------------------------------------------------"
   ]
  },
  {
   "source": [
    "<div dir= 'rtl'>\n",
    "יש עוד סוג של הערות הפייתון והוא docstring \n",
    "docstring היא הערה שמוסיפים מתחת לכותרת של פונקציה, מחלקה, שיטה של מחלקה או module,\n",
    "והיא מסייעת לצרף הערות לחלקים בפרויקט כך שגם מחוץ לפרויקט יהיה ניתן לקרוא עליהם:\n",
    "\n",
    "</div>"
   ],
   "cell_type": "markdown",
   "metadata": {}
  },
  {
   "cell_type": "code",
   "execution_count": 5,
   "metadata": {},
   "outputs": [],
   "source": [
    "def add(value1, value2):\n",
    "    \"\"\"Calculate the sum of value1 and value2.\"\"\"\n",
    "    return value1 + value2"
   ]
  },
  {
   "cell_type": "code",
   "execution_count": 6,
   "metadata": {},
   "outputs": [
    {
     "output_type": "stream",
     "name": "stdout",
     "text": [
      "Calculate the sum of value1 and value2.\n"
     ]
    }
   ],
   "source": [
    "print (add.__doc__)"
   ]
  }
 ]
}