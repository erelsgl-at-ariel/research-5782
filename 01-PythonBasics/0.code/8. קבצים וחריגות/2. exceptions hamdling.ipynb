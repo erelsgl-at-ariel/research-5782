{
 "cells": [
  {
   "cell_type": "markdown",
   "metadata": {},
   "source": [
    "## Exceptions Handling"
   ]
  },
  {
   "cell_type": "markdown",
   "metadata": {},
   "source": [
    "### syntax errors:"
   ]
  },
  {
   "cell_type": "code",
   "execution_count": 1,
   "metadata": {},
   "outputs": [
    {
     "ename": "SyntaxError",
     "evalue": "unmatched ')' (<ipython-input-1-c3931f671051>, line 1)",
     "output_type": "error",
     "traceback": [
      "\u001b[0;36m  File \u001b[0;32m\"<ipython-input-1-c3931f671051>\"\u001b[0;36m, line \u001b[0;32m1\u001b[0m\n\u001b[0;31m    print( 0 / 0 ))\u001b[0m\n\u001b[0m                  ^\u001b[0m\n\u001b[0;31mSyntaxError\u001b[0m\u001b[0;31m:\u001b[0m unmatched ')'\n"
     ]
    }
   ],
   "source": [
    "print( 0 / 0 ))"
   ]
  },
  {
   "cell_type": "markdown",
   "metadata": {},
   "source": [
    "### Exceptions:"
   ]
  },
  {
   "cell_type": "code",
   "execution_count": 2,
   "metadata": {},
   "outputs": [
    {
     "ename": "ZeroDivisionError",
     "evalue": "division by zero",
     "output_type": "error",
     "traceback": [
      "\u001b[0;31m---------------------------------------------------------------------------\u001b[0m",
      "\u001b[0;31mZeroDivisionError\u001b[0m                         Traceback (most recent call last)",
      "\u001b[0;32m<ipython-input-2-1babb3b33639>\u001b[0m in \u001b[0;36m<module>\u001b[0;34m\u001b[0m\n\u001b[0;32m----> 1\u001b[0;31m \u001b[0mprint\u001b[0m\u001b[0;34m(\u001b[0m\u001b[0;36m0\u001b[0m\u001b[0;34m/\u001b[0m\u001b[0;36m0\u001b[0m\u001b[0;34m)\u001b[0m\u001b[0;34m\u001b[0m\u001b[0;34m\u001b[0m\u001b[0m\n\u001b[0m",
      "\u001b[0;31mZeroDivisionError\u001b[0m: division by zero"
     ]
    }
   ],
   "source": [
    "print(0/0)"
   ]
  },
  {
   "cell_type": "markdown",
   "metadata": {},
   "source": [
    "### Throwing errors in a controlled manner:"
   ]
  },
  {
   "cell_type": "code",
   "execution_count": 1,
   "metadata": {},
   "outputs": [
    {
     "ename": "Exception",
     "evalue": "Invalid input in error_fun :-|",
     "output_type": "error",
     "traceback": [
      "\u001b[1;31m---------------------------------------------------------------------------\u001b[0m",
      "\u001b[1;31mException\u001b[0m                                 Traceback (most recent call last)",
      "\u001b[1;32md:\\Dropbox\\ariel-research\\research-5782\\01-PythonBasics\\0.code\\8. קבצים וחריגות\\2. exceptions hamdling.ipynb Cell 7'\u001b[0m in \u001b[0;36m<module>\u001b[1;34m\u001b[0m\n\u001b[0;32m      <a href='vscode-notebook-cell:/d%3A/Dropbox/ariel-research/research-5782/01-PythonBasics/0.code/8.%20%D7%A7%D7%91%D7%A6%D7%99%D7%9D%20%D7%95%D7%97%D7%A8%D7%99%D7%92%D7%95%D7%AA/2.%20exceptions%20hamdling.ipynb#ch0000006?line=0'>1</a>\u001b[0m \u001b[39mdef\u001b[39;00m \u001b[39merror_fun\u001b[39m(x):\n\u001b[0;32m      <a href='vscode-notebook-cell:/d%3A/Dropbox/ariel-research/research-5782/01-PythonBasics/0.code/8.%20%D7%A7%D7%91%D7%A6%D7%99%D7%9D%20%D7%95%D7%97%D7%A8%D7%99%D7%92%D7%95%D7%AA/2.%20exceptions%20hamdling.ipynb#ch0000006?line=1'>2</a>\u001b[0m     \u001b[39mraise\u001b[39;00m \u001b[39mException\u001b[39;00m(\u001b[39m\"\u001b[39m\u001b[39mInvalid input in error_fun :-|\u001b[39m\u001b[39m\"\u001b[39m)\n\u001b[1;32m----> <a href='vscode-notebook-cell:/d%3A/Dropbox/ariel-research/research-5782/01-PythonBasics/0.code/8.%20%D7%A7%D7%91%D7%A6%D7%99%D7%9D%20%D7%95%D7%97%D7%A8%D7%99%D7%92%D7%95%D7%AA/2.%20exceptions%20hamdling.ipynb#ch0000006?line=2'>3</a>\u001b[0m error_fun(\u001b[39m0\u001b[39;49m)\n",
      "\u001b[1;32md:\\Dropbox\\ariel-research\\research-5782\\01-PythonBasics\\0.code\\8. קבצים וחריגות\\2. exceptions hamdling.ipynb Cell 7'\u001b[0m in \u001b[0;36merror_fun\u001b[1;34m(x)\u001b[0m\n\u001b[0;32m      <a href='vscode-notebook-cell:/d%3A/Dropbox/ariel-research/research-5782/01-PythonBasics/0.code/8.%20%D7%A7%D7%91%D7%A6%D7%99%D7%9D%20%D7%95%D7%97%D7%A8%D7%99%D7%92%D7%95%D7%AA/2.%20exceptions%20hamdling.ipynb#ch0000006?line=0'>1</a>\u001b[0m \u001b[39mdef\u001b[39;00m \u001b[39merror_fun\u001b[39m(x):\n\u001b[1;32m----> <a href='vscode-notebook-cell:/d%3A/Dropbox/ariel-research/research-5782/01-PythonBasics/0.code/8.%20%D7%A7%D7%91%D7%A6%D7%99%D7%9D%20%D7%95%D7%97%D7%A8%D7%99%D7%92%D7%95%D7%AA/2.%20exceptions%20hamdling.ipynb#ch0000006?line=1'>2</a>\u001b[0m     \u001b[39mraise\u001b[39;00m \u001b[39mException\u001b[39;00m(\u001b[39m\"\u001b[39m\u001b[39mInvalid input in error_fun :-|\u001b[39m\u001b[39m\"\u001b[39m)\n",
      "\u001b[1;31mException\u001b[0m: Invalid input in error_fun :-|"
     ]
    }
   ],
   "source": [
    "def error_fun(x):\n",
    "    raise Exception(\"Invalid input in error_fun :-|\")\n",
    "error_fun(0)"
   ]
  },
  {
   "cell_type": "markdown",
   "metadata": {},
   "source": [
    "### assert():"
   ]
  },
  {
   "cell_type": "code",
   "execution_count": 3,
   "metadata": {},
   "outputs": [
    {
     "name": "stdout",
     "output_type": "stream",
     "text": [
      "sys.platform= win32\n"
     ]
    },
    {
     "ename": "AssertionError",
     "evalue": "This code runs on Linux only.",
     "output_type": "error",
     "traceback": [
      "\u001b[1;31m---------------------------------------------------------------------------\u001b[0m",
      "\u001b[1;31mAssertionError\u001b[0m                            Traceback (most recent call last)",
      "\u001b[1;32md:\\Dropbox\\ariel-research\\research-5782\\01-PythonBasics\\0.code\\8. קבצים וחריגות\\2. exceptions hamdling.ipynb Cell 9'\u001b[0m in \u001b[0;36m<module>\u001b[1;34m\u001b[0m\n\u001b[0;32m      <a href='vscode-notebook-cell:/d%3A/Dropbox/ariel-research/research-5782/01-PythonBasics/0.code/8.%20%D7%A7%D7%91%D7%A6%D7%99%D7%9D%20%D7%95%D7%97%D7%A8%D7%99%D7%92%D7%95%D7%AA/2.%20exceptions%20hamdling.ipynb#ch0000008?line=0'>1</a>\u001b[0m \u001b[39mimport\u001b[39;00m \u001b[39msys\u001b[39;00m \u001b[39m#for sys.platform\u001b[39;00m\n\u001b[0;32m      <a href='vscode-notebook-cell:/d%3A/Dropbox/ariel-research/research-5782/01-PythonBasics/0.code/8.%20%D7%A7%D7%91%D7%A6%D7%99%D7%9D%20%D7%95%D7%97%D7%A8%D7%99%D7%92%D7%95%D7%AA/2.%20exceptions%20hamdling.ipynb#ch0000008?line=1'>2</a>\u001b[0m \u001b[39mprint\u001b[39m(\u001b[39m\"\u001b[39m\u001b[39msys.platform=\u001b[39m\u001b[39m\"\u001b[39m,sys\u001b[39m.\u001b[39mplatform)\n\u001b[1;32m----> <a href='vscode-notebook-cell:/d%3A/Dropbox/ariel-research/research-5782/01-PythonBasics/0.code/8.%20%D7%A7%D7%91%D7%A6%D7%99%D7%9D%20%D7%95%D7%97%D7%A8%D7%99%D7%92%D7%95%D7%AA/2.%20exceptions%20hamdling.ipynb#ch0000008?line=2'>3</a>\u001b[0m \u001b[39massert\u001b[39;00m (\u001b[39m'\u001b[39m\u001b[39mlinux\u001b[39m\u001b[39m'\u001b[39m \u001b[39min\u001b[39;00m sys\u001b[39m.\u001b[39mplatform), \u001b[39m\"\u001b[39m\u001b[39mThis code runs on Linux only.\u001b[39m\u001b[39m\"\u001b[39m\n",
      "\u001b[1;31mAssertionError\u001b[0m: This code runs on Linux only."
     ]
    }
   ],
   "source": [
    "import sys #for sys.platform\n",
    "print(\"sys.platform=\",sys.platform)\n",
    "assert ('linux' in sys.platform), \"This code runs on Linux only.\""
   ]
  },
  {
   "cell_type": "markdown",
   "metadata": {},
   "source": [
    "### try and except:"
   ]
  },
  {
   "cell_type": "code",
   "execution_count": 4,
   "metadata": {},
   "outputs": [
    {
     "name": "stdout",
     "output_type": "stream",
     "text": [
      "What was the exception?\n"
     ]
    }
   ],
   "source": [
    "x = 0\n",
    "try:\n",
    "    10/x\n",
    "except:\n",
    "    print('What was the exception?')"
   ]
  },
  {
   "cell_type": "code",
   "execution_count": 5,
   "metadata": {},
   "outputs": [
    {
     "name": "stdout",
     "output_type": "stream",
     "text": [
      "division by zero\n"
     ]
    }
   ],
   "source": [
    "def devi(x):\n",
    "    try:\n",
    "        10/x\n",
    "    except ZeroDivisionError as error:\n",
    "        print(error)\n",
    "\n",
    "devi(0)"
   ]
  },
  {
   "cell_type": "markdown",
   "metadata": {},
   "source": [
    "## Finally"
   ]
  },
  {
   "cell_type": "code",
   "execution_count": 6,
   "metadata": {},
   "outputs": [
    {
     "name": "stdout",
     "output_type": "stream",
     "text": [
      "there is no such file, try again.\n",
      "Are you crazy? Did you just tried to divide by 0?!\n"
     ]
    }
   ],
   "source": [
    "def file_writer(file_path):\n",
    "  try:\n",
    "     file = open(file_path)\n",
    "     file_str = file.read()\n",
    "     10/len(file_str)\n",
    "  except FileNotFoundError as fnt:\n",
    "     print(\"there is no such file, try again.\")\n",
    "  except ZeroDivisionError:\n",
    "     print(\"Are you crazy? Did you just tried to divide by 0?!\")\n",
    "  else:\n",
    "     file.write(\"No exceptions were caught\")\n",
    "  finally:\n",
    "     try:\n",
    "        file.close()\n",
    "     except NameError:\n",
    "        pass\n",
    "\n",
    "file_writer(\"no_such_file.txt\")\n",
    "file_writer(\"empty.txt\")"
   ]
  },
  {
   "cell_type": "markdown",
   "metadata": {},
   "source": [
    "### traceback:"
   ]
  },
  {
   "cell_type": "code",
   "execution_count": 8,
   "metadata": {},
   "outputs": [
    {
     "name": "stdout",
     "output_type": "stream",
     "text": [
      "just printing the exception\n",
      "I am an Exception >:-)  \n",
      "\n",
      "printing the traceback\n"
     ]
    },
    {
     "name": "stderr",
     "output_type": "stream",
     "text": [
      "Traceback (most recent call last):\n",
      "  File \"C:\\Users\\user\\AppData\\Local\\Temp\\ipykernel_18796\\828061433.py\", line 3, in <module>\n",
      "    raise Exception(\"I am an Exception >:-) \")\n",
      "Exception: I am an Exception >:-) \n"
     ]
    }
   ],
   "source": [
    "import traceback\n",
    "try:\n",
    "    raise Exception(\"I am an Exception >:-) \")\n",
    "except Exception as e:\n",
    "    print(\"just printing the exception\")\n",
    "    print(e,'\\n')\n",
    "    print(\"printing the traceback\")\n",
    "    traceback.print_exc()"
   ]
  }
 ],
 "metadata": {
  "kernelspec": {
   "display_name": "Python 3.6.6 64-bit",
   "metadata": {
    "interpreter": {
     "hash": "2e5c6628eef985e7fd2fa2aad22c988c5b8aa1d2648cf9c51c543a2a2637c546"
    }
   },
   "name": "python3"
  },
  "language_info": {
   "codemirror_mode": {
    "name": "ipython",
    "version": 3
   },
   "file_extension": ".py",
   "mimetype": "text/x-python",
   "name": "python",
   "nbconvert_exporter": "python",
   "pygments_lexer": "ipython3",
   "version": "3.10.2"
  },
  "orig_nbformat": 2
 },
 "nbformat": 4,
 "nbformat_minor": 2
}
