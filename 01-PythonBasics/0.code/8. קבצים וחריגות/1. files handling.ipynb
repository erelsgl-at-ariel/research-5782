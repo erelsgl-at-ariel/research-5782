{
 "metadata": {
  "language_info": {
   "codemirror_mode": {
    "name": "ipython",
    "version": 3
   },
   "file_extension": ".py",
   "mimetype": "text/x-python",
   "name": "python",
   "nbconvert_exporter": "python",
   "pygments_lexer": "ipython3",
   "version": "3.6.6-final"
  },
  "orig_nbformat": 2,
  "kernelspec": {
   "name": "python3",
   "display_name": "Python 3.6.6 64-bit",
   "metadata": {
    "interpreter": {
     "hash": "2e5c6628eef985e7fd2fa2aad22c988c5b8aa1d2648cf9c51c543a2a2637c546"
    }
   }
  }
 },
 "nbformat": 4,
 "nbformat_minor": 2,
 "cells": [
  {
   "source": [
    "## Files Handling\n",
    "\n",
    "### open():\n",
    "Open file and return a stream.  Raise IOError upon failure.\n",
    "\n",
    "file is either a text or byte string giving the name (and the path\n",
    "if the file isn't in the current working directory) of the file to\n",
    "be opened or an integer file descriptor of the file to be\n",
    "wrapped. (If a file descriptor is given, it is closed when the\n",
    "returned I/O object is closed, unless closefd is set to False.)\n",
    "\n",
    "mode is an optional string that specifies the mode in which the file\n",
    "is opened. It defaults to 'r' which means open for reading in text\n",
    "mode.  Other common values are 'w' for writing (truncating the file if\n",
    "it already exists), 'x' for creating and writing to a new file, and\n",
    "'a' for appending (which on some Unix systems, means that all writes\n",
    "append to the end of the file regardless of the current seek position).\n",
    "In text mode, if encoding is not specified the encoding used is platform\n",
    "dependent: locale.getpreferredencoding(False) is called to get the\n",
    "current locale encoding. (For reading and writing raw bytes use binary\n",
    "mode and leave encoding unspecified.) The available modes are:\n",
    "<br>\n",
    "--------------------------------------------------------\n",
    "Character     Meaning\n",
    "<br>\n",
    "========     =========\n",
    "<br><br>\n",
    "'r'          open for reading (default)\n",
    "<br>\n",
    "'w'          open for writing, truncating the file first\n",
    "<br>\n",
    "'x'         create a new file and open it for writing\n",
    "<br>\n",
    "'a'          open for writing, appending to the end of the file if it exists\n",
    "<br>\n",
    "'b'         binary mode\n",
    "<br>\n",
    "'t'         text mode (default)\n",
    "<br>\n",
    "'+'         open a disk file for updating (reading and writing)\n",
    "<br>\n",
    "'U'         universal newline mode (deprecated)\n",
    "<br>\n",
    "-------------------------------------------------------------"
   ],
   "cell_type": "markdown",
   "metadata": {}
  },
  {
   "source": [
    "### reading:\n",
    "\n"
   ],
   "cell_type": "markdown",
   "metadata": {}
  },
  {
   "cell_type": "code",
   "execution_count": 1,
   "metadata": {},
   "outputs": [
    {
     "output_type": "stream",
     "name": "stdout",
     "text": [
      "<class '_io.TextIOWrapper'>\n   _______________                        |*\\_/*|________\n  |  ___________  |     .-.     .-.      ||_/-\\_|        |\n  | |           | |    .****. .****.     |               |\n  | |   0   0   | |    .*****.*****.     |     0   0     |\n  | |     -     | |     .*********.      |       -       |\n  | |   \\___/   | |      .*******.       |     \\___/     |\n  | |___     ___| |       .*****.        |               |\n  |_____|\\_/|_____|        .***.         |               |\n    _|__|/ \\|_|_.............*...........|  I am a FILE  |\n   / ********** \\                        |               | \n /  ************  \\                       ---------------\n--------------------                    \n"
     ]
    }
   ],
   "source": [
    "file = open(\"stam.txt\",\"r\")\n",
    "print(type(file))\n",
    "print(file.read())"
   ]
  },
  {
   "source": [
    "### writing:"
   ],
   "cell_type": "markdown",
   "metadata": {}
  },
  {
   "cell_type": "code",
   "execution_count": 3,
   "metadata": {},
   "outputs": [
    {
     "output_type": "stream",
     "name": "stdout",
     "text": [
      "This is the first line I write in this file\nThis is the second line I write in this file\n"
     ]
    }
   ],
   "source": [
    "file = open('new_file.txt','w')\n",
    "file.write(\"This is the first line I write in this file\")\n",
    "file.write(\"\\nThis is the second line I write in this file\")\n",
    "file.close()\n",
    "file = open('new_file.txt','r')\n",
    "print(file.read())\n"
   ]
  },
  {
   "cell_type": "code",
   "execution_count": 4,
   "metadata": {},
   "outputs": [
    {
     "output_type": "stream",
     "name": "stdout",
     "text": [
      "This is the first line I write in this file\nThis is the second line I write in this file\nThis is a new line I just added\n"
     ]
    }
   ],
   "source": [
    "# 'a'-open for writing, appending to the end of the file if it exists:\n",
    "file = open('new_file.txt','a')\n",
    "file.write(\"\\nThis is a new line I just added\")\n",
    "file.close()\n",
    "file = open('new_file.txt','r')\n",
    "print(file.read())\n",
    "\n"
   ]
  },
  {
   "source": [
    "### with keyword - context manager"
   ],
   "cell_type": "markdown",
   "metadata": {}
  },
  {
   "cell_type": "code",
   "execution_count": 6,
   "metadata": {},
   "outputs": [
    {
     "output_type": "stream",
     "name": "stdout",
     "text": [
      "                                                      \n,--.' |                                           ,--,    ,--,           \n|  |  :                        .---.            ,--.'|  ,--.'|           \n:  :  :                       /. ./|            |  |,   |  |,            \n:  |  |,--.  ,--.--.       .-'-. ' |  ,--.--.   `--'_   `--'_            \n|  :  '   | /       \\     /___/ \\: | /       \\  ,' ,'|  ,' ,'|           \n|  |   /' :.--.  .-. | .-'.. '   ' ..--.  .-. | '  | |  '  | |           \n'  :  | | | \\__\\/: . ./___/ \\:     ' \\__\\/: . . |  | :  |  | :           \n|  |  ' | : ,\" .--.; |.   \\  ' .\\    ,\" .--.; | '  : |__'  : |__         \n|  :  :_:,'/  /  ,.  | \\   \\   ' \\ |/  /  ,.  | |  | '.'|  | '.'|        \n|  | ,'   ;  :   .'   \\ \\   \\  |--\";  :   .'   \\;  :    ;  :    ;        \n`--''     |  ,     .-./  \\   \\ |   |  ,     .-./|  ,   /|  ,   /         \n           `--`---'       '---\"     `--`---'     ---`-'  ---`-'          \n"
     ]
    }
   ],
   "source": [
    "with open(\"hawaii.txt\",'r+') as file:\n",
    "    file.write(\"\\nPYTHON==GOOD LIFE\")\n",
    "    print(file.read())\n",
    "    \n",
    "     "
   ]
  }
 ]
}