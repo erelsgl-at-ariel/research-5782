{
 "cells": [
  {
   "cell_type": "markdown",
   "metadata": {},
   "source": [
    "__________\n",
    "## mutable and immutable:"
   ]
  },
  {
   "cell_type": "markdown",
   "metadata": {},
   "source": [
    "### immutable: "
   ]
  },
  {
   "cell_type": "code",
   "execution_count": 1,
   "metadata": {},
   "outputs": [
    {
     "name": "stdout",
     "output_type": "stream",
     "text": [
      "1786932256\n",
      "1786932288\n"
     ]
    }
   ],
   "source": [
    "x = 1\n",
    "print(id(x))\n",
    "x+=1\n",
    "print(id(x))\n"
   ]
  },
  {
   "cell_type": "code",
   "execution_count": 2,
   "metadata": {},
   "outputs": [
    {
     "name": "stdout",
     "output_type": "stream",
     "text": [
      "True\n",
      "1907057209840\n",
      "1907057209840\n"
     ]
    }
   ],
   "source": [
    "str1 = \"String\"\n",
    "str2 = 'String'\n",
    "print(str1 is str2)\n",
    "print(id(str1))\n",
    "print(id(str2))\n"
   ]
  },
  {
   "cell_type": "markdown",
   "metadata": {},
   "source": [
    "### mutable:"
   ]
  },
  {
   "cell_type": "code",
   "execution_count": 3,
   "metadata": {},
   "outputs": [
    {
     "name": "stdout",
     "output_type": "stream",
     "text": [
      "147694792\n",
      "147694792\n"
     ]
    }
   ],
   "source": [
    "lst = [1,2]\n",
    "print(id(lst))\n",
    "lst.append(3)\n",
    "print(id(lst))"
   ]
  },
  {
   "cell_type": "markdown",
   "metadata": {},
   "source": [
    "_______\n",
    "## Casting"
   ]
  },
  {
   "cell_type": "code",
   "execution_count": 5,
   "metadata": {},
   "outputs": [
    {
     "name": "stdout",
     "output_type": "stream",
     "text": [
      "x= 3 type(y)= <class 'str'> z= 3.0 type(z)= <class 'float'>\n",
      "(3+0j)\n"
     ]
    }
   ],
   "source": [
    "x = 3\n",
    "y = str(x)\n",
    "z = float(y)\n",
    "print('x=',x,'type(y)=',type(y),'z=',z, 'type(z)=',type(z))\n",
    "print(complex(z))"
   ]
  },
  {
   "cell_type": "markdown",
   "metadata": {},
   "source": [
    "### Casting to bool"
   ]
  },
  {
   "cell_type": "code",
   "execution_count": 5,
   "metadata": {},
   "outputs": [
    {
     "name": "stdout",
     "output_type": "stream",
     "text": [
      "\n",
      "False,\n",
      "False,\n",
      "False,\n",
      "False,\n",
      "False,\n",
      "False,\n",
      "False\n",
      " \n"
     ]
    }
   ],
   "source": [
    "my_dict={}\n",
    "my_list=[]\n",
    "my_str=\"\"\n",
    "my_tup=()\n",
    "my_set=set()\n",
    "message = f\"\"\"\n",
    "{bool(my_dict)},\n",
    "{bool(my_list)},\n",
    "{bool(my_str)},\n",
    "{bool(my_tup)},\n",
    "{bool(my_set)},\n",
    "{bool(None)},\n",
    "{bool(0)}\n",
    " \"\"\"\n",
    "print(message)\n"
   ]
  }
 ],
 "metadata": {
  "kernelspec": {
   "display_name": "Python 3.6.6 64-bit",
   "metadata": {
    "interpreter": {
     "hash": "2e5c6628eef985e7fd2fa2aad22c988c5b8aa1d2648cf9c51c543a2a2637c546"
    }
   },
   "name": "python3"
  },
  "language_info": {
   "codemirror_mode": {
    "name": "ipython",
    "version": 3
   },
   "file_extension": ".py",
   "mimetype": "text/x-python",
   "name": "python",
   "nbconvert_exporter": "python",
   "pygments_lexer": "ipython3",
   "version": "3.10.2"
  },
  "orig_nbformat": 2
 },
 "nbformat": 4,
 "nbformat_minor": 2
}
