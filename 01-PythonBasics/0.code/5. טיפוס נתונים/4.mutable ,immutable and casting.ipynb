{
 "metadata": {
  "language_info": {
   "codemirror_mode": {
    "name": "ipython",
    "version": 3
   },
   "file_extension": ".py",
   "mimetype": "text/x-python",
   "name": "python",
   "nbconvert_exporter": "python",
   "pygments_lexer": "ipython3",
   "version": "3.6.6-final"
  },
  "orig_nbformat": 2,
  "kernelspec": {
   "name": "python3",
   "display_name": "Python 3.6.6 64-bit",
   "metadata": {
    "interpreter": {
     "hash": "2e5c6628eef985e7fd2fa2aad22c988c5b8aa1d2648cf9c51c543a2a2637c546"
    }
   }
  }
 },
 "nbformat": 4,
 "nbformat_minor": 2,
 "cells": [
  {
   "source": [
    "__________\n",
    "## mutable and immutable:"
   ],
   "cell_type": "markdown",
   "metadata": {}
  },
  {
   "source": [
    "### immutable: "
   ],
   "cell_type": "markdown",
   "metadata": {}
  },
  {
   "cell_type": "code",
   "execution_count": 1,
   "metadata": {},
   "outputs": [
    {
     "output_type": "stream",
     "name": "stdout",
     "text": [
      "1786932256\n1786932288\n"
     ]
    }
   ],
   "source": [
    "x = 1\n",
    "print(id(x))\n",
    "x+=1\n",
    "print(id(x))\n"
   ]
  },
  {
   "cell_type": "code",
   "execution_count": 2,
   "metadata": {},
   "outputs": [
    {
     "output_type": "execute_result",
     "data": {
      "text/plain": [
       "True"
      ]
     },
     "metadata": {},
     "execution_count": 2
    }
   ],
   "source": [
    "str1 = \"String\"\n",
    "str2 = 'String'\n",
    "str1 is str2\n"
   ]
  },
  {
   "source": [
    "### mutable:"
   ],
   "cell_type": "markdown",
   "metadata": {}
  },
  {
   "cell_type": "code",
   "execution_count": 3,
   "metadata": {},
   "outputs": [
    {
     "output_type": "stream",
     "name": "stdout",
     "text": [
      "147694792\n147694792\n"
     ]
    }
   ],
   "source": [
    "lst = [1,2]\n",
    "print(id(lst))\n",
    "lst.append(3)\n",
    "print(id(lst))"
   ]
  },
  {
   "source": [
    "_______\n",
    "## Casting"
   ],
   "cell_type": "markdown",
   "metadata": {}
  },
  {
   "cell_type": "code",
   "execution_count": 4,
   "metadata": {},
   "outputs": [
    {
     "output_type": "stream",
     "name": "stdout",
     "text": [
      "x= 3 type(y) <class 'str'> z= 3.0\n(3+0j)\n"
     ]
    }
   ],
   "source": [
    "x = 3\n",
    "y = str(x)\n",
    "z = float(y)\n",
    "print('x=',x,'type(y)',type(y),'z=',z)\n",
    "print(complex(z))"
   ]
  },
  {
   "source": [
    "### Cating to bool"
   ],
   "cell_type": "markdown",
   "metadata": {}
  },
  {
   "cell_type": "code",
   "execution_count": 5,
   "metadata": {},
   "outputs": [
    {
     "output_type": "stream",
     "name": "stdout",
     "text": [
      "\nFalse,\nFalse,\nFalse,\nFalse,\nFalse,\nFalse,\nFalse\n \n"
     ]
    }
   ],
   "source": [
    "my_dict={}\n",
    "my_list=[]\n",
    "my_str=\"\"\n",
    "my_tup=()\n",
    "my_set=set()\n",
    "message = f\"\"\"\n",
    "{bool(my_dict)},\n",
    "{bool(my_list)},\n",
    "{bool(my_str)},\n",
    "{bool(my_tup)},\n",
    "{bool(my_set)},\n",
    "{bool(None)},\n",
    "{bool(0)}\n",
    " \"\"\"\n",
    "print(message)\n"
   ]
  }
 ]
}