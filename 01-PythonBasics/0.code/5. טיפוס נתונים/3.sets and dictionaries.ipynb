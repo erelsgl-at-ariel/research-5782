{
 "metadata": {
  "language_info": {
   "codemirror_mode": {
    "name": "ipython",
    "version": 3
   },
   "file_extension": ".py",
   "mimetype": "text/x-python",
   "name": "python",
   "nbconvert_exporter": "python",
   "pygments_lexer": "ipython3",
   "version": "3.6.6-final"
  },
  "orig_nbformat": 2,
  "kernelspec": {
   "name": "python3",
   "display_name": "Python 3.6.6 64-bit",
   "metadata": {
    "interpreter": {
     "hash": "2e5c6628eef985e7fd2fa2aad22c988c5b8aa1d2648cf9c51c543a2a2637c546"
    }
   }
  }
 },
 "nbformat": 4,
 "nbformat_minor": 2,
 "cells": [
  {
   "source": [
    "________________________________\n",
    "## Data Structure:"
   ],
   "cell_type": "markdown",
   "metadata": {}
  },
  {
   "source": [
    "## Sets:"
   ],
   "cell_type": "markdown",
   "metadata": {}
  },
  {
   "cell_type": "code",
   "execution_count": 1,
   "metadata": {},
   "outputs": [],
   "source": [
    "my_set = {1 ,(2 ,3), '4'} #=> OK"
   ]
  },
  {
   "cell_type": "code",
   "execution_count": 2,
   "metadata": {},
   "outputs": [
    {
     "output_type": "error",
     "ename": "TypeError",
     "evalue": "unhashable type: 'list'",
     "traceback": [
      "\u001b[1;31m---------------------------------------------------------------------------\u001b[0m",
      "\u001b[1;31mTypeError\u001b[0m                                 Traceback (most recent call last)",
      "\u001b[1;32m<ipython-input-2-cc04d42d9ae8>\u001b[0m in \u001b[0;36m<module>\u001b[1;34m\u001b[0m\n\u001b[1;32m----> 1\u001b[1;33m \u001b[0mmy_set\u001b[0m \u001b[1;33m=\u001b[0m \u001b[1;33m{\u001b[0m\u001b[1;36m1\u001b[0m \u001b[1;33m,\u001b[0m\u001b[1;33m[\u001b[0m\u001b[1;36m2\u001b[0m\u001b[1;33m,\u001b[0m\u001b[1;36m3\u001b[0m\u001b[1;33m]\u001b[0m\u001b[1;33m,\u001b[0m\u001b[1;34m'4'\u001b[0m\u001b[1;33m}\u001b[0m \u001b[1;31m#=> Exception\u001b[0m\u001b[1;33m\u001b[0m\u001b[0m\n\u001b[0m",
      "\u001b[1;31mTypeError\u001b[0m: unhashable type: 'list'"
     ]
    }
   ],
   "source": [
    "my_set = {1 ,[2,3],'4'} #=> Exception - sets get only immutable items"
   ]
  },
  {
   "cell_type": "code",
   "execution_count": 5,
   "metadata": {},
   "outputs": [
    {
     "output_type": "stream",
     "name": "stdout",
     "text": [
      "type(a) = <class 'set'>\ntype(b) = <class 'dict'>\n"
     ]
    }
   ],
   "source": [
    "# Creating an empty set only with set():\n",
    "# a set\n",
    "a = set()\n",
    "# a dictionary\n",
    "b = {}\n",
    "print(f'type(a) = {type(a)}')\n",
    "print(f'type(b) = {type(b)}')"
   ]
  },
  {
   "source": [
    "### Access Items"
   ],
   "cell_type": "markdown",
   "metadata": {}
  },
  {
   "cell_type": "code",
   "execution_count": 9,
   "metadata": {},
   "outputs": [
    {
     "output_type": "stream",
     "name": "stdout",
     "text": [
      "True\nbanana\ncherry\napple\n"
     ]
    }
   ],
   "source": [
    "fruit_set = {\"apple\", \"banana\", \"cherry\"}\n",
    "print(\"banana\" in fruit_set)\n",
    "# fruit_set[0] => Exception- items arn't continuous in memory\n",
    "for fruit in fruit_set: #foreach \n",
    "    print(fruit)"
   ]
  },
  {
   "source": [
    "### Add Items:"
   ],
   "cell_type": "markdown",
   "metadata": {}
  },
  {
   "cell_type": "code",
   "execution_count": 14,
   "metadata": {},
   "outputs": [
    {
     "output_type": "stream",
     "name": "stdout",
     "text": [
      "{'yellow', 'blue', 'red'}\n{'yellow', 'purple', 'red', 'navy', 'blue', 'gray'}\n{'yellow', 'purple', 'red', 'rose', 'navy', 'orange', 'blue', 'gray'}\n"
     ]
    }
   ],
   "source": [
    "#add()\n",
    "set_of_colors = {'red','blue'}\n",
    "set_of_colors.add('yellow')\n",
    "print(set_of_colors)\n",
    "\n",
    "# update():\n",
    "set_of_bluish_color = {'purple','navy','gray'}\n",
    "set_of_colors.update(set_of_bluish_color)\n",
    "print(set_of_colors)\n",
    "# The object in the update() method does not have be a set, it can be any iterable object:\n",
    "tuple_of_redish_colors = ('orange' , 'rose' )\n",
    "set_of_colors.update(tuple_of_redish_colors)\n",
    "print(set_of_colors)\n"
   ]
  },
  {
   "source": [
    "### Remove Item:"
   ],
   "cell_type": "markdown",
   "metadata": {}
  },
  {
   "cell_type": "code",
   "execution_count": 24,
   "metadata": {},
   "outputs": [
    {
     "output_type": "stream",
     "name": "stdout",
     "text": [
      "{'Chicken', 'Cat', 'Dog'}\nKeyError!!!\n{'Cat', 'Dog'}\nNo Errors?!\nset()\n"
     ]
    }
   ],
   "source": [
    "# remove()\r\n",
    "set_of_animals = {'Dog','Cat','Chicken','virus'}\r\n",
    "set_of_animals.remove('virus')\r\n",
    "print(set_of_animals)\r\n",
    "\r\n",
    "# If the item to remove does not exist, remove() will raise an error:\r\n",
    "try:\r\n",
    "    set_of_animals.remove('virus')\r\n",
    "except KeyError:\r\n",
    "    print('KeyError!!!')\r\n",
    "\r\n",
    "\r\n",
    "# discard():\r\n",
    "mammals_set = set()\r\n",
    "mammals_set.update(set_of_animals)\r\n",
    "mammals_set.discard('Chicken')\r\n",
    "print(mammals_set)\r\n",
    "\r\n",
    "# If the item to remove does not exist, discard() will NOT raise an error.\r\n",
    "mammals_set.discard('Chicken')\r\n",
    "print('No Errors?!')\r\n",
    "\r\n",
    "#clear()\r\n",
    "# The clear() method empties the set:\r\n",
    "empty_set = {'empty','empty','empty'}\r\n",
    "empty_set.clear()\r\n",
    "print(empty_set) #=> Note that empty set is set() and not {}"
   ]
  },
  {
   "source": [
    "### Join Sets:"
   ],
   "cell_type": "markdown",
   "metadata": {}
  },
  {
   "cell_type": "code",
   "execution_count": 32,
   "metadata": {},
   "outputs": [
    {
     "output_type": "stream",
     "name": "stdout",
     "text": [
      "{'red', 'banan', 'blue', 'orange', 'apple'}\n{'orange'}\n{'orange'}\n{'red', 'blue', 'banan', 'apple'}\n{'red', 'banan', 'blue', 'apple'}\n"
     ]
    }
   ],
   "source": [
    "# union()\n",
    "# The union() method returns a new set with all items from both sets:\n",
    "set_1 = {\"blue\", \"orange\", \"red\"}\n",
    "set_2 = {\"apple\", \"banan\", \"orange\"}\n",
    "set_3 = set_1.union(set_2)\n",
    "print(set_3)\n",
    "\n",
    "# intersection_update()\n",
    "# Keeping the items that exist in both set 1, and set 2:\n",
    "set_1 = {\"blue\", \"orange\", \"red\"}\n",
    "set_2 = {\"apple\", \"banan\", \"orange\"}\n",
    "set_1.intersection_update(set_2)\n",
    "print(set_1)\n",
    "\n",
    "# intersection()\n",
    "# Return a set that contains the items that exist in both set 1, and set 2:\n",
    "set_1 = {\"blue\", \"orange\", \"red\"}\n",
    "set_2 = {\"apple\", \"banan\", \"orange\"}\n",
    "set_3 = set_1.intersection(set_2)\n",
    "print(set_3)\n",
    "\n",
    "# symmetric_difference_update()\n",
    "# Keeping the items that are not present in both sets:\n",
    "set_1 = {\"blue\", \"orange\", \"red\"}\n",
    "set_2 = {\"apple\", \"banan\", \"orange\"}\n",
    "set_1.symmetric_difference_update(set_2)\n",
    "print(set_1)\n",
    "\n",
    "# symmetric_difference()\n",
    "# Returning a set that contains all items from both sets, except items that are present in both:\n",
    "set_1 = {\"blue\", \"orange\", \"red\"}\n",
    "set_2 = {\"apple\", \"banan\", \"orange\"}\n",
    "set_3 = set_1.symmetric_difference(set_2)\n",
    "print(set_3)"
   ]
  },
  {
   "source": [
    "[more about sets methods you can find here](https://www.w3schools.com/python/python_sets_methods.asp)"
   ],
   "cell_type": "markdown",
   "metadata": {}
  },
  {
   "source": [
    "________________________________\n",
    "## Data Structure:"
   ],
   "cell_type": "markdown",
   "metadata": {}
  },
  {
   "source": [
    "## dictionary:"
   ],
   "cell_type": "markdown",
   "metadata": {}
  },
  {
   "cell_type": "code",
   "execution_count": 33,
   "metadata": {},
   "outputs": [],
   "source": [
    "my_dict= {\"some key\": \"some value\", 'other key': 1, (1,2): \"tuple key\"}"
   ]
  },
  {
   "cell_type": "code",
   "execution_count": 34,
   "metadata": {},
   "outputs": [
    {
     "output_type": "error",
     "ename": "TypeError",
     "evalue": "unhashable type: 'list'",
     "traceback": [
      "\u001b[1;31m---------------------------------------------------------------------------\u001b[0m",
      "\u001b[1;31mTypeError\u001b[0m                                 Traceback (most recent call last)",
      "\u001b[1;32m<ipython-input-34-33cdbde8065c>\u001b[0m in \u001b[0;36m<module>\u001b[1;34m\u001b[0m\n\u001b[0;32m      1\u001b[0m \u001b[1;31m# Exception - keys must be immutables:\u001b[0m\u001b[1;33m\u001b[0m\u001b[1;33m\u001b[0m\u001b[0m\n\u001b[1;32m----> 2\u001b[1;33m \u001b[0mmy_dict\u001b[0m\u001b[1;33m=\u001b[0m \u001b[1;33m{\u001b[0m\u001b[1;34m\"some key\"\u001b[0m\u001b[1;33m:\u001b[0m \u001b[1;34m\"some value\"\u001b[0m\u001b[1;33m,\u001b[0m \u001b[1;34m'other key'\u001b[0m\u001b[1;33m:\u001b[0m \u001b[1;36m1\u001b[0m\u001b[1;33m,\u001b[0m \u001b[1;33m[\u001b[0m\u001b[1;36m1\u001b[0m\u001b[1;33m,\u001b[0m\u001b[1;36m2\u001b[0m\u001b[1;33m]\u001b[0m\u001b[1;33m:\u001b[0m \u001b[1;34m\"tuple key\"\u001b[0m\u001b[1;33m}\u001b[0m\u001b[1;33m\u001b[0m\u001b[0m\n\u001b[0m",
      "\u001b[1;31mTypeError\u001b[0m: unhashable type: 'list'"
     ]
    }
   ],
   "source": [
    "# Exception - keys must be immutables:\n",
    "my_dict= {\"some key\": \"some value\", 'other key': 1, [1,2]: \"list key?\"}"
   ]
  },
  {
   "cell_type": "code",
   "execution_count": 36,
   "metadata": {},
   "outputs": [],
   "source": [
    "# But values can be mutables:\n",
    "my_dict= {\"some key\": \"some value\", 'other key': 1, (1,2): [\"tuple key\",'list value']}"
   ]
  },
  {
   "source": [
    "### Accessing Items"
   ],
   "cell_type": "markdown",
   "metadata": {}
  },
  {
   "cell_type": "code",
   "execution_count": 40,
   "metadata": {},
   "outputs": [
    {
     "output_type": "stream",
     "name": "stdout",
     "text": [
      "some value\nKeyError- unkown key!!!\nother value\nNone\n"
     ]
    }
   ],
   "source": [
    "# operator [] \n",
    "my_dict= {\"some key\": \"some value\", 'other key': 'other value'}\n",
    "print(my_dict['some key'])\n",
    "# If key doesn't exist the function will throw an exception:\n",
    "try:\n",
    "    my_dict['unknown key']\n",
    "except KeyError:\n",
    "    print('KeyError- unkown key!!!')\n",
    "\n",
    "# get()\n",
    "print(my_dict.get('other key'))\n",
    "# If key doesn't exist the function will return a None:\n",
    "print(my_dict.get('unknown key'))"
   ]
  },
  {
   "cell_type": "code",
   "execution_count": 51,
   "metadata": {},
   "outputs": [
    {
     "output_type": "stream",
     "name": "stdout",
     "text": [
      "dict_keys(['some key', 'other key'])\n<class 'dict_keys'>\ndict_values(['some value', 'other value'])\n<class 'dict_values'>\ndict_values(['some value', 'new value'])\ndict_items([('some key', 'some value'), ('other key', 'new value')])\n<class 'dict_items'>\ndict_items([('some key', 'some value'), ('other key', 'other value')])\n"
     ]
    }
   ],
   "source": [
    "# to get all the keys: \n",
    "#key()\n",
    "my_dict= {\"some key\": \"some value\", 'other key': 'other value'}\n",
    "keys = my_dict.keys()\n",
    "print(keys)\n",
    "print(type(keys))\n",
    "\n",
    "# to get all values: \n",
    "# values()\n",
    "values = my_dict.values()\n",
    "print(values)\n",
    "print(type(values))\n",
    "# If you change a certien value, the change will also be seen in the object  \n",
    "my_dict['other key'] = 'new value'\n",
    "print(values)\n",
    "\n",
    "\n",
    "# items()\n",
    "# The items() method will return each item in a dictionary, as tuples in a list.\n",
    "my_dict_items = my_dict.items()\n",
    "print(my_dict_items)\n",
    "print(type(my_dict_items))\n",
    "# If you change a certien value, the change will also be seen in the object\n",
    "my_dict['other key'] = 'other value'\n",
    "print(my_dict_items)"
   ]
  },
  {
   "source": [
    "### Change and adding items:"
   ],
   "cell_type": "markdown",
   "metadata": {}
  },
  {
   "cell_type": "code",
   "execution_count": 65,
   "metadata": {},
   "outputs": [
    {
     "output_type": "stream",
     "name": "stdout",
     "text": [
      "dict_values(['value was changed', 'other value', 'new value'])\ndict_values(['some value', 'other value', 'new value', 'ultimate value'])\ncopy_dict == my_dict ? True\n"
     ]
    }
   ],
   "source": [
    "#You can change and add the value of a specific item by referring to its key name:\n",
    "my_dict= {\"some key\": \"some value\", 'other key': 'other value'}\n",
    "my_dict['some key'] = 'value was changed'\n",
    "my_dict['new key'] =  'new value'\n",
    "print(my_dict.values())\n",
    "\n",
    "# update():\n",
    "# The update() method will update the dictionary with the items from the given argument.\n",
    "my_dict.update({'some key' : 'some value'})\n",
    "my_dict.update({'ultimate key': 'ultimate value'})\n",
    "print(my_dict.values())\n",
    "\n",
    "# copy()\n",
    "copy_dict = my_dict.copy()\n",
    "print(f'copy_dict == my_dict ? {copy_dict == my_dict}')"
   ]
  },
  {
   "source": [
    "### Removing items:"
   ],
   "cell_type": "markdown",
   "metadata": {}
  },
  {
   "cell_type": "code",
   "execution_count": 61,
   "metadata": {},
   "outputs": [
    {
     "output_type": "stream",
     "name": "stdout",
     "text": [
      "{'some key': 'some value', 'other key': 'other value', 'new key': 'new value'}\n{'some key': 'some value', 'other key': 'other value'}\n{}\n"
     ]
    }
   ],
   "source": [
    "my_dict= {\"some key\": \"some value\", 'other key': 'other value'}\n",
    "my_dict['new key'] =  'new value'\n",
    "my_dict['ultimate key'] =  'ultimate value'\n",
    "\n",
    "#pop()\n",
    "# The pop() method removes the item with the specified key name:\n",
    "my_dict.pop('ultimate key')\n",
    "print(my_dict)\n",
    "\n",
    "# popitem()\n",
    "# The popitem() method removes the last inserted item\n",
    "my_dict.popitem()\n",
    "print(my_dict)\n",
    "\n",
    "# clear()\n",
    "my_dict.clear()\n",
    "print(my_dict)"
   ]
  },
  {
   "source": [
    "[more about dict methods you can find here](https://www.w3schools.com/python/python_dictionaries_methods.asp)"
   ],
   "cell_type": "markdown",
   "metadata": {}
  },
  {
   "source": [
    "### Len funtion():"
   ],
   "cell_type": "markdown",
   "metadata": {}
  },
  {
   "cell_type": "code",
   "execution_count": 71,
   "metadata": {},
   "outputs": [
    {
     "output_type": "stream",
     "name": "stdout",
     "text": [
      "2,2,3,2,2 \n"
     ]
    }
   ],
   "source": [
    "my_dict = {\"some key\":1, 'other key': 2}\n",
    "my_set = {1 ,2}\n",
    "my_str = \"1,2\"\n",
    "my_lst = [1,2]\n",
    "my_tup = (1,2)\n",
    "message = f\"{len(my_dict)},{len(my_lst)},{len(my_str)},{len(my_tup)},{len(my_set)} \"\n",
    "print(message) \n"
   ]
  }
 ]
}