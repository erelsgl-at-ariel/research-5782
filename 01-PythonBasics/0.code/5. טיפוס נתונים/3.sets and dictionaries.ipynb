{
 "cells": [
  {
   "cell_type": "markdown",
   "metadata": {},
   "source": [
    "________________________________\n",
    "## Data Structure:"
   ]
  },
  {
   "cell_type": "markdown",
   "metadata": {},
   "source": [
    "## Sets:"
   ]
  },
  {
   "cell_type": "code",
   "execution_count": 1,
   "metadata": {},
   "outputs": [
    {
     "name": "stdout",
     "output_type": "stream",
     "text": [
      "{(2, 3), 1, '4'}\n"
     ]
    }
   ],
   "source": [
    "my_set = {1 ,(2 ,3), '4'} #=> OK\n",
    "print(my_set)"
   ]
  },
  {
   "cell_type": "code",
   "execution_count": 2,
   "metadata": {},
   "outputs": [
    {
     "ename": "TypeError",
     "evalue": "unhashable type: 'list'",
     "output_type": "error",
     "traceback": [
      "\u001b[1;31m---------------------------------------------------------------------------\u001b[0m",
      "\u001b[1;31mTypeError\u001b[0m                                 Traceback (most recent call last)",
      "Input \u001b[1;32mIn [2]\u001b[0m, in \u001b[0;36m<module>\u001b[1;34m\u001b[0m\n\u001b[1;32m----> 1\u001b[0m my_set \u001b[38;5;241m=\u001b[39m {\u001b[38;5;241m1\u001b[39m ,[\u001b[38;5;241m2\u001b[39m,\u001b[38;5;241m3\u001b[39m],\u001b[38;5;124m'\u001b[39m\u001b[38;5;124m4\u001b[39m\u001b[38;5;124m'\u001b[39m}\n",
      "\u001b[1;31mTypeError\u001b[0m: unhashable type: 'list'"
     ]
    }
   ],
   "source": [
    "my_set = {1 ,[2,3],'4'} #=> Exception - sets get only immutable items"
   ]
  },
  {
   "cell_type": "code",
   "execution_count": 3,
   "metadata": {},
   "outputs": [
    {
     "name": "stdout",
     "output_type": "stream",
     "text": [
      "type(a) = <class 'set'>\n",
      "type(b) = <class 'dict'>\n"
     ]
    }
   ],
   "source": [
    "# Creating an empty set only with set():\n",
    "# a set\n",
    "a = set()\n",
    "# a dictionary\n",
    "b = {}\n",
    "print(f'type(a) = {type(a)}')\n",
    "print(f'type(b) = {type(b)}')"
   ]
  },
  {
   "cell_type": "markdown",
   "metadata": {},
   "source": [
    "### Access Items"
   ]
  },
  {
   "cell_type": "code",
   "execution_count": 4,
   "metadata": {},
   "outputs": [
    {
     "name": "stdout",
     "output_type": "stream",
     "text": [
      "True\n",
      "cherry\n",
      "apple\n",
      "banana\n"
     ]
    }
   ],
   "source": [
    "fruit_set = {\"apple\", \"banana\", \"cherry\"}\n",
    "print(\"banana\" in fruit_set)\n",
    "# fruit_set[0] => Exception- items arn't continuous in memory\n",
    "for fruit in fruit_set: #foreach \n",
    "    print(fruit)"
   ]
  },
  {
   "cell_type": "markdown",
   "metadata": {},
   "source": [
    "### Add Items:"
   ]
  },
  {
   "cell_type": "code",
   "execution_count": 14,
   "metadata": {},
   "outputs": [
    {
     "name": "stdout",
     "output_type": "stream",
     "text": [
      "{'yellow', 'blue', 'red'}\n",
      "{'yellow', 'purple', 'red', 'navy', 'blue', 'gray'}\n",
      "{'yellow', 'purple', 'red', 'rose', 'navy', 'orange', 'blue', 'gray'}\n"
     ]
    }
   ],
   "source": [
    "#add()\n",
    "set_of_colors = {'red','blue'}\n",
    "set_of_colors.add('yellow')\n",
    "print(set_of_colors)\n",
    "\n",
    "# update():\n",
    "set_of_bluish_color = {'purple','navy','gray'}\n",
    "set_of_colors.update(set_of_bluish_color)\n",
    "print(set_of_colors)\n",
    "# The object in the update() method does not have be a set, it can be any iterable object:\n",
    "tuple_of_redish_colors = ('orange' , 'rose' )\n",
    "set_of_colors.update(tuple_of_redish_colors)\n",
    "print(set_of_colors)\n"
   ]
  },
  {
   "cell_type": "markdown",
   "metadata": {},
   "source": [
    "### Remove Item:"
   ]
  },
  {
   "cell_type": "code",
   "execution_count": 4,
   "metadata": {},
   "outputs": [
    {
     "name": "stdout",
     "output_type": "stream",
     "text": [
      "{'Chicken', 'Dog', 'Cat'}\n"
     ]
    }
   ],
   "source": [
    "# remove()\n",
    "set_of_animals = {'Dog','Cat','Chicken','virus'}\n",
    "set_of_animals.remove('virus')\n",
    "print(set_of_animals)\n"
   ]
  },
  {
   "cell_type": "code",
   "execution_count": 5,
   "metadata": {},
   "outputs": [
    {
     "name": "stdout",
     "output_type": "stream",
     "text": [
      "KeyError!!!\n"
     ]
    }
   ],
   "source": [
    "\n",
    "# If the item to remove does not exist, remove() will raise an error:\n",
    "try:\n",
    "    set_of_animals.remove('virus')\n",
    "except KeyError:\n",
    "    print('KeyError!!!')\n"
   ]
  },
  {
   "cell_type": "code",
   "execution_count": 6,
   "metadata": {},
   "outputs": [
    {
     "name": "stdout",
     "output_type": "stream",
     "text": [
      "{'Dog', 'Cat'}\n"
     ]
    }
   ],
   "source": [
    "\n",
    "\n",
    "# discard():\n",
    "mammals_set = set()\n",
    "mammals_set.update(set_of_animals)\n",
    "mammals_set.discard('Chicken')\n",
    "print(mammals_set)\n"
   ]
  },
  {
   "cell_type": "code",
   "execution_count": 7,
   "metadata": {},
   "outputs": [
    {
     "name": "stdout",
     "output_type": "stream",
     "text": [
      "No Errors?!\n"
     ]
    }
   ],
   "source": [
    "\n",
    "# If the item to remove does not exist, discard() will NOT raise an error.\n",
    "mammals_set.discard('Chicken')\n",
    "print('No Errors?!')\n"
   ]
  },
  {
   "cell_type": "code",
   "execution_count": 8,
   "metadata": {},
   "outputs": [
    {
     "name": "stdout",
     "output_type": "stream",
     "text": [
      "set()\n"
     ]
    }
   ],
   "source": [
    "\n",
    "#clear()\n",
    "# The clear() method empties the set:\n",
    "empty_set = {'empty','empty','empty'}\n",
    "empty_set.clear()\n",
    "print(empty_set) #=> Note that empty set is set() and not {}"
   ]
  },
  {
   "cell_type": "markdown",
   "metadata": {},
   "source": [
    "### Join Sets:"
   ]
  },
  {
   "cell_type": "code",
   "execution_count": 32,
   "metadata": {},
   "outputs": [
    {
     "name": "stdout",
     "output_type": "stream",
     "text": [
      "{'red', 'banan', 'blue', 'orange', 'apple'}\n",
      "{'orange'}\n",
      "{'orange'}\n",
      "{'red', 'blue', 'banan', 'apple'}\n",
      "{'red', 'banan', 'blue', 'apple'}\n"
     ]
    }
   ],
   "source": [
    "# union()\n",
    "# The union() method returns a new set with all items from both sets:\n",
    "set_1 = {\"blue\", \"orange\", \"red\"}\n",
    "set_2 = {\"apple\", \"banan\", \"orange\"}\n",
    "set_3 = set_1.union(set_2)\n",
    "print(set_3)\n",
    "\n",
    "# intersection_update()\n",
    "# Keeping the items that exist in both set 1, and set 2:\n",
    "set_1 = {\"blue\", \"orange\", \"red\"}\n",
    "set_2 = {\"apple\", \"banan\", \"orange\"}\n",
    "set_1.intersection_update(set_2)\n",
    "print(set_1)\n",
    "\n",
    "# intersection()\n",
    "# Return a set that contains the items that exist in both set 1, and set 2:\n",
    "set_1 = {\"blue\", \"orange\", \"red\"}\n",
    "set_2 = {\"apple\", \"banan\", \"orange\"}\n",
    "set_3 = set_1.intersection(set_2)\n",
    "print(set_3)\n",
    "\n",
    "# symmetric_difference_update()\n",
    "# Keeping the items that are not present in both sets:\n",
    "set_1 = {\"blue\", \"orange\", \"red\"}\n",
    "set_2 = {\"apple\", \"banan\", \"orange\"}\n",
    "set_1.symmetric_difference_update(set_2)\n",
    "print(set_1)\n",
    "\n",
    "# symmetric_difference()\n",
    "# Returning a set that contains all items from both sets, except items that are present in both:\n",
    "set_1 = {\"blue\", \"orange\", \"red\"}\n",
    "set_2 = {\"apple\", \"banan\", \"orange\"}\n",
    "set_3 = set_1.symmetric_difference(set_2)\n",
    "print(set_3)"
   ]
  },
  {
   "cell_type": "markdown",
   "metadata": {},
   "source": [
    "[more about sets methods you can find here](https://www.w3schools.com/python/python_sets_methods.asp)"
   ]
  },
  {
   "cell_type": "markdown",
   "metadata": {},
   "source": [
    "________________________________\n",
    "## Data Structure:"
   ]
  },
  {
   "cell_type": "markdown",
   "metadata": {},
   "source": [
    "## dictionary:"
   ]
  },
  {
   "cell_type": "code",
   "execution_count": 5,
   "metadata": {},
   "outputs": [],
   "source": [
    "my_dict= {\"some key\": \"some value\", 'other key': 1, (1,2): \"tuple key\"}"
   ]
  },
  {
   "cell_type": "code",
   "execution_count": 6,
   "metadata": {},
   "outputs": [
    {
     "ename": "TypeError",
     "evalue": "unhashable type: 'list'",
     "output_type": "error",
     "traceback": [
      "\u001b[1;31m---------------------------------------------------------------------------\u001b[0m",
      "\u001b[1;31mTypeError\u001b[0m                                 Traceback (most recent call last)",
      "Input \u001b[1;32mIn [6]\u001b[0m, in \u001b[0;36m<module>\u001b[1;34m\u001b[0m\n\u001b[0;32m      1\u001b[0m \u001b[38;5;66;03m# Exception - keys must be immutables:\u001b[39;00m\n\u001b[1;32m----> 2\u001b[0m my_dict\u001b[38;5;241m=\u001b[39m {\u001b[38;5;124m\"\u001b[39m\u001b[38;5;124msome key\u001b[39m\u001b[38;5;124m\"\u001b[39m: \u001b[38;5;124m\"\u001b[39m\u001b[38;5;124msome value\u001b[39m\u001b[38;5;124m\"\u001b[39m, \u001b[38;5;124m'\u001b[39m\u001b[38;5;124mother key\u001b[39m\u001b[38;5;124m'\u001b[39m: \u001b[38;5;241m1\u001b[39m, [\u001b[38;5;241m1\u001b[39m,\u001b[38;5;241m2\u001b[39m]: \u001b[38;5;124m\"\u001b[39m\u001b[38;5;124mlist key?\u001b[39m\u001b[38;5;124m\"\u001b[39m}\n",
      "\u001b[1;31mTypeError\u001b[0m: unhashable type: 'list'"
     ]
    }
   ],
   "source": [
    "# Exception - keys must be immutables:\n",
    "my_dict= {\"some key\": \"some value\", 'other key': 1, [1,2]: \"list key?\"}"
   ]
  },
  {
   "cell_type": "code",
   "execution_count": 7,
   "metadata": {},
   "outputs": [],
   "source": [
    "# But values can be mutables:\n",
    "my_dict= {\"some key\": \"some value\", 'other key': 1, (1,2): [\"tuple key\",'list value']}"
   ]
  },
  {
   "cell_type": "markdown",
   "metadata": {},
   "source": [
    "### Accessing Items"
   ]
  },
  {
   "cell_type": "code",
   "execution_count": 40,
   "metadata": {},
   "outputs": [
    {
     "name": "stdout",
     "output_type": "stream",
     "text": [
      "some value\n",
      "KeyError- unkown key!!!\n",
      "other value\n",
      "None\n"
     ]
    }
   ],
   "source": [
    "# operator [] \n",
    "my_dict= {\"some key\": \"some value\", 'other key': 'other value'}\n",
    "print(my_dict['some key'])\n",
    "# If key doesn't exist the function will throw an exception:\n",
    "try:\n",
    "    my_dict['unknown key']\n",
    "except KeyError:\n",
    "    print('KeyError- unkown key!!!')\n",
    "\n",
    "# get()\n",
    "print(my_dict.get('other key'))\n",
    "# If key doesn't exist the function will return a None:\n",
    "print(my_dict.get('unknown key'))"
   ]
  },
  {
   "cell_type": "code",
   "execution_count": 8,
   "metadata": {},
   "outputs": [
    {
     "name": "stdout",
     "output_type": "stream",
     "text": [
      "dict_keys(['some key', 'other key'])\n",
      "<class 'dict_keys'>\n"
     ]
    }
   ],
   "source": [
    "# to get all the keys: \n",
    "#key()\n",
    "my_dict= {\"some key\": \"some value\", 'other key': 'other value'}\n",
    "keys = my_dict.keys()\n",
    "print(keys)\n",
    "print(type(keys))"
   ]
  },
  {
   "cell_type": "code",
   "execution_count": 9,
   "metadata": {},
   "outputs": [
    {
     "name": "stdout",
     "output_type": "stream",
     "text": [
      "dict_values(['some value', 'other value'])\n",
      "<class 'dict_values'>\n",
      "dict_values(['some value', 'new value'])\n"
     ]
    }
   ],
   "source": [
    "# to get all values: \n",
    "# values()\n",
    "values = my_dict.values()\n",
    "print(values)\n",
    "print(type(values))\n",
    "# If you change a certien value, the change will also be seen in the object  \n",
    "my_dict['other key'] = 'new value'\n",
    "print(values)"
   ]
  },
  {
   "cell_type": "code",
   "execution_count": 12,
   "metadata": {},
   "outputs": [
    {
     "name": "stdout",
     "output_type": "stream",
     "text": [
      "dict_items([('some key', 'some value'), ('other key', 'other value')])\n",
      "<class 'dict_items'>\n",
      "dict_items([('some key', 'some value'), ('other key', 'other value')])\n",
      "key= some key ;  value= some value\n",
      "key= other key ;  value= other value\n"
     ]
    }
   ],
   "source": [
    "# items()\n",
    "# The items() method will return each item in a dictionary, as tuples in a list.\n",
    "my_dict_items = my_dict.items()\n",
    "print(my_dict_items)\n",
    "print(type(my_dict_items))\n",
    "# If you change a certien value, the change will also be seen in the object\n",
    "my_dict['other key'] = 'other value'\n",
    "print(my_dict_items)\n",
    "\n",
    "for k,v in my_dict.items():\n",
    "    print(\"key=\",k,\";  value=\",v)"
   ]
  },
  {
   "cell_type": "markdown",
   "metadata": {},
   "source": [
    "### Dict comprehension:"
   ]
  },
  {
   "cell_type": "code",
   "execution_count": 16,
   "metadata": {},
   "outputs": [
    {
     "name": "stdout",
     "output_type": "stream",
     "text": [
      "square_dict: {0: 0, 1: 1, 2: 4, 3: 9, 4: 16, 5: 25, 6: 36, 7: 49, 8: 64, 9: 81}\n",
      "square_dict_plus_1: {0: 1, 1: 2, 2: 5, 3: 10, 4: 17, 5: 26, 6: 37, 7: 50, 8: 65, 9: 82}\n"
     ]
    }
   ],
   "source": [
    "# Construct a dict from a list:\n",
    "square_dict = {i:i**2 for i in range(10)}\n",
    "print(\"square_dict:\", square_dict)\n",
    "\n",
    "# Construct a dict from a dict:\n",
    "square_dict_plus_1 = {k:v+1 for k,v in square_dict.items()}\n",
    "print(\"square_dict_plus_1:\", square_dict_plus_1)"
   ]
  },
  {
   "cell_type": "markdown",
   "metadata": {},
   "source": [
    "### Change and adding items:"
   ]
  },
  {
   "cell_type": "code",
   "execution_count": 65,
   "metadata": {},
   "outputs": [
    {
     "name": "stdout",
     "output_type": "stream",
     "text": [
      "dict_values(['value was changed', 'other value', 'new value'])\n",
      "dict_values(['some value', 'other value', 'new value', 'ultimate value'])\n",
      "copy_dict == my_dict ? True\n"
     ]
    }
   ],
   "source": [
    "#You can change and add the value of a specific item by referring to its key name:\n",
    "my_dict= {\"some key\": \"some value\", 'other key': 'other value'}\n",
    "my_dict['some key'] = 'value was changed'\n",
    "my_dict['new key'] =  'new value'\n",
    "print(my_dict.values())\n",
    "\n",
    "# update():\n",
    "# The update() method will update the dictionary with the items from the given argument.\n",
    "my_dict.update({'some key' : 'some value'})\n",
    "my_dict.update({'ultimate key': 'ultimate value'})\n",
    "print(my_dict.values())\n",
    "\n",
    "# copy()\n",
    "copy_dict = my_dict.copy()\n",
    "print(f'copy_dict == my_dict ? {copy_dict == my_dict}')"
   ]
  },
  {
   "cell_type": "markdown",
   "metadata": {},
   "source": [
    "### Removing items:"
   ]
  },
  {
   "cell_type": "code",
   "execution_count": 61,
   "metadata": {},
   "outputs": [
    {
     "name": "stdout",
     "output_type": "stream",
     "text": [
      "{'some key': 'some value', 'other key': 'other value', 'new key': 'new value'}\n",
      "{'some key': 'some value', 'other key': 'other value'}\n",
      "{}\n"
     ]
    }
   ],
   "source": [
    "my_dict= {\"some key\": \"some value\", 'other key': 'other value'}\n",
    "my_dict['new key'] =  'new value'\n",
    "my_dict['ultimate key'] =  'ultimate value'\n",
    "\n",
    "#pop()\n",
    "# The pop() method removes the item with the specified key name:\n",
    "my_dict.pop('ultimate key')\n",
    "print(my_dict)\n",
    "\n",
    "# popitem()\n",
    "# The popitem() method removes the last inserted item\n",
    "my_dict.popitem()\n",
    "print(my_dict)\n",
    "\n",
    "# clear()\n",
    "my_dict.clear()\n",
    "print(my_dict)"
   ]
  },
  {
   "cell_type": "markdown",
   "metadata": {},
   "source": [
    "[more about dict methods you can find here](https://www.w3schools.com/python/python_dictionaries_methods.asp)"
   ]
  },
  {
   "cell_type": "markdown",
   "metadata": {},
   "source": [
    "### Len funtion():"
   ]
  },
  {
   "cell_type": "code",
   "execution_count": 71,
   "metadata": {},
   "outputs": [
    {
     "name": "stdout",
     "output_type": "stream",
     "text": [
      "2,2,3,2,2 \n"
     ]
    }
   ],
   "source": [
    "my_dict = {\"some key\":1, 'other key': 2}\n",
    "my_set = {1 ,2}\n",
    "my_str = \"1,2\"\n",
    "my_lst = [1,2]\n",
    "my_tup = (1,2)\n",
    "message = f\"{len(my_dict)},{len(my_lst)},{len(my_str)},{len(my_tup)},{len(my_set)} \"\n",
    "print(message) \n"
   ]
  }
 ],
 "metadata": {
  "kernelspec": {
   "display_name": "Python 3.6.6 64-bit",
   "metadata": {
    "interpreter": {
     "hash": "2e5c6628eef985e7fd2fa2aad22c988c5b8aa1d2648cf9c51c543a2a2637c546"
    }
   },
   "name": "python3"
  },
  "language_info": {
   "codemirror_mode": {
    "name": "ipython",
    "version": 3
   },
   "file_extension": ".py",
   "mimetype": "text/x-python",
   "name": "python",
   "nbconvert_exporter": "python",
   "pygments_lexer": "ipython3",
   "version": "3.10.2"
  },
  "orig_nbformat": 2
 },
 "nbformat": 4,
 "nbformat_minor": 2
}
