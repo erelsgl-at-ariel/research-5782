{
 "cells": [
  {
   "cell_type": "markdown",
   "metadata": {},
   "source": [
    "________________\n",
    "# Numeric types:"
   ]
  },
  {
   "cell_type": "code",
   "execution_count": 6,
   "metadata": {},
   "outputs": [
    {
     "name": "stdout",
     "output_type": "stream",
     "text": [
      "<class 'int'>\n",
      "64444444444444444444444444444444444444444444444444444444444444444444444444444444444444444444444444444444444446\n"
     ]
    }
   ],
   "source": [
    "x=32222222222222222222222222222222222222222222222222222222222222222222222222222222222222222222222222222222222223\n",
    "print(type(x))\n",
    "print(x+x)\n"
   ]
  },
  {
   "cell_type": "code",
   "execution_count": 7,
   "metadata": {},
   "outputs": [
    {
     "name": "stdout",
     "output_type": "stream",
     "text": [
      "<class 'float'>\n"
     ]
    }
   ],
   "source": [
    "x=2.0\n",
    "print(type(x))"
   ]
  },
  {
   "cell_type": "code",
   "execution_count": 8,
   "metadata": {},
   "outputs": [
    {
     "name": "stdout",
     "output_type": "stream",
     "text": [
      "<class 'complex'>\n"
     ]
    },
    {
     "data": {
      "text/plain": [
       "(-4+0j)"
      ]
     },
     "execution_count": 8,
     "metadata": {},
     "output_type": "execute_result"
    }
   ],
   "source": [
    "x=2j\n",
    "print(type(x))\n",
    "x**2"
   ]
  },
  {
   "cell_type": "markdown",
   "metadata": {},
   "source": [
    "# Boolean:"
   ]
  },
  {
   "cell_type": "code",
   "execution_count": 9,
   "metadata": {},
   "outputs": [
    {
     "name": "stdout",
     "output_type": "stream",
     "text": [
      "<class 'bool'>\n",
      "<class 'bool'>\n"
     ]
    }
   ],
   "source": [
    "print(type(True))\n",
    "print(type(2 > 3))"
   ]
  },
  {
   "cell_type": "code",
   "execution_count": 10,
   "metadata": {},
   "outputs": [
    {
     "name": "stdout",
     "output_type": "stream",
     "text": [
      "True\n",
      "True\n",
      "False\n",
      "False\n"
     ]
    }
   ],
   "source": [
    "print(bool(\"Hello\"))\n",
    "print(bool(15))\n",
    "print(bool(0))\n",
    "print(bool(0.0))"
   ]
  },
  {
   "cell_type": "markdown",
   "metadata": {},
   "source": [
    "\n",
    "# Strings:"
   ]
  },
  {
   "cell_type": "code",
   "execution_count": 11,
   "metadata": {},
   "outputs": [
    {
     "name": "stdout",
     "output_type": "stream",
     "text": [
      "<class 'str'>\n"
     ]
    }
   ],
   "source": [
    "print(type('String'))"
   ]
  },
  {
   "cell_type": "markdown",
   "metadata": {},
   "source": [
    "### string operators:"
   ]
  },
  {
   "cell_type": "code",
   "execution_count": 14,
   "metadata": {},
   "outputs": [
    {
     "name": "stdout",
     "output_type": "stream",
     "text": [
      "HellowWorld\n",
      "Hellow World\n",
      "aaaa\n"
     ]
    }
   ],
   "source": [
    "# string operators:\n",
    "# Concatenation:\n",
    "print('Hellow'+'World')\n",
    "print('Hellow'+ ' ' + 'World') \n",
    "# Self Concatenation:\n",
    "print('a' * 4)"
   ]
  },
  {
   "cell_type": "code",
   "execution_count": 4,
   "metadata": {},
   "outputs": [
    {
     "name": "stdout",
     "output_type": "stream",
     "text": [
      "is\n",
      "my string\n",
      "This is\n",
      "my strin\n",
      "Ti sm ti\n"
     ]
    }
   ],
   "source": [
    "\n",
    "# Slicing strings:\n",
    "my_str = 'This is my string'\n",
    "print(my_str[5:7])\n",
    "print(my_str[8:])\n",
    "print(my_str[:7])\n",
    "print(my_str[-9:-1])\n",
    "print(my_str[0:15:2])"
   ]
  },
  {
   "cell_type": "code",
   "execution_count": 19,
   "metadata": {},
   "outputs": [
    {
     "name": "stdout",
     "output_type": "stream",
     "text": [
      "upper & lower functions:\n",
      "THIS IS MY STRING\n",
      "this is my string\n"
     ]
    }
   ],
   "source": [
    "# modifying strings: \n",
    "print('upper & lower functions:')\n",
    "print(my_str.upper())\n",
    "print(my_str.lower())\n"
   ]
  },
  {
   "cell_type": "code",
   "execution_count": 20,
   "metadata": {},
   "outputs": [
    {
     "name": "stdout",
     "output_type": "stream",
     "text": [
      "\n",
      "strip function: \n",
      " This is my string \n",
      "This is my string\n"
     ]
    }
   ],
   "source": [
    "\n",
    "#The strip() method removes any whitespace from the beginning or the end:\n",
    "print('\\nstrip function: ')\n",
    "my_str = ' '+my_str+' '\n",
    "print(my_str)\n",
    "my_str = my_str.strip()\n",
    "print(my_str)"
   ]
  },
  {
   "cell_type": "code",
   "execution_count": 23,
   "metadata": {},
   "outputs": [
    {
     "name": "stdout",
     "output_type": "stream",
     "text": [
      "\n",
      "replace function:\n",
      "This is not my string\n"
     ]
    }
   ],
   "source": [
    "\n",
    "#The replace() method replaces a string with another string:\n",
    "print('\\nreplace function:')\n",
    "print(my_str.replace(' is ',\" is not \"))\n"
   ]
  },
  {
   "cell_type": "markdown",
   "metadata": {},
   "source": [
    "[More about string methods you can find here](https://www.w3schools.com/python/python_ref_string.asp)"
   ]
  },
  {
   "cell_type": "markdown",
   "metadata": {},
   "source": [
    "### String formatting: "
   ]
  },
  {
   "cell_type": "code",
   "execution_count": 29,
   "metadata": {},
   "outputs": [
    {
     "name": "stdout",
     "output_type": "stream",
     "text": [
      "\n",
      "fstring: \n",
      "Hello, Eric Idle. You are 75. You are a comedian. You were a member of Monty Python.\n",
      "format function: \n",
      "Hello, Eric Idle. You are 75. You are a comedian. You were a member of Monty Python.\n"
     ]
    }
   ],
   "source": [
    "# String formating: \n",
    "first_name = \"Eric\"\n",
    "last_name = \"Idle\"\n",
    "age = 74\n",
    "profession = \"comedian\"\n",
    "affiliation = \"Monty Python\"\n",
    "\n",
    "print('\\nfstring: ')\n",
    "print(f\"Hello, {first_name} {last_name}. You are {age+1}. You are a {profession}. You were a member of {affiliation}.\")\n",
    "\n",
    "print('format function: ')\n",
    "str=\"Hello, {first_name} {last_name}. You are {age}. You are a {profession}. You were a member of {affiliation}.\"\n",
    "print(str.format(first_name=first_name, last_name=last_name, age=age+1, profession=profession, affiliation=affiliation))"
   ]
  },
  {
   "cell_type": "code",
   "execution_count": 31,
   "metadata": {},
   "outputs": [
    {
     "name": "stdout",
     "output_type": "stream",
     "text": [
      "12.30\n",
      "12.30000\n"
     ]
    }
   ],
   "source": [
    "#fstring: \n",
    "val = 12.3\n",
    "print(f'{val:.2f}')\n",
    "print(f'{val:.5f}')\n"
   ]
  },
  {
   "cell_type": "code",
   "execution_count": 32,
   "metadata": {},
   "outputs": [
    {
     "name": "stdout",
     "output_type": "stream",
     "text": [
      "12c\n",
      "454\n",
      "3.000000e+02\n"
     ]
    }
   ],
   "source": [
    "\n",
    "a = 300\n",
    "# hexadecimal\n",
    "print(f\"{a:x}\")\n",
    "# octal\n",
    "print(f\"{a:o}\")\n",
    "# scientific\n",
    "print(f\"{a:e}\")\n"
   ]
  }
 ],
 "metadata": {
  "interpreter": {
   "hash": "31f2aee4e71d21fbe5cf8b01ff0e069b9275f58929596ceb00d14d90e3e16cd6"
  },
  "kernelspec": {
   "display_name": "Python 3.8.10 64-bit",
   "name": "python3"
  },
  "language_info": {
   "codemirror_mode": {
    "name": "ipython",
    "version": 3
   },
   "file_extension": ".py",
   "mimetype": "text/x-python",
   "name": "python",
   "nbconvert_exporter": "python",
   "pygments_lexer": "ipython3",
   "version": "3.10.2"
  },
  "orig_nbformat": 2
 },
 "nbformat": 4,
 "nbformat_minor": 2
}
