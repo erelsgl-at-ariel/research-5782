{
 "metadata": {
  "language_info": {
   "codemirror_mode": {
    "name": "ipython",
    "version": 3
   },
   "file_extension": ".py",
   "mimetype": "text/x-python",
   "name": "python",
   "nbconvert_exporter": "python",
   "pygments_lexer": "ipython3",
   "version": "3.6.6-final"
  },
  "orig_nbformat": 2,
  "kernelspec": {
   "name": "python3",
   "display_name": "Python 3.6.6 64-bit",
   "metadata": {
    "interpreter": {
     "hash": "2e5c6628eef985e7fd2fa2aad22c988c5b8aa1d2648cf9c51c543a2a2637c546"
    }
   }
  }
 },
 "nbformat": 4,
 "nbformat_minor": 2,
 "cells": [
  {
   "source": [
    "________________\n",
    "# Numeric types:"
   ],
   "cell_type": "markdown",
   "metadata": {}
  },
  {
   "cell_type": "code",
   "execution_count": 1,
   "metadata": {},
   "outputs": [
    {
     "output_type": "stream",
     "name": "stdout",
     "text": [
      "<class 'int'>\n<class 'float'>\n<class 'complex'>\n"
     ]
    }
   ],
   "source": [
    "print(type(2))\n",
    "print(type(2.0))\n",
    "print(type(2j))"
   ]
  },
  {
   "source": [
    "# Boolean:"
   ],
   "cell_type": "markdown",
   "metadata": {}
  },
  {
   "cell_type": "code",
   "execution_count": 15,
   "metadata": {},
   "outputs": [
    {
     "output_type": "stream",
     "name": "stdout",
     "text": [
      "<class 'bool'>\n<class 'bool'>\nTrue\nTrue\nFalse\n"
     ]
    }
   ],
   "source": [
    "print(type(True))\n",
    "print(type(2 > 3))\n",
    "print(bool(\"Hello\"))\n",
    "print(bool(15))\n",
    "print(bool(0))"
   ]
  },
  {
   "source": [
    "\n",
    "# Strings:"
   ],
   "cell_type": "markdown",
   "metadata": {}
  },
  {
   "cell_type": "code",
   "execution_count": 3,
   "metadata": {},
   "outputs": [
    {
     "output_type": "stream",
     "name": "stdout",
     "text": [
      "<class 'str'>\n"
     ]
    }
   ],
   "source": [
    "print(type('String'))"
   ]
  },
  {
   "source": [
    "### string operators:"
   ],
   "cell_type": "markdown",
   "metadata": {}
  },
  {
   "cell_type": "code",
   "execution_count": 39,
   "metadata": {},
   "outputs": [
    {
     "output_type": "stream",
     "name": "stdout",
     "text": [
      "HellowWorld\nHellow World\naaaa\nmy string\nThis is\nmy strin\n"
     ]
    }
   ],
   "source": [
    "# string operators:\n",
    "# Concatenation:\n",
    "print('Hellow'+'World')\n",
    "print('Hellow'+ ' ' + 'World') \n",
    "# Self Concatenation:\n",
    "print('a'*4)\n",
    "#slicing strings:\n",
    "my_str = 'This is my string'\n",
    "print(my_str[8:])\n",
    "print(my_str[:7])\n",
    "print(my_str[-9:-1])"
   ]
  },
  {
   "cell_type": "code",
   "execution_count": 51,
   "metadata": {},
   "outputs": [
    {
     "output_type": "stream",
     "name": "stdout",
     "text": [
      "upper & lower functions:\nTHIS IS MY STRING\nthis is my string\n\nstrip function: \n This is my string \nThis is my string\n\nreplace function:\nThis is not my string\n\nsplit function:\n['This', 'my string']\n"
     ]
    }
   ],
   "source": [
    "# modifing strings: \n",
    "print('upper & lower functions:')\n",
    "print(my_str.upper())\n",
    "print(my_str.lower())\n",
    "\n",
    "#The strip() method removes any whitespace from the beginning or the end:\n",
    "print('\\nstrip function: ')\n",
    "my_str = ' '+my_str+' '\n",
    "print(my_str)\n",
    "my_str = my_str.strip()\n",
    "print(my_str)\n",
    "\n",
    "#The replace() method replaces a string with another string:\n",
    "print('\\nreplace function:')\n",
    "print(my_str.replace(' is ',\" is not \"))\n",
    "\n",
    "#The split() method splits the string into substrings if it finds instances of the separator:\n",
    "print('\\nsplit function:')\n",
    "print(my_str.split(' is '))"
   ]
  },
  {
   "source": [
    "[More about string methods you can find here](https://www.w3schools.com/python/python_ref_string.asp)"
   ],
   "cell_type": "markdown",
   "metadata": {}
  },
  {
   "source": [
    "### String formating: "
   ],
   "cell_type": "markdown",
   "metadata": {}
  },
  {
   "cell_type": "code",
   "execution_count": 55,
   "metadata": {},
   "outputs": [
    {
     "output_type": "stream",
     "name": "stdout",
     "text": [
      "format function: \nHello, Eric Idle. You are 74. You are a comedian. You were a member of Monty Python.\n\nfstring: \nHello, Eric Idle. You are 74. You are a comedian. You were a member of Monty Python.\n"
     ]
    }
   ],
   "source": [
    "# String formating: \n",
    "first_name = \"Eric\"\n",
    "last_name = \"Idle\"\n",
    "age = 74\n",
    "profession = \"comedian\"\n",
    "affiliation = \"Monty Python\"\n",
    "\n",
    "print('format function: ')\n",
    "print((\"Hello, {first_name} {last_name}. You are {age}. \" + \n",
    "    \"You are a {profession}. You were a member of {affiliation}.\") \\\n",
    "    .format(first_name=first_name, last_name=last_name, age=age, \\\n",
    "            profession=profession, affiliation=affiliation))\n",
    "\n",
    "print('\\nfstring: ')\n",
    "print(f\"Hello, {first_name} {last_name}. You are {age}. You are a {profession}. You were a member of {affiliation}.\")\n"
   ]
  },
  {
   "cell_type": "code",
   "execution_count": 56,
   "metadata": {},
   "outputs": [
    {
     "output_type": "stream",
     "name": "stdout",
     "text": [
      "12.30\n12.30000\n12c\n454\n3.000000e+02\n"
     ]
    }
   ],
   "source": [
    "#fstring: \n",
    "val = 12.3\n",
    "print(f'{val:.2f}')\n",
    "print(f'{val:.5f}')\n",
    "\n",
    "a = 300\n",
    "# hexadecimal\n",
    "print(f\"{a:x}\")\n",
    "# octal\n",
    "print(f\"{a:o}\")\n",
    "# scientific\n",
    "print(f\"{a:e}\")\n"
   ]
  }
 ]
}