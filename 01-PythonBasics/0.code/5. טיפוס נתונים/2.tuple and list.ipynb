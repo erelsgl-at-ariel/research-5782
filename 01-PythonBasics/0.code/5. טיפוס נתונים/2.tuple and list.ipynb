{
 "metadata": {
  "language_info": {
   "codemirror_mode": {
    "name": "ipython",
    "version": 3
   },
   "file_extension": ".py",
   "mimetype": "text/x-python",
   "name": "python",
   "nbconvert_exporter": "python",
   "pygments_lexer": "ipython3",
   "version": "3.6.6-final"
  },
  "orig_nbformat": 2,
  "kernelspec": {
   "name": "python3",
   "display_name": "Python 3.6.6 64-bit",
   "metadata": {
    "interpreter": {
     "hash": "2e5c6628eef985e7fd2fa2aad22c988c5b8aa1d2648cf9c51c543a2a2637c546"
    }
   }
  }
 },
 "nbformat": 4,
 "nbformat_minor": 2,
 "cells": [
  {
   "source": [
    "________________________________\n",
    "## Data Structure:"
   ],
   "cell_type": "markdown",
   "metadata": {}
  },
  {
   "source": [
    "## Lists and tuples: "
   ],
   "cell_type": "markdown",
   "metadata": {}
  },
  {
   "cell_type": "code",
   "execution_count": 1,
   "metadata": {},
   "outputs": [
    {
     "output_type": "stream",
     "name": "stdout",
     "text": [
      "<class 'list'>\n<class 'tuple'>\n1\n5\n[1, 2]\n[1, 3, 5]\n"
     ]
    }
   ],
   "source": [
    "lst = [1 ,'2' ,3.0]\n",
    "tup =(1 ,'2' ,3.0)\n",
    "print(type(lst))\n",
    "print(type(tup))\n",
    "\n",
    "# slicing list or tuple\n",
    "lst=[1,2,3,4,5]\n",
    "print(lst[0])\n",
    "print(lst[-1])  #the last cell of the list\n",
    "print(lst[0:2]) #from lst[0] to lst[2]\n",
    "print(lst[0::2]) \n"
   ]
  },
  {
   "source": [
    "### Change items in lists: "
   ],
   "cell_type": "markdown",
   "metadata": {}
  },
  {
   "cell_type": "code",
   "execution_count": 2,
   "metadata": {},
   "outputs": [
    {
     "output_type": "stream",
     "name": "stdout",
     "text": [
      "['one', 2, 'three']\n[2, 3, 5, 7, 11]\n[1, 2, 3, 4]\n[1, 2]\n"
     ]
    }
   ],
   "source": [
    "#changing the value of a specific item:\n",
    "my_list = [\"one\", \"two\", \"three\"]\n",
    "my_list[1] = 2\n",
    "print(my_list)\n",
    "\n",
    "#changing the value of items within a specific range:\n",
    "list_of_primes = [2,3,4,6,11]\n",
    "list_of_primes[2:4] = [5,7]\n",
    "print(list_of_primes)\n",
    "\n",
    "#If you insert more items than you replace, the new items will be inserted where you specified:\n",
    "my_list = [1,23,4]\n",
    "my_list[1:2] = [2,3]\n",
    "print(my_list)\n",
    "# or less: \n",
    "my_list[1:] = [2]\n",
    "print(my_list)\n",
    "\n"
   ]
  },
  {
   "source": [
    "### Copy lists and list comprehension:"
   ],
   "cell_type": "markdown",
   "metadata": {}
  },
  {
   "cell_type": "code",
   "execution_count": 27,
   "metadata": {},
   "outputs": [
    {
     "output_type": "stream",
     "name": "stdout",
     "text": [
      "[1, 2, 3, 4]\n['apple', 'banana', 'mango']\n"
     ]
    }
   ],
   "source": [
    "#copy() methods: \n",
    "orgin_list = [1,2,3,4]\n",
    "copied_list = orgin_list.copy()\n",
    "print(copied_list)\n",
    "\n",
    "#List Comprehension- List comprehension offers a shorter syntax when you want to create a new list based on the values of an existing list.\n",
    "#newlist = [expression for item in iterable if condition == True]\n",
    "fruits = [\"apple\", \"banana\", \"cherry\", \"kiwi\", \"mango\"]\n",
    "fruits_with_a = [x for x in fruits if \"a\" in x]\n",
    "print(fruits_with_a)"
   ]
  },
  {
   "source": [
    "### Add list items:"
   ],
   "cell_type": "markdown",
   "metadata": {}
  },
  {
   "cell_type": "code",
   "execution_count": 13,
   "metadata": {},
   "outputs": [
    {
     "output_type": "stream",
     "name": "stdout",
     "text": [
      "['red', 'blue', 'yellow', 'green']\n['red', 'orange', 'blue', 'yellow', 'green']\n['red', 'orange', 'blue', 'yellow', 'green', 'purple', 'navy', 'gray']\n"
     ]
    }
   ],
   "source": [
    "#adding an item to the end of the list:\n",
    "list_of_colors = ['red','blue','yellow']\n",
    "list_of_colors.append('green')\n",
    "print(list_of_colors)\n",
    "\n",
    "#inserting a list item at a specified index:\n",
    "list_of_colors.insert(1,'orange')\n",
    "print(list_of_colors)\n",
    "\n",
    "#appending elements from another list or tuple to the current list:\n",
    "bluish_colors_tuple = ('purple','navy','gray')\n",
    "list_of_colors.extend(bluish_colors)\n",
    "print(list_of_colors)"
   ]
  },
  {
   "source": [
    "### Remove Specified Item"
   ],
   "cell_type": "markdown",
   "metadata": {}
  },
  {
   "cell_type": "code",
   "execution_count": 20,
   "metadata": {},
   "outputs": [
    {
     "output_type": "stream",
     "name": "stdout",
     "text": [
      "['Dog', 'Cat', 'Chicken']\n['Dog', 'Cat']\n[]\n"
     ]
    }
   ],
   "source": [
    "# remove() method\n",
    "animals_list = ['Dog','Cat','Chicken','virus']\n",
    "animals_list.remove('virus')\n",
    "print(animals_list)\n",
    "\n",
    "# pop() methods\n",
    "mammals_list = animals_list.copy()\n",
    "mammals_list.pop(2)\n",
    "print(mammals_list)\n",
    "\n",
    "# clear() methods\n",
    "empty_list = animals_list.copy()\n",
    "empty_list.clear()\n",
    "print(empty_list)"
   ]
  },
  {
   "source": [
    "### Sort lists:"
   ],
   "cell_type": "markdown",
   "metadata": {}
  },
  {
   "cell_type": "code",
   "execution_count": 34,
   "metadata": {},
   "outputs": [
    {
     "output_type": "stream",
     "name": "stdout",
     "text": [
      "['a', 'c', 'w', 'y']\n[3245, 454, 32, 5, 2, 1, 0.1]\n['banana', 'cherry', 'Kiwi', 'Orange']\n['Orange', 'Kiwi', 'cherry', 'banana']\n"
     ]
    }
   ],
   "source": [
    "char_list = ['c','w','a','y']\n",
    "char_list.sort()\n",
    "print(char_list)\n",
    "\n",
    "# Sort Descending:\n",
    "num_list = [1,2,32,454,5,0.1,3245]\n",
    "num_list.sort(reverse=True)\n",
    "print(num_list)\n",
    "\n",
    "# You can customize your sorting with the 'key' parameter:\n",
    "# key =  a function:\n",
    "fruits_list = [\"banana\", \"Orange\", \"Kiwi\", \"cherry\"]\n",
    "fruits_list.sort(key = str.lower)\n",
    "print(fruits_list)\n",
    "\n",
    "# reverse the list:\n",
    "fruits_list.reverse()\n",
    "print(fruits_list)"
   ]
  },
  {
   "source": [
    "[You can find more about list methods here](https://www.w3schools.com/python/python_lists_methods.asp)"
   ],
   "cell_type": "markdown",
   "metadata": {}
  }
 ]
}