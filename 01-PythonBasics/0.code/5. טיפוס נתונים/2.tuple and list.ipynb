{
 "cells": [
  {
   "cell_type": "markdown",
   "metadata": {},
   "source": [
    "# Lists and tuples"
   ]
  },
  {
   "cell_type": "code",
   "execution_count": null,
   "metadata": {},
   "outputs": [],
   "source": [
    "lst = [1 ,'2' ,3.0]\n",
    "tup = (1 ,'2' ,3.0)\n",
    "print(type(lst))\n",
    "print(type(tup))"
   ]
  },
  {
   "cell_type": "code",
   "execution_count": null,
   "metadata": {},
   "outputs": [],
   "source": [
    "#changing the value of a specific item:\n",
    "my_list = [\"one\", \"two\", \"three\"]\n",
    "print(\"list before: \",my_list)\n",
    "my_list[1] = 2\n",
    "print(\"list after: \",my_list)\n",
    "\n",
    "my_tuple = (\"one\", \"two\", \"three\")\n",
    "print(\"tuple before: \",my_tuple)\n",
    "my_tuple[1] = 2\n",
    "print(\"tuple after: \",my_tuple)"
   ]
  },
  {
   "cell_type": "code",
   "execution_count": 7,
   "metadata": {},
   "outputs": [
    {
     "name": "stdout",
     "output_type": "stream",
     "text": [
      "belonging operators: \n",
      "is 8 a prime number?\n",
      "False\n",
      "is 9 not a prime? \n",
      "True\n"
     ]
    }
   ],
   "source": [
    "print('belonging operators: ')\n",
    "primes_num_under_ten = [2 ,3 ,5 ,7]\n",
    "print('is 8 a prime number?')\n",
    "# in \n",
    "print(8 in primes_num_under_ten)\n",
    "print('is 9 not a prime? ')\n",
    "print(9 not in primes_num_under_ten)"
   ]
  },
  {
   "cell_type": "markdown",
   "metadata": {},
   "source": [
    "## Slicing:"
   ]
  },
  {
   "cell_type": "code",
   "execution_count": 9,
   "metadata": {},
   "outputs": [
    {
     "name": "stdout",
     "output_type": "stream",
     "text": [
      "1\n",
      "5\n",
      "[1, 2]\n",
      "[1, 3, 5]\n",
      "(1, 3.0, 5)\n"
     ]
    }
   ],
   "source": [
    "lst=[1,2,3,4,5]\n",
    "tup =(1 ,'2' ,3.0, 4, 5)\n",
    "print(lst[0])\n",
    "print(lst[-1])  #the last cell of the list\n",
    "print(lst[0:2]) #from lst[0] to lst[2]\n",
    "print(lst[0::2]) #from lst[0] to lst[end], in jumps of 2\n",
    "print(tup[0::2]) "
   ]
  },
  {
   "cell_type": "code",
   "execution_count": 14,
   "metadata": {},
   "outputs": [
    {
     "name": "stdout",
     "output_type": "stream",
     "text": [
      "[2, 5, 7, 9, 8, 10]\n"
     ]
    }
   ],
   "source": [
    "# Changing the value of items within a specific range:\n",
    "list_of_primes = [2,4,6,8,10]\n",
    "list_of_primes[1:3] = [5,7,9]\n",
    "print(list_of_primes)"
   ]
  },
  {
   "cell_type": "markdown",
   "metadata": {},
   "source": [
    "### Shallow and deep copy:"
   ]
  },
  {
   "cell_type": "code",
   "execution_count": 15,
   "metadata": {},
   "outputs": [
    {
     "name": "stdout",
     "output_type": "stream",
     "text": [
      "origin_list [111, [2, 3], (4, 5), 6]\n",
      "very_shallow_copy [111, [2, 3], (4, 5), 6]\n"
     ]
    }
   ],
   "source": [
    "origin_list = [1,[2,3],(4,5),6]\n",
    "very_shallow_copy = origin_list\n",
    "very_shallow_copy[0]=111\n",
    "print(\"origin_list\",origin_list)\n",
    "print(\"very_shallow_copy\",very_shallow_copy)"
   ]
  },
  {
   "cell_type": "code",
   "execution_count": 17,
   "metadata": {},
   "outputs": [
    {
     "name": "stdout",
     "output_type": "stream",
     "text": [
      "origin_list [1, [222, 3], (4, 5), 6]\n",
      "shallow_copy [111, [222, 3], (4, 5), 6]\n"
     ]
    }
   ],
   "source": [
    "origin_list = [1,[2,3],(4,5),6]\n",
    "shallow_copy = list(origin_list) # equivalent: shallow_copy = origin_list.copy()    \n",
    "shallow_copy[0]=111\n",
    "shallow_copy[1][0]=222\n",
    "print(\"origin_list\",origin_list)\n",
    "print(\"shallow_copy\",shallow_copy)"
   ]
  },
  {
   "cell_type": "code",
   "execution_count": 20,
   "metadata": {},
   "outputs": [
    {
     "name": "stdout",
     "output_type": "stream",
     "text": [
      "origin_list [1, [[2, 3], [22, 33]], (4, 5), 6]\n",
      "deep_copy [111, [[222, 3], [22, 33]], (4, 5), 6]\n",
      "1556499197376 1556499859584\n",
      "1556499917184 1556499917184\n"
     ]
    }
   ],
   "source": [
    "from copy import deepcopy\n",
    "origin_list = [1,[[2,3],[22,33]],(4,5),6]\n",
    "deep_copy = deepcopy(origin_list) # equivalent: shallow_copy = origin_list.copy()    \n",
    "deep_copy[0]=111\n",
    "deep_copy[1][0][0]=222\n",
    "print(\"origin_list\",origin_list)\n",
    "print(\"deep_copy\",deep_copy)\n",
    "print(id(origin_list[1]), id(deep_copy[1]))\n",
    "print(id(origin_list[2]), id(deep_copy[2]))"
   ]
  },
  {
   "cell_type": "markdown",
   "metadata": {},
   "source": [
    "### List comprehension:"
   ]
  },
  {
   "cell_type": "code",
   "execution_count": 24,
   "metadata": {},
   "outputs": [
    {
     "name": "stdout",
     "output_type": "stream",
     "text": [
      "['APPLE', 'BANANA', 'CHERRY', 'KIWI', 'MANGO']\n",
      "['apple', 'banana', 'mango']\n",
      "['APPLE', 'BANANA', 'MANGO']\n"
     ]
    }
   ],
   "source": [
    "#List Comprehension- List comprehension offers a shorter syntax when you want to create a new list based on the values of an existing list.\n",
    "#newlist = [expression for item in iterable if condition == True]\n",
    "fruits = [\"apple\", \"banana\", \"cherry\", \"kiwi\", \"mango\"]\n",
    "fruits_capital = [x.upper() for x in fruits]\n",
    "print(fruits_capital)\n",
    "fruits_with_a = [x for x in fruits if \"a\" in x]\n",
    "print(fruits_with_a)\n",
    "fruits_with_a_capital = [x.upper() for x in fruits if \"a\" in x]\n",
    "print(fruits_with_a_capital)"
   ]
  },
  {
   "cell_type": "markdown",
   "metadata": {},
   "source": [
    "### Add list items:"
   ]
  },
  {
   "cell_type": "code",
   "execution_count": 25,
   "metadata": {},
   "outputs": [
    {
     "name": "stdout",
     "output_type": "stream",
     "text": [
      "['red', 'blue', 'yellow', 'green']\n",
      "['red', 'orange', 'blue', 'yellow', 'green']\n",
      "['red', 'orange', 'blue', 'yellow', 'green', 'purple', 'navy', 'gray']\n"
     ]
    }
   ],
   "source": [
    "#adding an item to the end of the list:\n",
    "list_of_colors = ['red','blue','yellow']\n",
    "list_of_colors.append('green')\n",
    "print(list_of_colors)\n",
    "\n",
    "#inserting a list item at a specified index:\n",
    "list_of_colors.insert(1,'orange')\n",
    "print(list_of_colors)\n",
    "\n",
    "#appending elements from another list or tuple to the current list:\n",
    "bluish_colors_tuple = ('purple','navy','gray')\n",
    "list_of_colors += bluish_colors_tuple\n",
    "# Equivalent to: list_of_colors.extend(bluish_colors_tuple)\n",
    "print(list_of_colors)"
   ]
  },
  {
   "cell_type": "markdown",
   "metadata": {},
   "source": [
    "### Remove Specified Item"
   ]
  },
  {
   "cell_type": "code",
   "execution_count": 26,
   "metadata": {},
   "outputs": [
    {
     "name": "stdout",
     "output_type": "stream",
     "text": [
      "['Dog', 'Cat', 'Chicken']\n",
      "['Dog', 'Cat']\n",
      "[]\n"
     ]
    }
   ],
   "source": [
    "# remove() method\n",
    "animals_list = ['Dog','Cat','Chicken','virus']\n",
    "animals_list.remove('virus')\n",
    "print(animals_list)\n",
    "\n",
    "# pop() methods\n",
    "mammals_list = animals_list.copy()\n",
    "mammals_list.pop(2)\n",
    "print(mammals_list)\n",
    "\n",
    "# clear() methods\n",
    "empty_list = animals_list.copy()\n",
    "empty_list.clear()\n",
    "print(empty_list)"
   ]
  },
  {
   "cell_type": "markdown",
   "metadata": {},
   "source": [
    "### Sort lists:"
   ]
  },
  {
   "cell_type": "code",
   "execution_count": 28,
   "metadata": {},
   "outputs": [
    {
     "name": "stdout",
     "output_type": "stream",
     "text": [
      "['a', 'c', 'w', 'y']\n",
      "[3245, 454, 32, 5, 2, 1, 0.1]\n",
      "['banana', 'cherry', 'Kiwi', 'Orange']\n"
     ]
    }
   ],
   "source": [
    "char_list = ['c','w','a','y']\n",
    "char_list.sort()\n",
    "print(char_list)\n",
    "\n",
    "# Sort Descending:\n",
    "num_list = [1,2,32,454,5,0.1,3245]\n",
    "num_list.sort(reverse=True)\n",
    "print(num_list)\n",
    "\n",
    "# You can customize your sorting with the 'key' parameter:\n",
    "# key =  a function:\n",
    "fruits_list = [\"banana\", \"Orange\", \"Kiwi\", \"cherry\"]\n",
    "fruits_list.sort(key = str.lower)\n",
    "print(fruits_list)"
   ]
  },
  {
   "cell_type": "code",
   "execution_count": 30,
   "metadata": {},
   "outputs": [
    {
     "name": "stdout",
     "output_type": "stream",
     "text": [
      "['1', '2', '3', '4']\n"
     ]
    }
   ],
   "source": [
    "# The split() method splits the string into substrings if it finds instances of the separator:\n",
    "s = \"1,2,3,4\"\n",
    "print(s.split(\",\"))\n"
   ]
  },
  {
   "cell_type": "code",
   "execution_count": 31,
   "metadata": {},
   "outputs": [
    {
     "data": {
      "text/plain": [
       "[1, 4, 9, 16]"
      ]
     },
     "execution_count": 31,
     "metadata": {},
     "output_type": "execute_result"
    }
   ],
   "source": [
    "[int(x)**2 for x in s.split(\",\")]"
   ]
  },
  {
   "cell_type": "markdown",
   "metadata": {},
   "source": [
    "[You can find more about list methods here](https://www.w3schools.com/python/python_lists_methods.asp)"
   ]
  }
 ],
 "metadata": {
  "kernelspec": {
   "display_name": "Python 3.6.6 64-bit",
   "metadata": {
    "interpreter": {
     "hash": "2e5c6628eef985e7fd2fa2aad22c988c5b8aa1d2648cf9c51c543a2a2637c546"
    }
   },
   "name": "python3"
  },
  "language_info": {
   "codemirror_mode": {
    "name": "ipython",
    "version": 3
   },
   "file_extension": ".py",
   "mimetype": "text/x-python",
   "name": "python",
   "nbconvert_exporter": "python",
   "pygments_lexer": "ipython3",
   "version": "3.10.2"
  },
  "orig_nbformat": 2
 },
 "nbformat": 4,
 "nbformat_minor": 2
}
