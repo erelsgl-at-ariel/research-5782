{
 "cells": [
  {
   "cell_type": "markdown",
   "metadata": {},
   "source": [
    "________________________________\n",
    "## Data Structure:"
   ]
  },
  {
   "cell_type": "markdown",
   "metadata": {},
   "source": [
    "## Lists and tuples: "
   ]
  },
  {
   "cell_type": "code",
   "execution_count": 1,
   "metadata": {},
   "outputs": [
    {
     "name": "stdout",
     "output_type": "stream",
     "text": [
      "<class 'list'>\n",
      "<class 'tuple'>\n",
      "1\n",
      "5\n",
      "[1, 2]\n",
      "[1, 3, 5]\n",
      "(1, 3.0)\n"
     ]
    }
   ],
   "source": [
    "lst = [1 ,'2' ,3.0]\n",
    "tup =(1 ,'2' ,3.0)\n",
    "print(type(lst))\n",
    "print(type(tup))\n",
    "\n",
    "# slicing list or tuple\n",
    "lst=[1,2,3,4,5]\n",
    "print(lst[0])\n",
    "print(lst[-1])  #the last cell of the list\n",
    "print(lst[0:2]) #from lst[0] to lst[2]\n",
    "print(lst[0::2]) \n",
    "print(tup[0::2]) \n"
   ]
  },
  {
   "cell_type": "markdown",
   "metadata": {},
   "source": [
    "### Change items in lists: "
   ]
  },
  {
   "cell_type": "code",
   "execution_count": 6,
   "metadata": {},
   "outputs": [
    {
     "name": "stdout",
     "output_type": "stream",
     "text": [
      "['one', 2, 'three']\n"
     ]
    }
   ],
   "source": [
    "#changing the value of a specific item:\n",
    "my_list = [\"one\", \"two\", \"three\"]\n",
    "my_list[1] = 2\n",
    "print(my_list)\n"
   ]
  },
  {
   "cell_type": "code",
   "execution_count": 7,
   "metadata": {},
   "outputs": [
    {
     "ename": "TypeError",
     "evalue": "'tuple' object does not support item assignment",
     "output_type": "error",
     "traceback": [
      "\u001b[1;31m---------------------------------------------------------------------------\u001b[0m",
      "\u001b[1;31mTypeError\u001b[0m                                 Traceback (most recent call last)",
      "Input \u001b[1;32mIn [7]\u001b[0m, in \u001b[0;36m<module>\u001b[1;34m\u001b[0m\n\u001b[0;32m      1\u001b[0m my_tuple \u001b[38;5;241m=\u001b[39m (\u001b[38;5;124m\"\u001b[39m\u001b[38;5;124mone\u001b[39m\u001b[38;5;124m\"\u001b[39m, \u001b[38;5;124m\"\u001b[39m\u001b[38;5;124mtwo\u001b[39m\u001b[38;5;124m\"\u001b[39m, \u001b[38;5;124m\"\u001b[39m\u001b[38;5;124mthree\u001b[39m\u001b[38;5;124m\"\u001b[39m)\n\u001b[1;32m----> 2\u001b[0m my_tuple[\u001b[38;5;241m1\u001b[39m] \u001b[38;5;241m=\u001b[39m \u001b[38;5;241m2\u001b[39m\n\u001b[0;32m      3\u001b[0m \u001b[38;5;28mprint\u001b[39m(my_tuple)\n",
      "\u001b[1;31mTypeError\u001b[0m: 'tuple' object does not support item assignment"
     ]
    }
   ],
   "source": [
    "\n",
    "my_tuple = (\"one\", \"two\", \"three\")\n",
    "my_tuple[1] = 2\n",
    "print(my_tuple)\n"
   ]
  },
  {
   "cell_type": "code",
   "execution_count": 4,
   "metadata": {},
   "outputs": [
    {
     "name": "stdout",
     "output_type": "stream",
     "text": [
      "[2, 3, 5, 7, 11]\n"
     ]
    }
   ],
   "source": [
    "\n",
    "#changing the value of items within a specific range:\n",
    "list_of_primes = [2,3,4,6,11]\n",
    "list_of_primes[2:4] = [5,7]\n",
    "print(list_of_primes)"
   ]
  },
  {
   "cell_type": "code",
   "execution_count": 1,
   "metadata": {},
   "outputs": [
    {
     "name": "stdout",
     "output_type": "stream",
     "text": [
      "[1, 2, 3, 4]\n",
      "[1, 2]\n"
     ]
    }
   ],
   "source": [
    "\n",
    "#If you insert more items than you replace, the new items will be inserted where you specified:\n",
    "my_list = [1,23,4]\n",
    "my_list[1:2] = [2,3]\n",
    "print(my_list)\n",
    "# or less: \n",
    "my_list[1:] = [2]\n",
    "print(my_list)"
   ]
  },
  {
   "cell_type": "markdown",
   "metadata": {},
   "source": [
    "### Shallow and deep copy:"
   ]
  },
  {
   "cell_type": "code",
   "execution_count": 10,
   "metadata": {},
   "outputs": [
    {
     "name": "stdout",
     "output_type": "stream",
     "text": [
      "origin_list [111, [2, 3], 4]\n",
      "very_shallow_copy [111, [2, 3], 4]\n"
     ]
    }
   ],
   "source": [
    "origin_list = [1,[2,3],4]\n",
    "very_shallow_copy = origin_list\n",
    "very_shallow_copy[0]=111\n",
    "print(\"origin_list\",origin_list)\n",
    "print(\"very_shallow_copy\",very_shallow_copy)"
   ]
  },
  {
   "cell_type": "code",
   "execution_count": 12,
   "metadata": {},
   "outputs": [
    {
     "name": "stdout",
     "output_type": "stream",
     "text": [
      "origin_list [1, [222, 3], 4]\n",
      "shallow_copy [111, [222, 3], 4]\n"
     ]
    }
   ],
   "source": [
    "origin_list = [1,[2,3],4]\n",
    "shallow_copy = list(origin_list) # equivalent: shallow_copy = origin_list.copy()    \n",
    "shallow_copy[0]=111\n",
    "shallow_copy[1][0]=222\n",
    "print(\"origin_list\",origin_list)\n",
    "print(\"shallow_copy\",shallow_copy)\n"
   ]
  },
  {
   "cell_type": "code",
   "execution_count": 13,
   "metadata": {},
   "outputs": [
    {
     "name": "stdout",
     "output_type": "stream",
     "text": [
      "origin_list [1, [2, 3], 4]\n",
      "deep_copy [111, [222, 3], 4]\n"
     ]
    }
   ],
   "source": [
    "from copy import deepcopy\n",
    "origin_list = [1,[2,3],4]\n",
    "deep_copy = deepcopy(origin_list) # equivalent: shallow_copy = origin_list.copy()    \n",
    "deep_copy[0]=111\n",
    "deep_copy[1][0]=222\n",
    "print(\"origin_list\",origin_list)\n",
    "print(\"deep_copy\",deep_copy)"
   ]
  },
  {
   "cell_type": "markdown",
   "metadata": {},
   "source": [
    "### List comprehension:"
   ]
  },
  {
   "cell_type": "code",
   "execution_count": 14,
   "metadata": {},
   "outputs": [
    {
     "name": "stdout",
     "output_type": "stream",
     "text": [
      "['APPLE', 'BANANA', 'MANGO']\n",
      "['apple', 'banana', 'mango']\n",
      "['APPLE', 'BANANA', 'CHERRY', 'KIWI', 'MANGO']\n"
     ]
    }
   ],
   "source": [
    "#List Comprehension- List comprehension offers a shorter syntax when you want to create a new list based on the values of an existing list.\n",
    "#newlist = [expression for item in iterable if condition == True]\n",
    "fruits = [\"apple\", \"banana\", \"cherry\", \"kiwi\", \"mango\"]\n",
    "fruits_with_a_capital = [x.upper() for x in fruits if \"a\" in x]\n",
    "print(fruits_with_a_capital)\n",
    "fruits_with_a = [x for x in fruits if \"a\" in x]\n",
    "print(fruits_with_a)\n",
    "fruits_capital = [x.upper() for x in fruits]\n",
    "print(fruits_capital)"
   ]
  },
  {
   "cell_type": "markdown",
   "metadata": {},
   "source": [
    "### Add list items:"
   ]
  },
  {
   "cell_type": "code",
   "execution_count": 16,
   "metadata": {},
   "outputs": [
    {
     "name": "stdout",
     "output_type": "stream",
     "text": [
      "['red', 'blue', 'yellow', 'green']\n",
      "['red', 'orange', 'blue', 'yellow', 'green']\n",
      "['red', 'orange', 'blue', 'yellow', 'green', 'purple', 'navy', 'gray']\n"
     ]
    }
   ],
   "source": [
    "#adding an item to the end of the list:\n",
    "list_of_colors = ['red','blue','yellow']\n",
    "list_of_colors.append('green')\n",
    "print(list_of_colors)\n",
    "\n",
    "#inserting a list item at a specified index:\n",
    "list_of_colors.insert(1,'orange')\n",
    "print(list_of_colors)\n",
    "\n",
    "#appending elements from another list or tuple to the current list:\n",
    "bluish_colors_tuple = ('purple','navy','gray')\n",
    "list_of_colors += bluish_colors_tuple\n",
    "# Equivalent to: list_of_colors.extend(bluish_colors_tuple)\n",
    "print(list_of_colors)"
   ]
  },
  {
   "cell_type": "markdown",
   "metadata": {},
   "source": [
    "### Remove Specified Item"
   ]
  },
  {
   "cell_type": "code",
   "execution_count": 20,
   "metadata": {},
   "outputs": [
    {
     "name": "stdout",
     "output_type": "stream",
     "text": [
      "['Dog', 'Cat', 'Chicken']\n",
      "['Dog', 'Cat']\n",
      "[]\n"
     ]
    }
   ],
   "source": [
    "# remove() method\n",
    "animals_list = ['Dog','Cat','Chicken','virus']\n",
    "animals_list.remove('virus')\n",
    "print(animals_list)\n",
    "\n",
    "# pop() methods\n",
    "mammals_list = animals_list.copy()\n",
    "mammals_list.pop(2)\n",
    "print(mammals_list)\n",
    "\n",
    "# clear() methods\n",
    "empty_list = animals_list.copy()\n",
    "empty_list.clear()\n",
    "print(empty_list)"
   ]
  },
  {
   "cell_type": "markdown",
   "metadata": {},
   "source": [
    "### Sort lists:"
   ]
  },
  {
   "cell_type": "code",
   "execution_count": 17,
   "metadata": {},
   "outputs": [
    {
     "name": "stdout",
     "output_type": "stream",
     "text": [
      "['a', 'c', 'w', 'y']\n",
      "[3245, 454, 32, 5, 2, 1, 0.1]\n",
      "['banana', 'cherry', 'Kiwi', 'Orange']\n",
      "['Orange', 'Kiwi', 'cherry', 'banana']\n"
     ]
    }
   ],
   "source": [
    "char_list = ['c','w','a','y']\n",
    "char_list.sort()\n",
    "print(char_list)\n",
    "\n",
    "# Sort Descending:\n",
    "num_list = [1,2,32,454,5,0.1,3245]\n",
    "num_list.sort(reverse=True)\n",
    "print(num_list)\n",
    "\n",
    "# You can customize your sorting with the 'key' parameter:\n",
    "# key =  a function:\n",
    "fruits_list = [\"banana\", \"Orange\", \"Kiwi\", \"cherry\"]\n",
    "fruits_list.sort(key = str.lower)\n",
    "print(fruits_list)\n",
    "\n",
    "# reverse the list:\n",
    "fruits_list.reverse()\n",
    "print(fruits_list)"
   ]
  },
  {
   "cell_type": "markdown",
   "metadata": {},
   "source": [
    "[You can find more about list methods here](https://www.w3schools.com/python/python_lists_methods.asp)"
   ]
  }
 ],
 "metadata": {
  "kernelspec": {
   "display_name": "Python 3.6.6 64-bit",
   "metadata": {
    "interpreter": {
     "hash": "2e5c6628eef985e7fd2fa2aad22c988c5b8aa1d2648cf9c51c543a2a2637c546"
    }
   },
   "name": "python3"
  },
  "language_info": {
   "codemirror_mode": {
    "name": "ipython",
    "version": 3
   },
   "file_extension": ".py",
   "mimetype": "text/x-python",
   "name": "python",
   "nbconvert_exporter": "python",
   "pygments_lexer": "ipython3",
   "version": "3.10.2"
  },
  "orig_nbformat": 2
 },
 "nbformat": 4,
 "nbformat_minor": 2
}
