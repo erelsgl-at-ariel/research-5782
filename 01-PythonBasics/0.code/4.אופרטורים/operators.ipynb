{
 "cells": [
  {
   "cell_type": "markdown",
   "metadata": {},
   "source": [
    "## Arithmetics:"
   ]
  },
  {
   "cell_type": "code",
   "execution_count": 4,
   "metadata": {},
   "outputs": [
    {
     "name": "stdout",
     "output_type": "stream",
     "text": [
      "5\n",
      "5\n"
     ]
    }
   ],
   "source": [
    "x = 2\n",
    "y = 3\n",
    "# __add__\n",
    "print(x + y)            # → 5\n",
    "print(x.__add__(y))       # → 5\n"
   ]
  },
  {
   "cell_type": "code",
   "execution_count": 6,
   "metadata": {},
   "outputs": [
    {
     "name": "stdout",
     "output_type": "stream",
     "text": [
      "-1\n",
      "6\n",
      "0.6666666666666666\n",
      "0\n",
      "2\n",
      "8\n"
     ]
    }
   ],
   "source": [
    "\n",
    "x = 2\n",
    "y = 3\n",
    "\n",
    "# __sub__\n",
    "print(x - y)             # → -1\n",
    "# __mul__\n",
    "print(x * y)             # → 6\n",
    "# __truediv__\n",
    "print(x / y)             # → 2/3\n",
    "# __floordiv__\n",
    "print(x // y)            # → 0\n",
    "# __mod__\n",
    "print( x % y)            # → 2\n",
    "# __pow__\n",
    "print(x ** y)            # → 8"
   ]
  },
  {
   "cell_type": "markdown",
   "metadata": {},
   "source": [
    "## Comparison Operators:"
   ]
  },
  {
   "cell_type": "code",
   "execution_count": 2,
   "metadata": {},
   "outputs": [
    {
     "name": "stdout",
     "output_type": "stream",
     "text": [
      "True\n",
      "False\n",
      "True\n",
      "False\n",
      "False\n",
      "True\n"
     ]
    }
   ],
   "source": [
    "# __LT__\n",
    "print( x < y)\n",
    "# __GT__\n",
    "print(x > y)\n",
    "# __LE__\n",
    "print( x <= y)\n",
    "# __GE__\n",
    "print(x >= y)\n",
    "# __EQ__\n",
    "print(x == y)\n",
    "# __NE__\n",
    "print(x != y)\n"
   ]
  },
  {
   "cell_type": "markdown",
   "metadata": {},
   "source": [
    "## Logical operators:"
   ]
  },
  {
   "cell_type": "code",
   "execution_count": 4,
   "metadata": {},
   "outputs": [
    {
     "name": "stdout",
     "output_type": "stream",
     "text": [
      "True\n",
      "True\n",
      "True\n"
     ]
    }
   ],
   "source": [
    "# and\n",
    "print(x<5 and y<7)\n",
    "# or\n",
    "print(x<5 or y<7)\n",
    "# not\n",
    "print(not x==y)"
   ]
  },
  {
   "cell_type": "markdown",
   "metadata": {},
   "source": [
    "## Identity and belonging operators:"
   ]
  },
  {
   "cell_type": "code",
   "execution_count": 9,
   "metadata": {},
   "outputs": [
    {
     "name": "stdout",
     "output_type": "stream",
     "text": [
      "False\n",
      "1970014964080\n",
      "1970096981552\n"
     ]
    }
   ],
   "source": [
    "# In Python, all variables - including ints - are pointers.\n",
    "x = 2\n",
    "a = \"2\"\n",
    "z = a\n",
    "w = str(x) # casting x to str\n",
    "## is\n",
    "print(w is a)\n",
    "# The memory address of a and w\n",
    "print(id(a)) \n",
    "print(id(w))\n"
   ]
  },
  {
   "cell_type": "code",
   "execution_count": 15,
   "metadata": {},
   "outputs": [
    {
     "name": "stdout",
     "output_type": "stream",
     "text": [
      "True\n",
      "1970014964080\n",
      "1970014964080\n"
     ]
    }
   ],
   "source": [
    "print(z is a)\n",
    "print(id(a)) \n",
    "print(id(z))"
   ]
  },
  {
   "cell_type": "code",
   "execution_count": 17,
   "metadata": {},
   "outputs": [
    {
     "name": "stdout",
     "output_type": "stream",
     "text": [
      "True\n"
     ]
    }
   ],
   "source": [
    "## __eq__ - by default like `is`, but can be overridden.\n",
    "print(w == a)"
   ]
  },
  {
   "cell_type": "code",
   "execution_count": 18,
   "metadata": {},
   "outputs": [
    {
     "name": "stdout",
     "output_type": "stream",
     "text": [
      "belonging operators: \n",
      "is 8 a prime number?\n",
      "False\n",
      "is 9 not a prime? \n",
      "True\n"
     ]
    }
   ],
   "source": [
    "print('belonging operators: ')\n",
    "primes_num_under_ten = [2 ,3 ,5 ,7]\n",
    "print('is 8 a prime number?')\n",
    "# in \n",
    "print(8 in primes_num_under_ten)\n",
    "print('is 9 not a prime? ')\n",
    "print(9 not in primes_num_under_ten)"
   ]
  },
  {
   "cell_type": "markdown",
   "metadata": {},
   "source": [
    "## Bitwise operators:"
   ]
  },
  {
   "cell_type": "code",
   "execution_count": 20,
   "metadata": {},
   "outputs": [
    {
     "name": "stdout",
     "output_type": "stream",
     "text": [
      "5 & 3  ==  0101 & 0001  ==  0001 =  1\n",
      "5 | 3  ==  0101 | 0011  == 0111 = 7\n",
      "5 ^ 3  == 0101 ^ 0011 = 0110 = 6\n"
     ]
    }
   ],
   "source": [
    "x = 5\n",
    "y = 3\n",
    "# __and__:\n",
    "print('5 & 3  ==  0101 & 0001  ==  0001 = ', x & y)\n",
    "# __or__:\n",
    "print('5 | 3  ==  0101 | 0011  == 0111 =', x | y)\n",
    "# __xor__:\n",
    "print('5 ^ 3  == 0101 ^ 0011 = 0110 =',  x ^ y)"
   ]
  },
  {
   "cell_type": "code",
   "execution_count": 22,
   "metadata": {},
   "outputs": [
    {
     "name": "stdout",
     "output_type": "stream",
     "text": [
      "-6\n",
      "40\n",
      "0\n"
     ]
    }
   ],
   "source": [
    "\n",
    "# __INVERT__:\n",
    "print(~x)\n",
    "\n",
    "# __lshift__:\n",
    "print(x << y)\n",
    "# __rshift__:\n",
    "print(x >> y)"
   ]
  },
  {
   "cell_type": "markdown",
   "metadata": {},
   "source": [
    "## Overloading operators"
   ]
  },
  {
   "cell_type": "code",
   "execution_count": 27,
   "metadata": {},
   "outputs": [
    {
     "name": "stdout",
     "output_type": "stream",
     "text": [
      "Adding: A from the left\n",
      "Adding: A from the right\n"
     ]
    }
   ],
   "source": [
    "class A:\n",
    "\tdef __add__(a1, a2):\n",
    "\t\tprint(\"Adding: A from the left\")\n",
    "\tdef __radd__(a1, a2):\n",
    "\t\tprint(\"Adding: A from the right\")\n",
    "\n",
    "\n",
    "a1 = A()\n",
    "a1 + 5\n",
    "5 + a1\n"
   ]
  },
  {
   "cell_type": "code",
   "execution_count": null,
   "metadata": {},
   "outputs": [],
   "source": []
  }
 ],
 "metadata": {
  "interpreter": {
   "hash": "31f2aee4e71d21fbe5cf8b01ff0e069b9275f58929596ceb00d14d90e3e16cd6"
  },
  "kernelspec": {
   "display_name": "Python 3.8.10 64-bit",
   "name": "python3"
  },
  "language_info": {
   "codemirror_mode": {
    "name": "ipython",
    "version": 3
   },
   "file_extension": ".py",
   "mimetype": "text/x-python",
   "name": "python",
   "nbconvert_exporter": "python",
   "pygments_lexer": "ipython3",
   "version": "3.10.2"
  },
  "orig_nbformat": 2
 },
 "nbformat": 4,
 "nbformat_minor": 2
}
