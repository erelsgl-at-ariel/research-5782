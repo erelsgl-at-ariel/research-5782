{
 "cells": [
  {
   "cell_type": "markdown",
   "metadata": {},
   "source": [
    "## Arithmetics:"
   ]
  },
  {
   "cell_type": "code",
   "execution_count": 1,
   "metadata": {},
   "outputs": [
    {
     "name": "stdout",
     "output_type": "stream",
     "text": [
      "5\n",
      "-1\n",
      "6\n",
      "0.6666666666666666\n",
      "0\n",
      "2\n",
      "8\n"
     ]
    }
   ],
   "source": [
    "x = 2\n",
    "y = 3\n",
    "# __add__\n",
    "print( x + y)            # → 5\n",
    "# __sub__\n",
    "print(x - y)             # → -1\n",
    "# __mul__\n",
    "print(x * y)             # → 6\n",
    "# __truediv__\n",
    "print(x / y)             # → 2/3\n",
    "# __floordiv__\n",
    "print(x // y)            # → 0\n",
    "# __mod__\n",
    "print( x % y)            # → 2\n",
    "# __pow__\n",
    "print(x ** y)            # → 8\n"
   ]
  },
  {
   "cell_type": "markdown",
   "metadata": {},
   "source": [
    "## Comparison Operators:"
   ]
  },
  {
   "cell_type": "code",
   "execution_count": 2,
   "metadata": {},
   "outputs": [
    {
     "name": "stdout",
     "output_type": "stream",
     "text": [
      "True\n",
      "False\n",
      "True\n",
      "False\n",
      "False\n",
      "True\n"
     ]
    }
   ],
   "source": [
    "# __LT__\n",
    "print( x < y)\n",
    "# __GT__\n",
    "print(x > y)\n",
    "# __LE__\n",
    "print( x <= y)\n",
    "# __GE__\n",
    "print(x >= y)\n",
    "# __EQ__\n",
    "print(x == y)\n",
    "# __NE__\n",
    "print(x != y)\n"
   ]
  },
  {
   "cell_type": "markdown",
   "metadata": {},
   "source": [
    "## Logical operators:"
   ]
  },
  {
   "cell_type": "code",
   "execution_count": 4,
   "metadata": {},
   "outputs": [
    {
     "name": "stdout",
     "output_type": "stream",
     "text": [
      "True\n",
      "True\n",
      "True\n"
     ]
    }
   ],
   "source": [
    "# and\n",
    "print(x<5 and y<7)\n",
    "# or\n",
    "print(x<5 or y<7)\n",
    "# not\n",
    "print(not x==y)"
   ]
  },
  {
   "cell_type": "markdown",
   "metadata": {},
   "source": [
    "## Identity and belonging operators:"
   ]
  },
  {
   "cell_type": "code",
   "execution_count": 4,
   "metadata": {},
   "outputs": [
    {
     "name": "stdout",
     "output_type": "stream",
     "text": [
      "True\n",
      "False\n",
      "True\n",
      "2434998914160\n",
      "2435075242992\n"
     ]
    }
   ],
   "source": [
    "x = 2\n",
    "a = '2'\n",
    "z = a\n",
    "w = str(x) # casting x to str\n",
    "## __eq__\n",
    "print(w == a)\n",
    "## is\n",
    "print(w is a)\n",
    "print(z is a)\n",
    "\n",
    "# The memory address of a and w\n",
    "print(id(a)) \n",
    "print(id(w))"
   ]
  },
  {
   "cell_type": "code",
   "execution_count": 14,
   "metadata": {},
   "outputs": [
    {
     "name": "stdout",
     "output_type": "stream",
     "text": [
      "belonging operators: \n",
      "is 8 a prime number?\n",
      "False\n",
      "is 9 not a prime? \n",
      "True\n"
     ]
    }
   ],
   "source": [
    "print('belonging operators: ')\n",
    "primes_num_under_ten = [2 ,3 ,5 ,7]\n",
    "print('is 8 a prime number?')\n",
    "# in \n",
    "print(8 in primes_num_under_ten)\n",
    "print('is 9 not a prime? ')\n",
    "print(9 not in primes_num_under_ten)"
   ]
  },
  {
   "cell_type": "markdown",
   "metadata": {},
   "source": [
    "## Bitwise operators:"
   ]
  },
  {
   "cell_type": "code",
   "execution_count": 5,
   "metadata": {},
   "outputs": [
    {
     "name": "stdout",
     "output_type": "stream",
     "text": [
      "5&1= 0101&0001 = 0001 =  1\n",
      "5|1 = 0101|0001 = 0101 = 5\n",
      "5^1= 0101^0001 = 0100 = 4\n",
      "-6\n",
      "10\n",
      "2\n"
     ]
    }
   ],
   "source": [
    "x = 5\n",
    "y = 1\n",
    "# __and__:\n",
    "print('5&1= 0101&0001 = 0001 = ',x&y)\n",
    "# __or__:\n",
    "print('5|1 = 0101|0001 = 0101 =',x | y)\n",
    "# __xor__:\n",
    "print('5^1= 0101^0001 = 0100 =',x ^ y)\n",
    "\n",
    "\n",
    "# __INVERT__:\n",
    "print(~x)\n",
    "\n",
    "# __lshift__:\n",
    "print(x << y)\n",
    "# __rshift__:\n",
    "print(x >> y)"
   ]
  },
  {
   "cell_type": "markdown",
   "metadata": {},
   "source": [
    "## Overloading operators"
   ]
  },
  {
   "cell_type": "code",
   "execution_count": 5,
   "metadata": {},
   "outputs": [
    {
     "name": "stdout",
     "output_type": "stream",
     "text": [
      "adding\n"
     ]
    }
   ],
   "source": [
    "class A:\n",
    "\tdef __add__(a1, a2):\n",
    "\t\tprint(\"adding\")\n",
    "\n",
    "\n",
    "a1 = A()\n",
    "a2 = A()\n",
    "a1+a2\n"
   ]
  }
 ],
 "metadata": {
  "interpreter": {
   "hash": "31f2aee4e71d21fbe5cf8b01ff0e069b9275f58929596ceb00d14d90e3e16cd6"
  },
  "kernelspec": {
   "display_name": "Python 3.8.10 64-bit",
   "name": "python3"
  },
  "language_info": {
   "codemirror_mode": {
    "name": "ipython",
    "version": 3
   },
   "file_extension": ".py",
   "mimetype": "text/x-python",
   "name": "python",
   "nbconvert_exporter": "python",
   "pygments_lexer": "ipython3",
   "version": "3.8.10"
  },
  "orig_nbformat": 2
 },
 "nbformat": 4,
 "nbformat_minor": 2
}
