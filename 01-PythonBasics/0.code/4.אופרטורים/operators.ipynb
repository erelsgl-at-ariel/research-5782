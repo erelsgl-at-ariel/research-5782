{
 "metadata": {
  "language_info": {
   "codemirror_mode": {
    "name": "ipython",
    "version": 3
   },
   "file_extension": ".py",
   "mimetype": "text/x-python",
   "name": "python",
   "nbconvert_exporter": "python",
   "pygments_lexer": "ipython3",
   "version": "3.6.6-final"
  },
  "orig_nbformat": 2,
  "kernelspec": {
   "name": "python3",
   "display_name": "Python 3.6.6 64-bit",
   "metadata": {
    "interpreter": {
     "hash": "2e5c6628eef985e7fd2fa2aad22c988c5b8aa1d2648cf9c51c543a2a2637c546"
    }
   }
  }
 },
 "nbformat": 4,
 "nbformat_minor": 2,
 "cells": [
  {
   "source": [
    "## Arithmetics:"
   ],
   "cell_type": "markdown",
   "metadata": {}
  },
  {
   "cell_type": "code",
   "execution_count": 1,
   "metadata": {},
   "outputs": [
    {
     "output_type": "stream",
     "name": "stdout",
     "text": [
      "5\n-1\n6\n0.6666666666666666\n0\n2\n8\n"
     ]
    }
   ],
   "source": [
    "x = 2\n",
    "y = 3\n",
    "# __add__\n",
    "print( x + y)            # → 5\n",
    "# __sub__\n",
    "print(x - y)             # → -1\n",
    "# __mul__\n",
    "print(x * y)             # → 6\n",
    "# __truediv__\n",
    "print(x / y)             # → 2/3\n",
    "# __floordiv__\n",
    "print(x // y)            # → 0\n",
    "# __mod__\n",
    "print( x % y)            # → 2\n",
    "# __pow__\n",
    "print(x ** y)            # → 8\n"
   ]
  },
  {
   "source": [
    "## Comparison Operators:"
   ],
   "cell_type": "markdown",
   "metadata": {}
  },
  {
   "cell_type": "code",
   "execution_count": 2,
   "metadata": {},
   "outputs": [
    {
     "output_type": "stream",
     "name": "stdout",
     "text": [
      "True\nFalse\nTrue\nFalse\nFalse\nTrue\n"
     ]
    }
   ],
   "source": [
    "# __LT__\n",
    "print( x < y)\n",
    "# __GT__\n",
    "print(x > y)\n",
    "# __LE__\n",
    "print( x <= y)\n",
    "# __GE__\n",
    "print(x >= y)\n",
    "# __EQ__\n",
    "print(x == y)\n",
    "# __NE__\n",
    "print(x != y)\n"
   ]
  },
  {
   "source": [
    "## Logical operators:"
   ],
   "cell_type": "markdown",
   "metadata": {}
  },
  {
   "cell_type": "code",
   "execution_count": 4,
   "metadata": {},
   "outputs": [
    {
     "output_type": "stream",
     "name": "stdout",
     "text": [
      "True\nTrue\nTrue\n"
     ]
    }
   ],
   "source": [
    "# and\n",
    "print(x<5 and y<7)\n",
    "# or\n",
    "print(x<5 or y<7)\n",
    "# not\n",
    "print(not x==y)"
   ]
  },
  {
   "source": [
    "## Identity and belonging operators:"
   ],
   "cell_type": "markdown",
   "metadata": {}
  },
  {
   "cell_type": "code",
   "execution_count": 12,
   "metadata": {},
   "outputs": [
    {
     "output_type": "stream",
     "name": "stdout",
     "text": [
      "True\nFalse\nTrue\n40515544\n139436192\n"
     ]
    }
   ],
   "source": [
    "a = '2'\n",
    "z = a\n",
    "w = str(x) # casting x to str\n",
    "## __eq__\n",
    "print(w == a)\n",
    "## is\n",
    "print(w is a)\n",
    "print(z is a)\n",
    "\n",
    "# The memory address of a and w\n",
    "print(id(a)) \n",
    "print(id(w))"
   ]
  },
  {
   "cell_type": "code",
   "execution_count": 14,
   "metadata": {},
   "outputs": [
    {
     "output_type": "stream",
     "name": "stdout",
     "text": [
      "belonging operators: \nis 8 a prime number?\nFalse\nis 9 not a prime? \nTrue\n"
     ]
    }
   ],
   "source": [
    "print('belonging operators: ')\n",
    "primes_num_under_ten = [2 ,3 ,5 ,7]\n",
    "print('is 8 a prime number?')\n",
    "# in \n",
    "print(8 in primes_num_under_ten)\n",
    "print('is 9 not a prime? ')\n",
    "print(9 not in primes_num_under_ten)"
   ]
  },
  {
   "source": [
    "## Bitwise operators:"
   ],
   "cell_type": "markdown",
   "metadata": {}
  },
  {
   "cell_type": "code",
   "execution_count": 32,
   "metadata": {},
   "outputs": [
    {
     "output_type": "stream",
     "name": "stdout",
     "text": [
      "5&1= 0101&0001 = 0001 =  1\n5|1 = 0101|0001 = 0101 = 5\n5^1= 0101^0001 = 0100 = 4\n-6\n10\n2\n"
     ]
    }
   ],
   "source": [
    "x = 5\n",
    "y = 1\n",
    "# __and__:\n",
    "print('5&1= 0101&0001 = 0001 = ',x&y)\n",
    "# __or__:\n",
    "print('5|1 = 0101|0001 = 0101 =',x | y)\n",
    "# __xor__:\n",
    "print('5^1= 0101^0001 = 0100 =',x ^ y)\n",
    "\n",
    "\n",
    "# __INVERT__:\n",
    "print(~x)\n",
    "\n",
    "# __lshift__:\n",
    "print(x << y)\n",
    "# __rshift__:\n",
    "print(x >> y)"
   ]
  },
  {
   "cell_type": "code",
   "execution_count": null,
   "metadata": {},
   "outputs": [],
   "source": []
  }
 ]
}