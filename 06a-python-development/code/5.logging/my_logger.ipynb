{
 "cells": [
  {
   "cell_type": "code",
   "execution_count": 1,
   "metadata": {},
   "outputs": [],
   "source": [
    "import logging"
   ]
  },
  {
   "cell_type": "code",
   "execution_count": 6,
   "metadata": {},
   "outputs": [
    {
     "name": "stderr",
     "output_type": "stream",
     "text": [
      "2022-03-31 22:18:02,471: INFO: quadratic: Line 8: quadratic_formula(1,0,-4)\n",
      "2022-03-31 22:18:02,472: DEBUG: quadratic: Line 10: Compute the discriminant: 16\n",
      "2022-03-31 22:18:02,473: DEBUG: quadratic: Line 15: Compute the positive root: 2\n",
      "2022-03-31 22:18:02,474: DEBUG: quadratic: Line 17: Compute the negative root: -2\n",
      "2022-03-31 22:18:02,475: INFO: quadratic: Line 8: quadratic_formula(1,0,4)\n",
      "2022-03-31 22:18:02,476: DEBUG: quadratic: Line 10: Compute the discriminant: -16\n",
      "2022-03-31 22:18:02,476: WARNING: quadratic: Line 12: Discriminant is negative!\n"
     ]
    },
    {
     "name": "stdout",
     "output_type": "stream",
     "text": [
      "(2.0, -2.0)\n",
      "(0, 0)\n"
     ]
    }
   ],
   "source": [
    "logger = logging.getLogger(\"quadratic\")\n",
    "\n",
    "# Example function\n",
    "def quadratic_formula(a:float, b:float ,c:float) -> float:\n",
    "    \"\"\" Returns the solutions to the equation ax^2 + bx + c = 0  \"\"\"\n",
    "    import math\n",
    "    # logger.info(f'quadratic_formula({a},{b},{c})')  # NOTE: We deliberately use the old-style C format below, and NOT the f-string.\n",
    "    logger.info('quadratic_formula(%g,%g,%g)', a, b, c)\n",
    "    discri = b**2 - 4*a*c\n",
    "    logger.debug('Compute the discriminant: %g', discri)\n",
    "    if discri<0:\n",
    "        logger.warning('Discriminant is negative!')\n",
    "        return (0,0)\n",
    "    root_a = (-b + math.sqrt(discri))/(2*a)\n",
    "    logger.debug('Compute the positive root: %g', root_a)\n",
    "    root_b = (-b - math.sqrt(discri))/(2*a)\n",
    "    logger.debug('Compute the negative root: %g', root_b)\n",
    "    return root_a , root_b\n",
    "\n",
    "print(quadratic_formula(1, 0, -4))\n",
    "print(quadratic_formula(1, 0, 4))"
   ]
  },
  {
   "cell_type": "code",
   "execution_count": 7,
   "metadata": {},
   "outputs": [
    {
     "name": "stderr",
     "output_type": "stream",
     "text": [
      "quadratic_formula(1,0,-4)\n",
      "quadratic_formula(1,0,4)\n",
      "Discriminant is negative!\n"
     ]
    },
    {
     "name": "stdout",
     "output_type": "stream",
     "text": [
      "(2.0, -2.0)\n",
      "(0, 0)\n"
     ]
    }
   ],
   "source": [
    "# Change logging level\n",
    "logger = logging.getLogger(\"quadratic\")\n",
    "console = logging.StreamHandler()  # writes to stderr (= cerr)\n",
    "logger.handlers = [console]\n",
    "logger.setLevel(logging.INFO)\n",
    "print(quadratic_formula(1, 0, -4))\n",
    "print(quadratic_formula(1, 0, 4))"
   ]
  },
  {
   "cell_type": "code",
   "execution_count": 4,
   "metadata": {},
   "outputs": [
    {
     "name": "stderr",
     "output_type": "stream",
     "text": [
      "quadratic_formula(1,0,-4)\n",
      "Compute the discriminant: 16\n",
      "Compute the positive root: 2\n",
      "Compute the negative root: -2\n",
      "quadratic_formula(1,0,4)\n",
      "Compute the discriminant: -16\n",
      "Discriminant is negative!\n"
     ]
    },
    {
     "name": "stdout",
     "output_type": "stream",
     "text": [
      "(2.0, -2.0)\n",
      "(0, 0)\n"
     ]
    }
   ],
   "source": [
    "# Change logging level\n",
    "logger.setLevel(logging.DEBUG)\n",
    "print(quadratic_formula(1, 0, -4))\n",
    "print(quadratic_formula(1, 0, 4))"
   ]
  },
  {
   "cell_type": "code",
   "execution_count": 8,
   "metadata": {},
   "outputs": [
    {
     "name": "stderr",
     "output_type": "stream",
     "text": [
      "2022-03-31 22:19:20,738: INFO: quadratic: Line 8: quadratic_formula(1,0,-4)\n",
      "2022-03-31 22:19:20,741: INFO: quadratic: Line 8: quadratic_formula(1,0,4)\n",
      "2022-03-31 22:19:20,743: WARNING: quadratic: Line 12: Discriminant is negative!\n"
     ]
    },
    {
     "name": "stdout",
     "output_type": "stream",
     "text": [
      "(2.0, -2.0)\n",
      "(0, 0)\n"
     ]
    }
   ],
   "source": [
    "# Change logging format\n",
    "formatter = logging.Formatter('%(asctime)s: %(levelname)s: %(name)s: Line %(lineno)d: %(message)s')\n",
    "console.setFormatter(formatter)\n",
    "\n",
    "print(quadratic_formula(1, 0, -4))\n",
    "print(quadratic_formula(1, 0, 4))"
   ]
  },
  {
   "cell_type": "code",
   "execution_count": 9,
   "metadata": {},
   "outputs": [
    {
     "name": "stderr",
     "output_type": "stream",
     "text": [
      "2022-03-31 22:19:55,643: WARNING: quadratic: Line 12: Discriminant is negative!\n"
     ]
    },
    {
     "name": "stdout",
     "output_type": "stream",
     "text": [
      "(2.0, -2.0)\n",
      "(0, 0)\n"
     ]
    }
   ],
   "source": [
    "logfile = logging.FileHandler(\"my_logger.log\", mode=\"w\")  # w = replace; r+ = append\n",
    "logger.handlers = [console, logfile] \n",
    "logfile.setFormatter(formatter)\n",
    "logfile.setLevel(logging.DEBUG)\n",
    "console.setLevel(logging.WARNING)  # log all messages to file, but only warnings and errors to the console\n",
    "\n",
    "print(quadratic_formula(1, 0, -4))\n",
    "print(quadratic_formula(1, 0, 4))"
   ]
  }
 ],
 "metadata": {
  "kernelspec": {
   "display_name": "Python 3",
   "language": "python",
   "name": "python3"
  },
  "language_info": {
   "codemirror_mode": {
    "name": "ipython",
    "version": 3
   },
   "file_extension": ".py",
   "mimetype": "text/x-python",
   "name": "python",
   "nbconvert_exporter": "python",
   "pygments_lexer": "ipython3",
   "version": "3.10.2"
  }
 },
 "nbformat": 4,
 "nbformat_minor": 2
}
