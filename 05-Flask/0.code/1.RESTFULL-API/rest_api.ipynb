{
 "cells": [
  {
   "cell_type": "code",
   "execution_count": 1,
   "metadata": {},
   "outputs": [],
   "source": [
    "import requests"
   ]
  },
  {
   "cell_type": "code",
   "execution_count": 2,
   "metadata": {},
   "outputs": [],
   "source": [
    "prefix = 'https://api.exchangeratesapi.io/latest?'\n",
    "params = {'base':'USD','symbols': 'ILS'}\n",
    "response = requests.get(prefix, params= params)"
   ]
  },
  {
   "cell_type": "code",
   "execution_count": 3,
   "metadata": {},
   "outputs": [
    {
     "data": {
      "text/plain": [
       "requests.models.Response"
      ]
     },
     "execution_count": 3,
     "metadata": {},
     "output_type": "execute_result"
    }
   ],
   "source": [
    "type(response)"
   ]
  },
  {
   "cell_type": "code",
   "execution_count": 4,
   "metadata": {},
   "outputs": [
    {
     "data": {
      "text/plain": [
       "200"
      ]
     },
     "execution_count": 4,
     "metadata": {},
     "output_type": "execute_result"
    }
   ],
   "source": [
    "# If the request was successful 200 \n",
    "response.status_code"
   ]
  },
  {
   "cell_type": "code",
   "execution_count": 5,
   "metadata": {},
   "outputs": [
    {
     "data": {
      "text/plain": [
       "{'Date': 'Tue, 09 Mar 2021 21:14:10 GMT', 'Content-Type': 'application/json', 'Transfer-Encoding': 'chunked', 'Connection': 'keep-alive', 'Set-Cookie': '__cfduid=dd6d0cdfc5a17e14f15a7dcaca4857a3f1615324450; expires=Thu, 08-Apr-21 21:14:10 GMT; path=/; domain=.exchangeratesapi.io; HttpOnly; SameSite=Lax', 'Access-Control-Allow-Origin': '*', 'Access-Control-Allow-Credentials': 'true', 'Access-Control-Allow-Methods': 'GET', 'Cache-Control': 'max-age=1800', 'CF-Cache-Status': 'HIT', 'Age': '3119', 'cf-request-id': '08ba7026cd00000f76d42bc000000001', 'Expect-CT': 'max-age=604800, report-uri=\"https://report-uri.cloudflare.com/cdn-cgi/beacon/expect-ct\"', 'Report-To': '{\"endpoints\":[{\"url\":\"https:\\\\/\\\\/a.nel.cloudflare.com\\\\/report?s=464p4aWQGcVLGtd7%2BBtvd562x7Npr%2FuqjGNdx803I6YcUsgAXjqu1jFkM%2FDNjHphje0ohqANikd9IQbcpJU7mms0f7mraOLBLKCYhoWKHvBx8cJOE48mTg%3D%3D\"}],\"max_age\":604800,\"group\":\"cf-nel\"}', 'NEL': '{\"report_to\":\"cf-nel\",\"max_age\":604800}', 'Vary': 'Accept-Encoding', 'Server': 'cloudflare', 'CF-RAY': '62d74fb7af390f76-MXP', 'Content-Encoding': 'gzip'}"
      ]
     },
     "execution_count": 5,
     "metadata": {},
     "output_type": "execute_result"
    }
   ],
   "source": [
    "# Http protocol headers\n",
    "response.headers"
   ]
  },
  {
   "cell_type": "code",
   "execution_count": 6,
   "metadata": {},
   "outputs": [
    {
     "data": {
      "text/plain": [
       "'{\"rates\":{\"ILS\":3.3295779385},\"base\":\"USD\",\"date\":\"2021-03-09\"}'"
      ]
     },
     "execution_count": 6,
     "metadata": {},
     "output_type": "execute_result"
    }
   ],
   "source": [
    "response.text"
   ]
  },
  {
   "cell_type": "code",
   "execution_count": 7,
   "metadata": {},
   "outputs": [
    {
     "name": "stdout",
     "output_type": "stream",
     "text": [
      "2021-03-09\n",
      "USD\n",
      "3.3295779385\n"
     ]
    }
   ],
   "source": [
    "res_dict = response.json()\n",
    "print(res_dict['date'])\n",
    "print(res_dict['base'])\n",
    "print(res_dict['rates']['ILS'])"
   ]
  },
  {
   "cell_type": "code",
   "execution_count": 9,
   "metadata": {},
   "outputs": [
    {
     "name": "stdout",
     "output_type": "stream",
     "text": [
      "how much dollars do you have? 100\n",
      "100 ILS relative to USD  is 332.95779385\n"
     ]
    }
   ],
   "source": [
    "il_shekel = float(res_dict['rates']['ILS'])\n",
    "amount_us_dollars = input('how much dollars do you have? ')\n",
    "print(f'{amount_us_dollars} ILS relative to USD  is {il_shekel*int(amount_us_dollars)}')"
   ]
  },
  {
   "cell_type": "code",
   "execution_count": null,
   "metadata": {},
   "outputs": [],
   "source": []
  }
 ],
 "metadata": {
  "kernelspec": {
   "display_name": "Python 3",
   "language": "python",
   "name": "python3"
  },
  "language_info": {
   "codemirror_mode": {
    "name": "ipython",
    "version": 3
   },
   "file_extension": ".py",
   "mimetype": "text/x-python",
   "name": "python",
   "nbconvert_exporter": "python",
   "pygments_lexer": "ipython3",
   "version": "3.8.5"
  }
 },
 "nbformat": 4,
 "nbformat_minor": 2
}
