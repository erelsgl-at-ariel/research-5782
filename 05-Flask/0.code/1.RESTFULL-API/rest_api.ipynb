{
 "cells": [
  {
   "cell_type": "code",
   "execution_count": 30,
   "metadata": {},
   "outputs": [],
   "source": [
    "import requests"
   ]
  },
  {
   "cell_type": "code",
   "execution_count": 36,
   "metadata": {},
   "outputs": [
    {
     "name": "stdout",
     "output_type": "stream",
     "text": [
      "status code:  200\n",
      "headers:  {'Date': 'Thu, 03 Feb 2022 13:05:33 GMT', 'Content-Type': 'application/json; Charset=UTF-8', 'Transfer-Encoding': 'chunked', 'Connection': 'keep-alive', 'x-apilayer-transaction-id': '61e66623-f0bc-4106-bfd9-228bac16eeca', 'access-control-allow-methods': 'GET, HEAD, POST, PUT, PATCH, DELETE, OPTIONS', 'access-control-allow-origin': '*', 'x-request-time': '0.014', 'CF-Cache-Status': 'DYNAMIC', 'Report-To': '{\"endpoints\":[{\"url\":\"https:\\\\/\\\\/a.nel.cloudflare.com\\\\/report\\\\/v3?s=WL2baoEc6Klajk1r5j0P%2Fj%2F7ff8mq%2BtDJlUmGujG0jBiv7n4s03FIKZkMkY3BO4UyNIuVMvcZQEiHM2NBOKlESFC0LBFKP4fVui%2F4WXELoh5KgVb%2FeLFq7Qk%2BYUdgAbdtWPyIpJU0bnQk0xkAHBk2Rh8jyqN\"}],\"group\":\"cf-nel\",\"max_age\":604800}', 'NEL': '{\"success_fraction\":0,\"report_to\":\"cf-nel\",\"max_age\":604800}', 'Server': 'cloudflare', 'CF-RAY': '6d7bdf17698c8e4b-TLV', 'Content-Encoding': 'gzip'}\n",
      "text:  {\"success\":true,\"timestamp\":1643892243,\"base\":\"EUR\",\"date\":\"2022-02-03\",\"rates\":{\"AED\":4.147258,\"AFN\":107.147897,\"ALL\":121.416219,\"AMD\":544.951716,\"ANG\":2.03296,\"AOA\":594.436912,\"ARS\":118.73755,\"AUD\":1.586316,\"AWG\":2.032959,\"AZN\":1.917573,\"BAM\":1.955792,\"BBD\":2.277586,\"BDT\":96.982585,\"BGN\":1.954606,\"BHD\":0.425671,\"BIF\":2253.045704,\"BMD\":1.129108,\"BND\":1.52097,\"BOB\":7.777751,\"BRL\":5.988815,\"BSD\":1.127993,\"BTC\":3.0971835e-5,\"BTN\":84.361444,\"BWP\":13.056017,\"BYN\":2.925543,\"BYR\":22130.513575,\"BZD\":2.273786,\"CAD\":1.433831,\"CDF\":2273.461036,\"CHF\":1.041986,\"CLF\":0.033364,\"CLP\":920.617965,\"CNY\":7.182315,\"COP\":4441.54891,\"CRC\":725.315398,\"CUC\":1.129108,\"CUP\":29.921358,\"CVE\":110.262836,\"CZK\":24.118848,\"DJF\":200.816058,\"DKK\":7.438664,\"DOP\":64.984724,\"DZD\":158.820418,\"EGP\":17.732751,\"ERN\":16.93664,\"ETB\":56.654288,\"EUR\":1,\"FJD\":2.41838,\"FKP\":0.8219,\"GBP\":0.830679,\"GEL\":3.432421,\"GGP\":0.8219,\"GHS\":7.208059,\"GIP\":0.8219,\"GMD\":59.898852,\"GNF\":10152.200711,\"GTQ\":8.674545,\"GYD\":235.898503,\"HKD\":8.800774,\"HNL\":27.766824,\"HRK\":7.526862,\"HTG\":114.566273,\"HUF\":353.840891,\"IDR\":16251.982996,\"ILS\":3.596205,\"IMP\":0.8219,\"INR\":84.570233,\"IQD\":1646.367682,\"IRR\":47733.033563,\"ISK\":142.606597,\"JEP\":0.8219,\"JMD\":176.677879,\"JOD\":0.80055,\"JPY\":129.71586,\"KES\":128.21053,\"KGS\":95.723278,\"KHR\":4587.609945,\"KMF\":494.493207,\"KPW\":1016.197229,\"KRW\":1359.005572,\"KWD\":0.341499,\"KYD\":0.939994,\"KZT\":490.576887,\"LAK\":12810.148535,\"LBP\":1705.589177,\"LKR\":228.70561,\"LRD\":172.358601,\"LSL\":17.252802,\"LTL\":3.333962,\"LVL\":0.682986,\"LYD\":5.187798,\"MAD\":10.556793,\"MDL\":20.298702,\"MGA\":4499.661671,\"MKD\":61.62879,\"MMK\":2005.615929,\"MNT\":3227.928667,\"MOP\":9.055822,\"MRO\":403.091303,\"MUR\":49.285065,\"MVR\":17.444303,\"MWK\":921.53991,\"MXN\":23.289633,\"MYR\":4.723623,\"MZN\":72.070943,\"NAD\":17.253013,\"NGN\":469.245543,\"NIO\":39.994746,\"NOK\":9.945154,\"NPR\":134.97835,\"NZD\":1.700448,\"OMR\":0.434711,\"PAB\":1.127993,\"PEN\":4.355272,\"PGK\":3.960722,\"PHP\":57.634192,\"PKR\":198.700399,\"PLN\":4.531656,\"PYG\":7931.844297,\"QAR\":4.111051,\"RON\":4.946961,\"RSD\":117.608711,\"RUB\":86.185953,\"RWF\":1172.086992,\"SAR\":4.236129,\"SBD\":9.153729,\"SCR\":14.75546,\"SDG\":497.937079,\"SEK\":10.378968,\"SGD\":1.521637,\"SHP\":1.55523,\"SLL\":12928.2848,\"SOS\":660.527831,\"SRD\":23.575204,\"STD\":23370.252534,\"SVC\":9.869937,\"SYP\":2836.318629,\"SZL\":17.27869,\"THB\":37.447424,\"TJS\":12.73535,\"TMT\":4.256737,\"TND\":3.254079,\"TOP\":2.56076,\"TRY\":15.317024,\"TTD\":7.652351,\"TWD\":31.437721,\"TZS\":2610.497259,\"UAH\":31.891634,\"UGX\":3942.42261,\"USD\":1.129108,\"UYU\":49.548027,\"UZS\":12222.364197,\"VEF\":241437379496.6131,\"VND\":25574.292473,\"VUV\":128.347284,\"WST\":2.949617,\"XAF\":655.944124,\"XAG\":0.050484,\"XAU\":0.000627,\"XCD\":3.05147,\"XDR\":0.805284,\"XOF\":655.944124,\"XPF\":120.247729,\"YER\":282.559754,\"ZAR\":17.312791,\"ZMK\":10163.325767,\"ZMW\":20.642695,\"ZWL\":363.572262}}\n"
     ]
    }
   ],
   "source": [
    "ACCESS_KEY = 'e119b7a44144985728fc8769f30b853d' # To get your access key, go to https://exchangeratesapi.io and click \"GET API KEY\"\n",
    "prefix = 'http://api.exchangeratesapi.io/latest'\n",
    "response = requests.get(prefix, params= {'access_key': ACCESS_KEY})\n",
    "print(\"status code: \", response.status_code) # 200 = SUCCESS\n",
    "print(\"headers: \", response.headers)\n",
    "print(\"text: \", response.text)"
   ]
  },
  {
   "cell_type": "code",
   "execution_count": 37,
   "metadata": {},
   "outputs": [
    {
     "data": {
      "text/plain": [
       "{'success': True,\n",
       " 'timestamp': 1643892243,\n",
       " 'base': 'EUR',\n",
       " 'date': '2022-02-03',\n",
       " 'rates': {'AED': 4.147258,\n",
       "  'AFN': 107.147897,\n",
       "  'ALL': 121.416219,\n",
       "  'AMD': 544.951716,\n",
       "  'ANG': 2.03296,\n",
       "  'AOA': 594.436912,\n",
       "  'ARS': 118.73755,\n",
       "  'AUD': 1.586316,\n",
       "  'AWG': 2.032959,\n",
       "  'AZN': 1.917573,\n",
       "  'BAM': 1.955792,\n",
       "  'BBD': 2.277586,\n",
       "  'BDT': 96.982585,\n",
       "  'BGN': 1.954606,\n",
       "  'BHD': 0.425671,\n",
       "  'BIF': 2253.045704,\n",
       "  'BMD': 1.129108,\n",
       "  'BND': 1.52097,\n",
       "  'BOB': 7.777751,\n",
       "  'BRL': 5.988815,\n",
       "  'BSD': 1.127993,\n",
       "  'BTC': 3.0971835e-05,\n",
       "  'BTN': 84.361444,\n",
       "  'BWP': 13.056017,\n",
       "  'BYN': 2.925543,\n",
       "  'BYR': 22130.513575,\n",
       "  'BZD': 2.273786,\n",
       "  'CAD': 1.433831,\n",
       "  'CDF': 2273.461036,\n",
       "  'CHF': 1.041986,\n",
       "  'CLF': 0.033364,\n",
       "  'CLP': 920.617965,\n",
       "  'CNY': 7.182315,\n",
       "  'COP': 4441.54891,\n",
       "  'CRC': 725.315398,\n",
       "  'CUC': 1.129108,\n",
       "  'CUP': 29.921358,\n",
       "  'CVE': 110.262836,\n",
       "  'CZK': 24.118848,\n",
       "  'DJF': 200.816058,\n",
       "  'DKK': 7.438664,\n",
       "  'DOP': 64.984724,\n",
       "  'DZD': 158.820418,\n",
       "  'EGP': 17.732751,\n",
       "  'ERN': 16.93664,\n",
       "  'ETB': 56.654288,\n",
       "  'EUR': 1,\n",
       "  'FJD': 2.41838,\n",
       "  'FKP': 0.8219,\n",
       "  'GBP': 0.830679,\n",
       "  'GEL': 3.432421,\n",
       "  'GGP': 0.8219,\n",
       "  'GHS': 7.208059,\n",
       "  'GIP': 0.8219,\n",
       "  'GMD': 59.898852,\n",
       "  'GNF': 10152.200711,\n",
       "  'GTQ': 8.674545,\n",
       "  'GYD': 235.898503,\n",
       "  'HKD': 8.800774,\n",
       "  'HNL': 27.766824,\n",
       "  'HRK': 7.526862,\n",
       "  'HTG': 114.566273,\n",
       "  'HUF': 353.840891,\n",
       "  'IDR': 16251.982996,\n",
       "  'ILS': 3.596205,\n",
       "  'IMP': 0.8219,\n",
       "  'INR': 84.570233,\n",
       "  'IQD': 1646.367682,\n",
       "  'IRR': 47733.033563,\n",
       "  'ISK': 142.606597,\n",
       "  'JEP': 0.8219,\n",
       "  'JMD': 176.677879,\n",
       "  'JOD': 0.80055,\n",
       "  'JPY': 129.71586,\n",
       "  'KES': 128.21053,\n",
       "  'KGS': 95.723278,\n",
       "  'KHR': 4587.609945,\n",
       "  'KMF': 494.493207,\n",
       "  'KPW': 1016.197229,\n",
       "  'KRW': 1359.005572,\n",
       "  'KWD': 0.341499,\n",
       "  'KYD': 0.939994,\n",
       "  'KZT': 490.576887,\n",
       "  'LAK': 12810.148535,\n",
       "  'LBP': 1705.589177,\n",
       "  'LKR': 228.70561,\n",
       "  'LRD': 172.358601,\n",
       "  'LSL': 17.252802,\n",
       "  'LTL': 3.333962,\n",
       "  'LVL': 0.682986,\n",
       "  'LYD': 5.187798,\n",
       "  'MAD': 10.556793,\n",
       "  'MDL': 20.298702,\n",
       "  'MGA': 4499.661671,\n",
       "  'MKD': 61.62879,\n",
       "  'MMK': 2005.615929,\n",
       "  'MNT': 3227.928667,\n",
       "  'MOP': 9.055822,\n",
       "  'MRO': 403.091303,\n",
       "  'MUR': 49.285065,\n",
       "  'MVR': 17.444303,\n",
       "  'MWK': 921.53991,\n",
       "  'MXN': 23.289633,\n",
       "  'MYR': 4.723623,\n",
       "  'MZN': 72.070943,\n",
       "  'NAD': 17.253013,\n",
       "  'NGN': 469.245543,\n",
       "  'NIO': 39.994746,\n",
       "  'NOK': 9.945154,\n",
       "  'NPR': 134.97835,\n",
       "  'NZD': 1.700448,\n",
       "  'OMR': 0.434711,\n",
       "  'PAB': 1.127993,\n",
       "  'PEN': 4.355272,\n",
       "  'PGK': 3.960722,\n",
       "  'PHP': 57.634192,\n",
       "  'PKR': 198.700399,\n",
       "  'PLN': 4.531656,\n",
       "  'PYG': 7931.844297,\n",
       "  'QAR': 4.111051,\n",
       "  'RON': 4.946961,\n",
       "  'RSD': 117.608711,\n",
       "  'RUB': 86.185953,\n",
       "  'RWF': 1172.086992,\n",
       "  'SAR': 4.236129,\n",
       "  'SBD': 9.153729,\n",
       "  'SCR': 14.75546,\n",
       "  'SDG': 497.937079,\n",
       "  'SEK': 10.378968,\n",
       "  'SGD': 1.521637,\n",
       "  'SHP': 1.55523,\n",
       "  'SLL': 12928.2848,\n",
       "  'SOS': 660.527831,\n",
       "  'SRD': 23.575204,\n",
       "  'STD': 23370.252534,\n",
       "  'SVC': 9.869937,\n",
       "  'SYP': 2836.318629,\n",
       "  'SZL': 17.27869,\n",
       "  'THB': 37.447424,\n",
       "  'TJS': 12.73535,\n",
       "  'TMT': 4.256737,\n",
       "  'TND': 3.254079,\n",
       "  'TOP': 2.56076,\n",
       "  'TRY': 15.317024,\n",
       "  'TTD': 7.652351,\n",
       "  'TWD': 31.437721,\n",
       "  'TZS': 2610.497259,\n",
       "  'UAH': 31.891634,\n",
       "  'UGX': 3942.42261,\n",
       "  'USD': 1.129108,\n",
       "  'UYU': 49.548027,\n",
       "  'UZS': 12222.364197,\n",
       "  'VEF': 241437379496.6131,\n",
       "  'VND': 25574.292473,\n",
       "  'VUV': 128.347284,\n",
       "  'WST': 2.949617,\n",
       "  'XAF': 655.944124,\n",
       "  'XAG': 0.050484,\n",
       "  'XAU': 0.000627,\n",
       "  'XCD': 3.05147,\n",
       "  'XDR': 0.805284,\n",
       "  'XOF': 655.944124,\n",
       "  'XPF': 120.247729,\n",
       "  'YER': 282.559754,\n",
       "  'ZAR': 17.312791,\n",
       "  'ZMK': 10163.325767,\n",
       "  'ZMW': 20.642695,\n",
       "  'ZWL': 363.572262}}"
      ]
     },
     "execution_count": 37,
     "metadata": {},
     "output_type": "execute_result"
    }
   ],
   "source": [
    "response.json()"
   ]
  },
  {
   "cell_type": "code",
   "execution_count": 38,
   "metadata": {},
   "outputs": [
    {
     "data": {
      "text/plain": [
       "{'success': True,\n",
       " 'timestamp': 1643892243,\n",
       " 'base': 'EUR',\n",
       " 'date': '2022-02-03',\n",
       " 'rates': {'ILS': 3.596205}}"
      ]
     },
     "execution_count": 38,
     "metadata": {},
     "output_type": "execute_result"
    }
   ],
   "source": [
    "params = {'symbols': 'ILS', 'access_key': ACCESS_KEY}\n",
    "response = requests.get(prefix, params= params)\n",
    "res_dict = response.json()\n",
    "res_dict"
   ]
  },
  {
   "cell_type": "code",
   "execution_count": 39,
   "metadata": {},
   "outputs": [
    {
     "name": "stdout",
     "output_type": "stream",
     "text": [
      "3.596205\n"
     ]
    }
   ],
   "source": [
    "print(res_dict['rates']['ILS'])"
   ]
  },
  {
   "cell_type": "code",
   "execution_count": 40,
   "metadata": {},
   "outputs": [
    {
     "name": "stdout",
     "output_type": "stream",
     "text": [
      "100 EUR is 359.6205 ILS\n"
     ]
    }
   ],
   "source": [
    "shekels_in_euro = float(res_dict['rates']['ILS'])\n",
    "amount_in_euros = input('how much Euros do you have? ')\n",
    "print(f'{amount_in_euros} EUR is {shekels_in_euro*int(amount_in_euros)} ILS')"
   ]
  }
 ],
 "metadata": {
  "kernelspec": {
   "display_name": "Python 3",
   "language": "python",
   "name": "python3"
  },
  "language_info": {
   "codemirror_mode": {
    "name": "ipython",
    "version": 3
   },
   "file_extension": ".py",
   "mimetype": "text/x-python",
   "name": "python",
   "nbconvert_exporter": "python",
   "pygments_lexer": "ipython3",
   "version": "3.10.2"
  }
 },
 "nbformat": 4,
 "nbformat_minor": 2
}
