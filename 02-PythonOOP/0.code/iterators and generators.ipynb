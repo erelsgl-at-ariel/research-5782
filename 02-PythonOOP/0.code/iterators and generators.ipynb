{
 "metadata": {
  "language_info": {
   "codemirror_mode": {
    "name": "ipython",
    "version": 3
   },
   "file_extension": ".py",
   "mimetype": "text/x-python",
   "name": "python",
   "nbconvert_exporter": "python",
   "pygments_lexer": "ipython3",
   "version": "3.6.6-final"
  },
  "orig_nbformat": 2,
  "kernelspec": {
   "name": "python3",
   "display_name": "Python 3",
   "language": "python"
  }
 },
 "nbformat": 4,
 "nbformat_minor": 2,
 "cells": [
  {
   "cell_type": "code",
   "execution_count": 5,
   "metadata": {},
   "outputs": [
    {
     "output_type": "stream",
     "name": "stdout",
     "text": [
      "start\n |\n |\n |\n ↓\nend\n"
     ]
    }
   ],
   "source": [
    "my_list = ['start',' |',' |',' |',' ↓']\n",
    "my_iterator = iter(my_list)\n",
    "while True:\n",
    "    try:\n",
    "        item = next(my_iterator)\n",
    "        print(item)\n",
    "    except StopIteration:\n",
    "        print('end')\n",
    "        break"
   ]
  },
  {
   "cell_type": "code",
   "execution_count": 13,
   "metadata": {},
   "outputs": [
    {
     "output_type": "stream",
     "name": "stdout",
     "text": [
      "0 2 4 6 8 "
     ]
    }
   ],
   "source": [
    "class RangeIterator:\n",
    "    def __init__(self,first,end,step=1):\n",
    "        self.state = first\n",
    "        self.end = end\n",
    "        self.step = step\n",
    "    \n",
    "    def __iter__(self):\n",
    "        return self\n",
    "    \n",
    "    def __next__(self):\n",
    "        if self.state >= self.end : raise StopIteration\n",
    "        res = self.state\n",
    "        self.state+=self.step\n",
    "        return res\n",
    "    \n",
    "for i in RangeIterator(0,10,2):\n",
    "    print(i , end = ' ')\n"
   ]
  },
  {
   "cell_type": "code",
   "execution_count": 9,
   "metadata": {},
   "outputs": [
    {
     "output_type": "stream",
     "name": "stdout",
     "text": [
      "20 first number of fibonacci sequence:\n0 1 1 2 3 5 8 13 21 34 55 89 144 233 377 610 987 1597 2584 4181 "
     ]
    }
   ],
   "source": [
    "class Fibonacci:\n",
    "    def __init__(self,first,second,end):\n",
    "        self.first = first\n",
    "        self.second = second\n",
    "        self.step = 0\n",
    "        self.end = end\n",
    "    \n",
    "    def __iter__(self):\n",
    "        return self\n",
    "    \n",
    "    def __next__(self):\n",
    "        if self.step == self.end: raise StopIteration\n",
    "        res = (self.first,self.second)\n",
    "        self.first , self.second = self.second , self.first+self.second\n",
    "        self.step += 1\n",
    "        return res\n",
    "\n",
    "num = 20        \n",
    "print(f\"{num} first number of fibonacci sequence:\")\n",
    "for res in Fibonacci(0,1,num):\n",
    "    print(res[0] ,end = ' ') \n"
   ]
  },
  {
   "cell_type": "code",
   "execution_count": 63,
   "metadata": {},
   "outputs": [
    {
     "output_type": "stream",
     "name": "stdout",
     "text": [
      "<class 'function'>\n<class 'generator'>\nfirst\nsecond\nthird\n"
     ]
    },
    {
     "output_type": "error",
     "ename": "StopIteration",
     "evalue": "",
     "traceback": [
      "\u001b[1;31m---------------------------------------------------------------------------\u001b[0m",
      "\u001b[1;31mStopIteration\u001b[0m                             Traceback (most recent call last)",
      "\u001b[1;32m<ipython-input-63-527127fad269>\u001b[0m in \u001b[0;36m<module>\u001b[1;34m\u001b[0m\n\u001b[0;32m      9\u001b[0m \u001b[0mprint\u001b[0m\u001b[1;33m(\u001b[0m\u001b[0mnext\u001b[0m\u001b[1;33m(\u001b[0m\u001b[0mexample\u001b[0m\u001b[1;33m)\u001b[0m\u001b[1;33m)\u001b[0m\u001b[1;33m\u001b[0m\u001b[0m\n\u001b[0;32m     10\u001b[0m \u001b[0mprint\u001b[0m\u001b[1;33m(\u001b[0m\u001b[0mnext\u001b[0m\u001b[1;33m(\u001b[0m\u001b[0mexample\u001b[0m\u001b[1;33m)\u001b[0m\u001b[1;33m)\u001b[0m\u001b[1;33m\u001b[0m\u001b[0m\n\u001b[1;32m---> 11\u001b[1;33m \u001b[0mprint\u001b[0m\u001b[1;33m(\u001b[0m\u001b[0mnext\u001b[0m\u001b[1;33m(\u001b[0m\u001b[0mexample\u001b[0m\u001b[1;33m)\u001b[0m\u001b[1;33m)\u001b[0m\u001b[1;33m\u001b[0m\u001b[0m\n\u001b[0m",
      "\u001b[1;31mStopIteration\u001b[0m: "
     ]
    }
   ],
   "source": [
    "def example_of_generator():\n",
    "    yield \"first\"\n",
    "    yield \"second\"\n",
    "    yield \"third\"\n",
    "example = example_of_generator()\n",
    "print(type(example_of_generator))\n",
    "print(type(example))\n",
    "print(next(example))\n",
    "print(next(example))\n",
    "print(next(example))\n",
    "print(next(example))"
   ]
  },
  {
   "cell_type": "code",
   "execution_count": 68,
   "metadata": {},
   "outputs": [
    {
     "output_type": "stream",
     "name": "stdout",
     "text": [
      "example_of_generator is a <class 'function'>\nmy_example is a <class 'generator'>\n"
     ]
    }
   ],
   "source": [
    "my_example = example_of_generator()\n",
    "print(f\"example_of_generator is a {type(example_of_genertor)}\")\n",
    "print(f\"my_example is a {type(my_example)}\")"
   ]
  },
  {
   "cell_type": "code",
   "execution_count": 67,
   "metadata": {},
   "outputs": [
    {
     "output_type": "stream",
     "name": "stdout",
     "text": [
      "Help on generator object:\n\nexample_of_generator = class generator(object)\n |  Methods defined here:\n |  \n |  __del__(...)\n |  \n |  __getattribute__(self, name, /)\n |      Return getattr(self, name).\n |  \n |  __iter__(self, /)\n |      Implement iter(self).\n |  \n |  __next__(self, /)\n |      Implement next(self).\n |  \n |  __repr__(self, /)\n |      Return repr(self).\n |  \n |  close(...)\n |      close() -> raise GeneratorExit inside generator.\n |  \n |  send(...)\n |      send(arg) -> send 'arg' into generator,\n |      return next yielded value or raise StopIteration.\n |  \n |  throw(...)\n |      throw(typ[,val[,tb]]) -> raise exception in generator,\n |      return next yielded value or raise StopIteration.\n |  \n |  ----------------------------------------------------------------------\n |  Data descriptors defined here:\n |  \n |  gi_code\n |  \n |  gi_frame\n |  \n |  gi_running\n |  \n |  gi_yieldfrom\n |      object being iterated by yield from, or None\n\n"
     ]
    }
   ],
   "source": [
    "help(my_example)"
   ]
  },
  {
   "cell_type": "code",
   "execution_count": 70,
   "metadata": {},
   "outputs": [
    {
     "output_type": "stream",
     "name": "stdout",
     "text": [
      "15 first number of fibonacci sequence:\n0 1 1 2 3 5 8 13 21 34 55 89 144 233 377 "
     ]
    }
   ],
   "source": [
    "def fibonacci_generator(iterations):\n",
    "    first = 0\n",
    "    second = 1\n",
    "    iter_num = 0\n",
    "    while iter_num != iterations:\n",
    "        yield first\n",
    "        first , second = second , first+second\n",
    "        iter_num+=1\n",
    "    \n",
    "num_of_iterations = 15\n",
    "print(f\"{num_of_iterations} first number of fibonacci sequence:\")\n",
    "for fib in fibonacci_generator(num_of_iterations):\n",
    "    print(fib,end = ' ')\n",
    "\n",
    "    \n"
   ]
  },
  {
   "cell_type": "code",
   "execution_count": null,
   "metadata": {},
   "outputs": [],
   "source": []
  }
 ]
}