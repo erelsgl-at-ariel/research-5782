{
 "metadata": {
  "language_info": {
   "codemirror_mode": {
    "name": "ipython",
    "version": 3
   },
   "file_extension": ".py",
   "mimetype": "text/x-python",
   "name": "python",
   "nbconvert_exporter": "python",
   "pygments_lexer": "ipython3",
   "version": "3.6.6-final"
  },
  "orig_nbformat": 2,
  "kernelspec": {
   "name": "python3",
   "display_name": "Python 3",
   "language": "python"
  }
 },
 "nbformat": 4,
 "nbformat_minor": 2,
 "cells": [
  {
   "cell_type": "code",
   "execution_count": 1,
   "metadata": {},
   "outputs": [],
   "source": [
    "class MyClass:\n",
    "    pass"
   ]
  },
  {
   "cell_type": "code",
   "execution_count": 18,
   "metadata": {},
   "outputs": [
    {
     "output_type": "stream",
     "name": "stdout",
     "text": [
      "Kookoo species: Gallus gallus\nRexi species: Canis familiaris\n"
     ]
    }
   ],
   "source": [
    "class Dog:\n",
    "    #class attribute\n",
    "    species = \"Canis familiaris\"\n",
    "    def __init__(self, name, age, gender = 'male'):\n",
    "        self.name = name\n",
    "        self.age = age\n",
    "        self.gender = gender\n",
    "\n",
    "rexi = Dog(\"Rexi\", 3)\n",
    "kookoo = Dog(\"Kookoo\", 0.5)\n",
    "kookoo.species = \"Gallus gallus\"\n",
    "print(f\"Kookoo species: {kookoo.species}\")\n",
    "print(f\"Rexi species: {rexi.species}\")"
   ]
  },
  {
   "cell_type": "code",
   "execution_count": 26,
   "metadata": {},
   "outputs": [],
   "source": [
    "class Dog:\n",
    "    species = \"Canis familiaris\"\n",
    "\n",
    "    def __init__(self, name, age , gender='male'):\n",
    "        self.name = name\n",
    "        self.age = age\n",
    "        self.gender= gender\n",
    "\n",
    "    # Instance method\n",
    "    def description(self):\n",
    "        return f\"{self.name} is {self.age} years old\"\n",
    "\n",
    "    # Another instance method\n",
    "    def speak(self, sound):\n",
    "        return f\"{self.name} says: {sound}\""
   ]
  },
  {
   "cell_type": "code",
   "execution_count": 27,
   "metadata": {},
   "outputs": [
    {
     "output_type": "stream",
     "name": "stdout",
     "text": [
      "Rexi says: I'm a dog, I can't speak!\nRexi is 3 years old\n"
     ]
    }
   ],
   "source": [
    "rexi = Dog(\"Rexi\", 3)\n",
    "print(rexi.speak(\"I'm a dog, I can't speak!\"))\n",
    "print(rexi.description())"
   ]
  },
  {
   "cell_type": "code",
   "execution_count": 35,
   "metadata": {},
   "outputs": [
    {
     "output_type": "stream",
     "name": "stdout",
     "text": [
      "Experiment X species: Felis silvestris\nGuffy species: Canis familiaris\n"
     ]
    }
   ],
   "source": [
    "class Dog:\n",
    "    species = \"Canis familiaris\"\n",
    "\n",
    "    def __init__(self, name, age , gender='male'):\n",
    "        self.name = name\n",
    "        self.age = age\n",
    "        self.gender= gender\n",
    "    def mutation(cls, new_species):\n",
    "        cls.species = new_species\n",
    "\n",
    "\n",
    "catdog_mutation= Dog(\"Experiment X\",0.2,gender='unknown')\n",
    "catdog_mutation.mutation('Felis silvestris')\n",
    "guffy= Dog('Guffy',2)\n",
    "print(f\"Experiment X species: {catdog_mutation.species}\")\n",
    "print(f\"Guffy species: {guffy.species}\")"
   ]
  },
  {
   "cell_type": "code",
   "execution_count": 42,
   "metadata": {},
   "outputs": [
    {
     "output_type": "stream",
     "name": "stdout",
     "text": [
      ">:-) whahaha\nYou have infected all the dogs in the world!\nExperiment X species: Felis silvestris\nGuffy species: Felis silvestris\n"
     ]
    }
   ],
   "source": [
    "class Dog:\n",
    "    species = \"Canis familiaris\"\n",
    "\n",
    "    def __init__(self, name, age , gender='male'):\n",
    "        self.name = name\n",
    "        self.age = age\n",
    "        self.gender= gender\n",
    "    def mutation(cls, new_species):\n",
    "        cls.species = new_species\n",
    "    @classmethod\n",
    "    def contagious_mutation(cls, new_species):\n",
    "        cls.species = new_species\n",
    "        print('>:-) whahaha')\n",
    "        print('You have infected all the dogs in the world!')  \n",
    "\n",
    "guffy= Dog('Guffy',2)\n",
    "catdog_mutation= Dog(\"Experiment X\",0.2,gender='unknown')\n",
    "catdog_mutation.contagious_mutation('Felis silvestris')\n",
    "print(f\"Experiment X species: {catdog_mutation.species}\")\n",
    "print(f\"Guffy species: {guffy.species}\")"
   ]
  },
  {
   "cell_type": "code",
   "execution_count": 71,
   "metadata": {},
   "outputs": [],
   "source": [
    "class Maze:\n",
    "    @staticmethod\n",
    "    def get_predetermined_maze():\n",
    "        return  f\"\"\"\n",
    "            # # # # # # # # # # # # # # #\n",
    "            # S                     #   #\n",
    "            #         #             #   #\n",
    "            # # # #             #   #   #\n",
    "            #                   #   #   #\n",
    "            #               # # # # #   #\n",
    "            #                           #\n",
    "            #                           #\n",
    "            # # # # # #       # # # #   #\n",
    "            #                         E #\n",
    "            # # # # # # # # # # # # # # #\n",
    "        \"\"\"\n",
    "    @staticmethod\n",
    "    def maze_solver(maze:str)-> str:       \n",
    "        #TODO: implement maze solver using BFS\n",
    "        pass\n",
    "    \n",
    "    @staticmethod \n",
    "    def maze_generator()->str:\n",
    "        #TODO: implement the maze generator using prim \n",
    "        pass\n",
    "\n"
   ]
  },
  {
   "cell_type": "code",
   "execution_count": 72,
   "metadata": {},
   "outputs": [
    {
     "output_type": "stream",
     "name": "stdout",
     "text": [
      "\n            # # # # # # # # # # # # # # #\n            # S                     #   #\n            #         #             #   #\n            # # # #             #   #   #\n            #                   #   #   #\n            #               # # # # #   #\n            #                           #\n            #                           #\n            # # # # # #       # # # #   #\n            #                         E #\n            # # # # # # # # # # # # # # #\n        \n"
     ]
    }
   ],
   "source": [
    "print(Maze.get_predetermined_maze())"
   ]
  },
  {
   "cell_type": "code",
   "execution_count": 5,
   "metadata": {},
   "outputs": [
    {
     "output_type": "stream",
     "name": "stdout",
     "text": [
      "is volvo an instance of Car? True\nis volvo an instance of Vehicle? True\nis Vehicle a subclass of Car? False\nis Car a subclass of Vehicle? True\n"
     ]
    }
   ],
   "source": [
    "class Vehicle:\n",
    "    pass\n",
    " \n",
    "class Car(Vehicle):\n",
    "    pass\n",
    " \n",
    "\n",
    "volvo = Car()\n",
    "#isinstance\n",
    "print(f\"is volvo an instance of Car? {isinstance(volvo, Car)}\")\n",
    "print(f\"is volvo an instance of Vehicle? {isinstance(volvo, Vehicle)}\")\n",
    "\n",
    "#issubclass\n",
    "print(f\"is Vehicle a subclass of Car? {issubclass(Vehicle, Car)}\")\n",
    "print(f\"is Car a subclass of Vehicle? {issubclass(Car, Vehicle)}\")"
   ]
  },
  {
   "cell_type": "code",
   "execution_count": 16,
   "metadata": {},
   "outputs": [
    {
     "output_type": "execute_result",
     "data": {
      "text/plain": [
       "True"
      ]
     },
     "metadata": {},
     "execution_count": 16
    }
   ],
   "source": [
    " issubclass(int, object)"
   ]
  },
  {
   "cell_type": "code",
   "execution_count": 18,
   "metadata": {},
   "outputs": [],
   "source": [
    "class Country(): \n",
    "    def capital(self): \n",
    "        return \"{} is the the capital of {}\"\n",
    "   \n",
    "    def language(self): \n",
    "        return \"{} is the the language of {}\"\n",
    "   \n",
    "    def population(self): \n",
    "        pass"
   ]
  },
  {
   "cell_type": "code",
   "execution_count": 23,
   "metadata": {},
   "outputs": [],
   "source": [
    "class Usa(Country):\n",
    "    def capital(self): \n",
    "       return super().capital().format(\"Washington, D.C.\",\"USA\") \n",
    "   \n",
    "    def language(self): \n",
    "        return super().language().format(\"English\",\"USA\") \n",
    "   \n",
    "    def population(self): \n",
    "        return '~328,239,523'"
   ]
  },
  {
   "cell_type": "code",
   "execution_count": 26,
   "metadata": {},
   "outputs": [
    {
     "output_type": "stream",
     "name": "stdout",
     "text": [
      "USA:\nCapital: Washington, D.C. is the the capital of USA\nlanguage: English is the the language of USA\npopulation: ~328,239,523\n"
     ]
    }
   ],
   "source": [
    "usa= Usa()\n",
    "print(\"USA:\")\n",
    "print(f\"Capital: {usa.capital()}\")\n",
    "print(f\"language: {usa.language()}\")\n",
    "print(f\"population: {usa.population()}\")"
   ]
  },
  {
   "cell_type": "code",
   "execution_count": 69,
   "metadata": {},
   "outputs": [
    {
     "output_type": "stream",
     "name": "stdout",
     "text": [
      "My name is class A\n"
     ]
    }
   ],
   "source": [
    "class A:\n",
    "    def my_name(self):\n",
    "        print(\"My name is class A\")\n",
    "\n",
    "class B:\n",
    "    def my_name(self):\n",
    "        print(\"My name is class B\")\n",
    "\n",
    "\n",
    "\n",
    "class C(A,B):\n",
    "    pass\n",
    "\n",
    "c= C()\n",
    "c.my_name()"
   ]
  },
  {
   "cell_type": "code",
   "execution_count": 71,
   "metadata": {},
   "outputs": [
    {
     "output_type": "stream",
     "name": "stdout",
     "text": [
      "My name is class B\nMy name is class A\n"
     ]
    }
   ],
   "source": [
    "class C(A,B):\n",
    "    def my_name(self):\n",
    "        B.my_name(self)\n",
    "        A.my_name(self)\n",
    "\n",
    "C().my_name()"
   ]
  },
  {
   "cell_type": "code",
   "execution_count": 74,
   "metadata": {},
   "outputs": [
    {
     "output_type": "stream",
     "name": "stdout",
     "text": [
      "Horse:\nthe Horse is used for riding and freight and racing\n\nDonkey:\nthe Donkey is used for riding and freight ,did I tell that I'm a donkey?\n\nMule:\nthe Mule is used for riding and freight and racing ,did I tell that I'm a donkey?\n"
     ]
    }
   ],
   "source": [
    "class DomesticatedAnimel(object):\n",
    "    def use(self):\n",
    "        return \"the {} is used for {}\"\n",
    "    \n",
    "class Horse(DomesticatedAnimel):    \n",
    "    def use(self):\n",
    "        return super().use().format(self.__class__.__name__, \"riding and freight and racing\")\n",
    "\n",
    "class Donkey(DomesticatedAnimel):\n",
    "    def use(self):\n",
    "        use_str= super().use().format(self.__class__.__name__, \"riding and freight\")\n",
    "        use_str+=\" ,did I tell that I'm a donkey?\"\n",
    "        return use_str \n",
    "\n",
    "class Mule(Donkey,Horse):\n",
    "    pass\n",
    "\n",
    "print(\"Horse:\")\n",
    "print(Horse().use(),end='\\n\\n')\n",
    "print(\"Donkey:\")\n",
    "print(Donkey().use(),end='\\n\\n')\n",
    "print(\"Mule:\")\n",
    "muly= Mule()\n",
    "print(muly.use())"
   ]
  },
  {
   "cell_type": "code",
   "execution_count": 71,
   "metadata": {},
   "outputs": [
    {
     "output_type": "stream",
     "name": "stdout",
     "text": [
      "Mule:\nin Donkey\nin Horse\nin DomesticatedAnimel\nbye bye domesticated animal \nbye bye horse\nbye bye donkey\n\n the Mule is used for riding and freight and racing ,did I tell that I'm a donkey?\n"
     ]
    }
   ],
   "source": [
    "class DomesticatedAnimel(object):\n",
    "    def use(self):\n",
    "        print(\"in DomesticatedAnimel\")\n",
    "        print(\"bye bye domesticated animal \")\n",
    "        return \"the {} is used for {}\"\n",
    "    \n",
    "class Horse(DomesticatedAnimel):\n",
    "    def use(self):\n",
    "        print(\"in Horse\")\n",
    "        use_str= super().use().format(self.__class__.__name__,\"riding and freight and racing\")\n",
    "        print(\"bye bye horse\")\n",
    "        return use_str\n",
    "\n",
    "class Donkey(DomesticatedAnimel):\n",
    "    def use(self):\n",
    "        print(\"in Donkey\")\n",
    "        use_str= super().use().format(self.__class__.__name__, \"riding and freight\")\n",
    "        use_str+=\" ,did I tell that I'm a donkey?\"\n",
    "        print(\"bye bye donkey\")\n",
    "        return use_str \n",
    "\n",
    "class Mule(Donkey,Horse):\n",
    "    pass\n",
    "    \n",
    "\n",
    "print(\"Mule:\")\n",
    "muly= Mule()\n",
    "print('\\n',muly.use())"
   ]
  },
  {
   "cell_type": "code",
   "execution_count": 70,
   "metadata": {},
   "outputs": [
    {
     "output_type": "execute_result",
     "data": {
      "text/plain": [
       "(__main__.Mule,\n",
       " __main__.Donkey,\n",
       " __main__.Horse,\n",
       " __main__.DomesticatedAnimel,\n",
       " object)"
      ]
     },
     "metadata": {},
     "execution_count": 70
    }
   ],
   "source": [
    "Mule.__mro__"
   ]
  },
  {
   "cell_type": "code",
   "execution_count": 8,
   "metadata": {},
   "outputs": [],
   "source": [
    "class BallotBox:\n",
    "    def __init__(self, parties):\n",
    "        self.candidates = parties\n",
    "        self.voters = {}\n",
    "    \n",
    "    def add_a_vote(self, voter_id,candidate):\n",
    "        \"\"\"Adds new vote to the ballot box \"\"\"\n",
    "        if(not voter_id in self.voters) and self.candidates[candidate]!= None:\n",
    "            self.candidates[candidate] +=1\n",
    "            self.voters[voter_id] = True\n",
    "            print(\"Thank you for voting :-)\")\n",
    "        else : print(\"Voter has already voted >:-(\")\n",
    "    \n",
    "    def mina_zemach(self):\n",
    "        \"\"\"Shows the Election poll\"\"\"\n",
    "        print('\\nMina Zemach election poll:')\n",
    "        for key,value in self.candidates.items():\n",
    "            print(f\"The party '{key}' has {value:,} votes\")\n"
   ]
  },
  {
   "cell_type": "code",
   "execution_count": 10,
   "metadata": {},
   "outputs": [
    {
     "output_type": "stream",
     "name": "stdout",
     "text": [
      "\nMina Zemach election poll:\nThe party 'Bibi something' has 1,000,000 votes\nThe party 'To right' has 0 votes\nThe party 'The work' has 0 votes\nThe party 'Lapid something' has 0 votes\nThe party 'vigor' has 0 votes\n"
     ]
    }
   ],
   "source": [
    "parties= {\n",
    "    'Bibi something':0,\n",
    "    'To right':0,\n",
    "    'The work':0,\n",
    "    'Lapid something':0,\n",
    "    'vigor' : 0\n",
    "}\n",
    "ballot_box = BallotBox(parties)\n",
    "ballot_box.candidates['Bibi something'] =1000000\n",
    "ballot_box.mina_zemach()"
   ]
  },
  {
   "cell_type": "code",
   "execution_count": 24,
   "metadata": {},
   "outputs": [],
   "source": [
    "\n",
    "class BallotBox:\n",
    "    def __init__(self, parties, name):\n",
    "        self.__candidates = parties\n",
    "        self.__voters = {}\n",
    "        self.name = name\n",
    "    \n",
    "    def add_a_vote(self, voter_id,candidate):\n",
    "        \"\"\"Adds new vote to the ballot box \"\"\"\n",
    "        if(not voter_id in self.__voters) and candidate in self.__candidates:\n",
    "            self.__candidates[candidate] +=1\n",
    "            self.__voters[voter_id] = True\n",
    "            print(\"Thank you for voting :-)\")\n",
    "        else : print(\"Voter has already voted >:-(\")\n",
    "    \n",
    "    def __the_greatest_paty(self):\n",
    "        \"\"\"returns the greatest party in the ballot box \"\"\"\n",
    "        import operator\n",
    "        greatest_party= max(self.__candidates.items(), key=operator.itemgetter(1))[0]\n",
    "        return greatest_party    \n",
    "\n",
    "\n",
    "    def mina_zemach(self):\n",
    "        \"\"\"Shows the Election poll\"\"\"\n",
    "        greatest_party = self.__the_greatest_paty()\n",
    "        print('\\nMina Zemach election poll:')\n",
    "        for key,value in self.__candidates.items():\n",
    "            # print the greatest party with yellow\n",
    "            # the colors where taken form: \n",
    "            # https://svn.blender.org/svnroot/bf-blender/trunk/blender/build_files/scons/tools/bcolors.py\n",
    "            if key == greatest_party:\n",
    "                print(f\"The party '\\033[93m{key}\\033[0m' has {value:,} votes\")\n",
    "            else: print(f\"The party '{key}' has {value:,} votes\")\n",
    "    \n",
    "    def add_a_candidate(self,name):\n",
    "        \"\"\"Adds new party to the ballot box \"\"\"\n",
    "        if not name in self.__candidates:\n",
    "            self.__candidates[name] = 0\n",
    "        else: print(\"The party is already running\")\n",
    "\n"
   ]
  },
  {
   "cell_type": "code",
   "execution_count": 25,
   "metadata": {},
   "outputs": [
    {
     "output_type": "stream",
     "name": "stdout",
     "text": [
      "Thank you for voting :-)\nThank you for voting :-)\nVoter has already voted >:-(\n\nMina Zemach election poll:\nThe party '\u001b[93mBibi something\u001b[0m' has 1 votes\nThe party 'To right' has 0 votes\nThe party 'The work' has 1 votes\nThe party 'Lapid something' has 0 votes\nThe party 'vigor' has 0 votes\nThe party 'Halad balad' has 0 votes\nThe party 'Haredim la athid' has 0 votes\n"
     ]
    }
   ],
   "source": [
    "parties= {\n",
    "    'Bibi something':0,\n",
    "    'To right':0,\n",
    "    'The work':0,\n",
    "    'Lapid something':0,\n",
    "    'vigor' : 0\n",
    "}\n",
    "ballot_box = BallotBox(parties,name='TLV')\n",
    "ballot_box.add_a_candidate(\"Halad balad\")\n",
    "ballot_box.add_a_candidate(\"Haredim la athid\")\n",
    "ballot_box.add_a_vote(voter_id=\"1234\",candidate='The work')\n",
    "ballot_box.add_a_vote(voter_id='22222',candidate='Bibi something')\n",
    "ballot_box.add_a_vote(voter_id=\"1234\",candidate='vigor')\n",
    "#ballot_box.__candidates['Bibi something'] =1000000 => Error\n",
    "ballot_box.mina_zemach()"
   ]
  },
  {
   "cell_type": "code",
   "execution_count": 26,
   "metadata": {},
   "outputs": [
    {
     "output_type": "execute_result",
     "data": {
      "text/plain": [
       "{'_BallotBox__candidates': {'Bibi something': 1,\n",
       "  'To right': 0,\n",
       "  'The work': 1,\n",
       "  'Lapid something': 0,\n",
       "  'vigor': 0,\n",
       "  'Halad balad': 0,\n",
       "  'Haredim la athid': 0},\n",
       " '_BallotBox__voters': {'1234': True, '22222': True},\n",
       " 'name': 'TLV'}"
      ]
     },
     "metadata": {},
     "execution_count": 26
    }
   ],
   "source": [
    "ballot_box.__dict__"
   ]
  },
  {
   "cell_type": "code",
   "execution_count": 27,
   "metadata": {},
   "outputs": [
    {
     "output_type": "execute_result",
     "data": {
      "text/plain": [
       "['_BallotBox__candidates',\n",
       " '_BallotBox__the_greatest_paty',\n",
       " '_BallotBox__voters',\n",
       " '__class__',\n",
       " '__delattr__',\n",
       " '__dict__',\n",
       " '__dir__',\n",
       " '__doc__',\n",
       " '__eq__',\n",
       " '__format__',\n",
       " '__ge__',\n",
       " '__getattribute__',\n",
       " '__gt__',\n",
       " '__hash__',\n",
       " '__init__',\n",
       " '__init_subclass__',\n",
       " '__le__',\n",
       " '__lt__',\n",
       " '__module__',\n",
       " '__ne__',\n",
       " '__new__',\n",
       " '__reduce__',\n",
       " '__reduce_ex__',\n",
       " '__repr__',\n",
       " '__setattr__',\n",
       " '__sizeof__',\n",
       " '__str__',\n",
       " '__subclasshook__',\n",
       " '__weakref__',\n",
       " 'add_a_candidate',\n",
       " 'add_a_vote',\n",
       " 'mina_zemach',\n",
       " 'name']"
      ]
     },
     "metadata": {},
     "execution_count": 27
    }
   ],
   "source": [
    "dir(ballot_box)"
   ]
  },
  {
   "cell_type": "code",
   "execution_count": 28,
   "metadata": {},
   "outputs": [
    {
     "output_type": "stream",
     "name": "stdout",
     "text": [
      ">:-) whahaha: \n\nMina Zemach election poll:\nThe party '\u001b[93mBibi something\u001b[0m' has 1,000,000,001 votes\nThe party 'To right' has 0 votes\nThe party 'The work' has 1 votes\nThe party 'Lapid something' has 0 votes\nThe party 'vigor' has 0 votes\nThe party 'Halad balad' has 0 votes\nThe party 'Haredim la athid' has 0 votes\n"
     ]
    }
   ],
   "source": [
    "print(\">:-) whahaha: \")\n",
    "ballot_box._BallotBox__candidates[\"Bibi something\"] += 1000000000\n",
    "ballot_box.mina_zemach()"
   ]
  },
  {
   "cell_type": "code",
   "execution_count": 1,
   "metadata": {},
   "outputs": [
    {
     "output_type": "stream",
     "name": "stdout",
     "text": [
      "what are you doing here?!\n*What are you doing here?!\n['_A__private_function', '_B__private_function', '__class__', '__delattr__', '__dict__', '__dir__', '__doc__', '__eq__', '__format__', '__ge__', '__getattribute__', '__gt__', '__hash__', '__init__', '__init_subclass__', '__le__', '__lt__', '__module__', '__ne__', '__new__', '__reduce__', '__reduce_ex__', '__repr__', '__setattr__', '__sizeof__', '__str__', '__subclasshook__', '__weakref__', 'public_function']\n"
     ]
    }
   ],
   "source": [
    "class A:\n",
    "    def __private_function(self):\n",
    "        print(\"what are you doing here?!\")\n",
    "    def public_function(self):\n",
    "        print(\"welcome\")\n",
    "class B(A):\n",
    "    def __private_function(self):\n",
    "        print(\"*What are you doing here?!\")\n",
    "    def public_function(self):\n",
    "        print(\"*Welcome\")\n",
    "b= B()\n",
    "b._A__private_function()\n",
    "b._B__private_function()\n",
    "print(dir(B))"
   ]
  },
  {
   "cell_type": "code",
   "execution_count": 1,
   "metadata": {},
   "outputs": [],
   "source": [
    "class Shape:\n",
    "   def area(self):\n",
    "      pass\n",
    "shape = Shape()\n",
    "shape.area()"
   ]
  },
  {
   "cell_type": "code",
   "execution_count": 2,
   "metadata": {},
   "outputs": [
    {
     "output_type": "error",
     "ename": "TypeError",
     "evalue": "Can't instantiate abstract class Shape with abstract methods area",
     "traceback": [
      "\u001b[1;31m---------------------------------------------------------------------------\u001b[0m",
      "\u001b[1;31mTypeError\u001b[0m                                 Traceback (most recent call last)",
      "\u001b[1;32m<ipython-input-2-ecb34e4e6c99>\u001b[0m in \u001b[0;36m<module>\u001b[1;34m\u001b[0m\n\u001b[0;32m      5\u001b[0m       \u001b[1;32mpass\u001b[0m\u001b[1;33m\u001b[0m\u001b[0m\n\u001b[0;32m      6\u001b[0m \u001b[1;33m\u001b[0m\u001b[0m\n\u001b[1;32m----> 7\u001b[1;33m \u001b[0mshape\u001b[0m \u001b[1;33m=\u001b[0m \u001b[0mShape\u001b[0m\u001b[1;33m(\u001b[0m\u001b[1;33m)\u001b[0m\u001b[1;33m\u001b[0m\u001b[0m\n\u001b[0m\u001b[0;32m      8\u001b[0m \u001b[0mshape\u001b[0m\u001b[1;33m.\u001b[0m\u001b[0marea\u001b[0m\u001b[1;33m(\u001b[0m\u001b[1;33m)\u001b[0m              \u001b[1;31m#==> TypeError\u001b[0m\u001b[1;33m\u001b[0m\u001b[0m\n",
      "\u001b[1;31mTypeError\u001b[0m: Can't instantiate abstract class Shape with abstract methods area"
     ]
    }
   ],
   "source": [
    "import abc \n",
    "class Shape(abc.ABC):\n",
    "   @abc.abstractmethod\n",
    "   def area(self):\n",
    "      pass\n",
    "\n",
    "shape = Shape()\n",
    "shape.area()              #==> TypeError"
   ]
  },
  {
   "cell_type": "code",
   "execution_count": 51,
   "metadata": {},
   "outputs": [
    {
     "output_type": "stream",
     "name": "stdout",
     "text": [
      "Rec1: height=5 , width = 7 \n *  *  *  *  *  *  *  *  * \n\n *                       * \n\n *                       * \n\n *                       * \n\n *  *  *  *  *  *  *  *  * \n\nRec2: height=5 , width = 5 \n *  *  *  *  *  *  * \n\n *                 * \n\n *                 * \n\n *                 * \n\n *  *  *  *  *  *  * \n\n"
     ]
    }
   ],
   "source": [
    "\n",
    "class Rectangle:\n",
    "    def __init__(self , height , width):\n",
    "        self._height = height\n",
    "        self._width = width\n",
    "\n",
    "    @property\n",
    "    def height(self):\n",
    "        return self._height\n",
    "    @height.setter\n",
    "    def height(self, other):\n",
    "        if other > 0:\n",
    "            self._height = other\n",
    "        else: raise Exception(\"Invalid input- negative value for height\")\n",
    "    @property\n",
    "    def width(self):\n",
    "        return self._width\n",
    "    @width.setter\n",
    "    def width(self, other):\n",
    "        if other > 0 :\n",
    "            self._width = other\n",
    "        else: raise Exception(\"Invalid input- negative value for width\")\n",
    "    \n",
    "    def draw_rectangle(self):\n",
    "        \"\"\" drawing the rectangle acording to its height and width\"\"\"\n",
    "        height = self.height\n",
    "        width = self.width\n",
    "        for h in range(height):\n",
    "            square = ' * '\n",
    "            for w in range(width):\n",
    "                if h == 0 or h == height -1 :\n",
    "                    square = square + ' * '\n",
    "                else: square += '   '\n",
    "            square = square +  ' * '\n",
    "            square  = square + '\\n'\n",
    "            print(square)\n",
    "\n",
    "rectangle = Rectangle(height=5, width = 7)\n",
    "print(f\"Rec1: height={rectangle.height} , width = {rectangle.width} \")\n",
    "rectangle.draw_rectangle()\n",
    "rectangle.width = 5\n",
    "print(f\"Rec2: height={rectangle.height} , width = {rectangle.width} \")\n",
    "rectangle.draw_rectangle()\n",
    "\n"
   ]
  },
  {
   "cell_type": "code",
   "execution_count": 52,
   "metadata": {},
   "outputs": [
    {
     "output_type": "error",
     "ename": "Exception",
     "evalue": "Invalid input- negative value for height",
     "traceback": [
      "\u001b[1;31m---------------------------------------------------------------------------\u001b[0m",
      "\u001b[1;31mException\u001b[0m                                 Traceback (most recent call last)",
      "\u001b[1;32m<ipython-input-52-673f329034f7>\u001b[0m in \u001b[0;36m<module>\u001b[1;34m\u001b[0m\n\u001b[1;32m----> 1\u001b[1;33m \u001b[0mrectangle\u001b[0m\u001b[1;33m.\u001b[0m\u001b[0mheight\u001b[0m \u001b[1;33m=\u001b[0m \u001b[1;33m-\u001b[0m\u001b[1;36m1\u001b[0m\u001b[1;33m\u001b[0m\u001b[0m\n\u001b[0m",
      "\u001b[1;32m<ipython-input-51-fff79df94acb>\u001b[0m in \u001b[0;36mheight\u001b[1;34m(self, other)\u001b[0m\n\u001b[0;32m     11\u001b[0m         \u001b[1;32mif\u001b[0m \u001b[0mother\u001b[0m \u001b[1;33m>\u001b[0m \u001b[1;36m0\u001b[0m\u001b[1;33m:\u001b[0m\u001b[1;33m\u001b[0m\u001b[0m\n\u001b[0;32m     12\u001b[0m             \u001b[0mself\u001b[0m\u001b[1;33m.\u001b[0m\u001b[0m_height\u001b[0m \u001b[1;33m=\u001b[0m \u001b[0mother\u001b[0m\u001b[1;33m\u001b[0m\u001b[0m\n\u001b[1;32m---> 13\u001b[1;33m         \u001b[1;32melse\u001b[0m\u001b[1;33m:\u001b[0m \u001b[1;32mraise\u001b[0m \u001b[0mException\u001b[0m\u001b[1;33m(\u001b[0m\u001b[1;34m\"Invalid input- negative value for height\"\u001b[0m\u001b[1;33m)\u001b[0m\u001b[1;33m\u001b[0m\u001b[0m\n\u001b[0m\u001b[0;32m     14\u001b[0m     \u001b[1;33m@\u001b[0m\u001b[0mproperty\u001b[0m\u001b[1;33m\u001b[0m\u001b[0m\n\u001b[0;32m     15\u001b[0m     \u001b[1;32mdef\u001b[0m \u001b[0mwidth\u001b[0m\u001b[1;33m(\u001b[0m\u001b[0mself\u001b[0m\u001b[1;33m)\u001b[0m\u001b[1;33m:\u001b[0m\u001b[1;33m\u001b[0m\u001b[0m\n",
      "\u001b[1;31mException\u001b[0m: Invalid input- negative value for height"
     ]
    }
   ],
   "source": [
    "rectangle.height = -1 # ==> Error"
   ]
  },
  {
   "cell_type": "code",
   "execution_count": 57,
   "metadata": {},
   "outputs": [],
   "source": [
    "class Person:\n",
    "    def __init__(self, first_name , last_name):\n",
    "        self.first_name= first_name\n",
    "        self.last_name = last_name\n",
    "        self.full_name = f\"{self.first_name} {self.last_name}\" "
   ]
  },
  {
   "cell_type": "code",
   "execution_count": 58,
   "metadata": {},
   "outputs": [
    {
     "output_type": "stream",
     "name": "stdout",
     "text": [
      "Tammi Javansky\nTammi Javansky\n"
     ]
    }
   ],
   "source": [
    "tammi = Person(\"Tammi\", \"Javansky\")\n",
    "print(tammi.full_name)\n",
    "tammi.last_name = \"Pythonovitch\"\n",
    "print(tammi.full_name) # => should be Tammi Pythonovitch"
   ]
  },
  {
   "cell_type": "code",
   "execution_count": 60,
   "metadata": {},
   "outputs": [],
   "source": [
    "class Person:\n",
    "    def __init__(self, first_name , last_name):\n",
    "        self.first_name= first_name\n",
    "        self.last_name = last_name\n",
    "    @property\n",
    "    def full_name(self):\n",
    "        return f\"{self.first_name} {self.last_name}\" "
   ]
  },
  {
   "cell_type": "code",
   "execution_count": 63,
   "metadata": {},
   "outputs": [
    {
     "output_type": "stream",
     "name": "stdout",
     "text": [
      "Tammi Javansky\nTammi Pythonovitch\n"
     ]
    }
   ],
   "source": [
    "tammi = Person(\"Tammi\", \"Javansky\")\n",
    "print(tammi.full_name)\n",
    "tammi.last_name = \"Pythonovitch\"\n",
    "print(tammi.full_name) # => should be Tammi Pythonovitch"
   ]
  },
  {
   "cell_type": "code",
   "execution_count": null,
   "metadata": {},
   "outputs": [],
   "source": []
  }
 ]
}