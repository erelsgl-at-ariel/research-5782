{
 "cells": [
  {
   "cell_type": "markdown",
   "metadata": {},
   "source": [
    "## Using an iterator"
   ]
  },
  {
   "cell_type": "code",
   "execution_count": 2,
   "metadata": {},
   "outputs": [
    {
     "name": "stdout",
     "output_type": "stream",
     "text": [
      "start\n",
      " |\n",
      " |\n",
      " |\n",
      " ↓\n",
      "end\n"
     ]
    }
   ],
   "source": [
    "my_list = ['start',' |',' |',' |',' ↓']\n",
    "my_iterator = iter(my_list)\n",
    "while True:\n",
    "    try:\n",
    "        item = next(my_iterator)\n",
    "        print(item)\n",
    "    except StopIteration:\n",
    "        print('end')\n",
    "        break"
   ]
  },
  {
   "cell_type": "markdown",
   "metadata": {},
   "source": [
    "## Defining an iterator"
   ]
  },
  {
   "cell_type": "code",
   "execution_count": 3,
   "metadata": {},
   "outputs": [
    {
     "name": "stdout",
     "output_type": "stream",
     "text": [
      "0 2 4 6 8 "
     ]
    }
   ],
   "source": [
    "class RangeIterator:\n",
    "    def __init__(self,first,end,step=1):\n",
    "        self.state = first\n",
    "        self.end = end\n",
    "        self.step = step\n",
    "    \n",
    "    def __iter__(self):\n",
    "        return self\n",
    "    \n",
    "    def __next__(self):\n",
    "        if self.state >= self.end:\n",
    "            raise StopIteration\n",
    "        res = self.state\n",
    "        self.state+=self.step\n",
    "        return res\n",
    "    \n",
    "for i in RangeIterator(0,10,2):\n",
    "    print(i , end = ' ')"
   ]
  },
  {
   "cell_type": "code",
   "execution_count": 4,
   "metadata": {},
   "outputs": [
    {
     "name": "stdout",
     "output_type": "stream",
     "text": [
      "20 first number of fibonacci sequence:\n",
      "0 1 1 2 3 5 8 13 21 34 55 89 144 233 377 610 987 1597 2584 4181 "
     ]
    }
   ],
   "source": [
    "class Fibonacci:\n",
    "    def __init__(self,first,second,end):\n",
    "        self.first = first\n",
    "        self.second = second\n",
    "        self.step = 0\n",
    "        self.end = end\n",
    "    \n",
    "    def __iter__(self):\n",
    "        return self\n",
    "    \n",
    "    def __next__(self):\n",
    "        if self.step == self.end: \n",
    "            raise StopIteration\n",
    "        res = (self.first,self.second)\n",
    "        self.first , self.second = self.second , self.first+self.second\n",
    "        self.step += 1\n",
    "        return res\n",
    "\n",
    "num = 20        \n",
    "print(f\"{num} first number of fibonacci sequence:\")\n",
    "for res in Fibonacci(0,1,num):\n",
    "    print(res[0] ,end = ' ')"
   ]
  },
  {
   "cell_type": "markdown",
   "metadata": {},
   "source": [
    "## Defining a generator"
   ]
  },
  {
   "cell_type": "code",
   "execution_count": 5,
   "metadata": {},
   "outputs": [
    {
     "name": "stdout",
     "output_type": "stream",
     "text": [
      "first\n",
      "second\n",
      "third\n"
     ]
    }
   ],
   "source": [
    "def example_of_generator():\n",
    "    yield \"first\"\n",
    "    yield \"second\"\n",
    "    yield \"third\"\n",
    "\n",
    "for i in example_of_generator():\n",
    "    print(i)"
   ]
  },
  {
   "cell_type": "code",
   "execution_count": 6,
   "metadata": {},
   "outputs": [
    {
     "name": "stdout",
     "output_type": "stream",
     "text": [
      "example_of_generator is a <class 'function'>\n",
      "my_example is a <class 'generator'>\n"
     ]
    }
   ],
   "source": [
    "my_example = example_of_generator()\n",
    "print(f\"example_of_generator is a {type(example_of_generator)}\")\n",
    "print(f\"my_example is a {type(my_example)}\")"
   ]
  },
  {
   "cell_type": "code",
   "execution_count": 7,
   "metadata": {},
   "outputs": [
    {
     "name": "stdout",
     "output_type": "stream",
     "text": [
      "<class 'generator'>\n",
      "first\n",
      "second\n",
      "third\n"
     ]
    },
    {
     "ename": "StopIteration",
     "evalue": "",
     "output_type": "error",
     "traceback": [
      "\u001b[1;31m---------------------------------------------------------------------------\u001b[0m",
      "\u001b[1;31mStopIteration\u001b[0m                             Traceback (most recent call last)",
      "\u001b[1;32md:\\Dropbox\\ariel-research\\research-5782\\02-PythonOOP\\0.code\\4.iterators and generators.ipynb Cell 9'\u001b[0m in \u001b[0;36m<module>\u001b[1;34m\u001b[0m\n\u001b[0;32m      <a href='vscode-notebook-cell:/d%3A/Dropbox/ariel-research/research-5782/02-PythonOOP/0.code/4.iterators%20and%20generators.ipynb#ch0000005?line=2'>3</a>\u001b[0m \u001b[39mprint\u001b[39m(\u001b[39mnext\u001b[39m(my_example))\n\u001b[0;32m      <a href='vscode-notebook-cell:/d%3A/Dropbox/ariel-research/research-5782/02-PythonOOP/0.code/4.iterators%20and%20generators.ipynb#ch0000005?line=3'>4</a>\u001b[0m \u001b[39mprint\u001b[39m(\u001b[39mnext\u001b[39m(my_example))\n\u001b[1;32m----> <a href='vscode-notebook-cell:/d%3A/Dropbox/ariel-research/research-5782/02-PythonOOP/0.code/4.iterators%20and%20generators.ipynb#ch0000005?line=4'>5</a>\u001b[0m \u001b[39mprint\u001b[39m(\u001b[39mnext\u001b[39;49m(my_example))\n",
      "\u001b[1;31mStopIteration\u001b[0m: "
     ]
    }
   ],
   "source": [
    "print(type(my_example))\n",
    "print(next(my_example))\n",
    "print(next(my_example))\n",
    "print(next(my_example))\n",
    "print(next(my_example))  # Exception"
   ]
  },
  {
   "cell_type": "code",
   "execution_count": 8,
   "metadata": {},
   "outputs": [
    {
     "name": "stdout",
     "output_type": "stream",
     "text": [
      "Help on generator object:\n",
      "\n",
      "example_of_generator = class generator(object)\n",
      " |  Methods defined here:\n",
      " |  \n",
      " |  __del__(...)\n",
      " |  \n",
      " |  __getattribute__(self, name, /)\n",
      " |      Return getattr(self, name).\n",
      " |  \n",
      " |  __iter__(self, /)\n",
      " |      Implement iter(self).\n",
      " |  \n",
      " |  __next__(self, /)\n",
      " |      Implement next(self).\n",
      " |  \n",
      " |  __repr__(self, /)\n",
      " |      Return repr(self).\n",
      " |  \n",
      " |  close(...)\n",
      " |      close() -> raise GeneratorExit inside generator.\n",
      " |  \n",
      " |  send(...)\n",
      " |      send(arg) -> send 'arg' into generator,\n",
      " |      return next yielded value or raise StopIteration.\n",
      " |  \n",
      " |  throw(...)\n",
      " |      throw(typ[,val[,tb]]) -> raise exception in generator,\n",
      " |      return next yielded value or raise StopIteration.\n",
      " |  \n",
      " |  ----------------------------------------------------------------------\n",
      " |  Data descriptors defined here:\n",
      " |  \n",
      " |  gi_code\n",
      " |  \n",
      " |  gi_frame\n",
      " |  \n",
      " |  gi_running\n",
      " |  \n",
      " |  gi_yieldfrom\n",
      " |      object being iterated by yield from, or None\n",
      "\n"
     ]
    }
   ],
   "source": [
    "help(my_example)"
   ]
  },
  {
   "cell_type": "code",
   "execution_count": 9,
   "metadata": {},
   "outputs": [
    {
     "name": "stdout",
     "output_type": "stream",
     "text": [
      "15 first numbers of fibonacci sequence:\n",
      "0 1 1 2 3 5 8 13 21 34 55 89 144 233 377 "
     ]
    }
   ],
   "source": [
    "def fibonacci_generator(iterations):\n",
    "    first = 0\n",
    "    second = 1\n",
    "    iter_num = 0\n",
    "    while iter_num != iterations:\n",
    "        yield first\n",
    "        first , second = second , first+second\n",
    "        iter_num+=1\n",
    "    \n",
    "num_of_iterations = 15\n",
    "print(f\"{num_of_iterations} first numbers of fibonacci sequence:\")\n",
    "for fib in fibonacci_generator(num_of_iterations):\n",
    "    print(fib,end = ' ')"
   ]
  },
  {
   "cell_type": "markdown",
   "metadata": {},
   "source": [
    "## [Itertools](https://docs.python.org/3/library/itertools.html)"
   ]
  },
  {
   "cell_type": "code",
   "execution_count": 10,
   "metadata": {},
   "outputs": [],
   "source": [
    "import itertools\n"
   ]
  },
  {
   "cell_type": "code",
   "execution_count": 13,
   "metadata": {},
   "outputs": [
    {
     "name": "stdout",
     "output_type": "stream",
     "text": [
      "c\n",
      "d\n",
      "e\n",
      "f\n"
     ]
    }
   ],
   "source": [
    "for p in itertools.islice(\"abcdefg\", 2, 6):\n",
    "    print(p)"
   ]
  },
  {
   "cell_type": "code",
   "execution_count": 11,
   "metadata": {},
   "outputs": [
    {
     "name": "stdout",
     "output_type": "stream",
     "text": [
      "('a', 'b', 'c')\n",
      "('a', 'c', 'b')\n",
      "('b', 'a', 'c')\n",
      "('b', 'c', 'a')\n",
      "('c', 'a', 'b')\n",
      "('c', 'b', 'a')\n"
     ]
    }
   ],
   "source": [
    "\n",
    "for p in itertools.permutations(\"abc\"):\n",
    "    print(p)"
   ]
  },
  {
   "cell_type": "code",
   "execution_count": 5,
   "metadata": {},
   "outputs": [
    {
     "name": "stdout",
     "output_type": "stream",
     "text": [
      "('a', 'd')\n",
      "('a', 'e')\n",
      "('a', 'f')\n",
      "('b', 'd')\n",
      "('b', 'e')\n",
      "('b', 'f')\n",
      "('c', 'd')\n",
      "('c', 'e')\n",
      "('c', 'f')\n"
     ]
    }
   ],
   "source": [
    "for p in itertools.product(\"abc\",\"def\"):\n",
    "    print(p)"
   ]
  },
  {
   "cell_type": "code",
   "execution_count": 13,
   "metadata": {},
   "outputs": [
    {
     "name": "stdout",
     "output_type": "stream",
     "text": [
      "0\n",
      "1\n",
      "1\n",
      "2\n",
      "3\n",
      "5\n",
      "8\n",
      "13\n",
      "21\n",
      "34\n",
      "first\n",
      "second\n",
      "third\n",
      "('x', 'y', 'z')\n",
      "('x', 'z', 'y')\n",
      "('y', 'x', 'z')\n",
      "('y', 'z', 'x')\n",
      "('z', 'x', 'y')\n",
      "('z', 'y', 'x')\n"
     ]
    }
   ],
   "source": [
    "for p in itertools.chain(fibonacci_generator(10), example_of_generator(), itertools.permutations(\"xyz\")):\n",
    "    print(p)"
   ]
  },
  {
   "cell_type": "code",
   "execution_count": 14,
   "metadata": {},
   "outputs": [
    {
     "name": "stdout",
     "output_type": "stream",
     "text": [
      "(0, 1)\n",
      "(1, 2)\n",
      "(2, 3)\n",
      "(3, 4)\n"
     ]
    }
   ],
   "source": [
    "for p in itertools.pairwise(range(5)):\n",
    "    print(p)"
   ]
  },
  {
   "cell_type": "code",
   "execution_count": null,
   "metadata": {},
   "outputs": [],
   "source": [
    "for p in itertools.count(0):\n",
    "    print(p)"
   ]
  },
  {
   "cell_type": "code",
   "execution_count": 12,
   "metadata": {},
   "outputs": [
    {
     "name": "stdout",
     "output_type": "stream",
     "text": [
      "(0, 'A')\n",
      "(1, 'B')\n",
      "(2, 'C')\n"
     ]
    }
   ],
   "source": [
    "for i in zip(itertools.count(0), [\"A\",\"B\",\"C\"]):\n",
    "    print(i)"
   ]
  },
  {
   "cell_type": "code",
   "execution_count": 15,
   "metadata": {},
   "outputs": [
    {
     "name": "stdout",
     "output_type": "stream",
     "text": [
      "A\n",
      "B\n",
      "C\n",
      "D\n",
      "E\n",
      "F\n",
      "G\n"
     ]
    }
   ],
   "source": [
    "for p in map(str.upper, \"abcdefg\"):\n",
    "    print(p)"
   ]
  },
  {
   "cell_type": "code",
   "execution_count": 16,
   "metadata": {},
   "outputs": [
    {
     "name": "stdout",
     "output_type": "stream",
     "text": [
      "1\n",
      "8\n",
      "27\n",
      "64\n"
     ]
    }
   ],
   "source": [
    "for p in map(lambda x: x**3, [1,2,3,4]):\n",
    "    print(p)"
   ]
  },
  {
   "cell_type": "markdown",
   "metadata": {},
   "source": [
    "## [More itertools](https://more-itertools.readthedocs.io)"
   ]
  },
  {
   "cell_type": "code",
   "execution_count": 18,
   "metadata": {},
   "outputs": [],
   "source": [
    "import more_itertools"
   ]
  },
  {
   "cell_type": "code",
   "execution_count": 20,
   "metadata": {},
   "outputs": [
    {
     "name": "stdout",
     "output_type": "stream",
     "text": [
      "('a', 'a', 'b', 'c')\n",
      "('a', 'a', 'c', 'b')\n",
      "('a', 'b', 'a', 'c')\n",
      "('a', 'b', 'c', 'a')\n",
      "('a', 'c', 'a', 'b')\n",
      "('a', 'c', 'b', 'a')\n",
      "('b', 'a', 'a', 'c')\n",
      "('b', 'a', 'c', 'a')\n",
      "('b', 'c', 'a', 'a')\n",
      "('c', 'a', 'a', 'b')\n",
      "('c', 'a', 'b', 'a')\n",
      "('c', 'b', 'a', 'a')\n"
     ]
    }
   ],
   "source": [
    "for p in more_itertools.distinct_permutations(\"aabc\"):\n",
    "    print(p)"
   ]
  },
  {
   "cell_type": "code",
   "execution_count": null,
   "metadata": {},
   "outputs": [],
   "source": []
  }
 ],
 "metadata": {
  "kernelspec": {
   "display_name": "Python 3",
   "language": "python",
   "name": "python3"
  },
  "language_info": {
   "codemirror_mode": {
    "name": "ipython",
    "version": 3
   },
   "file_extension": ".py",
   "mimetype": "text/x-python",
   "name": "python",
   "nbconvert_exporter": "python",
   "pygments_lexer": "ipython3",
   "version": "3.10.2"
  },
  "orig_nbformat": 2
 },
 "nbformat": 4,
 "nbformat_minor": 2
}
