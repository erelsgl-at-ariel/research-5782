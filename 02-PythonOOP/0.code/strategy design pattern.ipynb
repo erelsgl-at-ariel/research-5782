{
 "metadata": {
  "language_info": {
   "codemirror_mode": {
    "name": "ipython",
    "version": 3
   },
   "file_extension": ".py",
   "mimetype": "text/x-python",
   "name": "python",
   "nbconvert_exporter": "python",
   "pygments_lexer": "ipython3",
   "version": "3.6.6-final"
  },
  "orig_nbformat": 2,
  "kernelspec": {
   "name": "python3",
   "display_name": "Python 3",
   "language": "python"
  }
 },
 "nbformat": 4,
 "nbformat_minor": 2,
 "cells": [
  {
   "cell_type": "code",
   "execution_count": 20,
   "metadata": {},
   "outputs": [],
   "source": [
    "import abc\n",
    "class Animal:\n",
    "    _name = None\n",
    "    _movement = None\n",
    "\n",
    "    def move(self):\n",
    "        self._movement.move()\n",
    "\n",
    "    def change_movement(self,other_movement):\n",
    "        self._movement = other_movement\n",
    "\n",
    "class Movment(abc.ABC):\n",
    "    @abc.abstractmethod\n",
    "    def move(self):\n",
    "        pass\n",
    "\n",
    "\n",
    "\n"
   ]
  },
  {
   "cell_type": "code",
   "execution_count": 21,
   "metadata": {},
   "outputs": [],
   "source": [
    "class Flying(Movment):\n",
    "    def move(self):\n",
    "        print(\"I'm flying\")\n",
    "\n",
    "class Walking(Movment):\n",
    "    def move(self):\n",
    "        print(\"I'm walking\")\n",
    "\n",
    "class Dog(Animal):\n",
    "    def __init__(self,name):\n",
    "        self._name = name\n",
    "        self._movement = Walking()\n",
    "\n",
    "    def bark(self):\n",
    "        print(\"waff!\")\n",
    "\n",
    "class Bird(Animal):\n",
    "    def __init__(self,name):\n",
    "        self._name = name\n",
    "        self._movement = Flying()\n",
    "    \n",
    "    def chirp(self):\n",
    "        print(\"chiff chiff\")\n"
   ]
  },
  {
   "cell_type": "code",
   "execution_count": 26,
   "metadata": {},
   "outputs": [
    {
     "output_type": "stream",
     "name": "stdout",
     "text": [
      "I'm walking\nI'm flying\nI'm flying\n"
     ]
    }
   ],
   "source": [
    "rexi = Dog(\"Rexi\")\n",
    "tweety = Bird(\"Rexi\")\n",
    "kripto = Dog(\"Kripto\")\n",
    "kripto.change_movement(Flying())\n",
    "rexi.move()\n",
    "tweety.move()\n",
    "kripto.move()"
   ]
  },
  {
   "cell_type": "code",
   "execution_count": 27,
   "metadata": {},
   "outputs": [],
   "source": [
    "class Animal:\n",
    "    def __init__(self, name ,movment = None):\n",
    "        self._name = name\n",
    "        if movement is not None:\n",
    "            self.movement = movment\n",
    "    def movemen(self):\n",
    "        print(\"I'm moving\")"
   ]
  },
  {
   "cell_type": "code",
   "execution_count": 36,
   "metadata": {},
   "outputs": [],
   "source": [
    "import types\n",
    "class Animal:\n",
    "    def __init__(self, name ,movment = None):\n",
    "        self._name = name\n",
    "        if movement is not None:\n",
    "            self.movement = types.MethodType(movment,self)\n",
    "    def movement(self):\n",
    "        print(\"I'm moving\")"
   ]
  },
  {
   "cell_type": "code",
   "execution_count": 37,
   "metadata": {},
   "outputs": [],
   "source": [
    "def flying():\n",
    "    print(\"I'm flying\")\n",
    "def walking():\n",
    "    print(\"I'm walking\")"
   ]
  },
  {
   "cell_type": "code",
   "execution_count": 42,
   "metadata": {},
   "outputs": [
    {
     "output_type": "stream",
     "name": "stdout",
     "text": [
      "I'm walking\nI'm flying\nI'm flying\n"
     ]
    }
   ],
   "source": [
    "class Dog(Animal):\n",
    "    def __init__(self,name):\n",
    "        self.name = name\n",
    "        self.movement = walking\n",
    "class Bird(Animal):\n",
    "    def __init__(self,name):\n",
    "        self.name = name\n",
    "        self.movement = flying   \n",
    "\n",
    "\n",
    "rexi = Dog(\"Rexi\")\n",
    "tweety = Bird(\"Rexi\")\n",
    "kripto = Dog(\"Kripto\")\n",
    "kripto.movement = flying\n",
    "rexi.movement()\n",
    "tweety.movement()\n",
    "kripto.movement()\n"
   ]
  },
  {
   "cell_type": "code",
   "execution_count": 48,
   "metadata": {},
   "outputs": [
    {
     "output_type": "stream",
     "name": "stdout",
     "text": [
      "24\n10\n"
     ]
    }
   ],
   "source": [
    "def calculate(name_of_operartion, *nums):\n",
    "    def multiplication(*nums):\n",
    "        mult= 1\n",
    "        for num in nums:\n",
    "            mult*=num\n",
    "        return mult\n",
    "    \n",
    "    def addition(*nums):\n",
    "        addi = 0\n",
    "        for num in nums:\n",
    "            addi+=num\n",
    "        return addi\n",
    "    operations = {\n",
    "        'mul':multiplication,\n",
    "        'sum':addition }\n",
    "    return operations[name_of_operartion](*nums)\n",
    "\n",
    "\n",
    "print(calculate('mul', 1,2,3,4))\n",
    "print(calculate('sum', 1,2,3,4))\n",
    "\n"
   ]
  },
  {
   "cell_type": "code",
   "execution_count": null,
   "metadata": {},
   "outputs": [],
   "source": []
  }
 ]
}