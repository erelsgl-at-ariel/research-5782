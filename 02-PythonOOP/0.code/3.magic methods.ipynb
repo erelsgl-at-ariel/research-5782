{
 "cells": [
  {
   "cell_type": "code",
   "execution_count": 2,
   "metadata": {},
   "outputs": [],
   "source": [
    "class Gymatria:\n",
    "\n",
    "    _aleph_beth = None\n",
    "    \n",
    "    def __init__(self,expression:str) -> None:\n",
    "        self._expr = expression\n",
    "        self._expr_value = Gymatria.get_value(expression)\n",
    "    \n",
    "    @property\n",
    "    def expr_value(self)->int:\n",
    "        return self._expr_value\n",
    "\n",
    "    @property\n",
    "    def expr(self) -> str:\n",
    "        return self._expr\n",
    "\n",
    "    def __add__(self , other) -> int:\n",
    "        return self.expr_value + other.expr_value\n",
    "\n",
    "    def __sub__(self , other) -> int:\n",
    "        return abs(self.expr_value - other.expr_value)\n",
    "    \n",
    "    def __mul__(self , other) -> int:\n",
    "        return self.expr_value * other.expr_value\n",
    "    \n",
    "    def __repr__(self) -> str:\n",
    "        return f\"{self.expr} בגימטריה זה: {self.expr_value}\"\n",
    "    \n",
    "    \n",
    "    @classmethod\n",
    "    def get_aleph_beth(cls):\n",
    "        if cls._aleph_beth == None:\n",
    "            cls._set_aleph_beth()\n",
    "        return cls.aleph_beth\n",
    "\n",
    "    @classmethod\n",
    "    def get_value(cls,expression:str) -> int:\n",
    "        aleph_beth = cls.get_aleph_beth()\n",
    "        expr_value = 0\n",
    "        for ot in expression:\n",
    "            if ord('א') <= ord(ot) <= ord('ת'):\n",
    "                expr_value += aleph_beth[ot]\n",
    "        return expr_value\n",
    "        \n",
    "    @classmethod\n",
    "    def ot_sofit(cls, ot: str)-> bool:\n",
    "        cls.otiot_sofiot = ['ץ','ך','ף','ן','ם']\n",
    "        if ot in cls.otiot_sofiot:\n",
    "            return True\n",
    "        return False\n",
    "    \n",
    "    @classmethod\n",
    "    def _set_aleph_beth(cls) -> None:\n",
    "        ot_num = ord('א')\n",
    "        cls.aleph_beth={}\n",
    "        val = 1\n",
    "        for i in range(27):\n",
    "            cls.aleph_beth[chr(ot_num+i)] = val\n",
    "            if not cls.ot_sofit(chr(ot_num+i)):\n",
    "                if 90 >= val >= 10:\n",
    "                    val+=10\n",
    "                elif val >= 100:\n",
    "                    val+= 100 \n",
    "                else: val+=1"
   ]
  },
  {
   "cell_type": "code",
   "execution_count": 4,
   "metadata": {},
   "outputs": [
    {
     "name": "stdout",
     "output_type": "stream",
     "text": [
      "אבא בגימטריה זה: 4\n",
      "אמא בגימטריה זה: 42\n",
      "אבא+אמא בגימטריה = 46\n",
      "אבא-אמא בגימטריה = 38\n",
      "אבא*אמא בגימטריה = 168\n"
     ]
    }
   ],
   "source": [
    "\n",
    "aba = Gymatria('אבא')\n",
    "aima = Gymatria('אמא')\n",
    "\n",
    "print(aba)\n",
    "print(aima)\n",
    "print(f'אבא+אמא בגימטריה = {aima+aba}')\n",
    "print(f'אבא-אמא בגימטריה = {aba-aima}')\n",
    "print(f'אבא*אמא בגימטריה = {aima*aba}')"
   ]
  },
  {
   "cell_type": "code",
   "execution_count": 5,
   "metadata": {},
   "outputs": [
    {
     "name": "stdout",
     "output_type": "stream",
     "text": [
      "something\n"
     ]
    }
   ],
   "source": [
    "class Empty:\n",
    "    pass\n",
    "empty = Empty()\n",
    "empty.something = \"something\"\n",
    "print(empty.something)"
   ]
  },
  {
   "cell_type": "code",
   "execution_count": 6,
   "metadata": {},
   "outputs": [
    {
     "name": "stdout",
     "output_type": "stream",
     "text": [
      "אבא אמא בגימטריה זה: 46\n"
     ]
    }
   ],
   "source": [
    "Gymatria.__iadd__= lambda self , other: Gymatria(self.expr+\" \"+other.expr)\n",
    "aba += aima\n",
    "print(aba)"
   ]
  },
  {
   "cell_type": "code",
   "execution_count": 7,
   "metadata": {},
   "outputs": [
    {
     "name": "stdout",
     "output_type": "stream",
     "text": [
      "__new__ method was executed\n"
     ]
    }
   ],
   "source": [
    "class AmIEmpty(Empty):\n",
    "    def __new__(cls):\n",
    "        print(\"__new__ method was executed\")\n",
    "        return None\n",
    "    def __init__(self):\n",
    "        print(\"__init__ method was executed\")\n",
    "    def a_method(self):\n",
    "        print(\"a_method was executed\")\n",
    "\n",
    "am_i_empty = AmIEmpty()"
   ]
  },
  {
   "cell_type": "code",
   "execution_count": 8,
   "metadata": {},
   "outputs": [
    {
     "ename": "AttributeError",
     "evalue": "'NoneType' object has no attribute 'a_method'",
     "output_type": "error",
     "traceback": [
      "\u001b[1;31m---------------------------------------------------------------------------\u001b[0m",
      "\u001b[1;31mAttributeError\u001b[0m                            Traceback (most recent call last)",
      "Input \u001b[1;32mIn [8]\u001b[0m, in \u001b[0;36m<module>\u001b[1;34m\u001b[0m\n\u001b[1;32m----> 1\u001b[0m \u001b[43mam_i_empty\u001b[49m\u001b[38;5;241;43m.\u001b[39;49m\u001b[43ma_method\u001b[49m()\n",
      "\u001b[1;31mAttributeError\u001b[0m: 'NoneType' object has no attribute 'a_method'"
     ]
    }
   ],
   "source": [
    "am_i_empty.a_method()  # => AttributeError"
   ]
  },
  {
   "cell_type": "code",
   "execution_count": 9,
   "metadata": {},
   "outputs": [
    {
     "name": "stdout",
     "output_type": "stream",
     "text": [
      "__new__ method was executed\n",
      "__init__ method was executed\n",
      "a_method was executed\n"
     ]
    }
   ],
   "source": [
    "class AmIEmpty(Empty):\n",
    "    def __new__(cls):\n",
    "        print(\"__new__ method was executed\")\n",
    "        return super(Empty, cls).__new__(cls)\n",
    "    def __init__(self):\n",
    "        print(\"__init__ method was executed\")\n",
    "    def a_method(self):\n",
    "        print(\"a_method was executed\")\n",
    "\n",
    "am_i_empty = AmIEmpty()\n",
    "am_i_empty.a_method()"
   ]
  },
  {
   "cell_type": "code",
   "execution_count": 10,
   "metadata": {},
   "outputs": [
    {
     "name": "stdout",
     "output_type": "stream",
     "text": [
      "[1, 2]\n"
     ]
    },
    {
     "ename": "NameError",
     "evalue": "name 'x' is not defined",
     "output_type": "error",
     "traceback": [
      "\u001b[1;31m---------------------------------------------------------------------------\u001b[0m",
      "\u001b[1;31mNameError\u001b[0m                                 Traceback (most recent call last)",
      "Input \u001b[1;32mIn [10]\u001b[0m, in \u001b[0;36m<module>\u001b[1;34m\u001b[0m\n\u001b[0;32m      2\u001b[0m \u001b[38;5;28mprint\u001b[39m(x)\n\u001b[0;32m      3\u001b[0m \u001b[38;5;28;01mdel\u001b[39;00m x\n\u001b[1;32m----> 4\u001b[0m \u001b[38;5;28mprint\u001b[39m(\u001b[43mx\u001b[49m)\n",
      "\u001b[1;31mNameError\u001b[0m: name 'x' is not defined"
     ]
    }
   ],
   "source": [
    "x = [1,2]\n",
    "print(x)\n",
    "del x\n",
    "print(x) #=> NameError"
   ]
  },
  {
   "cell_type": "code",
   "execution_count": 11,
   "metadata": {},
   "outputs": [
    {
     "name": "stdout",
     "output_type": "stream",
     "text": [
      "אבא אמא בגימטריה זה: 46\n",
      "<__main__.Gymatria object at 0x0000022FF7D6BFA0>\n",
      "אבא אמא\n",
      "46\n"
     ]
    }
   ],
   "source": [
    "print(aba)\n",
    "del Gymatria.__repr__\n",
    "print(aba)\n",
    "print(aba.expr)\n",
    "print(aba.expr_value)"
   ]
  },
  {
   "cell_type": "code",
   "execution_count": 17,
   "metadata": {},
   "outputs": [],
   "source": [
    "\n",
    "Gymatria.__int__ = lambda self: self.expr_value\n",
    "Gymatria.__str__ = lambda self: f\"{self.expr} בגימטריה זה: {self.expr_value}\"  # __str__ is for end-users.\n",
    "Gymatria.__float__ = lambda self: float(self.expr_value)"
   ]
  },
  {
   "cell_type": "code",
   "execution_count": 18,
   "metadata": {},
   "outputs": [
    {
     "name": "stdout",
     "output_type": "stream",
     "text": [
      "אבא אמא בגימטריה זה: 46\n",
      "46\n",
      "46.0\n"
     ]
    }
   ],
   "source": [
    "print(str(aba))\n",
    "print(int(aba))\n",
    "print(float(aba))"
   ]
  },
  {
   "cell_type": "code",
   "execution_count": 24,
   "metadata": {},
   "outputs": [],
   "source": [
    "Gymatria.__repr__ = lambda self: f\"Gymatria({self.expr!r})\"  # __repr__ is for unique system representation."
   ]
  },
  {
   "cell_type": "code",
   "execution_count": 25,
   "metadata": {},
   "outputs": [
    {
     "name": "stdout",
     "output_type": "stream",
     "text": [
      "שלום בגימטריה זה: 376\n",
      "[Gymatria('שלום'), Gymatria('עולם')]\n"
     ]
    }
   ],
   "source": [
    "shalom = Gymatria(\"שלום\")\n",
    "print(shalom)\n",
    "gymatria_list = [shalom,Gymatria(\"עולם\")]\n",
    "print(gymatria_list)"
   ]
  },
  {
   "cell_type": "code",
   "execution_count": 26,
   "metadata": {},
   "outputs": [
    {
     "name": "stdout",
     "output_type": "stream",
     "text": [
      "[Gymatria('שלום'), Gymatria('עולם'), Gymatria('צה\"ל'), Gymatria(\"וכו'\")]\n"
     ]
    }
   ],
   "source": [
    "gymatria_list.append(Gymatria('צה\"ל'))\n",
    "gymatria_list.append(Gymatria(\"וכו'\"))\n",
    "print(gymatria_list)"
   ]
  },
  {
   "cell_type": "code",
   "execution_count": 36,
   "metadata": {},
   "outputs": [
    {
     "name": "stdout",
     "output_type": "stream",
     "text": [
      "stam.attr1= default1\n",
      "stam.attr2= {'d': 1}\n",
      "stam.all= None\n"
     ]
    },
    {
     "ename": "Exception",
     "evalue": "Cannot change self.attr1",
     "output_type": "error",
     "traceback": [
      "\u001b[1;31m---------------------------------------------------------------------------\u001b[0m",
      "\u001b[1;31mException\u001b[0m                                 Traceback (most recent call last)",
      "Input \u001b[1;32mIn [36]\u001b[0m, in \u001b[0;36m<module>\u001b[1;34m\u001b[0m\n\u001b[0;32m     29\u001b[0m \u001b[38;5;28mprint\u001b[39m(\u001b[38;5;124m\"\u001b[39m\u001b[38;5;124mstam.all=\u001b[39m\u001b[38;5;124m\"\u001b[39m,stam\u001b[38;5;241m.\u001b[39mall)\n\u001b[0;32m     30\u001b[0m \u001b[38;5;66;03m# stam.all = lambda self:print(f\"{self.attr1} , {self.attr2}\") # => Exception\u001b[39;00m\n\u001b[1;32m---> 31\u001b[0m stam\u001b[38;5;241m.\u001b[39mattr1 \u001b[38;5;241m=\u001b[39m (\u001b[38;5;241m1\u001b[39m,\u001b[38;5;241m2\u001b[39m,\u001b[38;5;241m3\u001b[39m)\n",
      "Input \u001b[1;32mIn [36]\u001b[0m, in \u001b[0;36mMutableDefault.__setattr__\u001b[1;34m(self, name, value)\u001b[0m\n\u001b[0;32m     22\u001b[0m     \u001b[38;5;28mself\u001b[39m\u001b[38;5;241m.\u001b[39m\u001b[38;5;18m__dict__\u001b[39m[name] \u001b[38;5;241m=\u001b[39m value\n\u001b[0;32m     23\u001b[0m \u001b[38;5;28;01melse\u001b[39;00m: \n\u001b[1;32m---> 24\u001b[0m     \u001b[38;5;28;01mraise\u001b[39;00m \u001b[38;5;167;01mException\u001b[39;00m(\u001b[38;5;124mf\u001b[39m\u001b[38;5;124m\"\u001b[39m\u001b[38;5;124mCannot change self.\u001b[39m\u001b[38;5;132;01m{\u001b[39;00mname\u001b[38;5;132;01m}\u001b[39;00m\u001b[38;5;124m\"\u001b[39m)\n",
      "\u001b[1;31mException\u001b[0m: Cannot change self.attr1"
     ]
    }
   ],
   "source": [
    "class MutableDefault:\n",
    "    ''' Saves any value is provided \n",
    "        or initiates to \"default\" '''\n",
    "    def __init__(self , *args , **kwargs):\n",
    "        if args: \n",
    "            self.attr1 = args \n",
    "        else:\n",
    "            self.attr1 = 'default1'\n",
    "        if kwargs: \n",
    "            self.attr2 = kwargs \n",
    "        else: \n",
    "            self.attr2 = 'default2'\n",
    "    def __getattr__(self,name:str):\n",
    "        try: \n",
    "            self.__dict__[name]\n",
    "        except: \n",
    "            return None\n",
    "    def __setattr__(self,name,value):\n",
    "        if name == 'attr1' and self.attr1 == None:\n",
    "            self.__dict__[name] = value\n",
    "        elif name == 'attr2' and self.attr2 == None:\n",
    "            self.__dict__[name] = value\n",
    "        else: \n",
    "            raise Exception(f\"Cannot change self.{name}\")\n",
    "\n",
    "stam = MutableDefault(d = 1)\n",
    "print(\"stam.attr1=\",stam.attr1)\n",
    "print(\"stam.attr2=\",stam.attr2)\n",
    "print(\"stam.all=\",stam.all)\n",
    "# stam.all = lambda self:print(f\"{self.attr1} , {self.attr2}\") # => Exception\n",
    "stam.attr1 = (1,2,3) #=> Exception"
   ]
  },
  {
   "cell_type": "code",
   "execution_count": 1,
   "metadata": {},
   "outputs": [
    {
     "name": "stdout",
     "output_type": "stream",
     "text": [
      "init method called\n",
      "enter method called\n",
      "with statement block\n",
      "exit method called\n"
     ]
    }
   ],
   "source": [
    "class ContextManager(): \n",
    "    def __init__(self): \n",
    "        print('init method called') \n",
    "    def __enter__(self): \n",
    "        print('enter method called') \n",
    "        return self\n",
    "    def __exit__(self, exc_type, exc_value, exc_traceback): \n",
    "        print('exit method called') \n",
    "\n",
    "with ContextManager() as manager:\n",
    "    print('with statement block') "
   ]
  },
  {
   "cell_type": "code",
   "execution_count": 39,
   "metadata": {},
   "outputs": [
    {
     "name": "stdout",
     "output_type": "stream",
     "text": [
      "True\n"
     ]
    }
   ],
   "source": [
    "class FileManager(): \n",
    "    def __init__(self, filename, mode , encode = \"utf-8\"): \n",
    "        self.filename = filename \n",
    "        self.mode = mode \n",
    "        self.file = None\n",
    "        self.encode = encode\n",
    "          \n",
    "    def __enter__(self):  \n",
    "        self.file = open(self.filename, self.mode ,encoding= self.encode)\n",
    "        return self.file\n",
    "      \n",
    "    def __exit__(self, exc_type, exc_value, exc_traceback): \n",
    "        self.file.close() \n",
    "  \n",
    "# loading a file  \n",
    "with FileManager('test.txt', 'w') as f: \n",
    "    for word in gymatria_list:\n",
    "        f.write(str(word)+'\\n')\n",
    "print(f.closed)"
   ]
  },
  {
   "cell_type": "code",
   "execution_count": 40,
   "metadata": {},
   "outputs": [
    {
     "name": "stdout",
     "output_type": "stream",
     "text": [
      "שלום בגימטריה זה: 376\n",
      "עולם בגימטריה זה: 146\n",
      "צה\"ל בגימטריה זה: 125\n",
      "וכו' בגימטריה זה: 32\n",
      "\n",
      "\n",
      "\n",
      "\n"
     ]
    }
   ],
   "source": [
    "with FileManager('test.txt', 'r') as f: \n",
    "    for word in gymatria_list:\n",
    "        print(f.read())"
   ]
  },
  {
   "cell_type": "code",
   "execution_count": 42,
   "metadata": {},
   "outputs": [],
   "source": [
    "class Node:\n",
    "    def __init__(self,data:object = None, next = None ,prev = None)->None:\n",
    "        self.data = data\n",
    "        self.next = next\n",
    "        self.prev = prev\n",
    "    def __repr__(self) ->str:\n",
    "        return f\"Node({self.data!r})\"\n",
    "\n",
    "\n",
    "class LinkedList:\n",
    "    def __init__(self) ->None:\n",
    "        self._head = None\n",
    "        self._tail = Node(None)\n",
    "        self._size = 0\n",
    "    \n",
    "    def __len__(self) ->int:\n",
    "        return self._size\n",
    "    \n",
    "    def __getitem__(self, index:int):\n",
    "        if index >= self._size or index < 0: raise IndexError(\"invalid input, index out of range\")\n",
    "        temp = self._head\n",
    "        for i in range(index):\n",
    "            temp = temp.next\n",
    "        return temp\n",
    "\n",
    "    def __setitem__(self , index:int, value:object) ->None:\n",
    "        self.__getitem__(index).data = value\n",
    "    \n",
    "    def __delitem__(self , index:int) ->None:\n",
    "        if index==0:\n",
    "            self._head = self.__getitem__(index+1)\n",
    "            self._head.prev = None\n",
    "        else:\n",
    "            prev_node = self.__getitem__(index-1)\n",
    "            next_node = self.__getitem__(index+1)\n",
    "            prev_node.next , next_node.prev = next_node ,prev_node\n",
    "        self._size-=1\n",
    "    \n",
    "    def insert(self, new_node , index :int = None):\n",
    "        if not isinstance(new_node , Node): raise ValueError(\"Not a Node type\")\n",
    "        if index == None:\n",
    "            if self._head == None:\n",
    "                self._head = new_node\n",
    "                self._head.next = self._tail\n",
    "                self._tail.prev = self._head\n",
    "                self._head.prev = None\n",
    "            else:\n",
    "                (self._tail.prev).next, new_node.prev = new_node , self._tail.prev\n",
    "                self._tail.prev , new_node.next =  new_node , self._tail\n",
    "            self._size += 1\n",
    "            return self\n",
    "\n",
    "    def __str__(self) -> str:\n",
    "        s = \" \"\n",
    "        temp = self._head\n",
    "        while temp != self._tail:\n",
    "            if temp != self._tail.prev:\n",
    "               s += f\"{temp} -> \"\n",
    "            else: s += f\"{temp}\"\n",
    "            temp = temp.next\n",
    "        return s\n",
    "\n",
    "    def __repr__(self) ->str:\n",
    "        temp = self._head\n",
    "        s = \"LinkedList()\"\n",
    "        while temp != self._tail:\n",
    "            if temp!= self._tail.prev:\n",
    "                s=\"(\"+s\n",
    "            s += f\".insert({temp})\"\n",
    "            if temp!= self._tail.prev:\n",
    "                s += ')'\n",
    "\n",
    "            temp = temp.next\n",
    "        return s"
   ]
  },
  {
   "cell_type": "code",
   "execution_count": 47,
   "metadata": {},
   "outputs": [
    {
     "name": "stdout",
     "output_type": "stream",
     "text": [
      "linked_list =  Node(1) -> Node(3) -> Node(5) -> Node(7) -> Node(9) -> Node(11) -> Node(13)\n",
      "linked_list[3] = Node(7)\n",
      "len(linked_list) = 7\n",
      " Node('Tom Pythonovitz') -> Node(3) -> Node(5) -> Node(7) -> Node(9) -> Node(11) -> Node(13)\n",
      " Node(3) -> Node(5) -> Node(7) -> Node(9) -> Node(11) -> Node(13)\n"
     ]
    }
   ],
   "source": [
    "linked_list = LinkedList()\n",
    "# linked_list[0] = 3  => IndexError\n",
    "# linked_list[len(linked_list)] => IndexError\n",
    "for i in range(1,15,2):\n",
    "    linked_list.insert(Node(i))\n",
    "print(f\"linked_list = {linked_list}\")  # calls __str__ method\n",
    "print(f\"linked_list[3] = {linked_list[3]}\")   # calls __getitem__ method\n",
    "print(f\"len(linked_list) = {len(linked_list)}\")\n",
    "linl = eval(repr(linked_list))   # calls __repr__ method\n",
    "linl[0] = \"Tom Pythonovitz\"  # calls __setitem__ method\n",
    "print(linl)\n",
    "del(linl[0])   # calls __delitem__ method\n",
    "print(linl)    "
   ]
  },
  {
   "cell_type": "code",
   "execution_count": null,
   "metadata": {},
   "outputs": [],
   "source": []
  }
 ],
 "metadata": {
  "kernelspec": {
   "display_name": "Python 3",
   "language": "python",
   "name": "python3"
  },
  "language_info": {
   "codemirror_mode": {
    "name": "ipython",
    "version": 3
   },
   "file_extension": ".py",
   "mimetype": "text/x-python",
   "name": "python",
   "nbconvert_exporter": "python",
   "pygments_lexer": "ipython3",
   "version": "3.10.2"
  },
  "orig_nbformat": 2
 },
 "nbformat": 4,
 "nbformat_minor": 2
}
