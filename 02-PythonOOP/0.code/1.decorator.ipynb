{
 "cells": [
  {
   "cell_type": "code",
   "execution_count": 19,
   "metadata": {},
   "outputs": [
    {
     "name": "stdout",
     "output_type": "stream",
     "text": [
      "<class 'function'>\n",
      "6\n"
     ]
    }
   ],
   "source": [
    "def high_ord_func(x: int , func) -> int:\n",
    "    return func(x)+x\n",
    "\n",
    "func = lambda a : a**2 \n",
    "print(type(func))\n",
    "print(high_ord_func(2, func)) \n"
   ]
  },
  {
   "cell_type": "code",
   "execution_count": 3,
   "metadata": {},
   "outputs": [
    {
     "name": "stdout",
     "output_type": "stream",
     "text": [
      "<class 'function'>\n",
      "I'm in the inner function\n"
     ]
    }
   ],
   "source": [
    "def out_f():\n",
    "    def in_f():\n",
    "        print(\"I'm in the inner function\")\n",
    "    return in_f\n",
    "\n",
    "f = out_f()\n",
    "print(type(f))\n",
    "f()"
   ]
  },
  {
   "cell_type": "code",
   "execution_count": 8,
   "metadata": {},
   "outputs": [],
   "source": [
    "def wrap(func):\n",
    "    def wrapper():\n",
    "        print(\"started\")\n",
    "        func()\n",
    "        print(\"ended\")\n",
    "    return wrapper\n",
    "\n",
    "def a_function():\n",
    "    print(\"I'm a function\")\n"
   ]
  },
  {
   "cell_type": "code",
   "execution_count": 9,
   "metadata": {},
   "outputs": [
    {
     "name": "stdout",
     "output_type": "stream",
     "text": [
      "first way:outer_function(a_function)() \n",
      "started\n",
      "I'm a function\n",
      "ended\n",
      "\n",
      "second way: variable \n",
      "started\n",
      "I'm a function\n",
      "ended\n"
     ]
    }
   ],
   "source": [
    "print(\"first way:outer_function(a_function)() \")\n",
    "wrap(a_function)()\n",
    "print(\"\\nsecond way: variable \")\n",
    "f_wrapped = wrap(a_function)\n",
    "f_wrapped()"
   ]
  },
  {
   "cell_type": "code",
   "execution_count": 12,
   "metadata": {},
   "outputs": [
    {
     "name": "stdout",
     "output_type": "stream",
     "text": [
      "started\n",
      "I'm a new function\n",
      "ended\n"
     ]
    }
   ],
   "source": [
    "@wrap\n",
    "def a_function():\n",
    "    print(\"I'm a new function\")\n",
    "\n",
    "# Equivalent to:\n",
    "#    a_function = wrap(a_function)\n",
    "\n",
    "a_function()"
   ]
  },
  {
   "cell_type": "code",
   "execution_count": 15,
   "metadata": {},
   "outputs": [
    {
     "ename": "TypeError",
     "evalue": "wrap.<locals>.wrapper() takes 0 positional arguments but 1 was given",
     "output_type": "error",
     "traceback": [
      "\u001b[1;31m---------------------------------------------------------------------------\u001b[0m",
      "\u001b[1;31mTypeError\u001b[0m                                 Traceback (most recent call last)",
      "Input \u001b[1;32mIn [15]\u001b[0m, in \u001b[0;36m<module>\u001b[1;34m\u001b[0m\n\u001b[0;32m      1\u001b[0m \u001b[38;5;129m@wrap\u001b[39m\n\u001b[0;32m      2\u001b[0m \u001b[38;5;28;01mdef\u001b[39;00m \u001b[38;5;21mparam_function\u001b[39m(num: \u001b[38;5;28mint\u001b[39m):\n\u001b[0;32m      3\u001b[0m     \u001b[38;5;28mprint\u001b[39m(\u001b[38;5;124mf\u001b[39m\u001b[38;5;124m\"\u001b[39m\u001b[38;5;132;01m{\u001b[39;00mnum\u001b[38;5;132;01m}\u001b[39;00m\u001b[38;5;124m is a number\u001b[39m\u001b[38;5;124m\"\u001b[39m)\n\u001b[1;32m----> 4\u001b[0m \u001b[43mparam_function\u001b[49m\u001b[43m(\u001b[49m\u001b[38;5;241;43m3\u001b[39;49m\u001b[43m)\u001b[49m\n",
      "\u001b[1;31mTypeError\u001b[0m: wrap.<locals>.wrapper() takes 0 positional arguments but 1 was given"
     ]
    }
   ],
   "source": [
    "@wrap\n",
    "def param_function(num: int):\n",
    "    print(f\"{num} is a number\")\n",
    "param_function(3) #We should get a TypeError\n",
    "# param_function() #We should get another TypeError"
   ]
  },
  {
   "cell_type": "code",
   "execution_count": 16,
   "metadata": {},
   "outputs": [
    {
     "name": "stdout",
     "output_type": "stream",
     "text": [
      "15\n"
     ]
    }
   ],
   "source": [
    "def my_sum(*args):\n",
    "    result = 0\n",
    "    for x in args:\n",
    "        result += x\n",
    "    return result\n",
    "\n",
    "print(my_sum(1,2,3,4,5))\n"
   ]
  },
  {
   "cell_type": "code",
   "execution_count": 17,
   "metadata": {},
   "outputs": [
    {
     "name": "stdout",
     "output_type": "stream",
     "text": [
      "{'e': 1, 'r': 2, 'j': 3}\n",
      "<class 'dict'>\n",
      "e -> 1\n",
      "r -> 2\n",
      "j -> 3\n"
     ]
    }
   ],
   "source": [
    "def f(**kwargs):\n",
    "    print(kwargs)\n",
    "    print(type(kwargs))\n",
    "    for key, val in kwargs.items():\n",
    "        print(key, '->', val)\n",
    "\n",
    "f(e=1, r=2,j=3)\n"
   ]
  },
  {
   "cell_type": "code",
   "execution_count": 18,
   "metadata": {},
   "outputs": [
    {
     "name": "stdout",
     "output_type": "stream",
     "text": [
      "started\n",
      "3 is a number\n",
      "ended\n"
     ]
    }
   ],
   "source": [
    "def wrap_with_params(func):\n",
    "    def wrapper(*args , **kwargs):\n",
    "        print(\"started\")\n",
    "        func(*args, **kwargs)\n",
    "        print(\"ended\")\n",
    "    return wrapper\n",
    "\n",
    "@wrap_with_params\n",
    "def param_function(num: int):\n",
    "    print(f\"{num} is a number\")\n",
    "param_function(3)"
   ]
  },
  {
   "cell_type": "code",
   "execution_count": 20,
   "metadata": {},
   "outputs": [
    {
     "name": "stdout",
     "output_type": "stream",
     "text": [
      "enter your name with no capital letters:\n",
      "Erel Segal\n"
     ]
    }
   ],
   "source": [
    "def wrap_with_return(func):\n",
    "    def wrapper(*args , **kwargs):\n",
    "        print(\"enter your name with no capital letters:\")\n",
    "        return_val = func(*args, **kwargs)\n",
    "        #do somthing\n",
    "        return return_val\n",
    "    return wrapper\n",
    "\n",
    "@wrap_with_return\n",
    "def change_name_to_upper():\n",
    "    \"\"\"Changes the first character of the name to upper case \"\"\"\n",
    "    first_name= input(\"Your first name is: \")\n",
    "    last_name= input(\"Your last name is: \")\n",
    "    fname_list=list(first_name)\n",
    "    lname_list=list(last_name)\n",
    "    fname_list[0]= fname_list[0].upper()\n",
    "    lname_list[0]= lname_list[0].upper()\n",
    "    return \"\".join(fname_list)+\" \"+\"\".join(lname_list)\n",
    "print(change_name_to_upper())"
   ]
  },
  {
   "cell_type": "code",
   "execution_count": 1,
   "metadata": {},
   "outputs": [],
   "source": [
    "import logging, sys\n",
    "logger = logging.getLogger()\n",
    "logger.setLevel(logging.INFO)\n",
    "\n",
    "def my_logger(orig_func):\n",
    "    def wrapper(*args, **kwargs):\n",
    "        logging.info(\n",
    "            f'Running function {orig_func.__name__} with args {args}, and kwargs: {kwargs}')\n",
    "        return orig_func(*args, **kwargs)\n",
    "    return wrapper"
   ]
  },
  {
   "cell_type": "code",
   "execution_count": 4,
   "metadata": {},
   "outputs": [
    {
     "name": "stderr",
     "output_type": "stream",
     "text": [
      "INFO:root:Running function test1 with args (5, 7), and kwargs: {}\n",
      "INFO:root:Running function test1 with args (5,), and kwargs: {'b': 7}\n"
     ]
    },
    {
     "name": "stdout",
     "output_type": "stream",
     "text": [
      "5+7=12\n",
      "5+7=12\n"
     ]
    }
   ],
   "source": [
    "@my_logger\n",
    "def test1(a, b):\n",
    "    print(f'{a}+{b}={a+b}')\n",
    "\n",
    "test1(5, 7)\n",
    "test1(5, b=7)"
   ]
  },
  {
   "cell_type": "code",
   "execution_count": 5,
   "metadata": {},
   "outputs": [],
   "source": [
    "\n",
    "def my_timer(orig_func):\n",
    "    import time\n",
    "    def wrapper(*args, **kwargs):\n",
    "        t1 = time.time()\n",
    "        result = orig_func(*args, **kwargs)\n",
    "        t2 = time.time() - t1\n",
    "        print(f'{orig_func.__name__} ran in: {t2} sec')\n",
    "        return result\n",
    "\n",
    "    return wrapper"
   ]
  },
  {
   "cell_type": "code",
   "execution_count": 6,
   "metadata": {},
   "outputs": [
    {
     "name": "stdout",
     "output_type": "stream",
     "text": [
      "5+7=12\n",
      "test1 ran in: 0.0 sec\n"
     ]
    }
   ],
   "source": [
    "\n",
    "@my_timer\n",
    "def test2(a, b):\n",
    "    print(f'{a}+{b}={a+b}')\n",
    "\n",
    "test2(5, 7)"
   ]
  },
  {
   "cell_type": "code",
   "execution_count": 8,
   "metadata": {},
   "outputs": [
    {
     "name": "stderr",
     "output_type": "stream",
     "text": [
      "INFO:root:Running function wrapper with args (5, 7), and kwargs: {}\n"
     ]
    },
    {
     "name": "stdout",
     "output_type": "stream",
     "text": [
      "5+7=12\n",
      "test3 ran in: 0.0 sec\n"
     ]
    }
   ],
   "source": [
    "@my_logger\n",
    "@my_timer\n",
    "def test3(a, b):\n",
    "    print(f'{a}+{b}={a+b}')\n",
    "\n",
    "test3(5, 7)  # Wrong result: \"running function wrapper\""
   ]
  },
  {
   "cell_type": "code",
   "execution_count": 10,
   "metadata": {},
   "outputs": [
    {
     "name": "stderr",
     "output_type": "stream",
     "text": [
      "INFO:root:Running function test4 with args (5, 7), and kwargs: {}\n",
      "INFO:root:Running function test4 with args (5,), and kwargs: {'b': 7}\n"
     ]
    },
    {
     "name": "stdout",
     "output_type": "stream",
     "text": [
      "5+7=12\n",
      "test4 ran in: 0.0 sec\n",
      "5+7=12\n",
      "test4 ran in: 0.0 sec\n"
     ]
    }
   ],
   "source": [
    "# Decorators\n",
    "from functools import wraps\n",
    "\n",
    "def my_logger(orig_func):\n",
    "    @wraps(orig_func)\n",
    "    def wrapper(*args, **kwargs):\n",
    "        logging.info(\n",
    "            f'Running function {orig_func.__name__} with args {args}, and kwargs: {kwargs}')\n",
    "        return orig_func(*args, **kwargs)\n",
    "    return wrapper\n",
    "\n",
    "def my_timer(orig_func):\n",
    "    import time\n",
    "    @wraps(orig_func)\n",
    "    def wrapper(*args, **kwargs):\n",
    "        t1 = time.time()\n",
    "        result = orig_func(*args, **kwargs)\n",
    "        t2 = time.time() - t1\n",
    "        print(f'{orig_func.__name__} ran in: {t2} sec')\n",
    "        return result\n",
    "    return wrapper\n",
    "\n",
    "\n",
    "@my_logger\n",
    "@my_timer\n",
    "def test4(a, b):\n",
    "    print(f'{a}+{b}={a+b}')\n",
    "\n",
    "test4(5, 7)\n",
    "test4(5, b=7)"
   ]
  },
  {
   "cell_type": "code",
   "execution_count": 11,
   "metadata": {},
   "outputs": [
    {
     "name": "stdout",
     "output_type": "stream",
     "text": [
      "The price of a pizza slice: \n",
      "only pizza: 5.0 ₪\n",
      "pizza + mozzarella: 8.5 ₪\n",
      "pizza + olives: 7.0 ₪\n",
      "pizza+ onion + mozzarella + olives: 12.75 ₪\n"
     ]
    }
   ],
   "source": [
    "def mozzarella(pizza) -> float:\n",
    "    #@wraps()\n",
    "    def wrapper(*args, **kwargs):\n",
    "        return pizza()+3.5\n",
    "    return wrapper\n",
    "\n",
    "def onion(pizza) -> float:\n",
    "    #@wraps()\n",
    "    def wrapper(*args, **kwargs):\n",
    "        return pizza()+2.25\n",
    "    return wrapper\n",
    "\n",
    "def olives(pizza) -> float:\n",
    "    #@wraps()\n",
    "    def wrapper(*args, **kwargs):\n",
    "        return pizza()+2.0\n",
    "    return wrapper\n",
    "\n",
    "def pizza()->float:\n",
    "    \"\"\"Returns the price of a pizza slice \"\"\"\n",
    "    return 5.0\n",
    "\n",
    "print(\"The price of a pizza slice: \")\n",
    "print(f\"only pizza: {pizza()} ₪\")\n",
    "print(f\"pizza + mozzarella: {mozzarella(pizza)()} ₪\")\n",
    "print(f\"pizza + olives: {olives(pizza)()} ₪\")\n",
    "print(f\"pizza+ onion + mozzarella + olives: {olives(mozzarella(onion(pizza)))()} ₪\")"
   ]
  },
  {
   "cell_type": "code",
   "execution_count": null,
   "metadata": {},
   "outputs": [],
   "source": []
  }
 ],
 "metadata": {
  "kernelspec": {
   "display_name": "Python 3",
   "language": "python",
   "name": "python3"
  },
  "language_info": {
   "codemirror_mode": {
    "name": "ipython",
    "version": 3
   },
   "file_extension": ".py",
   "mimetype": "text/x-python",
   "name": "python",
   "nbconvert_exporter": "python",
   "pygments_lexer": "ipython3",
   "version": "3.10.2"
  },
  "orig_nbformat": 2
 },
 "nbformat": 4,
 "nbformat_minor": 2
}
