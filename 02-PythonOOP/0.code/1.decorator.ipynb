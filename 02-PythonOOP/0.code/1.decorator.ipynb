{
 "cells": [
  {
   "cell_type": "code",
   "execution_count": 2,
   "metadata": {},
   "outputs": [
    {
     "name": "stdout",
     "output_type": "stream",
     "text": [
      "<class 'function'>\n",
      "6\n"
     ]
    }
   ],
   "source": [
    "# Reminder: a function can get a function as parameter:\n",
    "\n",
    "def high_order_func(func, x: int) -> int:\n",
    "    return func(x)+x\n",
    "\n",
    "func = lambda a : a**2\n",
    "print(type(func))\n",
    "print(high_order_func(func, 2))\n"
   ]
  },
  {
   "cell_type": "code",
   "execution_count": 3,
   "metadata": {},
   "outputs": [
    {
     "name": "stdout",
     "output_type": "stream",
     "text": [
      "<class 'function'>\n",
      "I'm in the inner function\n"
     ]
    }
   ],
   "source": [
    "# Reminder: a function can return a function:\n",
    "\n",
    "def out_f():\n",
    "    def in_f():\n",
    "        print(\"I'm in the inner function\")\n",
    "    return in_f\n",
    "\n",
    "f = out_f()\n",
    "print(type(f))\n",
    "f()"
   ]
  },
  {
   "cell_type": "code",
   "execution_count": 6,
   "metadata": {},
   "outputs": [],
   "source": [
    "# A function both accept a function parameter, and return a function:\n",
    "\n",
    "def wrap(func):\n",
    "    def wrapper():\n",
    "        print(f\"starting {func.__name__}\")\n",
    "        func()\n",
    "        print(f\"ending {func.__name__}\")\n",
    "    return wrapper"
   ]
  },
  {
   "cell_type": "code",
   "execution_count": 7,
   "metadata": {},
   "outputs": [
    {
     "name": "stdout",
     "output_type": "stream",
     "text": [
      "\n",
      "First way: variable \n",
      "starting a_function\n",
      "I'm a function\n",
      "ending a_function\n",
      "\n",
      "Second way: outer_function(a_function)() \n",
      "starting a_function\n",
      "I'm a function\n",
      "ending a_function\n"
     ]
    }
   ],
   "source": [
    "def a_function():\n",
    "    print(\"I'm a function\")\n",
    "\n",
    "print(\"\\nFirst way: variable \")\n",
    "a_wrapped_function = wrap(a_function)\n",
    "a_wrapped_function()\n",
    "\n",
    "print(\"\\nSecond way: outer_function(a_function)() \")\n",
    "wrap(a_function)()"
   ]
  },
  {
   "cell_type": "code",
   "execution_count": 10,
   "metadata": {},
   "outputs": [
    {
     "name": "stdout",
     "output_type": "stream",
     "text": [
      "starting a_function\n",
      "I'm a new function\n",
      "ending a_function\n",
      "\n",
      "starting another_function\n",
      "I'm another function\n",
      "ending another_function\n"
     ]
    }
   ],
   "source": [
    "@wrap\n",
    "def a_function():\n",
    "    print(\"I'm a new function\")\n",
    "\n",
    "# Equivalent to:\n",
    "#    a_function = wrap(a_function)\n",
    "\n",
    "a_function()\n",
    "\n",
    "@wrap\n",
    "def another_function():\n",
    "    print(\"I'm another function\")\n",
    "\n",
    "print()\n",
    "another_function()\n"
   ]
  },
  {
   "cell_type": "code",
   "execution_count": 11,
   "metadata": {},
   "outputs": [
    {
     "ename": "TypeError",
     "evalue": "wrap.<locals>.wrapper() takes 0 positional arguments but 1 was given",
     "output_type": "error",
     "traceback": [
      "\u001b[1;31m---------------------------------------------------------------------------\u001b[0m",
      "\u001b[1;31mTypeError\u001b[0m                                 Traceback (most recent call last)",
      "\u001b[1;32md:\\Dropbox\\ariel-research\\research-5782\\02-PythonOOP\\0.code\\1.decorator.ipynb Cell 6'\u001b[0m in \u001b[0;36m<module>\u001b[1;34m\u001b[0m\n\u001b[0;32m      <a href='vscode-notebook-cell:/d%3A/Dropbox/ariel-research/research-5782/02-PythonOOP/0.code/1.decorator.ipynb#ch0000005?line=0'>1</a>\u001b[0m \u001b[39m@wrap\u001b[39m\n\u001b[0;32m      <a href='vscode-notebook-cell:/d%3A/Dropbox/ariel-research/research-5782/02-PythonOOP/0.code/1.decorator.ipynb#ch0000005?line=1'>2</a>\u001b[0m \u001b[39mdef\u001b[39;00m \u001b[39mparam_function\u001b[39m(num: \u001b[39mint\u001b[39m):\n\u001b[0;32m      <a href='vscode-notebook-cell:/d%3A/Dropbox/ariel-research/research-5782/02-PythonOOP/0.code/1.decorator.ipynb#ch0000005?line=2'>3</a>\u001b[0m     \u001b[39mprint\u001b[39m(\u001b[39mf\u001b[39m\u001b[39m\"\u001b[39m\u001b[39m{\u001b[39;00mnum\u001b[39m}\u001b[39;00m\u001b[39m is a number\u001b[39m\u001b[39m\"\u001b[39m)\n\u001b[1;32m----> <a href='vscode-notebook-cell:/d%3A/Dropbox/ariel-research/research-5782/02-PythonOOP/0.code/1.decorator.ipynb#ch0000005?line=3'>4</a>\u001b[0m param_function(\u001b[39m3\u001b[39;49m)\n",
      "\u001b[1;31mTypeError\u001b[0m: wrap.<locals>.wrapper() takes 0 positional arguments but 1 was given"
     ]
    }
   ],
   "source": [
    "@wrap\n",
    "def param_function(num: int):\n",
    "    print(f\"{num} is a number\")\n",
    "param_function(3) #We should get a TypeError\n",
    "# param_function() #We should get another TypeError"
   ]
  },
  {
   "cell_type": "code",
   "execution_count": 15,
   "metadata": {},
   "outputs": [
    {
     "name": "stdout",
     "output_type": "stream",
     "text": [
      "(1, 2, 3, 4, 5)\n",
      "<class 'tuple'>\n",
      "15\n"
     ]
    }
   ],
   "source": [
    "# Reminder: *args\n",
    "\n",
    "def my_sum(*args):\n",
    "    print(args)\n",
    "    print(type(args))\n",
    "    result = 0\n",
    "    for x in args:\n",
    "        result += x\n",
    "    return result\n",
    "\n",
    "print(my_sum(1,2,3,4,5))"
   ]
  },
  {
   "cell_type": "code",
   "execution_count": 16,
   "metadata": {},
   "outputs": [
    {
     "name": "stdout",
     "output_type": "stream",
     "text": [
      "{'e': 1, 'r': 2, 'j': 3}\n",
      "<class 'dict'>\n",
      "e -> 1\n",
      "r -> 2\n",
      "j -> 3\n"
     ]
    }
   ],
   "source": [
    "# Reminder: *kwargs\n",
    "\n",
    "def f(**kwargs):\n",
    "    print(kwargs)\n",
    "    print(type(kwargs))\n",
    "    for key, val in kwargs.items():\n",
    "        print(key, '->', val)\n",
    "\n",
    "f(e=1, r=2, j=3)"
   ]
  },
  {
   "cell_type": "code",
   "execution_count": 20,
   "metadata": {},
   "outputs": [
    {
     "name": "stdout",
     "output_type": "stream",
     "text": [
      "starting param_function\n",
      "3 is a number\n",
      "ending param_function\n",
      "\n",
      "starting param_function\n",
      "3 is a number\n",
      "ending param_function\n"
     ]
    }
   ],
   "source": [
    "def wrap_with_params(func):\n",
    "    def wrapper(*args , **kwargs):\n",
    "        print(f\"starting {func.__name__}\")\n",
    "        func(*args, **kwargs)\n",
    "        print(f\"ending {func.__name__}\")\n",
    "    return wrapper\n",
    "\n",
    "@wrap_with_params\n",
    "def param_function(num: int):\n",
    "    print(f\"{num} is a number\")\n",
    "param_function(3)\n",
    "print()\n",
    "param_function(num=3)"
   ]
  },
  {
   "cell_type": "code",
   "execution_count": 24,
   "metadata": {},
   "outputs": [
    {
     "name": "stdout",
     "output_type": "stream",
     "text": [
      "starting change_name_to_upper\n",
      "ending change_name_to_upper\n",
      "E S\n"
     ]
    }
   ],
   "source": [
    "def wrap_with_return(func):\n",
    "    def wrapper(*args , **kwargs):\n",
    "        print(f\"starting {func.__name__}\")\n",
    "        return_val = func(*args, **kwargs)\n",
    "        print(f\"ending {func.__name__}\")\n",
    "        return return_val\n",
    "    return wrapper\n",
    "\n",
    "@wrap_with_return\n",
    "def change_name_to_upper():\n",
    "    \"\"\"Changes the first character of the name to upper case \"\"\"\n",
    "    first_name= input(\"Your first name is: \")\n",
    "    last_name= input(\"Your last name is: \")\n",
    "    fname_list=list(first_name)\n",
    "    lname_list=list(last_name)\n",
    "    fname_list[0]= fname_list[0].upper()\n",
    "    lname_list[0]= lname_list[0].upper()\n",
    "    return \"\".join(fname_list)+\" \"+\"\".join(lname_list)\n",
    "print(change_name_to_upper())"
   ]
  },
  {
   "cell_type": "markdown",
   "metadata": {},
   "source": [
    "## Putting two wrappers on the same function"
   ]
  },
  {
   "cell_type": "code",
   "execution_count": 30,
   "metadata": {},
   "outputs": [],
   "source": [
    "\n",
    "def my_timer(orig_func):\n",
    "    import time\n",
    "    def wrapper(*args, **kwargs):\n",
    "        time_before = time.time()\n",
    "        result = orig_func(*args, **kwargs)\n",
    "        time_after = time.time()\n",
    "        print(f'my_timer: {orig_func.__name__} ran in: {time_after-time_before} sec')\n",
    "        return result\n",
    "\n",
    "    return wrapper"
   ]
  },
  {
   "cell_type": "code",
   "execution_count": 31,
   "metadata": {},
   "outputs": [
    {
     "name": "stdout",
     "output_type": "stream",
     "text": [
      "5+7=12\n",
      "my_timer: test2 ran in: 0.000997304916381836 sec\n"
     ]
    }
   ],
   "source": [
    "@my_timer\n",
    "def test2(a, b):\n",
    "    print(f'{a}+{b}={a+b}')\n",
    "\n",
    "test2(5, 7)"
   ]
  },
  {
   "cell_type": "code",
   "execution_count": 32,
   "metadata": {},
   "outputs": [
    {
     "name": "stdout",
     "output_type": "stream",
     "text": [
      "starting test3\n",
      "5+7=12\n",
      "ending test3\n",
      "my_timer: wrapper ran in: 0.0 sec\n"
     ]
    }
   ],
   "source": [
    "@my_timer\n",
    "@wrap_with_return\n",
    "def test3(a, b):\n",
    "    print(f'{a}+{b}={a+b}')\n",
    "\n",
    "test3(5, 7)  # Wrong result: \"starting wrapper... ending wrapper\""
   ]
  },
  {
   "cell_type": "code",
   "execution_count": 36,
   "metadata": {},
   "outputs": [
    {
     "name": "stdout",
     "output_type": "stream",
     "text": [
      "starting test4\n",
      "5+7=12\n",
      "test4 ran in: 0.0 sec\n",
      "ending test4\n"
     ]
    }
   ],
   "source": [
    "# Decorators\n",
    "from functools import wraps\n",
    "\n",
    "def my_logger(orig_func):\n",
    "    @wraps(orig_func)\n",
    "    def wrapper(*args , **kwargs):\n",
    "        print(f\"starting {orig_func.__name__}\")\n",
    "        return_val = orig_func(*args, **kwargs)\n",
    "        print(f\"ending {orig_func.__name__}\")\n",
    "        return return_val\n",
    "    return wrapper\n",
    "\n",
    "def my_timer(orig_func):\n",
    "    import time\n",
    "    @wraps(orig_func)\n",
    "    def wrapper(*args, **kwargs):\n",
    "        t1 = time.time()\n",
    "        result = orig_func(*args, **kwargs)\n",
    "        t2 = time.time() - t1\n",
    "        print(f'{orig_func.__name__} ran in: {t2} sec')\n",
    "        return result\n",
    "    return wrapper\n",
    "\n",
    "\n",
    "@my_logger\n",
    "@my_timer\n",
    "def test4(a, b):\n",
    "    print(f'{a}+{b}={a+b}')\n",
    "\n",
    "test4(5, 7)"
   ]
  }
 ],
 "metadata": {
  "kernelspec": {
   "display_name": "Python 3",
   "language": "python",
   "name": "python3"
  },
  "language_info": {
   "codemirror_mode": {
    "name": "ipython",
    "version": 3
   },
   "file_extension": ".py",
   "mimetype": "text/x-python",
   "name": "python",
   "nbconvert_exporter": "python",
   "pygments_lexer": "ipython3",
   "version": "3.10.2"
  },
  "orig_nbformat": 2
 },
 "nbformat": 4,
 "nbformat_minor": 2
}
