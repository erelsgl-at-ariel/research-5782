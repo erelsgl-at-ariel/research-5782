{
 "metadata": {
  "language_info": {
   "codemirror_mode": {
    "name": "ipython",
    "version": 3
   },
   "file_extension": ".py",
   "mimetype": "text/x-python",
   "name": "python",
   "nbconvert_exporter": "python",
   "pygments_lexer": "ipython3",
   "version": "3.6.6-final"
  },
  "orig_nbformat": 2,
  "kernelspec": {
   "name": "python3",
   "display_name": "Python 3",
   "language": "python"
  }
 },
 "nbformat": 4,
 "nbformat_minor": 2,
 "cells": [
  {
   "cell_type": "code",
   "execution_count": 16,
   "metadata": {},
   "outputs": [
    {
     "output_type": "stream",
     "name": "stdout",
     "text": [
      "6\n<class 'function'>\n"
     ]
    }
   ],
   "source": [
    "def high_ord_func(x: int , func) -> int:\n",
    "    return func(x)+x\n",
    "\n",
    "func = lambda a : a**2 \n",
    "print(high_ord_func(2, func)) \n",
    "print(type(func))\n"
   ]
  },
  {
   "cell_type": "code",
   "execution_count": 6,
   "metadata": {},
   "outputs": [
    {
     "output_type": "stream",
     "name": "stdout",
     "text": [
      "I'm in the inner function\n"
     ]
    }
   ],
   "source": [
    "def out_f():\n",
    "    def in_f():\n",
    "        print(\"I'm in the inner function\")\n",
    "    return in_f\n",
    "\n",
    "f = out_f()\n",
    "f()\n",
    "\n"
   ]
  },
  {
   "cell_type": "code",
   "execution_count": 17,
   "metadata": {},
   "outputs": [],
   "source": [
    "def outer_function(func):\n",
    "    def wrapper():\n",
    "        print(\"started\")\n",
    "        func()\n",
    "        print(\"ended\")\n",
    "    return wrapper\n",
    "\n",
    "def a_function():\n",
    "    print(\"I'm a function\")\n",
    "\n"
   ]
  },
  {
   "cell_type": "code",
   "execution_count": 18,
   "metadata": {},
   "outputs": [
    {
     "output_type": "stream",
     "name": "stdout",
     "text": [
      "first way:outer_function(a_function)() \nstarted\nI'm a function\nended\n\nsecond way: variable \nstarted\nI'm a function\nended\n"
     ]
    }
   ],
   "source": [
    "print(\"first way:outer_function(a_function)() \")\n",
    "outer_function(a_function)()\n",
    "print(\"\\nsecond way: variable \")\n",
    "f_wrapper = outer_function(a_function)\n",
    "f_wrapper()"
   ]
  },
  {
   "cell_type": "code",
   "execution_count": 19,
   "metadata": {},
   "outputs": [
    {
     "output_type": "stream",
     "name": "stdout",
     "text": [
      "started\nI'm a function\nended\n"
     ]
    }
   ],
   "source": [
    "@outer_function\n",
    "def a_function():\n",
    "    print(\"I'm a function\")\n",
    "a_function()"
   ]
  },
  {
   "cell_type": "code",
   "execution_count": 20,
   "metadata": {},
   "outputs": [
    {
     "output_type": "error",
     "ename": "TypeError",
     "evalue": "wrapper() takes 0 positional arguments but 1 was given",
     "traceback": [
      "\u001b[1;31m---------------------------------------------------------------------------\u001b[0m",
      "\u001b[1;31mTypeError\u001b[0m                                 Traceback (most recent call last)",
      "\u001b[1;32m<ipython-input-20-380132969f8b>\u001b[0m in \u001b[0;36m<module>\u001b[1;34m\u001b[0m\n\u001b[0;32m      2\u001b[0m \u001b[1;32mdef\u001b[0m \u001b[0mparam_function\u001b[0m\u001b[1;33m(\u001b[0m\u001b[0mnum\u001b[0m\u001b[1;33m:\u001b[0m \u001b[0mint\u001b[0m\u001b[1;33m)\u001b[0m\u001b[1;33m:\u001b[0m\u001b[1;33m\u001b[0m\u001b[0m\n\u001b[0;32m      3\u001b[0m     \u001b[0mprint\u001b[0m\u001b[1;33m(\u001b[0m\u001b[1;34mf\"{num} is a number\"\u001b[0m\u001b[1;33m)\u001b[0m\u001b[1;33m\u001b[0m\u001b[0m\n\u001b[1;32m----> 4\u001b[1;33m \u001b[0mparam_function\u001b[0m\u001b[1;33m(\u001b[0m\u001b[1;36m3\u001b[0m\u001b[1;33m)\u001b[0m\u001b[1;33m\u001b[0m\u001b[0m\n\u001b[0m",
      "\u001b[1;31mTypeError\u001b[0m: wrapper() takes 0 positional arguments but 1 was given"
     ]
    }
   ],
   "source": [
    "@outer_function\n",
    "def param_function(num: int):\n",
    "    print(f\"{num} is a number\")\n",
    "param_function(3) #We should get a TypeError"
   ]
  },
  {
   "cell_type": "code",
   "execution_count": 21,
   "metadata": {},
   "outputs": [
    {
     "output_type": "stream",
     "name": "stdout",
     "text": [
      "15\n"
     ]
    }
   ],
   "source": [
    "def my_sum(*args):\n",
    "    result = 0\n",
    "    for x in args:\n",
    "        result += x\n",
    "    return result\n",
    "\n",
    "print(my_sum(1,2,3,4,5))\n"
   ]
  },
  {
   "cell_type": "code",
   "execution_count": 22,
   "metadata": {},
   "outputs": [
    {
     "output_type": "stream",
     "name": "stdout",
     "text": [
      "{'e': 1, 'r': 2, 'j': 3}\n<class 'dict'>\ne -> 1\nr -> 2\nj -> 3\n"
     ]
    }
   ],
   "source": [
    "def f(**kwargs):\n",
    "    print(kwargs)\n",
    "    print(type(kwargs))\n",
    "    for key, val in kwargs.items():\n",
    "        print(key, '->', val)\n",
    "\n",
    "f(e=1, r=2,j=3)\n"
   ]
  },
  {
   "cell_type": "code",
   "execution_count": 15,
   "metadata": {},
   "outputs": [
    {
     "output_type": "stream",
     "name": "stdout",
     "text": [
      "started\n3 is a number\nended\n"
     ]
    }
   ],
   "source": [
    "def outer_function(func):\n",
    "    def wrapper(*args , **kwargs):\n",
    "        print(\"started\")\n",
    "        func(*args, **kwargs)\n",
    "        print(\"ended\")\n",
    "    return wrapper\n",
    "\n",
    "@outer_function\n",
    "def param_function(num: int):\n",
    "    print(f\"{num} is a number\")\n",
    "param_function(3)"
   ]
  },
  {
   "cell_type": "code",
   "execution_count": 35,
   "metadata": {},
   "outputs": [
    {
     "output_type": "stream",
     "name": "stdout",
     "text": [
      "enter your name with no capital letters:\n",
      "Tom Pythonovitch\n"
     ]
    }
   ],
   "source": [
    "def new_outer_function(func):\n",
    "    def wrapper(*args , **kwargs):\n",
    "        print(\"enter your name with no capital letters:\")\n",
    "        return_val = func(*args, **kwargs)\n",
    "        #do somthing\n",
    "        return return_val\n",
    "    return wrapper\n",
    "\n",
    "@new_outer_function\n",
    "def change_name_to_upper():\n",
    "    \"\"\"Changes the first character of the name to upper case \"\"\"\n",
    "    first_name= input(\"Your first name is: \")\n",
    "    last_name= input(\"Your last name is: \")\n",
    "    fname_list=list(first_name)\n",
    "    lname_list=list(last_name)\n",
    "    fname_list[0]= fname_list[0].upper()\n",
    "    lname_list[0]= lname_list[0].upper()\n",
    "    return \"\".join(fname_list)+\" \"+\"\".join(lname_list)\n",
    "print(change_name_to_upper())"
   ]
  },
  {
   "cell_type": "code",
   "execution_count": 2,
   "metadata": {},
   "outputs": [],
   "source": [
    "def my_logger(orig_func):\n",
    "    import logging\n",
    "    logging.basicConfig(filename='{}.log'.format(orig_func.__name__), level=logging.INFO)\n",
    "\n",
    "    def wrapper(*args, **kwargs):\n",
    "        logging.info(\n",
    "            'Ran with args: {}, and kwargs: {}'.format(args, kwargs))\n",
    "        return orig_func(*args, **kwargs)\n",
    "\n",
    "    return wrapper\n"
   ]
  },
  {
   "source": [
    "\n",
    "def my_timer(orig_func):\n",
    "    import time\n",
    "    def wrapper(*args, **kwargs):\n",
    "        t1 = time.time()\n",
    "        result = orig_func(*args, **kwargs)\n",
    "        t2 = time.time() - t1\n",
    "        print('{} ran in: {} sec'.format(orig_func.__name__, t2))\n",
    "        return result\n",
    "\n",
    "    return wrapper\n"
   ],
   "cell_type": "code",
   "metadata": {},
   "execution_count": 3,
   "outputs": []
  },
  {
   "cell_type": "code",
   "execution_count": 7,
   "metadata": {},
   "outputs": [
    {
     "output_type": "stream",
     "name": "stdout",
     "text": [
      "display_info ran with arguments (Tom, 30)\nwrapper ran in: 0.0009999275207519531 sec\n"
     ]
    }
   ],
   "source": [
    "\n",
    "@my_timer\n",
    "@my_logger\n",
    "def display_info(name, age):\n",
    "    print('display_info ran with arguments ({}, {})'.format(name, age))\n",
    "\n",
    "display_info('Tom', 30)"
   ]
  },
  {
   "cell_type": "code",
   "execution_count": 5,
   "metadata": {},
   "outputs": [
    {
     "output_type": "stream",
     "name": "stdout",
     "text": [
      "display_info ran with arguments (Tom, 22)\ndisplay_info ran in: 0.0 sec\n"
     ]
    }
   ],
   "source": [
    "@my_logger\n",
    "@my_timer\n",
    "def display_info(name, age):\n",
    "    print('display_info ran with arguments ({}, {})'.format(name, age))\n",
    "\n",
    "display_info('Tom', 22)"
   ]
  },
  {
   "cell_type": "code",
   "execution_count": 2,
   "metadata": {},
   "outputs": [
    {
     "output_type": "stream",
     "name": "stdout",
     "text": [
      "display_info ran with arguments (Tom Pythonovitch, 50)\ndisplay_info ran in: 0.0 sec\n"
     ]
    }
   ],
   "source": [
    "# Decorators\n",
    "from functools import wraps\n",
    "\n",
    "\n",
    "def my_logger(orig_func):\n",
    "    import logging\n",
    "    logging.basicConfig(filename='{}.log'.format(orig_func.__name__), level=logging.INFO)\n",
    "    @wraps(orig_func)\n",
    "    def wrapper(*args, **kwargs):\n",
    "        logging.info(\n",
    "            'Ran with args: {}, and kwargs: {}'.format(args, kwargs))\n",
    "        return orig_func(*args, **kwargs)\n",
    "    return wrapper\n",
    "\n",
    "\n",
    "def my_timer(orig_func):\n",
    "    import time\n",
    "    @wraps(orig_func)\n",
    "    def wrapper(*args, **kwargs):\n",
    "        t1 = time.time()\n",
    "        result = orig_func(*args, **kwargs)\n",
    "        t2 = time.time() - t1\n",
    "        print('{} ran in: {} sec'.format(orig_func.__name__, t2))\n",
    "        return result\n",
    "    return wrapper\n",
    "\n",
    "\n",
    "@my_logger\n",
    "@my_timer\n",
    "def display_info(name, age):\n",
    "    print('display_info ran with arguments ({}, {})'.format(name, age))\n",
    "\n",
    "display_info('Tom Pythonovitch', 50)"
   ]
  },
  {
   "cell_type": "code",
   "execution_count": 14,
   "metadata": {},
   "outputs": [
    {
     "output_type": "stream",
     "name": "stdout",
     "text": [
      "The price of a pizza slice: \nonly pizza: 5.0 ₪\npizza + mozzarella: 8.5 ₪\npizza + olives: 7.0 ₪\npizza+ onion + mozzarella + olives: 12.75 ₪\n"
     ]
    }
   ],
   "source": [
    "\n",
    "\n",
    "def mozzarella(pizza) -> float:\n",
    "    #@wraps()\n",
    "    def wrapper(*args, **kwargs):\n",
    "        return pizza()+3.5\n",
    "    return wrapper\n",
    "\n",
    "def onion(pizza) -> float:\n",
    "    #@wraps()\n",
    "    def wrapper(*args, **kwargs):\n",
    "        return pizza()+2.25\n",
    "    return wrapper\n",
    "\n",
    "def olives(pizza) -> float:\n",
    "    #@wraps()\n",
    "    def wrapper(*args, **kwargs):\n",
    "        return pizza()+2.0\n",
    "    return wrapper\n",
    "\n",
    "def pizza()->float:\n",
    "    \"\"\"Returns the price of a pizza slice \"\"\"\n",
    "    return 5.0\n",
    "\n",
    "print(\"The price of a pizza slice: \")\n",
    "print(f\"only pizza: {pizza()} ₪\")\n",
    "print(f\"pizza + mozzarella: {mozzarella(pizza)()} ₪\")\n",
    "print(f\"pizza + olives: {olives(pizza)()} ₪\")\n",
    "print(f\"pizza+ onion + mozzarella + olives: {olives(mozzarella(onion(pizza)))()} ₪\")"
   ]
  },
  {
   "cell_type": "code",
   "execution_count": null,
   "metadata": {},
   "outputs": [],
   "source": []
  }
 ]
}