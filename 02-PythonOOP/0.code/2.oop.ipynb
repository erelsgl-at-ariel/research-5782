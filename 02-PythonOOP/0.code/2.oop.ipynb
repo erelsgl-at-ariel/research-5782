{
 "cells": [
  {
   "cell_type": "markdown",
   "metadata": {},
   "source": [
    "## Classes in Python"
   ]
  },
  {
   "cell_type": "code",
   "execution_count": 1,
   "metadata": {},
   "outputs": [],
   "source": [
    "class EmptyClass:\n",
    "    pass"
   ]
  },
  {
   "cell_type": "markdown",
   "metadata": {},
   "source": [
    "In Python, you do not have to define \"member fields\":"
   ]
  },
  {
   "cell_type": "code",
   "execution_count": 7,
   "metadata": {},
   "outputs": [
    {
     "name": "stdout",
     "output_type": "stream",
     "text": [
      "Kookoo species: Gallus gallus\n",
      "Dog species: Canis familiaris\n",
      "Rexi species: Canis familiaris\n",
      "xyz\n"
     ]
    }
   ],
   "source": [
    "class Dog:\n",
    "    # CONSTRUCTOR: object (non-static) attributes are defined here:\n",
    "    def __init__(self, name:str, age:int, gender:str = 'male'):\n",
    "        self.name = name\n",
    "        self.age = age\n",
    "        self.gender = gender\n",
    "\n",
    "    # class (\"static\") attribute is defined outside the functions:\n",
    "    species = \"Canis familiaris\"\n",
    "\n",
    "\n",
    "rexi = Dog(\"Rexi\", 3)\n",
    "kookoo = Dog(\"Kookoo\", 0.5)\n",
    "kookoo.species = \"Gallus gallus\"\n",
    "print(f\"Kookoo species: {kookoo.species}\")\n",
    "print(f\"Dog species: {Dog.species}\")\n",
    "print(f\"Rexi species: {rexi.species}\")\n",
    "rexi.xyz = \"xyz\" # create a custom field\n",
    "print(rexi.xyz)\n",
    "# print(kookoo.xyz) # Error"
   ]
  },
  {
   "cell_type": "code",
   "execution_count": 8,
   "metadata": {},
   "outputs": [],
   "source": [
    "class Dog:\n",
    "    species = \"Canis familiaris\"\n",
    "\n",
    "    def __init__(self, name, age , gender='male'):\n",
    "        self.name = name\n",
    "        self.age = age\n",
    "        self.gender= gender\n",
    "\n",
    "    # Instance method\n",
    "    def description(self):\n",
    "        return f\"{self.name} is {self.age} years old\"\n",
    "\n",
    "    # Another instance method\n",
    "    def speak(self, sound):\n",
    "        return f\"{self.name} says: {sound}\""
   ]
  },
  {
   "cell_type": "code",
   "execution_count": 10,
   "metadata": {},
   "outputs": [
    {
     "name": "stdout",
     "output_type": "stream",
     "text": [
      "Rexi is 3 years old\n",
      "Rexi says: I'm a dog, I can't speak!\n"
     ]
    }
   ],
   "source": [
    "rexi = Dog(\"Rexi\", 3)\n",
    "print(rexi.description())\n",
    "print(rexi.speak(\"I'm a dog, I can't speak!\"))"
   ]
  },
  {
   "cell_type": "code",
   "execution_count": 14,
   "metadata": {},
   "outputs": [
    {
     "name": "stdout",
     "output_type": "stream",
     "text": [
      ">:-) whahaha\n",
      "You have infected all the dogs in the world!\n",
      "Experiment X species: Felis silvestris\n",
      "Guffy species: Felis silvestris\n",
      ">:-) whahaha\n",
      "You have infected all the dogs in the world!\n",
      "Experiment X species: Felix 2\n",
      "Guffy species: Felix 2\n"
     ]
    }
   ],
   "source": [
    "# classmethod gets has the class as parameter ('cls') instead of the object ('self')\n",
    "\n",
    "class Dog:\n",
    "    species = \"Canis familiaris\"\n",
    "\n",
    "    def __init__(self, name, age , gender='male'):\n",
    "        self.name = name\n",
    "        self.age = age\n",
    "        self.gender= gender\n",
    "\n",
    "    def mutation(cls, new_species):\n",
    "        cls.species = new_species\n",
    "\n",
    "    @classmethod\n",
    "    def contagious_mutation(cls, new_species):\n",
    "        cls.species = new_species\n",
    "        print('>:-) whahaha')\n",
    "        print('You have infected all the dogs in the world!')  \n",
    "\n",
    "guffy= Dog('Guffy',2)\n",
    "catdog_mutation = Dog(\"Experiment X\",0.2,gender='unknown')\n",
    "\n",
    "catdog_mutation.contagious_mutation('Felis silvestris')\n",
    "print(f\"Experiment X species: {catdog_mutation.species}\")\n",
    "print(f\"Guffy species: {guffy.species}\")\n",
    "\n",
    "Dog.contagious_mutation('Felix 2') # We can call classmethod from the class itself, without an object\n",
    "print(f\"Experiment X species: {catdog_mutation.species}\")\n",
    "print(f\"Guffy species: {guffy.species}\")"
   ]
  },
  {
   "cell_type": "code",
   "execution_count": 21,
   "metadata": {},
   "outputs": [],
   "source": [
    "# staticmethod does gets neither the class nor the object.\n",
    "\n",
    "class Maze:\n",
    "    @staticmethod\n",
    "    def get_predetermined_maze():\n",
    "        return  f\"\"\"\n",
    "            # # # # # # # # # # # # # # #\n",
    "            # S                     #   #\n",
    "            #         #             #   #\n",
    "            # # # #             #   #   #\n",
    "            #                   #   #   #\n",
    "            #               # # # # #   #\n",
    "            #                           #\n",
    "            #                           #\n",
    "            # # # # # #       # # # #   #\n",
    "            #                         E #\n",
    "            # # # # # # # # # # # # # # #\n",
    "        \"\"\"\n",
    "    @staticmethod\n",
    "    def maze_solver(maze:str)-> str:       \n",
    "        #TODO: implement maze solver using BFS\n",
    "        pass\n",
    "    \n",
    "    @staticmethod \n",
    "    def maze_generator()->str:\n",
    "        #TODO: implement the maze generator using prim \n",
    "        pass\n",
    "\n"
   ]
  },
  {
   "cell_type": "code",
   "execution_count": 22,
   "metadata": {},
   "outputs": [
    {
     "name": "stdout",
     "output_type": "stream",
     "text": [
      "\n",
      "            # # # # # # # # # # # # # # #\n",
      "            # S                     #   #\n",
      "            #         #             #   #\n",
      "            # # # #             #   #   #\n",
      "            #                   #   #   #\n",
      "            #               # # # # #   #\n",
      "            #                           #\n",
      "            #                           #\n",
      "            # # # # # #       # # # #   #\n",
      "            #                         E #\n",
      "            # # # # # # # # # # # # # # #\n",
      "        \n"
     ]
    }
   ],
   "source": [
    "print(Maze.get_predetermined_maze())"
   ]
  },
  {
   "cell_type": "markdown",
   "metadata": {},
   "source": [
    "## Inheritance"
   ]
  },
  {
   "cell_type": "code",
   "execution_count": 23,
   "metadata": {},
   "outputs": [
    {
     "name": "stdout",
     "output_type": "stream",
     "text": [
      "is volvo an instance of Car? True\n",
      "is volvo an instance of Vehicle? True\n",
      "is Vehicle a subclass of Car? False\n",
      "is Car a subclass of Vehicle? True\n"
     ]
    }
   ],
   "source": [
    "class Vehicle:\n",
    "    pass\n",
    " \n",
    "class Car(Vehicle):\n",
    "    pass\n",
    "\n",
    "volvo = Car()\n",
    "#isinstance\n",
    "print(f\"is volvo an instance of Car? {isinstance(volvo, Car)}\")\n",
    "print(f\"is volvo an instance of Vehicle? {isinstance(volvo, Vehicle)}\")\n",
    "\n",
    "#issubclass\n",
    "print(f\"is Vehicle a subclass of Car? {issubclass(Vehicle, Car)}\")\n",
    "print(f\"is Car a subclass of Vehicle? {issubclass(Car, Vehicle)}\")"
   ]
  },
  {
   "cell_type": "code",
   "execution_count": 25,
   "metadata": {},
   "outputs": [
    {
     "data": {
      "text/plain": [
       "True"
      ]
     },
     "execution_count": 25,
     "metadata": {},
     "output_type": "execute_result"
    }
   ],
   "source": [
    "# Everything is a subclass of object\n",
    "issubclass(int, object)"
   ]
  },
  {
   "cell_type": "markdown",
   "metadata": {},
   "source": [
    "### Calling parent methods"
   ]
  },
  {
   "cell_type": "code",
   "execution_count": 34,
   "metadata": {},
   "outputs": [],
   "source": [
    "class Country():\n",
    "    def capital(self): \n",
    "        return \"{} is the the capital of {}\"\n",
    "   \n",
    "    def language(self): \n",
    "        return \"{} is the the language of {}\"\n",
    "   \n",
    "    def population(self): \n",
    "        pass\n",
    "\n",
    "class Usa(Country):  \n",
    "    def capital(self): \n",
    "        # Method 1 - use super():\n",
    "        return super().capital().format(\"Washington, D.C.\",\"USA\") \n",
    "   \n",
    "    def language(self): \n",
    "        # Method 2 - use parent class name, and pass 'self' as argument:\n",
    "        return Country.language(self).format(\"English\",\"USA\") \n",
    "   \n",
    "    def population(self): \n",
    "        return '~328,239,523'"
   ]
  },
  {
   "cell_type": "code",
   "execution_count": 33,
   "metadata": {},
   "outputs": [
    {
     "name": "stdout",
     "output_type": "stream",
     "text": [
      "USA:\n",
      "Capital: Washington, D.C. is the the capital of USA\n",
      "language: English is the the language of USA\n",
      "population: ~328,239,523\n"
     ]
    }
   ],
   "source": [
    "usa= Usa()\n",
    "print(\"USA:\")\n",
    "print(f\"Capital: {usa.capital()}\")\n",
    "print(f\"language: {usa.language()}\")\n",
    "print(f\"population: {usa.population()}\")"
   ]
  },
  {
   "cell_type": "markdown",
   "metadata": {},
   "source": [
    "## Multiple inheritance"
   ]
  },
  {
   "cell_type": "code",
   "execution_count": 30,
   "metadata": {},
   "outputs": [
    {
     "name": "stdout",
     "output_type": "stream",
     "text": [
      "My name is class B\n"
     ]
    },
    {
     "data": {
      "text/plain": [
       "(__main__.C, __main__.B, __main__.A, object)"
      ]
     },
     "execution_count": 30,
     "metadata": {},
     "output_type": "execute_result"
    }
   ],
   "source": [
    "class A:\n",
    "    def my_name(self):\n",
    "        print(\"My name is class A\")\n",
    "\n",
    "class B:\n",
    "    def my_name(self):\n",
    "        print(\"My name is class B\")\n",
    "\n",
    "class C(A,B):\n",
    "    pass\n",
    "\n",
    "c= C()\n",
    "c.my_name()\n",
    "C.__mro__  # Method Resolution Order"
   ]
  },
  {
   "cell_type": "code",
   "execution_count": 36,
   "metadata": {},
   "outputs": [
    {
     "name": "stdout",
     "output_type": "stream",
     "text": [
      "My name is class B\n",
      "My name is class A\n"
     ]
    }
   ],
   "source": [
    "class C(A,B):\n",
    "    def my_name(self):\n",
    "        B.my_name(self)\n",
    "        A.my_name(self)\n",
    "\n",
    "C().my_name()"
   ]
  },
  {
   "cell_type": "markdown",
   "metadata": {},
   "source": [
    "## \"Private\" fields\n",
    "\n",
    "In a Python class, all fields are public. "
   ]
  },
  {
   "cell_type": "code",
   "execution_count": 37,
   "metadata": {},
   "outputs": [],
   "source": [
    "class BallotBox:\n",
    "    def __init__(self, parties):\n",
    "        self.candidates = dict(parties)\n",
    "        self.voters = {}\n",
    "    \n",
    "    def add_a_vote(self, voter_id, candidate):\n",
    "        \"\"\"Adds new vote to the ballot box \"\"\"\n",
    "        if voter_id in self.voters:\n",
    "            raise ValueError(f\"Voter {voter_id} has already voted >:-(\")\n",
    "        if candidate not in self.candidates:\n",
    "            raise ValueError(f\"Candidate {candidate} not found >:-(\")\n",
    "        self.candidates[candidate] +=1\n",
    "        self.voters[voter_id] = True\n",
    "        print(\"Thank you for voting :-)\")\n",
    "    \n",
    "    def mina_zemach(self):\n",
    "        \"\"\"Shows the Election poll\"\"\"\n",
    "        print('\\nMina Zemach election poll:')\n",
    "        for key,value in self.candidates.items():\n",
    "            print(f\"The party '{key}' has {value:,} votes\")\n"
   ]
  },
  {
   "cell_type": "code",
   "execution_count": 38,
   "metadata": {},
   "outputs": [
    {
     "name": "stdout",
     "output_type": "stream",
     "text": [
      "\n",
      "Mina Zemach election poll:\n",
      "The party 'Bibi something' has 1,000,000 votes\n",
      "The party 'Lapid something' has 0 votes\n",
      "The party 'To right' has 0 votes\n",
      "The party 'The work' has 0 votes\n",
      "The party 'vigor' has 0 votes\n"
     ]
    }
   ],
   "source": [
    "parties= {\n",
    "    'Bibi something':0,\n",
    "    'Lapid something':0,\n",
    "    'To right':0,\n",
    "    'The work':0,\n",
    "    'vigor' : 0\n",
    "}\n",
    "ballot_box = BallotBox(parties)\n",
    "ballot_box.candidates['Bibi something'] =1000000\n",
    "ballot_box.mina_zemach()"
   ]
  },
  {
   "cell_type": "code",
   "execution_count": 50,
   "metadata": {},
   "outputs": [],
   "source": [
    "class BallotBox:\n",
    "    def __init__(self, parties, name):\n",
    "        self.__candidates = dict(parties) \n",
    "        self.__voters = {}\n",
    "        self.name = name\n",
    "    \n",
    "    def add_a_vote(self, voter_id,candidate):\n",
    "        \"\"\"Adds new vote to the ballot box \"\"\"\n",
    "        if(not voter_id in self.__voters) and candidate in self.__candidates:\n",
    "            self.__candidates[candidate] +=1\n",
    "            self.__voters[voter_id] = True\n",
    "            print(\"Thank you for voting :-)\")\n",
    "        else: \n",
    "            print(\"Voter has already voted >:-(\")\n",
    "    \n",
    "    def __the_greatest_party(self):\n",
    "        \"\"\"returns the greatest party in the ballot box \"\"\"\n",
    "        import operator\n",
    "        greatest_party= max(self.__candidates.items(), key=operator.itemgetter(1))[0]\n",
    "        return greatest_party    \n",
    "\n",
    "    def mina_zemach(self):\n",
    "        \"\"\"Shows the Election poll\"\"\"\n",
    "        greatest_party = self.__the_greatest_party()\n",
    "        print('\\nMina Zemach election poll:')\n",
    "        for key,value in self.__candidates.items():\n",
    "            # print the greatest party with yellow\n",
    "            # the colors where taken form: \n",
    "            # https://svn.blender.org/svnroot/bf-blender/trunk/blender/build_files/scons/tools/bcolors.py\n",
    "            if key == greatest_party:\n",
    "                print(f\"The party '\\033[93m{key}\\033[0m' has {value:,} votes\")\n",
    "            else: print(f\"The party '{key}' has {value:,} votes\")\n",
    "    \n",
    "    def add_a_candidate(self,name):\n",
    "        \"\"\"Adds new party to the ballot box \"\"\"\n",
    "        if not name in self.__candidates:\n",
    "            self.__candidates[name] = 0\n",
    "        else: print(\"The party is already running\")"
   ]
  },
  {
   "cell_type": "code",
   "execution_count": 51,
   "metadata": {},
   "outputs": [
    {
     "name": "stdout",
     "output_type": "stream",
     "text": [
      "Thank you for voting :-)\n",
      "Thank you for voting :-)\n",
      "Voter has already voted >:-(\n",
      "\n",
      "Mina Zemach election poll:\n",
      "The party '\u001b[93mBibi something\u001b[0m' has 1 votes\n",
      "The party 'To right' has 0 votes\n",
      "The party 'The work' has 1 votes\n",
      "The party 'Lapid something' has 0 votes\n",
      "The party 'vigor' has 0 votes\n",
      "The party 'Halad balad' has 0 votes\n",
      "The party 'Haredim la athid' has 0 votes\n"
     ]
    }
   ],
   "source": [
    "parties= {\n",
    "    'Bibi something':0,\n",
    "    'To right':0,\n",
    "    'The work':0,\n",
    "    'Lapid something':0,\n",
    "    'vigor' : 0\n",
    "}\n",
    "ballot_box = BallotBox(parties,name='TLV')\n",
    "ballot_box.add_a_candidate(\"Halad balad\")\n",
    "ballot_box.add_a_candidate(\"Haredim la athid\")\n",
    "ballot_box.add_a_vote(voter_id=\"1234\",candidate='The work')\n",
    "ballot_box.add_a_vote(voter_id='22222',candidate='Bibi something')\n",
    "ballot_box.add_a_vote(voter_id=\"1234\",candidate='vigor')\n",
    "#ballot_box.__candidates['Bibi something'] =1000000   # AttributeError\n",
    "ballot_box.mina_zemach()"
   ]
  },
  {
   "cell_type": "code",
   "execution_count": 52,
   "metadata": {},
   "outputs": [
    {
     "data": {
      "text/plain": [
       "['_BallotBox__candidates',\n",
       " '_BallotBox__the_greatest_party',\n",
       " '_BallotBox__voters',\n",
       " '__class__',\n",
       " '__delattr__',\n",
       " '__dict__',\n",
       " '__dir__',\n",
       " '__doc__',\n",
       " '__eq__',\n",
       " '__format__',\n",
       " '__ge__',\n",
       " '__getattribute__',\n",
       " '__gt__',\n",
       " '__hash__',\n",
       " '__init__',\n",
       " '__init_subclass__',\n",
       " '__le__',\n",
       " '__lt__',\n",
       " '__module__',\n",
       " '__ne__',\n",
       " '__new__',\n",
       " '__reduce__',\n",
       " '__reduce_ex__',\n",
       " '__repr__',\n",
       " '__setattr__',\n",
       " '__sizeof__',\n",
       " '__str__',\n",
       " '__subclasshook__',\n",
       " '__weakref__',\n",
       " 'add_a_candidate',\n",
       " 'add_a_vote',\n",
       " 'mina_zemach',\n",
       " 'name']"
      ]
     },
     "execution_count": 52,
     "metadata": {},
     "output_type": "execute_result"
    }
   ],
   "source": [
    "dir(ballot_box)"
   ]
  },
  {
   "cell_type": "code",
   "execution_count": 45,
   "metadata": {},
   "outputs": [
    {
     "name": "stdout",
     "output_type": "stream",
     "text": [
      ">:-) whahaha: \n",
      "\n",
      "Mina Zemach election poll:\n",
      "The party '\u001b[93mBibi something\u001b[0m' has 1,000,000,001 votes\n",
      "The party 'To right' has 0 votes\n",
      "The party 'The work' has 1 votes\n",
      "The party 'Lapid something' has 0 votes\n",
      "The party 'vigor' has 0 votes\n",
      "The party 'Halad balad' has 0 votes\n",
      "The party 'Haredim la athid' has 0 votes\n"
     ]
    }
   ],
   "source": [
    "print(\">:-) whahaha: \")\n",
    "ballot_box._BallotBox__candidates[\"Bibi something\"] += 1000000000\n",
    "ballot_box.mina_zemach()"
   ]
  },
  {
   "cell_type": "code",
   "execution_count": 53,
   "metadata": {},
   "outputs": [
    {
     "name": "stdout",
     "output_type": "stream",
     "text": [
      "what are you doing in A private function?!\n",
      "*What are you doing in B private function?!\n"
     ]
    },
    {
     "data": {
      "text/plain": [
       "['_A__private_function',\n",
       " '_B__private_function',\n",
       " '__class__',\n",
       " '__delattr__',\n",
       " '__dict__',\n",
       " '__dir__',\n",
       " '__doc__',\n",
       " '__eq__',\n",
       " '__format__',\n",
       " '__ge__',\n",
       " '__getattribute__',\n",
       " '__gt__',\n",
       " '__hash__',\n",
       " '__init__',\n",
       " '__init_subclass__',\n",
       " '__le__',\n",
       " '__lt__',\n",
       " '__module__',\n",
       " '__ne__',\n",
       " '__new__',\n",
       " '__reduce__',\n",
       " '__reduce_ex__',\n",
       " '__repr__',\n",
       " '__setattr__',\n",
       " '__sizeof__',\n",
       " '__str__',\n",
       " '__subclasshook__',\n",
       " '__weakref__',\n",
       " 'public_function']"
      ]
     },
     "execution_count": 53,
     "metadata": {},
     "output_type": "execute_result"
    }
   ],
   "source": [
    "class A:\n",
    "    def __private_function(self):\n",
    "        print(\"what are you doing in A private function?!\")\n",
    "    def public_function(self):\n",
    "        print(\"welcome\")\n",
    "class B(A):\n",
    "    def __private_function(self):\n",
    "        print(\"*What are you doing in B private function?!\")\n",
    "    def public_function(self):\n",
    "        print(\"*Welcome\")\n",
    "b= B()\n",
    "b._A__private_function()\n",
    "b._B__private_function()\n",
    "dir(B)"
   ]
  },
  {
   "cell_type": "markdown",
   "metadata": {},
   "source": [
    "## Abstract method"
   ]
  },
  {
   "cell_type": "code",
   "execution_count": 57,
   "metadata": {},
   "outputs": [
    {
     "ename": "TypeError",
     "evalue": "Can't instantiate abstract class Shape with abstract method area",
     "output_type": "error",
     "traceback": [
      "\u001b[1;31m---------------------------------------------------------------------------\u001b[0m",
      "\u001b[1;31mTypeError\u001b[0m                                 Traceback (most recent call last)",
      "\u001b[1;32md:\\Dropbox\\ariel-research\\research-5782\\02-PythonOOP\\0.code\\2.oop.ipynb Cell 28'\u001b[0m in \u001b[0;36m<module>\u001b[1;34m\u001b[0m\n\u001b[0;32m      <a href='vscode-notebook-cell:/d%3A/Dropbox/ariel-research/research-5782/02-PythonOOP/0.code/2.oop.ipynb#ch0000031?line=2'>3</a>\u001b[0m    \u001b[39m@abstractmethod\u001b[39m\n\u001b[0;32m      <a href='vscode-notebook-cell:/d%3A/Dropbox/ariel-research/research-5782/02-PythonOOP/0.code/2.oop.ipynb#ch0000031?line=3'>4</a>\u001b[0m    \u001b[39mdef\u001b[39;00m \u001b[39marea\u001b[39m(\u001b[39mself\u001b[39m):\n\u001b[0;32m      <a href='vscode-notebook-cell:/d%3A/Dropbox/ariel-research/research-5782/02-PythonOOP/0.code/2.oop.ipynb#ch0000031?line=4'>5</a>\u001b[0m       \u001b[39mpass\u001b[39;00m\n\u001b[1;32m----> <a href='vscode-notebook-cell:/d%3A/Dropbox/ariel-research/research-5782/02-PythonOOP/0.code/2.oop.ipynb#ch0000031?line=6'>7</a>\u001b[0m shape \u001b[39m=\u001b[39m Shape()\n\u001b[0;32m      <a href='vscode-notebook-cell:/d%3A/Dropbox/ariel-research/research-5782/02-PythonOOP/0.code/2.oop.ipynb#ch0000031?line=7'>8</a>\u001b[0m shape\u001b[39m.\u001b[39marea()\n",
      "\u001b[1;31mTypeError\u001b[0m: Can't instantiate abstract class Shape with abstract method area"
     ]
    }
   ],
   "source": [
    "import abc \n",
    "class Shape(abc.ABC):\n",
    "   @abc.abstractmethod\n",
    "   def area(self):\n",
    "      pass\n",
    "\n",
    "shape = Shape()\n",
    "shape.area()              #==> TypeError"
   ]
  },
  {
   "cell_type": "markdown",
   "metadata": {},
   "source": [
    "## Getters and setters"
   ]
  },
  {
   "cell_type": "code",
   "execution_count": 67,
   "metadata": {},
   "outputs": [
    {
     "name": "stdout",
     "output_type": "stream",
     "text": [
      "Rec1: height=5 , width = 7[m] \n",
      " *  *  *  *  *  *  *  *  * \n",
      "\n",
      " *                       * \n",
      "\n",
      " *                       * \n",
      "\n",
      " *                       * \n",
      "\n",
      " *  *  *  *  *  *  *  *  * \n",
      "\n",
      "Rec2: height=5 , width = 4[m] \n",
      " *  *  *  *  *  * \n",
      "\n",
      " *              * \n",
      "\n",
      " *              * \n",
      "\n",
      " *              * \n",
      "\n",
      " *  *  *  *  *  * \n",
      "\n"
     ]
    }
   ],
   "source": [
    "class Rectangle:\n",
    "    def __init__(self , new_height , new_width):\n",
    "        self._height = new_height   # _height with one underscore - tells the reader to treat it as \"private\".\n",
    "        self._width = new_width\n",
    "\n",
    "    @property  # getter\n",
    "    def height(self):\n",
    "        return self._height\n",
    "\n",
    "    @property\n",
    "    def width(self):\n",
    "        return f\"{self._width}[m]\"\n",
    "\n",
    "    @height.setter\n",
    "    def height(self, other):\n",
    "        if other > 0:\n",
    "            self._height = other\n",
    "        else: \n",
    "            raise ValueError(\"Invalid input- negative value for height\")\n",
    "\n",
    "    @width.setter\n",
    "    def width(self, other):\n",
    "        if other > 0 :\n",
    "            self._width = other\n",
    "        else: \n",
    "            raise ValueError(\"Invalid input- negative value for width\")\n",
    "    \n",
    "    def draw_rectangle(self):\n",
    "        \"\"\" drawing the rectangle acording to its height and width\"\"\"\n",
    "        height = self._height\n",
    "        width = self._width\n",
    "        for h in range(height):\n",
    "            square = ' * '\n",
    "            for w in range(width):\n",
    "                if h == 0 or h == height -1 :\n",
    "                    square = square + ' * '\n",
    "                else: square += '   '\n",
    "            square = square +  ' * '\n",
    "            square  = square + '\\n'\n",
    "            print(square)\n",
    "\n",
    "rectangle = Rectangle(5, 7)\n",
    "print(f\"Rec1: height={rectangle.height} , width = {rectangle.width} \")\n",
    "rectangle.draw_rectangle()\n",
    "rectangle.width = 4\n",
    "print(f\"Rec2: height={rectangle.height} , width = {rectangle.width} \")\n",
    "rectangle.draw_rectangle()"
   ]
  },
  {
   "cell_type": "code",
   "execution_count": 69,
   "metadata": {},
   "outputs": [
    {
     "ename": "ValueError",
     "evalue": "Invalid input- negative value for height",
     "output_type": "error",
     "traceback": [
      "\u001b[1;31m---------------------------------------------------------------------------\u001b[0m",
      "\u001b[1;31mValueError\u001b[0m                                Traceback (most recent call last)",
      "\u001b[1;32md:\\Dropbox\\ariel-research\\research-5782\\02-PythonOOP\\0.code\\2.oop.ipynb Cell 31'\u001b[0m in \u001b[0;36m<module>\u001b[1;34m\u001b[0m\n\u001b[1;32m----> <a href='vscode-notebook-cell:/d%3A/Dropbox/ariel-research/research-5782/02-PythonOOP/0.code/2.oop.ipynb#ch0000034?line=0'>1</a>\u001b[0m rectangle\u001b[39m.\u001b[39mheight \u001b[39m=\u001b[39m \u001b[39m-\u001b[39m\u001b[39m1\u001b[39m\n",
      "\u001b[1;32md:\\Dropbox\\ariel-research\\research-5782\\02-PythonOOP\\0.code\\2.oop.ipynb Cell 30'\u001b[0m in \u001b[0;36mRectangle.height\u001b[1;34m(self, other)\u001b[0m\n\u001b[0;32m     <a href='vscode-notebook-cell:/d%3A/Dropbox/ariel-research/research-5782/02-PythonOOP/0.code/2.oop.ipynb#ch0000033?line=16'>17</a>\u001b[0m     \u001b[39mself\u001b[39m\u001b[39m.\u001b[39m_height \u001b[39m=\u001b[39m other\n\u001b[0;32m     <a href='vscode-notebook-cell:/d%3A/Dropbox/ariel-research/research-5782/02-PythonOOP/0.code/2.oop.ipynb#ch0000033?line=17'>18</a>\u001b[0m \u001b[39melse\u001b[39;00m: \n\u001b[1;32m---> <a href='vscode-notebook-cell:/d%3A/Dropbox/ariel-research/research-5782/02-PythonOOP/0.code/2.oop.ipynb#ch0000033?line=18'>19</a>\u001b[0m     \u001b[39mraise\u001b[39;00m \u001b[39mValueError\u001b[39;00m(\u001b[39m\"\u001b[39m\u001b[39mInvalid input- negative value for height\u001b[39m\u001b[39m\"\u001b[39m)\n",
      "\u001b[1;31mValueError\u001b[0m: Invalid input- negative value for height"
     ]
    }
   ],
   "source": [
    "rectangle.height = -1 # ==> Error"
   ]
  },
  {
   "cell_type": "code",
   "execution_count": 70,
   "metadata": {},
   "outputs": [],
   "source": [
    "# Another example of a property:\n",
    "\n",
    "class Person:\n",
    "    def __init__(self, first_name , last_name):\n",
    "        self.first_name= first_name\n",
    "        self.last_name = last_name\n",
    "        self.full_name = f\"{self.first_name} {self.last_name}\" "
   ]
  },
  {
   "cell_type": "code",
   "execution_count": 71,
   "metadata": {},
   "outputs": [
    {
     "name": "stdout",
     "output_type": "stream",
     "text": [
      "Tammi Javansky\n",
      "Tammi Javansky\n"
     ]
    }
   ],
   "source": [
    "tammi = Person(\"Tammi\", \"Javansky\")\n",
    "print(tammi.full_name)\n",
    "tammi.last_name = \"Pythonovitch\"\n",
    "print(tammi.full_name) # => should be Tammi Pythonovitch"
   ]
  },
  {
   "cell_type": "code",
   "execution_count": 72,
   "metadata": {},
   "outputs": [],
   "source": [
    "class Person:\n",
    "    def __init__(self, first_name , last_name):\n",
    "        self.first_name= first_name\n",
    "        self.last_name = last_name\n",
    "    @property\n",
    "    def full_name(self):\n",
    "        return f\"{self.first_name} {self.last_name}\" "
   ]
  },
  {
   "cell_type": "code",
   "execution_count": 76,
   "metadata": {},
   "outputs": [
    {
     "name": "stdout",
     "output_type": "stream",
     "text": [
      "Tammi Javansky\n",
      "Tammi Pythonovitch\n"
     ]
    }
   ],
   "source": [
    "tammi = Person(\"Tammi\", \"Javansky\")\n",
    "print(tammi.full_name)\n",
    "tammi.last_name = \"Pythonovitch\"\n",
    "print(tammi.full_name) # => should be Tammi Pythonovitch\n",
    "# tammi.full_name = \"abc\" # Error - no setter"
   ]
  }
 ],
 "metadata": {
  "kernelspec": {
   "display_name": "Python 3",
   "language": "python",
   "name": "python3"
  },
  "language_info": {
   "codemirror_mode": {
    "name": "ipython",
    "version": 3
   },
   "file_extension": ".py",
   "mimetype": "text/x-python",
   "name": "python",
   "nbconvert_exporter": "python",
   "pygments_lexer": "ipython3",
   "version": "3.10.2"
  },
  "orig_nbformat": 2
 },
 "nbformat": 4,
 "nbformat_minor": 2
}
