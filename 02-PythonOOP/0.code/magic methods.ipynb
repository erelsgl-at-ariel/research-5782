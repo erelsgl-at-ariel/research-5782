{
 "metadata": {
  "language_info": {
   "codemirror_mode": {
    "name": "ipython",
    "version": 3
   },
   "file_extension": ".py",
   "mimetype": "text/x-python",
   "name": "python",
   "nbconvert_exporter": "python",
   "pygments_lexer": "ipython3",
   "version": "3.6.6-final"
  },
  "orig_nbformat": 2,
  "kernelspec": {
   "name": "python3",
   "display_name": "Python 3",
   "language": "python"
  }
 },
 "nbformat": 4,
 "nbformat_minor": 2,
 "cells": [
  {
   "cell_type": "code",
   "execution_count": 10,
   "metadata": {},
   "outputs": [],
   "source": [
    "class Gymatria:\n",
    "\n",
    "    _aleph_beth = None\n",
    "    \n",
    "    def __init__(self,expression:str) -> None:\n",
    "        self._expr = expression\n",
    "        self._expr_value = Gymatria.get_value(expression)\n",
    "    \n",
    "    @property\n",
    "    def expr_value(self)->int:\n",
    "        return self._expr_value\n",
    "    @property\n",
    "    def expr(self) -> str:\n",
    "        return self._expr\n",
    "    @property \n",
    "    def aleph_beth(self):\n",
    "        return Gymatria.get_aleph_beth()\n",
    "    \n",
    "    def __add__(self , other) -> int:\n",
    "        return self.expr_value + other.expr_value\n",
    "\n",
    "    def __sub__(self , other) -> int:\n",
    "        return abs(self.expr_value - other.expr_value)\n",
    "    \n",
    "    def __mul__(self , other) -> int:\n",
    "        return self.expr_value * other.expr_value\n",
    "    \n",
    "    def __repr__(self) -> str:\n",
    "        return f\"{self.expr} בגימטריה זה: {self.expr_value}\"\n",
    "    \n",
    "    \n",
    "    @classmethod\n",
    "    def get_aleph_beth(cls):\n",
    "        if cls._aleph_beth == None:\n",
    "            cls._set_aleph_beth()\n",
    "        return cls.aleph_beth\n",
    "\n",
    "    @classmethod\n",
    "    def get_value(cls,expression:str) -> int:\n",
    "        aleph_beth = cls.get_aleph_beth()\n",
    "        expr_value = 0\n",
    "        for ot in expression:\n",
    "            if ord('א') <= ord(ot) <= ord('ת'):\n",
    "                expr_value += aleph_beth[ot]\n",
    "        return expr_value\n",
    "        \n",
    "    @classmethod\n",
    "    def ot_sofit(cls, ot: str)-> bool:\n",
    "        cls.otiot_sofiot = ['ץ','ך','ף','ן','ם']\n",
    "        if ot in cls.otiot_sofiot:\n",
    "            return True\n",
    "        return False\n",
    "    \n",
    "    @classmethod\n",
    "    def _set_aleph_beth(cls) -> None:\n",
    "        ot_num = ord('א')\n",
    "        cls.aleph_beth={}\n",
    "        val = 1\n",
    "        for i in range(27):\n",
    "            cls.aleph_beth[chr(ot_num+i)] = val\n",
    "            if not cls.ot_sofit(chr(ot_num+i)):\n",
    "                if 90 >= val >= 10:\n",
    "                    val+=10\n",
    "                elif val >= 100:\n",
    "                    val+= 100 \n",
    "                else: val+=1\n",
    "\n"
   ]
  },
  {
   "cell_type": "code",
   "execution_count": 11,
   "metadata": {},
   "outputs": [
    {
     "output_type": "stream",
     "name": "stdout",
     "text": [
      "אבא בגימטריה זה: 4\nאמא בגימטריה זה: 42\nאבא+אמא בגימטריה = 46\nאבא-אמא בגימטריה = 38\nאבא*אמא בגימטריה = 168\n"
     ]
    }
   ],
   "source": [
    "\n",
    "aba = Gymatria('אבא')\n",
    "aima = Gymatria('אמא')\n",
    "\n",
    "print(aba)\n",
    "print(aima)\n",
    "print(f'אבא+אמא בגימטריה = {aima+aba}')\n",
    "print(f'אבא-אמא בגימטריה = {aba-aima}')\n",
    "print(f'אבא*אמא בגימטריה = {aima*aba}')\n",
    "\n"
   ]
  },
  {
   "cell_type": "code",
   "execution_count": 12,
   "metadata": {},
   "outputs": [
    {
     "output_type": "stream",
     "name": "stdout",
     "text": [
      "something\n"
     ]
    }
   ],
   "source": [
    "class Empty:\n",
    "    pass\n",
    "empty = Empty()\n",
    "empty.something = \"something\"\n",
    "print(empty.something)"
   ]
  },
  {
   "cell_type": "code",
   "execution_count": 13,
   "metadata": {},
   "outputs": [
    {
     "output_type": "stream",
     "name": "stdout",
     "text": [
      "אבא אמא בגימטריה זה: 46\n"
     ]
    }
   ],
   "source": [
    "Gymatria.__iadd__= lambda self , other: Gymatria(self.expr+\" \"+other.expr)\n",
    "aba += aima\n",
    "print(aba)"
   ]
  },
  {
   "cell_type": "code",
   "execution_count": 14,
   "metadata": {},
   "outputs": [
    {
     "output_type": "stream",
     "name": "stdout",
     "text": [
      "__new__ method was executed\n"
     ]
    }
   ],
   "source": [
    "class AmIEmpty(Empty):\n",
    "    def __new__(cls):\n",
    "        print(\"__new__ method was executed\")\n",
    "        return None\n",
    "    def __init__(self):\n",
    "        print(\"__init__ method was executed\")\n",
    "    def a_method(self):\n",
    "        print(\"a_method was executed\")\n",
    "\n",
    "am_i_empty = AmIEmpty()"
   ]
  },
  {
   "cell_type": "code",
   "execution_count": 15,
   "metadata": {},
   "outputs": [
    {
     "output_type": "error",
     "ename": "AttributeError",
     "evalue": "'NoneType' object has no attribute 'a_method'",
     "traceback": [
      "\u001b[1;31m---------------------------------------------------------------------------\u001b[0m",
      "\u001b[1;31mAttributeError\u001b[0m                            Traceback (most recent call last)",
      "\u001b[1;32m<ipython-input-15-0bb7bf48eb32>\u001b[0m in \u001b[0;36m<module>\u001b[1;34m\u001b[0m\n\u001b[1;32m----> 1\u001b[1;33m \u001b[0mam_i_empty\u001b[0m\u001b[1;33m.\u001b[0m\u001b[0ma_method\u001b[0m\u001b[1;33m(\u001b[0m\u001b[1;33m)\u001b[0m  \u001b[1;31m# => AttributeError\u001b[0m\u001b[1;33m\u001b[0m\u001b[0m\n\u001b[0m",
      "\u001b[1;31mAttributeError\u001b[0m: 'NoneType' object has no attribute 'a_method'"
     ]
    }
   ],
   "source": [
    "am_i_empty.a_method()  # => AttributeError"
   ]
  },
  {
   "cell_type": "code",
   "execution_count": 16,
   "metadata": {},
   "outputs": [
    {
     "output_type": "stream",
     "name": "stdout",
     "text": [
      "__new__ method was executed\n__init__ method was executed\na_method was executed\n"
     ]
    }
   ],
   "source": [
    "class AmIEmpty(Empty):\r\n",
    "    def __new__(cls):\r\n",
    "        print(\"__new__ method was executed\")\r\n",
    "        return super(Empty, cls).__new__(cls)\r\n",
    "    def __init__(self):\r\n",
    "        print(\"__init__ method was executed\")\r\n",
    "    def a_method(self):\r\n",
    "        print(\"a_method was executed\")\r\n",
    "\r\n",
    "am_i_empty = AmIEmpty()\r\n",
    "am_i_empty.a_method()"
   ]
  },
  {
   "cell_type": "code",
   "execution_count": 17,
   "metadata": {},
   "outputs": [
    {
     "output_type": "stream",
     "name": "stdout",
     "text": [
      "[1, 2]\n"
     ]
    },
    {
     "output_type": "error",
     "ename": "NameError",
     "evalue": "name 'x' is not defined",
     "traceback": [
      "\u001b[1;31m---------------------------------------------------------------------------\u001b[0m",
      "\u001b[1;31mNameError\u001b[0m                                 Traceback (most recent call last)",
      "\u001b[1;32m<ipython-input-17-867c6f943e95>\u001b[0m in \u001b[0;36m<module>\u001b[1;34m\u001b[0m\n\u001b[0;32m      2\u001b[0m \u001b[0mprint\u001b[0m\u001b[1;33m(\u001b[0m\u001b[0mx\u001b[0m\u001b[1;33m)\u001b[0m\u001b[1;33m\u001b[0m\u001b[0m\n\u001b[0;32m      3\u001b[0m \u001b[1;32mdel\u001b[0m \u001b[0mx\u001b[0m\u001b[1;33m\u001b[0m\u001b[0m\n\u001b[1;32m----> 4\u001b[1;33m \u001b[0mprint\u001b[0m\u001b[1;33m(\u001b[0m\u001b[0mx\u001b[0m\u001b[1;33m)\u001b[0m \u001b[1;31m#=> NameError\u001b[0m\u001b[1;33m\u001b[0m\u001b[0m\n\u001b[0m",
      "\u001b[1;31mNameError\u001b[0m: name 'x' is not defined"
     ]
    }
   ],
   "source": [
    "x = [1,2]\n",
    "print(x)\n",
    "del x\n",
    "print(x) #=> NameError"
   ]
  },
  {
   "cell_type": "code",
   "execution_count": 18,
   "metadata": {},
   "outputs": [
    {
     "output_type": "stream",
     "name": "stdout",
     "text": [
      "<__main__.Gymatria object at 0x0000000008427748>\nאבא אמא\n46\n"
     ]
    }
   ],
   "source": [
    "del Gymatria.__repr__\n",
    "print(aba)\n",
    "print(aba.expr)\n",
    "print(aba.expr_value)"
   ]
  },
  {
   "cell_type": "code",
   "execution_count": 19,
   "metadata": {},
   "outputs": [],
   "source": [
    "\n",
    "Gymatria.__int__ = lambda self: self.expr_value\n",
    "Gymatria.__str__ = lambda self: f\"{self.expr} בגימטריה זה: {self.expr_value}\"\n",
    "Gymatria.__float__ = lambda self: float(self.expr_value)"
   ]
  },
  {
   "cell_type": "code",
   "execution_count": 20,
   "metadata": {},
   "outputs": [
    {
     "output_type": "stream",
     "name": "stdout",
     "text": [
      "אבא אמא בגימטריה זה: 46\n46\n46.0\n"
     ]
    }
   ],
   "source": [
    "print(str(aba))\n",
    "print(int(aba))\n",
    "print(float(aba))"
   ]
  },
  {
   "cell_type": "code",
   "execution_count": 21,
   "metadata": {},
   "outputs": [],
   "source": [
    "Gymatria.__repr__ = lambda self: f\"{self.expr} == {self.expr_value}\""
   ]
  },
  {
   "cell_type": "code",
   "execution_count": 22,
   "metadata": {},
   "outputs": [
    {
     "output_type": "stream",
     "name": "stdout",
     "text": [
      "שלום בגימטריה זה: 376\n[שלום == 376, עולם == 146]\n"
     ]
    }
   ],
   "source": [
    "shalom = Gymatria(\"שלום\")\n",
    "print(shalom)\n",
    "gymatria_list = [shalom,Gymatria(\"עולם\")]\n",
    "print(gymatria_list)"
   ]
  },
  {
   "cell_type": "code",
   "execution_count": 23,
   "metadata": {},
   "outputs": [
    {
     "output_type": "stream",
     "name": "stdout",
     "text": [
      "[Gymatria('שלום'), Gymatria('עולם')]\nעולם בגימטריה זה: 146\n"
     ]
    }
   ],
   "source": [
    "Gymatria.__repr__ = lambda self: f\"Gymatria({self.expr!r})\"\n",
    "print(gymatria_list)\n",
    "olam = eval(repr(gymatria_list[1]))\n",
    "print(olam)"
   ]
  },
  {
   "cell_type": "code",
   "execution_count": 24,
   "metadata": {},
   "outputs": [
    {
     "output_type": "stream",
     "name": "stdout",
     "text": [
      "[Gymatria('שלום'), Gymatria('עולם'), Gymatria('צה\"ל'), Gymatria(\"וכו'\")]\n"
     ]
    }
   ],
   "source": [
    "gymatria_list.append(Gymatria('צה\"ל'))\n",
    "gymatria_list.append(Gymatria(\"וכו'\"))\n",
    "print(gymatria_list)"
   ]
  },
  {
   "cell_type": "code",
   "execution_count": 40,
   "metadata": {},
   "outputs": [
    {
     "output_type": "stream",
     "name": "stdout",
     "text": [
      "default\n"
     ]
    },
    {
     "output_type": "error",
     "ename": "Exception",
     "evalue": "self.all already exists",
     "traceback": [
      "\u001b[1;31m---------------------------------------------------------------------------\u001b[0m",
      "\u001b[1;31mException\u001b[0m                                 Traceback (most recent call last)",
      "\u001b[1;32m<ipython-input-40-85a3d69a236b>\u001b[0m in \u001b[0;36m<module>\u001b[1;34m\u001b[0m\n\u001b[0;32m     19\u001b[0m \u001b[0mstam\u001b[0m \u001b[1;33m=\u001b[0m \u001b[0mMutableDefault\u001b[0m\u001b[1;33m(\u001b[0m\u001b[0md\u001b[0m \u001b[1;33m=\u001b[0m \u001b[1;36m1\u001b[0m\u001b[1;33m)\u001b[0m\u001b[1;33m\u001b[0m\u001b[0m\n\u001b[0;32m     20\u001b[0m \u001b[0mprint\u001b[0m\u001b[1;33m(\u001b[0m\u001b[0mstam\u001b[0m\u001b[1;33m.\u001b[0m\u001b[0mattr1\u001b[0m\u001b[1;33m)\u001b[0m\u001b[1;33m\u001b[0m\u001b[0m\n\u001b[1;32m---> 21\u001b[1;33m \u001b[0mstam\u001b[0m\u001b[1;33m.\u001b[0m\u001b[0mall\u001b[0m \u001b[1;33m=\u001b[0m \u001b[1;32mlambda\u001b[0m \u001b[0mself\u001b[0m\u001b[1;33m:\u001b[0m\u001b[0mprint\u001b[0m\u001b[1;33m(\u001b[0m\u001b[1;34mf\"{self.attr1} , {self.attr2}\"\u001b[0m\u001b[1;33m)\u001b[0m \u001b[1;31m# => Exception\u001b[0m\u001b[1;33m\u001b[0m\u001b[0m\n\u001b[0m\u001b[0;32m     22\u001b[0m \u001b[0mstam\u001b[0m\u001b[1;33m.\u001b[0m\u001b[0mattr1\u001b[0m \u001b[1;33m=\u001b[0m \u001b[1;33m(\u001b[0m\u001b[1;36m1\u001b[0m\u001b[1;33m,\u001b[0m\u001b[1;36m2\u001b[0m\u001b[1;33m,\u001b[0m\u001b[1;36m3\u001b[0m\u001b[1;33m)\u001b[0m \u001b[1;31m#=> Exception\u001b[0m\u001b[1;33m\u001b[0m\u001b[0m\n",
      "\u001b[1;32m<ipython-input-40-85a3d69a236b>\u001b[0m in \u001b[0;36m__setattr__\u001b[1;34m(self, name, value)\u001b[0m\n\u001b[0;32m     15\u001b[0m         \u001b[1;32melif\u001b[0m \u001b[0mname\u001b[0m \u001b[1;33m==\u001b[0m \u001b[1;34m'attr2'\u001b[0m \u001b[1;32mand\u001b[0m \u001b[0mself\u001b[0m\u001b[1;33m.\u001b[0m\u001b[0mattr2\u001b[0m \u001b[1;33m==\u001b[0m \u001b[1;32mNone\u001b[0m\u001b[1;33m:\u001b[0m\u001b[1;33m\u001b[0m\u001b[0m\n\u001b[0;32m     16\u001b[0m             \u001b[0mself\u001b[0m\u001b[1;33m.\u001b[0m\u001b[0m__dict__\u001b[0m\u001b[1;33m[\u001b[0m\u001b[0mname\u001b[0m\u001b[1;33m]\u001b[0m \u001b[1;33m=\u001b[0m \u001b[0mvalue\u001b[0m\u001b[1;33m\u001b[0m\u001b[0m\n\u001b[1;32m---> 17\u001b[1;33m         \u001b[1;32melse\u001b[0m\u001b[1;33m:\u001b[0m \u001b[1;32mraise\u001b[0m \u001b[0mException\u001b[0m\u001b[1;33m(\u001b[0m\u001b[1;34mf\"self.{name} already exists\"\u001b[0m\u001b[1;33m)\u001b[0m\u001b[1;33m\u001b[0m\u001b[0m\n\u001b[0m\u001b[0;32m     18\u001b[0m \u001b[1;33m\u001b[0m\u001b[0m\n\u001b[0;32m     19\u001b[0m \u001b[0mstam\u001b[0m \u001b[1;33m=\u001b[0m \u001b[0mMutableDefault\u001b[0m\u001b[1;33m(\u001b[0m\u001b[0md\u001b[0m \u001b[1;33m=\u001b[0m \u001b[1;36m1\u001b[0m\u001b[1;33m)\u001b[0m\u001b[1;33m\u001b[0m\u001b[0m\n",
      "\u001b[1;31mException\u001b[0m: self.all already exists"
     ]
    }
   ],
   "source": [
    "class MutableDefault:\n",
    "    ''' Saves any value is provited \n",
    "        or initiates to \"default\" '''\n",
    "    def __init__(self , *args , **kwargs):\n",
    "        if args : self.attr1 = args \n",
    "        else: self.attr1 = 'default'\n",
    "        if kwargs: self.attr2 = kwargs \n",
    "        else: self.attr2 = 'default'\n",
    "    def __getattr__(self,name:str):\n",
    "        try: self.__dict__[name]\n",
    "        except: return None\n",
    "    def __setattr__(self,name,value):\n",
    "        if name == 'attr1' and self.attr1 == None:\n",
    "            self.__dict__[name] = value\n",
    "        elif name == 'attr2' and self.attr2 == None:\n",
    "            self.__dict__[name] = value\n",
    "        else: raise Exception(f\"self.{name} already exists\")\n",
    "\n",
    "stam = MutableDefault(d = 1)\n",
    "print(stam.attr1)\n",
    "stam.all = lambda self:print(f\"{self.attr1} , {self.attr2}\") # => Exception\n",
    "stam.attr1 = (1,2,3) #=> Exception"
   ]
  },
  {
   "cell_type": "code",
   "execution_count": 26,
   "metadata": {},
   "outputs": [
    {
     "output_type": "stream",
     "name": "stdout",
     "text": [
      "init method called\nenter method called\nwith statement block\nexit method called\n"
     ]
    }
   ],
   "source": [
    "class ContextManager(): \n",
    "    def __init__(self): \n",
    "        print('init method called') \n",
    "          \n",
    "    def __enter__(self): \n",
    "        print('enter method called') \n",
    "        return self\n",
    "      \n",
    "    def __exit__(self, exc_type, exc_value, exc_traceback): \n",
    "        print('exit method called') \n",
    "  \n",
    "  \n",
    "with ContextManager() as manager: \n",
    "    print('with statement block') "
   ]
  },
  {
   "cell_type": "code",
   "execution_count": 53,
   "metadata": {},
   "outputs": [
    {
     "output_type": "stream",
     "name": "stdout",
     "text": [
      "True\n"
     ]
    }
   ],
   "source": [
    "class FileManager(): \n",
    "    def __init__(self, filename, mode , encode = \"utf-8\"): \n",
    "        self.filename = filename \n",
    "        self.mode = mode \n",
    "        self.file = None\n",
    "        self.encode = encode\n",
    "          \n",
    "    def __enter__(self):  \n",
    "        self.file = open(self.filename, self.mode ,encoding= self.encode)\n",
    "        return self.file\n",
    "      \n",
    "    def __exit__(self, exc_type, exc_value, exc_traceback): \n",
    "        self.file.close() \n",
    "  \n",
    "# loading a file  \n",
    "with FileManager('test.txt', 'w') as f: \n",
    "    for word in gymatria_list:\n",
    "        f.write(str(word)+'\\n')\n",
    "print(f.closed)"
   ]
  },
  {
   "cell_type": "code",
   "execution_count": 54,
   "metadata": {},
   "outputs": [
    {
     "output_type": "stream",
     "name": "stdout",
     "text": [
      "שלום בגימטריה זה: 376\nעולם בגימטריה זה: 146\nצה\"ל בגימטריה זה: 125\nוכו' בגימטריה זה: 32\n\n\n\n\n"
     ]
    }
   ],
   "source": [
    "with FileManager('test.txt', 'r') as f: \n",
    "    for word in gymatria_list:\n",
    "        print(f.read())"
   ]
  },
  {
   "cell_type": "code",
   "execution_count": 7,
   "metadata": {},
   "outputs": [],
   "source": [
    "class Node:\n",
    "    def __init__(self,data:object = None, next = None ,prev = None)->None:\n",
    "        self.data = data\n",
    "        self.next = next\n",
    "        self.prev = prev\n",
    "    def __repr__(self) ->str:\n",
    "        return f\"Node({self.data!r})\"\n",
    "\n",
    "\n",
    "class LinkedList:\n",
    "    def __init__(self) ->None:\n",
    "        self._head = None\n",
    "        self._tail = Node(None)\n",
    "        self._size = 0\n",
    "    \n",
    "    def __len__(self) ->int:\n",
    "        return self._size\n",
    "    \n",
    "    def __getitem__(self, index:int):\n",
    "        if index >= self._size or index < 0: raise IndexError(\"invalid input, index out of range\")\n",
    "        temp = self._head\n",
    "        for i in range(index):\n",
    "            temp = temp.next\n",
    "        return temp\n",
    "\n",
    "    def __setitem__(self , index:int, value:object) ->None:\n",
    "        #if not isintance(value , Node): raise ValueError(\"Not a Node type vlaue\")\n",
    "        self.__getitem__(index).data = value\n",
    "    \n",
    "    def __delitem__(self , index:int) ->None:\n",
    "        if index==0:\n",
    "            self._head = self.__getitem__(index+1)\n",
    "            self._head.prev = None\n",
    "        else:\n",
    "            prev_node = self.__getitem__(index-1)\n",
    "            next_node = self.__getitem__(index+1)\n",
    "            prev_node.next , next_node.prev = next_node ,prev_node\n",
    "        self._size-=1\n",
    "    \n",
    "    def insert(self, new_node , index :int = None):\n",
    "        if not isinstance(new_node , Node): raise ValueError(\"Not a Node type\")\n",
    "        if index == None:\n",
    "            if self._head == None:\n",
    "                self._head = new_node\n",
    "                self._head.next = self._tail\n",
    "                self._tail.prev = self._head\n",
    "                self._head.prev = None\n",
    "            else:\n",
    "                (self._tail.prev).next, new_node.prev = new_node , self._tail.prev\n",
    "                self._tail.prev , new_node.next =  new_node , self._tail\n",
    "            self._size += 1\n",
    "            return self\n",
    "    \n",
    "    def __str__(self) -> str:\n",
    "        s = \" \"\n",
    "        temp = self._head\n",
    "        while temp != self._tail:\n",
    "            if temp != self._tail.prev:\n",
    "               s += f\"{temp} -> \" \n",
    "            else: s += f\"{temp}\"\n",
    "            temp = temp.next\n",
    "        return s   \n",
    "\n",
    "    def __repr__(self) ->str:\n",
    "        temp = self._head\n",
    "        s = \"LinkedList()\"\n",
    "        while temp != self._tail:\n",
    "            if temp!= self._tail.prev:\n",
    "                s=\"(\"+s\n",
    "            s += f\".insert({temp})\"\n",
    "            if temp!= self._tail.prev:\n",
    "                s += ')'\n",
    "\n",
    "            temp = temp.next\n",
    "        return s\n",
    "\n",
    "\n",
    "\n",
    "\n"
   ]
  },
  {
   "cell_type": "code",
   "execution_count": 8,
   "metadata": {},
   "outputs": [
    {
     "output_type": "stream",
     "name": "stdout",
     "text": [
      "linked_list =  Node(1) -> Node(3) -> Node(5) -> Node(7) -> Node(9) -> Node(11) -> Node(13)\nlinked_list[3] = Node(7)\nlen(linked_list) = 7\n Node('Tom Pythonovitz') -> Node(3) -> Node(5) -> Node(7) -> Node(9) -> Node(11) -> Node(13)\n Node(3) -> Node(5) -> Node(7) -> Node(9) -> Node(11) -> Node(13)\n"
     ]
    }
   ],
   "source": [
    "linked_list = LinkedList()\n",
    "# linked_list[0] = 3  => IndexError\n",
    "# linked_list[len(linked_list)] => IndexError\n",
    "for i in range(1,15,2):\n",
    "    linked_list.insert(Node(i))\n",
    "print(f\"linked_list = {linked_list}\")\n",
    "print(f\"linked_list[3] = {linked_list[3]}\")\n",
    "print(f\"len(linked_list) = {len(linked_list)}\")\n",
    "linl = eval(repr(linked_list))\n",
    "linl[0] = \"Tom Pythonovitz\"\n",
    "print(linl)\n",
    "del(linl[0])\n",
    "print(linl)\n"
   ]
  }
 ]
}